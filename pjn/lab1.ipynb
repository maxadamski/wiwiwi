{
 "cells": [
  {
   "cell_type": "markdown",
   "metadata": {},
   "source": [
    "# Intro\n",
    "prowadzący: mgr inż. Dawid Wiśniewski, pokój 2.7.2 (BT), konsultacje - wtorki 15:10-16:40 (proszę o kontakt mailowy z informacją o chęci przybycia). <br/>\n",
    "\n",
    "Zaliczenie laboratoriów:\n",
    "pokazanie przed prowadzącym wykonanych zadań laboratoryjnych w trakcie zajęć lub wysłanie ich po zakończeniu zajęć na adres e-mail dwisniewski@cs.put.poznan.pl. \n",
    "\n",
    "Laboratoria można zaliczyć bez straty punktów do momentu zakończenia kolejnych zajęć laboratoryjnych, następujących po tych na których omawiamy dany temat (czyli jeśli dziś omawiamy dany temat, można zadania oddać dziś, na zajęciach za tydzień, lub wysyłając je mailowo do momentu zakończenia kolejnych zajęć).\n",
    "\n",
    "Przekroczenie tych terminów skutkuje redukcją uzyskanych punktów o 50%."
   ]
  },
  {
   "cell_type": "markdown",
   "metadata": {},
   "source": [
    "# Lab1: Wyrażenia regularne\n",
    "\n",
    "Poniżej znajduje się kilka przykładów konstrukcji używanych w wyrażeniach regularnych oraz przykładów tekstów które zostaną i nie zostaną dopasowane z użyciem danej konstrukcji.\n",
    "\n",
    "\n",
    "<table>\n",
    "<thead>\n",
    "    <td>Wyrażenie</td>\n",
    "    <td>Komentarz</td>\n",
    "    <td>Przykład dopasowania (<strong>pogrubiony</strong>)</td>\n",
    "    <td>Przykład niedopasowania</td>\n",
    "</thead>\n",
    "\n",
    "<tr>\n",
    "    <td>abc</td>\n",
    "    <td>zwykły ciąg znaków do wyszukania</td>\n",
    "    <td>qw<strong>abc</strong>wer</td>\n",
    "    <td>eedfds</td>\n",
    "</tr>\n",
    "<tr>\n",
    "    <td>[A-Z]</td>\n",
    "    <td>Dowolny znak z zakresu A-Z (wielka litera łacińska)</td>\n",
    "    <td><strong>A</strong>,<strong>B</strong>,<strong>C</strong>,<strong>Z</strong></td>\n",
    "    <td>1938</td>\n",
    "</tr>\n",
    "<tr>\n",
    "    <td>(abc)</td>\n",
    "    <td>Nawias okrągły tworzy grupę. \n",
    "        Grupy wykorzystywane są do specjalnego potraktowania całych podciągów, np. dopasowywania wielokrotnych powtórzeń całych sekwencji znaków. Znaki ( i ) są znakami specjalnymi, nie są wyszukiwane w tekście. Aby dopasować znak ( lub ) bez nadawania mu specjalnego znaczenia, należy poprzedzić go backslashem.</td>\n",
    "    <td><strong>abc</strong></td>\n",
    "    <td>abd</td>\n",
    "</tr>\n",
    "\n",
    "<tr>\n",
    "    <td>(kot|pies)</td>\n",
    "    <td>alternatywa - prezentuje listę możliwych wariantów dopasowań.|</td>\n",
    "    <td><strong>pies</strong>,<strong>kot</strong></td>\n",
    "    <td>koń</td>\n",
    "</tr>\n",
    "<tr>\n",
    "    <td>abc+</td>\n",
    "    <td>Znak + dopasowuje co najmniej 1 wystąpienie znaku lub grupy poprzedzającej ten znak. Większość implementacji interpretuje znaki powtórzeń w sposób zachłanny, dopasowując maksymalnie dużo znaków, tzn. jeśli na tekście \"aaaaaaa\" uruchomimy wyrażenie \"a+\", które szuka co najmniej jednego wystąpienia literki \"a\", cały ten ciąg zostanie zwrócony jako dopasowanie, ponieważ \"aaaaaaa\" jest ciągiem 7 następujących po sobie liter a.\n",
    "      <br/>abc+ - będzie dopasowywać teksty, w których literka c po sekwencji ab jest występuje co najmniej raz. <br/>a(bc)+ - dopasuje teksty, w których po literce a następuje dowolna ilość powtórzonych sekwencji liter (grupy) \"bc\", np. abcbc. <br/>ab[A-Z]+ - dopasuje teksty, w których po literkach ab nastąpi dowolna liczba wielkich liter łacińskich.\n",
    "    </td>\n",
    "    <td><strong>abccc</strong></td>\n",
    "    <td>abd</td>\n",
    "</tr>\n",
    "<tr>\n",
    "    <td>abc*</td>\n",
    "    <td>Podobnie do przykładu ze znakiem plus, jednakże znak * oznacza zero, lub więcej wystąpień (w tym przypadku literki c) </td>\n",
    "    <td><strong>ab</strong>efgh, <strong>abcc</strong>d, <strong>abc</strong></td>\n",
    "    <td>accc</td></tr>\n",
    "<tr>\n",
    "    <td>colou?r</td>\n",
    "    <td>Znak ? podobnie jak * i + działa jako wskazanie na liczbę powtórzeń poprzedzającego znaku bądź grupy. W odróżnieniu od poprzednio wymienionych jednak, znak ? oznacza, że znak/grupa \"może, ale nie musi wystąpić 1 raz\"</td>\n",
    "    <td><strong>color</strong>, <strong>colour</strong></td>\n",
    "    <td>cokolwiek innego niż w kolumnie obok</td>\n",
    "</tr>\n",
    "<tr>\n",
    "    <td>a(bc){2,4}</td>\n",
    "    <td>Tutaj również rozważamy powtórzenia poprzedniego znaku bądź grupy. pierwsza liczba w nawiasie oznacza minimalną wymaganą liczbę wystąpień znaku/grupy, druga liczba oznacza maksymalną akceptowalną liczbę wystąpien znaku/grupy. </td>\n",
    "    <td><strong>abcbcbc</strong></td>\n",
    "    <td>abc, def</td>\n",
    "</tr>\n",
    "<tr>\n",
    "    <td>.+</td>\n",
    "    <td>Znak kropki dopasowuje dowolny znak. Jeśli po nim nastąpi znak +, to wyrażenie dopasuje dowolny ciąg znaków</td>\n",
    "    <td><strong>dopasuje np. taki tekst w całości</strong></td>\n",
    "    <td></td>\n",
    "</tr>\n",
    "<tr>\n",
    "    <td>(?P&lt;nazwa&gt;abc)</td>\n",
    "    <td>Grupa nazwana - dopasowany wzorzec, np. abc zapisywany jest pod zmienną o nazwie nazwa, która może służyć do ekstrakcji fragmentów wyrażenia (patrz zad. 3)</td>\n",
    "    <td><strong>abc</strong></td>\n",
    "    <td>efg</td>\n",
    "</tr>\n",
    "<tr>\n",
    "    <td>^abc</td>\n",
    "    <td>Znacznik początku linii ^ wymaga, aby wzorzec abc został dopasowany na poczatku linii. Jeśli ciąg abc zostanie napotkany w dalszej części tekstu - nie zostanie dopasowany</td>\n",
    "    <td><strong>abc</strong>dabc</td>\n",
    "    <td>dabc</td>\n",
    "</tr>\n",
    "<tr>\n",
    "    <td>abc\\$</td>\n",
    "    <td>Znacznik końca linii \\$ wymaga, aby wzorzec abc został dopasowany na końcu linii. Jeśli ciąg abc zostanie napotkany we wcześniejszej części tekstu - nie zostanie dopasowany</td>\n",
    "    <td>abcd<strong>abc</strong></td>\n",
    "    <td>abcd</td>\n",
    "</tr>\n",
    "<tr>\n",
    "    <td>\\babc\\b</td>\n",
    "    <td>Tzw. 'word boundary', Jeśli dany wzorzec otoczymy znakami specjalnymi \\b - wzorzec zostanie dopasowany jedynie w przypadku, kiedy bezpośrednio przed i za wzorcem nie ma liter (innymi słowy word boundary zapewnia, że dopasujemy całe słowa, a nie podciągi słów</td>\n",
    "    <td><strong>abc</strong> defabc</td><td>abcdef</td></tr>\n",
    "</table>\n"
   ]
  },
  {
   "cell_type": "markdown",
   "metadata": {},
   "source": [
    "Przykłady powyżej ilustrują nam, że niektóre znaki, takie jak litery i cyfry są interpretowane przez wyrażenia regularne jako zwykłe znaki. Inne natomiast mają specjalne znaczenie (np.: .*?{}()-^\\$). Czasem jednak chcielibyśmy, aby któryś ze znaków specjalnych został potraktowany tak jak zwykły znak, gdyż chcielbyśmy dopasować np. znak gwiazki. Aby sprawić, że znak specjalny będzie interpretowany jako zwykły - należy poprzedzić wystąpienie tego znaku backslashem. (np.: \\\\+)\n",
    "\n",
    "Przykłady ciekawych wyrażeń regularnych:\n",
    "<ul>\n",
    "    <li>Parsowanie przykładowego hasła na stronie: ^[a-z0-9_]{6,18}\\$; - wymagaj, aby tekst (linia) zaczynał sie(^) od ciągu od 6 do 18 wystąpień ({6,18}) znaków, które należą do zbioru - małych liter(a-z), cyfr(0-9) i podkreślników. Po takiej sekwencji nastąpić powinien koniec tekstu (linii) (`$`). Przykład dopasującego się tekstu: <strong>a8dccc__2</strong></li>\n",
    "    <li>Ekstakcja kodów kolorów, zapisanych w postaci heksadecymalnej: \\b#[0-9a-fA-F]{6}\\b - dopasuj ciąg rozpoczynający się znakiem \"płotek\" (#), po którym nastąpi 6 znaków, spośród których każdy jest cyfrą, małą literą z zakresu a-f lub wielką literą z zakresu A-F. Ciąg nie może być podciągiem istniejącego ciągu liter (\\b), tylko odrębnym słowem. Przykład dopasowania: <strong>#AABB4C</strong>\n",
    "</ul>"
   ]
  },
  {
   "cell_type": "markdown",
   "metadata": {},
   "source": [
    "# Zadadnie 1 (1 punkt): Proste wyrażenia regularne\n",
    "\n",
    "<div class=\"alert alert-block alert-info\">Stwórz wyrażenie regularne (przypisz do zmiennej REGEX jedno wyrażenie), które dopasuje wszystkie wyrazy zaczynające się z wielkiej litery, będące długości co najmniej 4, a co najwyżej 6 znaków. Dopasowany tekst powinien: \n",
    "<ol>\n",
    "       <li> Posiadać jedną wielką literę (początkową). </li>\n",
    "       <li> Każda kolejna litera powinna być małą literą. </li>\n",
    "       <li> Dopasowany tekst nie powinien zawierać znaków innych niż litery. </li>\n",
    "</ol>\n",
    "</div>"
   ]
  },
  {
   "cell_type": "markdown",
   "metadata": {},
   "source": [
    "<div class=\"alert alert-block alert-success\">\n",
    "<strong>Oczekiwany rezultat:</strong> <br/>\n",
    "dopasowano: Anna <br/>\n",
    "dopasowano: Reddit\n",
    "</div>"
   ]
  },
  {
   "cell_type": "code",
   "execution_count": 122,
   "metadata": {},
   "outputs": [
    {
     "name": "stdout",
     "output_type": "stream",
     "text": [
      "dopasowano: Anna\n",
      "dopasowano: Reddit\n"
     ]
    }
   ],
   "source": [
    "# Zadanie 1\n",
    "import re\n",
    "\n",
    "test_words = ['zebra', 'krowa', 'Bitcoin', 'Anna', 'Peer2Peer', 'Reddit']\n",
    "\n",
    "REGEX = r'^[A-Z][a-z]{3,5}$'  # tu stwórz wyrażenie regularne np r'test'\n",
    "\n",
    "for word in test_words:\n",
    "    if re.search(REGEX, word):\n",
    "        print(\"dopasowano: {w}\".format(w=word))"
   ]
  },
  {
   "cell_type": "markdown",
   "metadata": {},
   "source": [
    "---\n",
    "# Zadanie 2 (1 punkt): Czyszczenie tekstu\n",
    "<div class=\"alert alert-block alert-info\">Utwórz wyrażenie regularne w zmiennej REGEX(jedno), z użyciem którego dopasujemy tagi HTML, które zostaną usunięte z użyciem funkcji re.sub. <br/>Funkcja re.sub (substitute) przyjmuje trzy parametry: \n",
    "    <ol>\n",
    "           <li>Jaki wzorzec powinien zostać dopasowany w celu podmiany na inny tekst.</li>\n",
    "           <li>Czym podmienić dopasowania (w naszym przypadku pusty ciąg znaków, gdyż chcemy usunąć tagi). </li>\n",
    "           <li>Zmienną zawierającą tekst, w którym będziemy szukać.</li>\n",
    "    </ol>\n",
    "           \n",
    "<strong>Wskazówka:</strong> Domyślnie, wyrażenia regularne działają zachłannie, tzn. próbują dopasować jak najdłuższy możliwy tekst. Dla wyrażenia a.\\*a i tekstu: \"analfabeta\" dopasowany zostanie cały tekst - ciąg .\\* dopasuje najdłuższą możliwą sekwencję znaków, po której następuje literka a i która poprzedzona jest literką a. <br/>\n",
    "Można jednak zmodyfikować to wyrażenie tak, aby poszukać najkrótszych możliwych (rozłącznych) ciągów, które opisane są przez wzorzec. W naszym przykładzie będzie to: ana oraz abeta. Aby to osiągnąć, po znaku gwiazdki musimy dodać znak zapytania: a.\\*?a we wzorcu.\n",
    "</div>"
   ]
  },
  {
   "cell_type": "markdown",
   "metadata": {},
   "source": [
    "<div class=\"alert alert-block alert-success\">\n",
    "    <strong>Oczekiwany rezultat:</strong> <br/>\n",
    "1. To jest tytul 2. A to - Link do google.\n",
    "</div>"
   ]
  },
  {
   "cell_type": "code",
   "execution_count": 60,
   "metadata": {},
   "outputs": [
    {
     "name": "stdout",
     "output_type": "stream",
     "text": [
      "1. To jest tytul 2. A to - link do google.\n"
     ]
    }
   ],
   "source": [
    "# Zadanie 2\n",
    "import re\n",
    "html_text = \"<h1>1. To jest tytul </h1><ul><li class='link'><a href='www.google.pl'>2. A to - link do google.</a></li></ul>\"\n",
    "\n",
    "REGEX = r'<[^>]*>'\n",
    "\n",
    "print(re.sub(REGEX, '', html_text))"
   ]
  },
  {
   "cell_type": "markdown",
   "metadata": {},
   "source": [
    "---\n",
    "\n",
    "# Zadanie 3 (1 punkt): Ekstrakcja informacji\n",
    "\n",
    "<div class=\"alert alert-block alert-info\">Wykorzystując mechanizm grup nazwanych (patrz tabelka na początku dokumentu), napisz wyrażenie regularne, które z zadanego adresu url wyekstrahuje nazwy zmiennych oraz ich wartości (wzorce typu ?nazwa_zmiennej=wartosc_zmiennej). Częścią zadania jest stworzenie dwóch grup nazwanych - pierwsza powinna otrzymać nazwę \"name\", druga zaś \"val\". Nazwy te wykorzystane są później przy wyświetlaniu wyników (patrz: funkcja print). <br/>\n",
    "Uznajmy, że nazwą zmiennej oraz wartością może być dowolny ciąg liter oraz cyfr.</div>"
   ]
  },
  {
   "cell_type": "markdown",
   "metadata": {},
   "source": [
    "<div class=\"alert alert-block alert-success\">\n",
    "<strong>Oczekiwany rezultat:</strong> <br/>\n",
    "Variable name: id, value: 1254 <br/>\n",
    "Variable name: name, value: Mike <br/>\n",
    "Variable name: surname, value: Tyson <br/>\n",
    "</div>"
   ]
  },
  {
   "cell_type": "code",
   "execution_count": 61,
   "metadata": {},
   "outputs": [
    {
     "name": "stdout",
     "output_type": "stream",
     "text": [
      "Variable name: id, value: 1254\n",
      "Variable name: name, value: Mike\n",
      "Variable name: surname, value: Tyson\n"
     ]
    }
   ],
   "source": [
    "# Zadanie 3\n",
    "import re\n",
    "\n",
    "url = \"http://html.net/page.php?id=1254?name=Mike?surname=Tyson\"\n",
    "\n",
    "REGEX = r'[?](?P<name>\\w+)\\=(?P<val>\\w+)'\n",
    "\n",
    "for match in re.finditer(REGEX, url):\n",
    "    print(\"Variable name: {name}, value: {val}\".format(\n",
    "        name=match.group('name'), val=match.group('val')\n",
    "    ))"
   ]
  },
  {
   "cell_type": "markdown",
   "metadata": {},
   "source": [
    "---\n",
    "\n",
    "# Zadanie 4 (2 punkty): Niejednoznaczny tekst\n",
    "\n",
    "<div class=\"alert alert-block alert-info\">\n",
    "Największa trudność w przetwarzaniu języka wynika z faktu, że język jest często wieloznaczny. Dla przykładu: kropka nie zawsze oznacza koniec zdania, czasem jest częścią np. skrótu. Dla przykładowego tekstu zaproponowano wyrażenie regularne, które można zinterpretować w następujący sposób: \n",
    "\n",
    "<br/>\n",
    "\n",
    "Dopasuj wszystkie ciągi znaków zakończone kropką (niezachłannie [patrz wskazówka do zadania 2], szukamy \"najbliższej\" kropki). Następnie używamy mechanizmu \"positive lookahead\" https://www.regular-expressions.info/lookaround.html, aby podejrzeć jaki tekst występuje za kropką. Jeśli za kropką widzimy jeden z ciągów: \n",
    "<ul>\n",
    "<li>spacja, dowolna litera</li>\n",
    "<li>koniec tekstu </li>\n",
    "</ul>\n",
    "to uznajemy tę kropkę za koniec zdania.\n",
    "<br/>\n",
    "Tekst dopasowany przez positive lookahead nie stanowi części dopasowania, jest tylko weryfikacją, czy to, co znajduje się po dopasowaniu pozwala nam zatwierdzić decyzję czy nie (jeśli po kropce nie dopasuje się positive lookahead, wyrażenie nie wykryje tam końca zdania).\n",
    "\n",
    "<br/>\n",
    "<strong>Zadanie (a) (1 punkt)</strong>: Spróbuj zmodyfikować to wyrażenie tak, aby dopasowywało pełne, poprawne zdania. Czy udało się poprawnie podzielić tekst?<br/>\n",
    "<strong>Zaliczenie zadania</strong>: zmodyfikować wyrażanie tak, aby poprawnie podzielił on zadany tekst na zdania (bez listowania wsystkich napotkanych skrótów jako część wyrażenia!), bądź napisanie wyjaśnienia dlaczego podejście oparte o wyrażenia się nie sprawdzi jako komentarz w kodzie.\n",
    "</div>"
   ]
  },
  {
   "cell_type": "code",
   "execution_count": 113,
   "metadata": {},
   "outputs": [
    {
     "name": "stdout",
     "output_type": "stream",
     "text": [
      "-> Dear Mr.\n",
      "->  Nowak, I would like to invite you to a conference in the U.S.A.\n",
      "->  The conference will start on Wed. the 7th of March and will end on Sat. 10 of March.\n",
      "->  The conference location is Warsaw, Poland.\n",
      "->  The keynote speaker will be M.D.\n",
      "->  Obama.\n"
     ]
    }
   ],
   "source": [
    "import re\n",
    "\n",
    "text = \"Dear Mr. Nowak, I would like to invite you to a conference in the U.S.A. The conference will start on Wed. the 7th of March and will end on Sat. 10 of March. The conference location is Warsaw, Poland. The keynote speaker will be M.D. Obama.\"\n",
    "\n",
    "REGEX = r'.*?\\.(?=( [A-Z]|$))' \n",
    "# Objaśnienie wyrażenia z REGEX:\n",
    "# dopasuj najkrótszy tekst, po którym występuje kropka (tak, aby nie dopasować wszystkich zdan naraz poprzez użycie .*). \n",
    "# Podejrzyj (wykorzystując positive-lookahead) czy po kropce występuje spacja oraz Wielka litera bądź koniec tekstu - jeśli tak - mamy zdanie!\n",
    "\n",
    "# Skróty kończące się kropką mogą występować w środku, lub na końcu zdania i nie możemy tego wykryć bez wymienienia wszystkich skrótów.\n",
    "# Przykład: 'I went to the U.S.A. It was great.' -- nowe zdanie po USA\n",
    "# Przykład: 'I in the U.S.A. there is great air.' -- jedno zdanie\n",
    "# Przykład: 'Dear Mr. Maxwell, would you...' -- jedno zdanie\n",
    "\n",
    "for match in re.finditer(REGEX, text):\n",
    "    print('->', match.group(0))"
   ]
  },
  {
   "cell_type": "markdown",
   "metadata": {},
   "source": [
    "<div class=\"alert alert-block alert-info\">\n",
    "Zadań tak powtarzalnych jak podział tekstu na zdania, słowa itp. zazwyczaj nie implementuje się od \"zera\". Istnieją narzędzia, które są szeroko wykorzystywane do przetwarzania języka, np:\n",
    "<ul>\n",
    "    <li>SpaCy - https://spacy.io - stosunkowo nowe, zyskujące na popularności narzędzie. Wiele rzeczy działa dobrze bez zbędnej konfiguracji</li>\n",
    "    <li>NLTK - http://www.nltk.org - bardzo dojrzałe narzędzie wykorzystywane głównie do celów naukowych, zawierające wiele korpusów tekstowych.\n",
    "</ul>\n",
    "Zarówno SpaCy jak i NLTK zawierają narzędzia pozwalające na rozwiązanie większości podstawowych problemów przetwarzania języka (tokenizacja, podział na zdania, POS-tagging, wykrywanie encji nazwanych (NER) i inne).\n",
    "<br/>\n",
    "    <strong>Zadanie (b) (1 punkt)</strong>: Korzystając z dokumentacji, spróbuj podzielić na zdania zadany tekst z użyciem zarówno NLTK jak i SpaCy (fraza-klucz: \"sentence splitting\"). \n",
    "<br/>Które narzędzie poradziło sobie lepiej? Czy oba/którekolwiek narzędzie wykonało to zadanie popranie? (Pamiętajmy, że zdania takie jak zadane są bardzo specyficznymi przykładami, mającymi pokazać trudność procedury - zazwyczaj narzędzia radzą sobie naprawdę dobrze). <br/>\n",
    "    <strong>Zaliczenie zadania</strong>: poprawne wykorzystanie funkcji do podziału tekstu z obu bibliotek i wyświetlenie poszczególnych zdań w osobnych linijkach. Jakość podziału nie jest oceniana.\n",
    "    \n",
    "<strong>UWAGA: Jeśli na komputerze z którego korzystasz nie udało się załadować modelu SpaCy, wykonaj zadanie jedynie z użyciem NLTK. </strong>\n",
    "</div>"
   ]
  },
  {
   "cell_type": "code",
   "execution_count": 116,
   "metadata": {},
   "outputs": [
    {
     "name": "stderr",
     "output_type": "stream",
     "text": [
      "[nltk_data] Downloading package punkt to /home/max/nltk_data...\n",
      "[nltk_data]   Package punkt is already up-to-date!\n"
     ]
    },
    {
     "data": {
      "text/plain": [
       "True"
      ]
     },
     "execution_count": 116,
     "metadata": {},
     "output_type": "execute_result"
    }
   ],
   "source": [
    "import nltk\n",
    "nltk.download('punkt')"
   ]
  },
  {
   "cell_type": "code",
   "execution_count": 117,
   "metadata": {},
   "outputs": [
    {
     "data": {
      "text/plain": [
       "['Dear Mr. Nowak, I would like to invite you to a conference in the U.S.A.',\n",
       " 'The conference will start on Wed., the 7th of March and will end on Sat., the 10th of March.',\n",
       " 'The conference location is Warsaw, Poland.',\n",
       " 'The keynote speaker will be M.D.',\n",
       " 'Mark Obama.']"
      ]
     },
     "execution_count": 117,
     "metadata": {},
     "output_type": "execute_result"
    }
   ],
   "source": [
    "text = \"Dear Mr. Nowak, I would like to invite you to a conference in the U.S.A. The conference will start on Wed., the 7th of March and will end on Sat., the 10th of March. The conference location is Warsaw, Poland. The keynote speaker will be M.D. Mark Obama.\"\n",
    "nltk.sent_tokenize(text)"
   ]
  },
  {
   "cell_type": "markdown",
   "metadata": {},
   "source": [
    "---\n",
    "\n",
    "# Zadanie 5 (0 punktów, ale ciekawe): Wyszukiwanie naiwne vs REGEX - czas działania\n",
    "\n",
    "<div class=\"alert alert-block alert-info\">\n",
    "Kiedy wykorzystujemy wzorzec wyrażenia regularnego, zostaje on zamieniony z postaci tekstowej na odpowiedni automat w pamięci. Proces takiej zamiany nazywamy kompilacją. <br/>Jeśli dane wyrażenie regularne jest często wykorzystywane, dobrą praktyką jest, aby skompilować je raz do postaci automatu - następnie używać wersji skompilowanej (patrz użycie <strong>re.compile()</strong> w zadaniu). Jeśli nie skompilujemy wyrażenia i użyjemy go w formie tekstowej (jak w poprzednich zadaniach) - każde wykorzystanie wyrażenia spowoduje przebudowanie automatu. <br/>\n",
    "W poniższym kodzie porównujemy dwie metody wyszukiwania w tekście. W dużym korpusie tekstowym (biblia), chcielibyśmy sprawdzić jakie imiona męskie i żeńskie występują w księdze. W tym celu stworzono listę 2000 najczęściej nadawanych imion w 2017 roku w USA (zapisanej w liście: names) i użyto dwóch metod:\n",
    "<ol>\n",
    "    <li>Naiwnej, w której iterujemy po imionach i sprawdzamy, które z nich występują w tekście</li>\n",
    "    <li>Opartej o wyrażenie regularne, w którym jeden automat wyszukuje wszystkie imiona w jednym przebiegu. </li>\n",
    "</ol>\n",
    "\n",
    "W tym zadaniu nie trzeba pisać kodu, po prostu przeanalizuj kod, następnie uruchom go i zaobswerwuj różnicę :)\n",
    "</div>"
   ]
  },
  {
   "cell_type": "code",
   "execution_count": 64,
   "metadata": {
    "scrolled": false
   },
   "outputs": [
    {
     "name": "stderr",
     "output_type": "stream",
     "text": [
      "[nltk_data] Downloading package gutenberg to /home/max/nltk_data...\n",
      "[nltk_data]   Unzipping corpora/gutenberg.zip.\n"
     ]
    },
    {
     "name": "stdout",
     "output_type": "stream",
     "text": [
      "Czas wyszukiwania naiwnego: 21.47716201499952.\n",
      "Czas kompilacji wyrażenia 0.11543374200027756. Czas wyszukiwania z wyrażeniem 3.742483488000289\n",
      "Z regexami 5.738745964775212 razy szybciej!\n"
     ]
    }
   ],
   "source": [
    "import nltk                                            # stąd pobierzemy zbiór tekstowy (korpus)\n",
    "nltk.download('gutenberg')\n",
    "from timeit import default_timer as timer              # funkcja potrzebna do mierzenia czasu\n",
    "\n",
    "raw_bible = nltk.corpus.gutenberg.raw('bible-kjv.txt') # wczytaj tekst biblii\n",
    "\n",
    "try:\n",
    "    names = open('names.txt', 'r').read().split(\"\\n\")      # wczytaj listę imion w formie listy pythonowej ['adam', 'ania', ...]\n",
    "except:\n",
    "    # jesli nie ma pliku lokalnie, sprobuj wczytac z Amazon S3 (potrzebne jesli korzystasz z GoogleColab)\n",
    "    import pandas\n",
    "    import s3fs\n",
    "    df = pandas.read_csv(\"https://dwisniewski-put-pjn.s3.eu-north-1.amazonaws.com/names.txt\", header=None)\n",
    "    names = [name[0] for name in df.values.tolist()]\n",
    "\n",
    "names_found_naive = []\n",
    "names_found_regex = []\n",
    "\n",
    "# METODA NAIWNA\n",
    "start_naive = timer()\n",
    "for name in names:                       # dla każdego wcztanego imienia (z 1000 imion)\n",
    "    if name in raw_bible:                # sprawdz czy tekst imienia występuje w biblii (ciągu znaków)\n",
    "        names_found_naive.append(name)   # jeśli tak to dopisz do listy\n",
    "end_naive = timer()\n",
    "\n",
    "print(\"Czas wyszukiwania naiwnego: {diff}.\".format(diff=end_naive-start_naive))\n",
    "\n",
    "####################################################################################\n",
    "\n",
    "# METODA OPARTA O REGEX\n",
    "start_regex = timer()\n",
    "REGEX = '(' + '|'.join(names) + ')'      # tworzy wielką alternatywę imion: (adam|ania|...) - która reprezentowana jest jako drzewo prefiksowe\n",
    "compiled = re.compile(REGEX)\n",
    "start_compiled = timer()\n",
    "for match in compiled.finditer(raw_bible):\n",
    "    names_found_regex.append(match.groups(0))\n",
    "end_regex = timer()\n",
    "\n",
    "print(\"Czas kompilacji wyrażenia {comp}. Czas wyszukiwania z wyrażeniem {search}\".format(comp=start_compiled-start_regex, search=end_regex-start_compiled))\n",
    "print(\"Z regexami {n} razy szybciej!\".format(n=(1.*end_naive-start_naive)/(end_regex-start_compiled)))"
   ]
  },
  {
   "cell_type": "markdown",
   "metadata": {},
   "source": [
    "\n",
    "\n",
    "---\n",
    "\n",
    "# Ciekawe materiały:\n",
    "Jeśli zainteresowały was wyrażenia regularne i chcielibyście je bardziej zgłębić, oto garść ciekawych linków:\n",
    "<ol>\n",
    "<li>https://regexone.com - Przystępny kurs wyrażeń regularnych z zadaniami</li>\n",
    "<li>https://regexcrossword.com - Ciekawy zbiór zadań w formie krzyżówek, zdarzają się trudne :)</li>\n",
    "    <li>https://www.rexegg.com/regex-explosive-quantifiers.html - wyrażenia regularne mogą działać NAPRAWDĘ długo</li>\n",
    "</ol>"
   ]
  },
  {
   "cell_type": "code",
   "execution_count": null,
   "metadata": {},
   "outputs": [],
   "source": []
  }
 ],
 "metadata": {
  "kernelspec": {
   "display_name": "Python 3",
   "language": "python",
   "name": "python3"
  },
  "language_info": {
   "codemirror_mode": {
    "name": "ipython",
    "version": 3
   },
   "file_extension": ".py",
   "mimetype": "text/x-python",
   "name": "python",
   "nbconvert_exporter": "python",
   "pygments_lexer": "ipython3",
   "version": "3.7.3"
  }
 },
 "nbformat": 4,
 "nbformat_minor": 2
}
