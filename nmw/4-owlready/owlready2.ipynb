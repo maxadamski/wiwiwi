{
 "cells": [
  {
   "cell_type": "markdown",
   "metadata": {
    "id": "olZtqmxdj4pc"
   },
   "source": [
    "# Czym jest owlready2\n",
    "\n",
    "Pakiet Pythona pomocny w pracy z ontologiami reprezentowanymi w języku OWL. Umożliwia:\n",
    "\n",
    "- programowanie obiektowe ukierunkowane na ontologie \n",
    "- wykorzystanie ekspresyjności ontologii w zakresie języka OWL\n",
    "- szybkie ładowanie bardzo dużych ontologii (dziesiątki lub setki gigabajtów)\n",
    " \n",
    "\n",
    "Owlready zawiera wewnętrzną grafową bazę (*quadstore*), która uwzględnia semantykę OWL. Baza zawiera czwórki w formacie RDF, gdzie do RDFowej trójki dodawany jest identyfikator ontologii.\n",
    "Ta baza czwórek może być umieszczona w pamięci RAM, na dysku lub w formie pliku bazy danych SQLite3.\n",
    "OWlready ładuje encje ontologii do Pyhtona na żądanie, wtedy kiedy są używane.\n",
    "Jeśli encje zostaną zmodyfikowane w Pythonie, owlready automatycznie aktualizuje bazę czwórek.\n",
    "\n",
    "# Przykład - ontologia zwierząt domowych\n",
    "\n",
    "Żeby zilustrować możliwości Owlready2 zajmiemy się prostym przykładem  ontologii o zwierzętach domowych.\n",
    "Dla przykładu, uwzględnimy charakterystyki takie jak:\n",
    "1.   Pochodzenie: z hodowli, ze schroniska.\n",
    "2.   Spożywany pokarm: roślinny, zwierzęcy.\n",
    "3.   Rozmiar, waga, itp.\n",
    "\n",
    "# Dostęp do ontologii w Pythonie\n",
    "\n",
    "## Import owlready\n",
    "Zaimportujmy owlready (wersja 2) do Pythona:\n",
    "\n",
    "\n",
    "\n",
    "\n",
    "\n",
    "\n",
    "\n",
    "\n"
   ]
  },
  {
   "cell_type": "code",
   "execution_count": 1,
   "metadata": {
    "colab": {
     "base_uri": "https://localhost:8080/"
    },
    "id": "S321TZeGtNna",
    "outputId": "e70f9d81-dfc0-4fde-a581-d0aed5b5533e"
   },
   "outputs": [
    {
     "name": "stdout",
     "output_type": "stream",
     "text": [
      "Requirement already satisfied: owlready2 in /home/max/.local/opt/miniconda3/envs/ml/lib/python3.8/site-packages (0.23)\r\n"
     ]
    }
   ],
   "source": [
    "!pip install owlready2\n",
    "from owlready2 import *"
   ]
  },
  {
   "cell_type": "markdown",
   "metadata": {
    "id": "ShELV1ectoal"
   },
   "source": [
    "## Ładowanie ontologii\n",
    "Owlready pozwala załadować ontologię OWL do Pythona i mieć dostęp do encji ontologii tak jak do obiektów w module Pythona. \n",
    "Ontologię można załadować na trzy różne sposoby:\n",
    "\n",
    "1. Poprzez IRI (adres w Internecie).\n",
    "2. Z lokalnego pliku.\n",
    "3. Z obiektu pliku poprzez `open()`, `urlopen()` i inne funkcje.\n",
    "\n",
    "Obsługiwane formaty plików to: RDF/MXL, OWL/XML i N-Triples.\n",
    "\n",
    "Załadujmy ontologię z lokalnego pliku:\n",
    "\n",
    "\n",
    "\n",
    "\n"
   ]
  },
  {
   "cell_type": "code",
   "execution_count": 2,
   "metadata": {
    "id": "gWWbUP2btn2Q"
   },
   "outputs": [],
   "source": [
    "onto = get_ontology(\"zwierzeta.owl\").load()"
   ]
  },
  {
   "cell_type": "markdown",
   "metadata": {
    "id": "C1rrBHuavzom"
   },
   "source": [
    "Atrybut `base_iri` ontologii pozwala pozyskać jej IRI:"
   ]
  },
  {
   "cell_type": "code",
   "execution_count": 3,
   "metadata": {
    "colab": {
     "base_uri": "https://localhost:8080/"
    },
    "id": "eaH7vTpav70k",
    "outputId": "3f537db8-c621-459c-bb6d-3c7c0c45ebba"
   },
   "outputs": [
    {
     "name": "stdout",
     "output_type": "stream",
     "text": [
      "http://www.semanticweb.org/ontologies/zwierzeta#\n"
     ]
    }
   ],
   "source": [
    "print(onto.base_iri)"
   ]
  },
  {
   "cell_type": "markdown",
   "metadata": {
    "id": "ia7msurFwT-Y"
   },
   "source": [
    "## Listowanie zawartości ontologii\n",
    "\n",
    "Obiekt ontologii zawiera wiele metod do poruszania się po encjach zawartych w ontologii, w zależności od ich typu.\n",
    "Te metody zwracają generatory. Żeby wyświetlić zawartość możemy użyć funkcji Pythona `list()`, która konwertuje generator na listę.\n",
    "Przykładowo, wyświetlmy klasy ontologii:\n"
   ]
  },
  {
   "cell_type": "code",
   "execution_count": 4,
   "metadata": {
    "colab": {
     "base_uri": "https://localhost:8080/"
    },
    "id": "-y8lIqMDxNZn",
    "outputId": "a3698b73-1782-47fb-f965-41788dea0274"
   },
   "outputs": [
    {
     "name": "stdout",
     "output_type": "stream",
     "text": [
      "<generator object _GraphManager.classes at 0x7f0e5e3adeb0>\n"
     ]
    },
    {
     "data": {
      "text/plain": [
       "[zwierzeta.Charakterystyka,\n",
       " zwierzeta.Chomik,\n",
       " zwierzeta.Hodowla,\n",
       " zwierzeta.Kot,\n",
       " zwierzeta.Królik,\n",
       " zwierzeta.MałeZwierzę,\n",
       " zwierzeta.Owłosienie,\n",
       " zwierzeta.Pies,\n",
       " zwierzeta.Pochodzenie,\n",
       " zwierzeta.Pokarm,\n",
       " zwierzeta.PokarmRoślinny,\n",
       " zwierzeta.PokarmZwierzęcy,\n",
       " zwierzeta.Ptak,\n",
       " zwierzeta.Rybka,\n",
       " zwierzeta.Schronisko,\n",
       " zwierzeta.Waga,\n",
       " zwierzeta.Wszystkożerca,\n",
       " zwierzeta.ZwierzęDomowe,\n",
       " zwierzeta.ŚwinkaMorska]"
      ]
     },
     "execution_count": 4,
     "metadata": {},
     "output_type": "execute_result"
    }
   ],
   "source": [
    "print(onto.classes())\n",
    "list(onto.classes())"
   ]
  },
  {
   "cell_type": "markdown",
   "metadata": {
    "id": "eMtqI-SXxbV9"
   },
   "source": [
    "Jednak lepiej nie używać `list()` gdy generator jest obecny w pętli, w celu polepszenia wydajności:\n"
   ]
  },
  {
   "cell_type": "code",
   "execution_count": 5,
   "metadata": {
    "colab": {
     "base_uri": "https://localhost:8080/"
    },
    "id": "9gQwTvLExr9x",
    "outputId": "fb7e91f0-00d0-41c3-e3c2-e5ea9874a608"
   },
   "outputs": [
    {
     "name": "stdout",
     "output_type": "stream",
     "text": [
      "Charakterystyka\n",
      "Chomik\n",
      "Hodowla\n",
      "Kot\n",
      "Królik\n",
      "MałeZwierzę\n",
      "Owłosienie\n",
      "Pies\n",
      "Pochodzenie\n",
      "Pokarm\n",
      "PokarmRoślinny\n",
      "PokarmZwierzęcy\n",
      "Ptak\n",
      "Rybka\n",
      "Schronisko\n",
      "Waga\n",
      "Wszystkożerca\n",
      "ZwierzęDomowe\n",
      "ŚwinkaMorska\n"
     ]
    }
   ],
   "source": [
    "for c in onto.classes(): print (c.name)"
   ]
  },
  {
   "cell_type": "markdown",
   "metadata": {
    "id": "ftRnqanxx2F4"
   },
   "source": [
    "<span style=\"color:red\"> __Zadanie 1: Wylistuj własności w ontologii, używając do tego celu metody `properties()` __ </span>"
   ]
  },
  {
   "cell_type": "code",
   "execution_count": 6,
   "metadata": {
    "id": "69Bm2nHvyJFP"
   },
   "outputs": [
    {
     "name": "stdout",
     "output_type": "stream",
     "text": [
      "zwierzeta.ma_wartość\n",
      "zwierzeta.je\n",
      "zwierzeta.ma_charakterystykę\n",
      "zwierzeta.ma_część\n",
      "zwierzeta.ma_funkcję\n",
      "zwierzeta.pochodzi_z\n"
     ]
    }
   ],
   "source": [
    "for x in onto.properties():\n",
    "    print(x)"
   ]
  },
  {
   "cell_type": "markdown",
   "metadata": {
    "id": "D_jEnKhzyRHV"
   },
   "source": [
    "## Dostęp do encji\n",
    "\n",
    "Obiekty Pythona służące do dostępu do encji są tworzone dynamicznie, na żądanie. \n",
    "Pseudo-słownik IRIS pozwala na dostęp do każdej encji poprzez jej IRI. Np. żeby aby pozyskać dostęp do encji \"kot\" możemy użyć jej całego IRI albo skróconej wersji notacji:\n"
   ]
  },
  {
   "cell_type": "code",
   "execution_count": 7,
   "metadata": {
    "colab": {
     "base_uri": "https://localhost:8080/"
    },
    "id": "0-kPZjQIzMDJ",
    "outputId": "aefa9fe8-140e-4f7f-dce7-e57b9bb5da1d"
   },
   "outputs": [
    {
     "name": "stdout",
     "output_type": "stream",
     "text": [
      "zwierzeta.Kot\n",
      "zwierzeta.Kot\n"
     ]
    }
   ],
   "source": [
    "#dostęp do encji poprzez IRIS\n",
    "print(IRIS[\"http://www.semanticweb.org/ontologies/zwierzeta#Kot\"])\n",
    "\n",
    "#dostęp do encji poprzez skrócony zapis\n",
    "print(onto.Kot)"
   ]
  },
  {
   "cell_type": "markdown",
   "metadata": {
    "id": "I43Hc9690lkx"
   },
   "source": [
    "Jeśli nazwa (etykieta) encji zawiera znaki nie wspierane przez Pythona, można użyć też składni:"
   ]
  },
  {
   "cell_type": "code",
   "execution_count": 8,
   "metadata": {
    "colab": {
     "base_uri": "https://localhost:8080/"
    },
    "id": "122e0IFT0wka",
    "outputId": "d186f927-42c6-4337-f535-8a2c83e0ba08"
   },
   "outputs": [
    {
     "data": {
      "text/plain": [
       "zwierzeta.Kot"
      ]
     },
     "execution_count": 8,
     "metadata": {},
     "output_type": "execute_result"
    }
   ],
   "source": [
    "onto[\"Kot\"]"
   ]
  },
  {
   "cell_type": "markdown",
   "metadata": {
    "id": "W7JZAVPJ3dIz"
   },
   "source": [
    "__Zadanie 2: Wyświetl serializację obiektu o etykiecie 'Chomik' __"
   ]
  },
  {
   "cell_type": "code",
   "execution_count": 9,
   "metadata": {
    "id": "1a1E33Nx30V_"
   },
   "outputs": [
    {
     "data": {
      "text/plain": [
       "zwierzeta.Chomik"
      ]
     },
     "execution_count": 9,
     "metadata": {},
     "output_type": "execute_result"
    }
   ],
   "source": [
    "onto.Chomik"
   ]
  },
  {
   "cell_type": "markdown",
   "metadata": {
    "id": "7RkYdCN4Qg-S"
   },
   "source": [
    "### Indywidua\n",
    "\n",
    "Indywiduami można manipulować tak jakby były zwykłymi obiektami Pythona. Można testować ich przynależność do klasy za pomocą funkcji `isinstance()`, tak jak w przypadku dowolnych obiektów Pythona."
   ]
  },
  {
   "cell_type": "code",
   "execution_count": 10,
   "metadata": {
    "colab": {
     "base_uri": "https://localhost:8080/"
    },
    "id": "NcWiuHp-RS69",
    "outputId": "33eb8c88-01d4-4eda-cccf-ad163af5d1be"
   },
   "outputs": [
    {
     "data": {
      "text/plain": [
       "True"
      ]
     },
     "execution_count": 10,
     "metadata": {},
     "output_type": "execute_result"
    }
   ],
   "source": [
    "isinstance(onto.Kajtek, onto.Kot)"
   ]
  },
  {
   "cell_type": "markdown",
   "metadata": {
    "id": "yeY7HIZB35r7"
   },
   "source": [
    "### Klasy\n",
    "Dostęp do klas powiązanych z daną klasą możemy uzyskać poprzez notację z '.'. Klasy ontologii są prawdziwymi klasami w Pythonie i mogą być tak używane. \n",
    "Np. funkcja `issubclass()` testuje czy klasa jest potomkiem (podklasą, podklasą podklasy itp.) innej klasy:"
   ]
  },
  {
   "cell_type": "code",
   "execution_count": 11,
   "metadata": {
    "colab": {
     "base_uri": "https://localhost:8080/"
    },
    "id": "epnEG4Um4KHB",
    "outputId": "b561afbe-a650-4ae0-f050-81dd475ad725"
   },
   "outputs": [
    {
     "data": {
      "text/plain": [
       "True"
      ]
     },
     "execution_count": 11,
     "metadata": {},
     "output_type": "execute_result"
    }
   ],
   "source": [
    "issubclass(onto.Kot, onto.ZwierzęDomowe)"
   ]
  },
  {
   "cell_type": "markdown",
   "metadata": {
    "id": "5Yh1Xq0D5eih"
   },
   "source": [
    "Najlepiej jest jednak użyć atrybutu `is_a`, który także zawiera ograniczenia i konstruktory logiczne."
   ]
  },
  {
   "cell_type": "code",
   "execution_count": 12,
   "metadata": {
    "colab": {
     "base_uri": "https://localhost:8080/"
    },
    "id": "JoJk0rLB528k",
    "outputId": "fdcddea6-e40a-461a-b691-f6b342af8df1"
   },
   "outputs": [
    {
     "data": {
      "text/plain": [
       "[zwierzeta.ZwierzęDomowe]"
      ]
     },
     "execution_count": 12,
     "metadata": {},
     "output_type": "execute_result"
    }
   ],
   "source": [
    "onto.Kot.is_a"
   ]
  },
  {
   "cell_type": "markdown",
   "metadata": {
    "id": "2alKSRxpR3g6"
   },
   "source": [
    "Możemy także użyć `is_a` aby odpytać o klasy danego indywiduum.\n",
    "\n",
    "__Zadanie 3: Użyj `is_a` aby wyświetlić listę klas, do których przynależy indywiduum `Kajtek` __\n",
    "\n"
   ]
  },
  {
   "cell_type": "code",
   "execution_count": 13,
   "metadata": {
    "id": "DoesquPjSMas"
   },
   "outputs": [
    {
     "data": {
      "text/plain": [
       "[zwierzeta.Kot]"
      ]
     },
     "execution_count": 13,
     "metadata": {},
     "output_type": "execute_result"
    }
   ],
   "source": [
    "onto.Kajtek.is_a"
   ]
  },
  {
   "cell_type": "markdown",
   "metadata": {
    "id": "sKxvTjUQ6Mog"
   },
   "source": [
    "Metoda `subclasses()` zwraca listę klasy dzieci (pamiętajmy, że jest to w formie generatora)"
   ]
  },
  {
   "cell_type": "code",
   "execution_count": 14,
   "metadata": {
    "colab": {
     "base_uri": "https://localhost:8080/"
    },
    "id": "mfX9Wscd6mBw",
    "outputId": "4080dcb9-fef7-4ab9-879c-dcd763db0d5c"
   },
   "outputs": [
    {
     "data": {
      "text/plain": [
       "[zwierzeta.Kot,\n",
       " zwierzeta.MałeZwierzę,\n",
       " zwierzeta.Pies,\n",
       " zwierzeta.Ptak,\n",
       " zwierzeta.Rybka]"
      ]
     },
     "execution_count": 14,
     "metadata": {},
     "output_type": "execute_result"
    }
   ],
   "source": [
    "list(onto.ZwierzęDomowe.subclasses())"
   ]
  },
  {
   "cell_type": "markdown",
   "metadata": {
    "id": "CL-qkf3H6wV3"
   },
   "source": [
    "Metody `ancestors()` i `descendants()` są używane do pozyskania zbioru przodków i potomków."
   ]
  },
  {
   "cell_type": "markdown",
   "metadata": {
    "id": "dJG0Dwr96-3N"
   },
   "source": [
    "__Zadanie 4: Wyświetl przodków oraz potomków obiektu o etykiecie 'MałeZwierzę' __"
   ]
  },
  {
   "cell_type": "code",
   "execution_count": 15,
   "metadata": {
    "id": "NfLj9kGR7M40"
   },
   "outputs": [
    {
     "name": "stdout",
     "output_type": "stream",
     "text": [
      "{zwierzeta.ZwierzęDomowe, zwierzeta.MałeZwierzę, owl.Thing}\n",
      "{zwierzeta.MałeZwierzę, zwierzeta.Królik, zwierzeta.ŚwinkaMorska, zwierzeta.Chomik}\n"
     ]
    }
   ],
   "source": [
    "print(onto.MałeZwierzę.ancestors())\n",
    "print(onto.MałeZwierzę.descendants())"
   ]
  },
  {
   "cell_type": "markdown",
   "metadata": {
    "id": "Cm1GataT844N"
   },
   "source": [
    "Możemy także chcieć pozyskać dostęp do klas, które są semantycznie równoważne:\n"
   ]
  },
  {
   "cell_type": "code",
   "execution_count": 16,
   "metadata": {
    "colab": {
     "base_uri": "https://localhost:8080/"
    },
    "id": "a8MD5_-J9D79",
    "outputId": "8375c41a-9314-4c50-8f5f-8f7b94a497eb"
   },
   "outputs": [
    {
     "data": {
      "text/plain": [
       "[zwierzeta.je.some(zwierzeta.PokarmRoślinny) & zwierzeta.je.some(zwierzeta.PokarmZwierzęcy)]"
      ]
     },
     "execution_count": 16,
     "metadata": {},
     "output_type": "execute_result"
    }
   ],
   "source": [
    "onto.Wszystkożerca.equivalent_to"
   ]
  },
  {
   "cell_type": "markdown",
   "metadata": {
    "id": "59PyNsFVMO9j"
   },
   "source": [
    "### Relacje\n",
    "Relacje (właściwości) poprzez jakie jest powiązane z innymi dane indywiduum można pozyskać używając notacji \"individual.attribute\", np.:"
   ]
  },
  {
   "cell_type": "code",
   "execution_count": 17,
   "metadata": {
    "colab": {
     "base_uri": "https://localhost:8080/"
    },
    "id": "WQgvLz08-4cC",
    "outputId": "4316d118-e94e-4700-9981-bf66bea195c3"
   },
   "outputs": [
    {
     "data": {
      "text/plain": [
       "[zwierzeta.wagaFigaro]"
      ]
     },
     "execution_count": 17,
     "metadata": {},
     "output_type": "execute_result"
    }
   ],
   "source": [
    "onto.Figaro.ma_charakterystykę"
   ]
  },
  {
   "cell_type": "markdown",
   "metadata": {
    "id": "30vNjkYw_sHV"
   },
   "source": [
    "__Zadanie 5: Wyświetl wartość relacji (właściwości) ma_wartość z jaką jest powiązana instancja 'wagaFigaro' __"
   ]
  },
  {
   "cell_type": "code",
   "execution_count": 18,
   "metadata": {
    "id": "a0ciCiTfAHPB"
   },
   "outputs": [
    {
     "data": {
      "text/plain": [
       "[5]"
      ]
     },
     "execution_count": 18,
     "metadata": {},
     "output_type": "execute_result"
    }
   ],
   "source": [
    "onto.wagaFigaro.ma_wartość"
   ]
  },
  {
   "cell_type": "markdown",
   "metadata": {
    "id": "4Il4jKy9AaD6"
   },
   "source": [
    "# Tworzenie i modyfikowanie ontologii\n",
    "## Tworzenie pustej ontologii\n",
    "Funkcja `get_ontology()` pozwala na utworzenie pustej ontologii na bazie IRI. Preferowany jest separator \"#\" lub \"/\" na końcu IRI, ponieważ owlready nie może się ich \"domyślić\" z uwagi na to, że ontologia jest pusta."
   ]
  },
  {
   "cell_type": "code",
   "execution_count": 19,
   "metadata": {
    "id": "RJSbe9d8BBA_"
   },
   "outputs": [],
   "source": [
    "onto_nowa = get_ontology(\"http://przyklad.org/onto_nowa.owl#\")"
   ]
  },
  {
   "cell_type": "markdown",
   "metadata": {
    "id": "VOerjjBlBPhp"
   },
   "source": [
    "##Tworzenie klas\n",
    "Aby utworzyć klasę, po prostu utwórz klasę Pythona, która dziedziczy z `Thing`.\n",
    "Przykładowo, możemy utworzyć klasę KotBrytyjski w następujący sposób:"
   ]
  },
  {
   "cell_type": "code",
   "execution_count": 20,
   "metadata": {
    "id": "67AuzPBBBr28"
   },
   "outputs": [],
   "source": [
    "with onto:\n",
    "  class KotBrytyjski(Thing): pass"
   ]
  },
  {
   "cell_type": "markdown",
   "metadata": {
    "id": "WvDBSVv1B5Q6"
   },
   "source": [
    "Żeby obserwować co dzieje się w repozytorium \"czwórek\" owlready, możemy użyć funkcji `set_log_level()`. Poniżej znajduje się przykład ustwaienia poziomo logowania na 9 (najwyższy poziom). Możemy teraz obserwować jakie trójki RDF są dodawane, usuwane, modyfikowane."
   ]
  },
  {
   "cell_type": "code",
   "execution_count": 21,
   "metadata": {
    "id": "89gCK6R3CSd8"
   },
   "outputs": [
    {
     "name": "stderr",
     "output_type": "stream",
     "text": [
      "* Owlready2 * ADD TRIPLE http://www.semanticweb.org/ontologies/zwierzeta#KotSyberyjski http://www.w3.org/1999/02/22-rdf-syntax-ns#type http://www.w3.org/2002/07/owl#Class\n",
      "* Owlready2 * ADD TRIPLE http://www.semanticweb.org/ontologies/zwierzeta#KotSyberyjski http://www.w3.org/2000/01/rdf-schema#subClassOf http://www.w3.org/2002/07/owl#Thing\n"
     ]
    }
   ],
   "source": [
    "set_log_level(9)\n",
    "with onto:\n",
    "  class KotSyberyjski(Thing): pass"
   ]
  },
  {
   "cell_type": "markdown",
   "metadata": {
    "id": "ftb_NOgDDHwJ"
   },
   "source": [
    "__Zadanie 6: Utwórz nową klasę 'KotPerski' jako podklasę klasy 'Kot' __\n"
   ]
  },
  {
   "cell_type": "code",
   "execution_count": 22,
   "metadata": {
    "id": "kVw_TMMMDQ-n"
   },
   "outputs": [
    {
     "name": "stderr",
     "output_type": "stream",
     "text": [
      "* Owlready2 * ADD TRIPLE http://www.semanticweb.org/ontologies/zwierzeta#KotPerski http://www.w3.org/1999/02/22-rdf-syntax-ns#type http://www.w3.org/2002/07/owl#Class\n",
      "* Owlready2 * ADD TRIPLE http://www.semanticweb.org/ontologies/zwierzeta#KotPerski http://www.w3.org/2000/01/rdf-schema#subClassOf http://www.semanticweb.org/ontologies/zwierzeta#Kot\n"
     ]
    }
   ],
   "source": [
    "with onto:\n",
    "    class KotPerski(onto.Kot): pass"
   ]
  },
  {
   "cell_type": "markdown",
   "metadata": {
    "id": "xqWHBJGgC-Xq"
   },
   "source": [
    "Klasy możemy tworzyć w sposób dynamiczny, wtedy kiedy nie znamy nazwy klasy w trakcie tworzenia programu, ale jest dostępna w trakcie jego działania."
   ]
  },
  {
   "cell_type": "code",
   "execution_count": 23,
   "metadata": {
    "id": "YbGHOHwjDoAi"
   },
   "outputs": [
    {
     "name": "stderr",
     "output_type": "stream",
     "text": [
      "* Owlready2 * ADD TRIPLE http://www.semanticweb.org/ontologies/zwierzeta#NowaKlasa http://www.w3.org/1999/02/22-rdf-syntax-ns#type http://www.w3.org/2002/07/owl#Class\n",
      "* Owlready2 * ADD TRIPLE http://www.semanticweb.org/ontologies/zwierzeta#NowaKlasa http://www.w3.org/2000/01/rdf-schema#subClassOf http://www.semanticweb.org/ontologies/zwierzeta#Kot\n",
      "* Owlready2 * ADD TRIPLE http://www.semanticweb.org/ontologies/zwierzeta#NowaKlasa http://www.w3.org/2000/01/rdf-schema#subClassOf http://www.w3.org/2002/07/owl#Thing\n"
     ]
    }
   ],
   "source": [
    "import types\n",
    "nazwa_klasy = \"NowaKlasa\"\n",
    "Nadklasy = [Thing, onto.Kot]\n",
    "with onto:\n",
    "  NowaKlasa = types.new_class(nazwa_klasy, tuple (Nadklasy))"
   ]
  },
  {
   "cell_type": "markdown",
   "metadata": {
    "id": "-clrLdoLFEI4"
   },
   "source": [
    "Zwróć uwagę, że w powyższym przykładzie zostało także wykorzystane wielokrotne dziedziczenie."
   ]
  },
  {
   "cell_type": "markdown",
   "metadata": {
    "id": "T8ZLkKrBEKn9"
   },
   "source": [
    "## Tworzenie właściwości\n",
    "W owlreaady właściwości są traktowane podobnie do klas (szczególnie jeśli chodzi o wsparcie dziedziczenia).\n",
    "Właściwości są pewnego rodzaju \"klasami relacji\". \n",
    "Właściwości są tworzone poprzez definiowanie klasy, która dziedziczy z `DataProperty`, `ObjectProperty` lub `AnnotationProperty`. \n",
    "Dodatkowo klasy oznaczające charakterystyki właściwości takiej jak `FunctionalProperty`, `InverseFunctionalProperty`, `TransitiveProperty`, `SymmetricProperty` itd. mogą być użyte jako dodatkowe nadklasy.\n",
    "Atrybuty klasy `domain` i `range` są wykorzystywane aby odpytywać lub definiować dziedzinę i przeciwdziedzinę właściwości, w formie listy.\n",
    "Przykładowo, możemy chcieć utworzyć właściwość funkcyjną `typ_owłosienia`:"
   ]
  },
  {
   "cell_type": "code",
   "execution_count": 24,
   "metadata": {
    "id": "jH_9bC97Ghqc"
   },
   "outputs": [
    {
     "name": "stderr",
     "output_type": "stream",
     "text": [
      "* Owlready2 * ADD TRIPLE http://www.semanticweb.org/ontologies/zwierzeta#typ_owlosienia http://www.w3.org/1999/02/22-rdf-syntax-ns#type http://www.w3.org/2002/07/owl#ObjectProperty\n",
      "* Owlready2 * ADD TRIPLE http://www.semanticweb.org/ontologies/zwierzeta#typ_owlosienia http://www.w3.org/1999/02/22-rdf-syntax-ns#type http://www.w3.org/2002/07/owl#FunctionalProperty\n",
      "* Owlready2 * ADD TRIPLE http://www.semanticweb.org/ontologies/zwierzeta#typ_owlosienia http://www.w3.org/2000/01/rdf-schema#domain http://www.semanticweb.org/ontologies/zwierzeta#ZwierzęDomowe\n",
      "* Owlready2 * ADD TRIPLE http://www.semanticweb.org/ontologies/zwierzeta#typ_owlosienia http://www.w3.org/2000/01/rdf-schema#range http://www.semanticweb.org/ontologies/zwierzeta#Owłosienie\n"
     ]
    }
   ],
   "source": [
    "with onto:\n",
    "   class typ_owlosienia(ObjectProperty, FunctionalProperty):\n",
    "      domain = [onto['ZwierzęDomowe']]\n",
    "      range = [onto['Owłosienie']]"
   ]
  },
  {
   "cell_type": "markdown",
   "metadata": {
    "id": "blbqcWkEIuFq"
   },
   "source": [
    "__Zadanie 7: Utwórz właściwość (`DataProperty`) o nazwie `przyjazne_dla_dzieci`, która jako dziedzinę ma 'ZwierzęDomowe' a jako wartość odpowiedni typ z xml schema reprezentujący wartości boolowskie (**True**, **False**) _"
   ]
  },
  {
   "cell_type": "code",
   "execution_count": 25,
   "metadata": {
    "id": "xbU3kOfZJTn5"
   },
   "outputs": [
    {
     "name": "stderr",
     "output_type": "stream",
     "text": [
      "* Owlready2 * ADD TRIPLE http://www.semanticweb.org/ontologies/zwierzeta#przyjazne_dla_dzieci http://www.w3.org/1999/02/22-rdf-syntax-ns#type http://www.w3.org/2002/07/owl#DatatypeProperty\n",
      "* Owlready2 * ADD TRIPLE http://www.semanticweb.org/ontologies/zwierzeta#przyjazne_dla_dzieci http://www.w3.org/2000/01/rdf-schema#domain http://www.semanticweb.org/ontologies/zwierzeta#ZwierzęDomowe\n",
      "* Owlready2 * ADD TRIPLE http://www.semanticweb.org/ontologies/zwierzeta#przyjazne_dla_dzieci http://www.w3.org/2000/01/rdf-schema#range http://www.w3.org/2001/XMLSchema#boolean\n"
     ]
    }
   ],
   "source": [
    "with onto:\n",
    "    class przyjazne_dla_dzieci(DataProperty):\n",
    "        domain = [onto.ZwierzęDomowe]\n",
    "        range = [bool]"
   ]
  },
  {
   "cell_type": "markdown",
   "metadata": {
    "id": "UFSJuoWnIKkz"
   },
   "source": [
    "## Modyfikowanie encji\n",
    "Relacje pomiędzy indywiduami i ograniczenia egzystencjalne mogą być modyfikowane jak każdy inny atrybut w Pythonie. Przykładowo:\n",
    " "
   ]
  },
  {
   "cell_type": "code",
   "execution_count": 26,
   "metadata": {
    "id": "Nko_C0PyIcd4"
   },
   "outputs": [],
   "source": [
    "onto.wagaFigaro = 4"
   ]
  },
  {
   "cell_type": "markdown",
   "metadata": {
    "id": "yGNDXOO3InR2"
   },
   "source": [
    "## Tworzenie encji w ramach przestrzeni nazw\n",
    "Owlready domyślnie tworzy encje w ramach przestrzeni nazw, tj. IRI encji zaczyna się od IRI ontologii.\n",
    "Możemy także utworzyć encję z innym IRI, przykładowo:\n",
    "\n"
   ]
  },
  {
   "cell_type": "code",
   "execution_count": 27,
   "metadata": {
    "colab": {
     "base_uri": "https://localhost:8080/",
     "height": 37
    },
    "id": "YTJ6NABDKldA",
    "outputId": "4e6dc410-61de-4ae9-ae59-24064d65d66b"
   },
   "outputs": [
    {
     "name": "stderr",
     "output_type": "stream",
     "text": [
      "* Owlready2 * ADD TRIPLE http://purl.obolibrary.org/obo/ma_rolę http://www.w3.org/1999/02/22-rdf-syntax-ns#type http://www.w3.org/2002/07/owl#ObjectProperty\n"
     ]
    },
    {
     "data": {
      "text/plain": [
       "'http://purl.obolibrary.org/obo/ma_rolę'"
      ]
     },
     "execution_count": 27,
     "metadata": {},
     "output_type": "execute_result"
    }
   ],
   "source": [
    "ro = onto.get_namespace(\"http://purl.obolibrary.org/obo/\")\n",
    "with ro:\n",
    "  class ma_rolę(ObjectProperty): pass\n",
    "ma_rolę.iri\n"
   ]
  },
  {
   "cell_type": "markdown",
   "metadata": {
    "id": "PDHbFfSAK9DK"
   },
   "source": [
    "## Zmiana nazwy encji\n",
    "Atrybuty `name` i `iri` danej encji mogą zostać zmodyfikowane (refaktoring):\n"
   ]
  },
  {
   "cell_type": "code",
   "execution_count": 28,
   "metadata": {
    "colab": {
     "base_uri": "https://localhost:8080/",
     "height": 307
    },
    "id": "kwFROBRPLNC8",
    "outputId": "ed384379-ce82-4e48-c3a4-656ee8d51233"
   },
   "outputs": [],
   "source": [
    "ma_rolę.iri = \"http://www.semanticweb.org/ontologies/zwierzeta#ma_rolę\""
   ]
  },
  {
   "cell_type": "markdown",
   "metadata": {
    "id": "sz1NllUJLXWk"
   },
   "source": [
    "## Usuwanie encji\n",
    "Funkcja globalna destroy_entity pozwala usuwać dowolne encje, np.:\n",
    "\n",
    "\n"
   ]
  },
  {
   "cell_type": "code",
   "execution_count": 29,
   "metadata": {
    "id": "wd0otRzpNM_-"
   },
   "outputs": [
    {
     "name": "stderr",
     "output_type": "stream",
     "text": [
      "* Owlready2 * ADD TRIPLE http://www.semanticweb.org/ontologies/zwierzeta#zwierzędomowe1 http://www.w3.org/1999/02/22-rdf-syntax-ns#type http://www.w3.org/2002/07/owl#NamedIndividual\n",
      "* Owlready2 * ADD TRIPLE http://www.semanticweb.org/ontologies/zwierzeta#zwierzędomowe1 http://www.w3.org/1999/02/22-rdf-syntax-ns#type http://www.semanticweb.org/ontologies/zwierzeta#ZwierzęDomowe\n"
     ]
    }
   ],
   "source": [
    "tymczasowe_zwierzę = onto.ZwierzęDomowe()\n",
    "destroy_entity(tymczasowe_zwierzę)"
   ]
  },
  {
   "cell_type": "markdown",
   "metadata": {
    "id": "DXRjVnb1NbHW"
   },
   "source": [
    "## Usuwanie ontologii\n",
    "Za pomocą metody `destroy()` można permamentnie usunąć ontologię z repozytorium \"czwórek\"."
   ]
  },
  {
   "cell_type": "markdown",
   "metadata": {
    "id": "7WtV198qNmpL"
   },
   "source": [
    "## Zapisywanie ontologii\n",
    "Za pomocą metody `save()` można zapisać ontologię na dysku, np. `onto.save(file)`, gdzie `file` może być nazwą pliku albo obiektem Pythona."
   ]
  },
  {
   "cell_type": "markdown",
   "metadata": {
    "id": "kUZrO3lON_kE"
   },
   "source": [
    "# Konstruktory i ograniczenia \n",
    "## Tworzenie konstruktorów\n",
    "W owlready, ograniczenia tworzone są za pomocą składni \"property.restriction_type(value)\", np.:\n",
    "\n",
    "\n",
    "*  property.some(Klasa) dla ograniczeń egzystencjalnych\n",
    "*  property.only(Klasa) dla ograniczeń uniwersalnych\n",
    "*  property.value(indywiduum lub dane) dla ograniczenia wartości \n",
    "* itd.\n",
    "\n",
    "Operatory logiczne (NOT, AND, OR) można uzyskać w następujący sposób:\n",
    "\n",
    "\n",
    "*   Not(Klasa)\n",
    "*   And([Klasa1, Klasa2, ...]) lub Klasa1 & Klasa2 &...\n",
    "\n",
    "Konstruktory mogą być wykorzystywane w wyrażeniach z `is_a` i `equivalent_to`. Przykład:\n",
    "\n",
    "\n",
    "\n",
    "\n",
    "\n"
   ]
  },
  {
   "cell_type": "code",
   "execution_count": 30,
   "metadata": {
    "colab": {
     "base_uri": "https://localhost:8080/"
    },
    "id": "xyW4OTuxPVgp",
    "outputId": "3fdee6df-5388-4652-df95-85fce8f34671"
   },
   "outputs": [
    {
     "name": "stderr",
     "output_type": "stream",
     "text": [
      "* Owlready2 * ADD TRIPLE http://www.semanticweb.org/ontologies/zwierzeta#KotZeSchroniska http://www.w3.org/1999/02/22-rdf-syntax-ns#type http://www.w3.org/2002/07/owl#Class\n",
      "* Owlready2 * ADD TRIPLE http://www.semanticweb.org/ontologies/zwierzeta#KotZeSchroniska http://www.w3.org/2000/01/rdf-schema#subClassOf http://www.semanticweb.org/ontologies/zwierzeta#Kot\n",
      "* Owlready2 * ADD TRIPLE -17 http://www.w3.org/1999/02/22-rdf-syntax-ns#type http://www.w3.org/2002/07/owl#Restriction\n",
      "* Owlready2 * ADD TRIPLE -17 http://www.w3.org/2002/07/owl#onProperty http://www.semanticweb.org/ontologies/zwierzeta#pochodzi_z\n",
      "* Owlready2 * ADD TRIPLE -17 http://www.w3.org/2002/07/owl#someValuesFrom http://www.semanticweb.org/ontologies/zwierzeta#Schronisko\n",
      "* Owlready2 * ADD TRIPLE -18 http://www.w3.org/1999/02/22-rdf-syntax-ns#type http://www.w3.org/2002/07/owl#Class\n",
      "* Owlready2 * ADD TRIPLE -18 http://www.w3.org/2002/07/owl#intersectionOf -16\n",
      "* Owlready2 * ADD TRIPLE -16 http://www.w3.org/1999/02/22-rdf-syntax-ns#first http://www.semanticweb.org/ontologies/zwierzeta#Kot\n",
      "* Owlready2 * ADD TRIPLE -16 http://www.w3.org/1999/02/22-rdf-syntax-ns#rest -19\n",
      "* Owlready2 * ADD TRIPLE -19 http://www.w3.org/1999/02/22-rdf-syntax-ns#first -17\n",
      "* Owlready2 * ADD TRIPLE -19 http://www.w3.org/1999/02/22-rdf-syntax-ns#rest http://www.w3.org/1999/02/22-rdf-syntax-ns#nil\n",
      "* Owlready2 * ADD TRIPLE http://www.semanticweb.org/ontologies/zwierzeta#KotZeSchroniska http://www.w3.org/2002/07/owl#equivalentClass -18\n"
     ]
    }
   ],
   "source": [
    "with onto:\n",
    "  class KotZeSchroniska(onto.Kot):\n",
    "    equivalent_to = [ onto.Kot & onto.pochodzi_z.some(onto.Schronisko) ] "
   ]
  },
  {
   "cell_type": "markdown",
   "metadata": {
    "id": "VFn6rnnnP_rU"
   },
   "source": [
    "__Zadanie 8: Bazując na wynikach poprzednich zadań, utwórz klasę ZwierzęDomoweKrótkowłose, poprzez dodanie klasy 'Krótkowłose' jako podklasy klasy 'Owłosienie' i odpowiedniego ograniczenia wyrażającego to, że ZwierzęDomoweKrótkowłose ma typ owłosienia 'Krótkowłose' _"
   ]
  },
  {
   "cell_type": "code",
   "execution_count": 31,
   "metadata": {
    "id": "1r7DrRTVQba6",
    "scrolled": true
   },
   "outputs": [
    {
     "name": "stderr",
     "output_type": "stream",
     "text": [
      "* Owlready2 * ADD TRIPLE http://www.semanticweb.org/ontologies/zwierzeta#Krótkowłose http://www.w3.org/1999/02/22-rdf-syntax-ns#type http://www.w3.org/2002/07/owl#Class\n",
      "* Owlready2 * ADD TRIPLE http://www.semanticweb.org/ontologies/zwierzeta#Krótkowłose http://www.w3.org/2000/01/rdf-schema#subClassOf http://www.semanticweb.org/ontologies/zwierzeta#Owłosienie\n",
      "* Owlready2 * ADD TRIPLE http://www.semanticweb.org/ontologies/zwierzeta#ZwierzęDomoweKrótkowłose http://www.w3.org/1999/02/22-rdf-syntax-ns#type http://www.w3.org/2002/07/owl#Class\n",
      "* Owlready2 * ADD TRIPLE http://www.semanticweb.org/ontologies/zwierzeta#ZwierzęDomoweKrótkowłose http://www.w3.org/2000/01/rdf-schema#subClassOf http://www.semanticweb.org/ontologies/zwierzeta#ZwierzęDomowe\n",
      "* Owlready2 * ADD TRIPLE -21 http://www.w3.org/1999/02/22-rdf-syntax-ns#type http://www.w3.org/2002/07/owl#Restriction\n",
      "* Owlready2 * ADD TRIPLE -21 http://www.w3.org/2002/07/owl#onProperty http://www.semanticweb.org/ontologies/zwierzeta#typ_owlosienia\n",
      "* Owlready2 * ADD TRIPLE -21 http://www.w3.org/2002/07/owl#someValuesFrom http://www.semanticweb.org/ontologies/zwierzeta#Krótkowłose\n",
      "* Owlready2 * ADD TRIPLE -22 http://www.w3.org/1999/02/22-rdf-syntax-ns#type http://www.w3.org/2002/07/owl#Class\n",
      "* Owlready2 * ADD TRIPLE -22 http://www.w3.org/2002/07/owl#intersectionOf -20\n",
      "* Owlready2 * ADD TRIPLE -20 http://www.w3.org/1999/02/22-rdf-syntax-ns#first http://www.semanticweb.org/ontologies/zwierzeta#ZwierzęDomowe\n",
      "* Owlready2 * ADD TRIPLE -20 http://www.w3.org/1999/02/22-rdf-syntax-ns#rest -23\n",
      "* Owlready2 * ADD TRIPLE -23 http://www.w3.org/1999/02/22-rdf-syntax-ns#first -21\n",
      "* Owlready2 * ADD TRIPLE -23 http://www.w3.org/1999/02/22-rdf-syntax-ns#rest http://www.w3.org/1999/02/22-rdf-syntax-ns#nil\n",
      "* Owlready2 * ADD TRIPLE http://www.semanticweb.org/ontologies/zwierzeta#ZwierzęDomoweKrótkowłose http://www.w3.org/2002/07/owl#equivalentClass -22\n"
     ]
    }
   ],
   "source": [
    "with onto:\n",
    "    class Krótkowłose(onto.Owłosienie):\n",
    "        pass\n",
    "    \n",
    "    class ZwierzęDomoweKrótkowłose(onto.ZwierzęDomowe):\n",
    "        equivalent_to = [onto.ZwierzęDomowe & onto.typ_owlosienia.some(onto.Krótkowłose)]"
   ]
  },
  {
   "cell_type": "markdown",
   "metadata": {
    "id": "3Nszx7eLQnXg"
   },
   "source": [
    "# Automatyczne wnioskowanie\n",
    "Funkcja `sync_reasoner()` pozwala na uruchomienie silnika wnioskującego i wydedukowaniu nowych faktów do repozytorium \"czwórek\".\n",
    "Domyślnie używany jest silnik HermiT. Możliwe jest także użycie silnika Pellet poprzez wywołanie odpowiedniej funkcji: `sync_reasoner_pellet()` (dla silnika HermiT: `sync_reasoner_hermit()`)."
   ]
  },
  {
   "cell_type": "code",
   "execution_count": 32,
   "metadata": {
    "colab": {
     "base_uri": "https://localhost:8080/"
    },
    "id": "4ebsbPJzQ3Ol",
    "outputId": "099ef2f9-e6b0-4f2c-ebd4-05efa8766c8d"
   },
   "outputs": [
    {
     "name": "stderr",
     "output_type": "stream",
     "text": [
      "* Owlready2 * Creating new ontology inferrences <http://inferrences/>.\n",
      "* Owlready2 * ADD TRIPLE http://inferrences http://www.w3.org/1999/02/22-rdf-syntax-ns#type http://www.w3.org/2002/07/owl#Ontology\n",
      "* Owlready2 * Saving world <owlready2.namespace.World object at 0x7f0e5e3bdd60> to /tmp/tmps65iy3ne...\n",
      "* Owlready2 * Running HermiT...\n",
      "    java -Xmx2000M -cp /home/max/.local/opt/miniconda3/envs/ml/lib/python3.8/site-packages/owlready2/hermit:/home/max/.local/opt/miniconda3/envs/ml/lib/python3.8/site-packages/owlready2/hermit/HermiT.jar org.semanticweb.HermiT.cli.CommandLine -c -O -D -I file:////tmp/tmps65iy3ne\n",
      "* Owlready2 * HermiT took 0.4487423896789551 seconds\n",
      "* Owlready * Reparenting zwierzeta.NowaKlasa: {zwierzeta.Kot, owl.Thing} => {zwierzeta.Kot}\n",
      "* Owlready * (NB: only changes on entities loaded in Python are shown, other changes are done but not listed)\n"
     ]
    }
   ],
   "source": [
    "sync_reasoner()"
   ]
  }
 ],
 "metadata": {
  "colab": {
   "collapsed_sections": [
    "olZtqmxdj4pc",
    "ShELV1ectoal",
    "ia7msurFwT-Y",
    "D_jEnKhzyRHV",
    "7RkYdCN4Qg-S",
    "yeY7HIZB35r7",
    "59PyNsFVMO9j",
    "VOerjjBlBPhp",
    "sz1NllUJLXWk",
    "DXRjVnb1NbHW",
    "7WtV198qNmpL"
   ],
   "name": "Lab - owlready2.ipynb",
   "provenance": []
  },
  "kernelspec": {
   "display_name": "Python 3",
   "language": "python",
   "name": "python3"
  },
  "language_info": {
   "codemirror_mode": {
    "name": "ipython",
    "version": 3
   },
   "file_extension": ".py",
   "mimetype": "text/x-python",
   "name": "python",
   "nbconvert_exporter": "python",
   "pygments_lexer": "ipython3",
   "version": "3.8.3"
  }
 },
 "nbformat": 4,
 "nbformat_minor": 1
}
