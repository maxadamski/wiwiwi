{
 "cells": [
  {
   "cell_type": "markdown",
   "metadata": {},
   "source": [
    "## Ocena: 90%"
   ]
  },
  {
   "cell_type": "markdown",
   "metadata": {},
   "source": [
    "# Zaawansowane Przetwarzanie Języka Naturalnego\n",
    "## Laboratorium 3: Neuronowe modele predykcji sekwencji"
   ]
  },
  {
   "cell_type": "markdown",
   "metadata": {},
   "source": [
    "Celem zadania jest zaimplementowanie neuronowego modelu do predykcji sekwencji i zastosowanie go do zadania płytkiej analizy frazowej. Zaimplementowany model będzie oparty o dwukierunkowe sieci rekurencyjne oraz zakończony będzie warstwą CRF. Celem ćwiczenia nie jest stworzenie wydajnej implementacji odpowiedniej do pracy z dużymi zbiorami treningowymi, ale pogłębienie zrozumienia działania metod modelowania predykcji poprzez ich implementację."
   ]
  },
  {
   "cell_type": "markdown",
   "metadata": {},
   "source": [
    "## Zadanie 1\n",
    "Pracując w środowisku PyTorch nie jest konieczne samodzielne implementowanie neuronów rekurencyjnych, gdyż biblioteka `torch.nn` zawiera ich gotowe implementacje. Klasyczny neuron rekurencyjny z funkcją aktywacji tangens hiperboliczny jest zaimplementowany w klasie `RNN` i od razu pozwala na przetworzenie od razu całej sekwencji elementów. Konstruktor obiektu wymaga wyspecyfikowania liczby cech którymi opisany jest każdy element sekwencji, liczby neuronów w warstwie rekurenycjnej oraz liczbę warstw rekurencyjnych. \n",
    "\n",
    "Istotnym parametrem modelu jest opcjonalny przełącznik `batch_first = True` który określa format wejściowej sekwencji. Domyślnie modele rekurencyjne spodziewają się wejścia o wymiarach `(długość sekwencji, rozmiar batcha, liczba cech)` czyli w kolumnach tensora mamy kolejne sekwencje (przykłady uczące), w wierszach kolejne elementy tych sekwencji, a w głębokości tensora umieszone są kolejne cechy każdego z elementów sekwencji. Zwróć uwagę, że jest to format inny od często stosowanego formatu danych niesekwencyjnych gdzie w wierszach umieszcza się kolejne przykłady uczące, a w kolumnach kolejne cechy (tutaj jest na odwrót: przykład uczący-sekwencja umieszcona jest w kolumnie, a nie w wierszu). Jeśli jednak ustawisz przełącznik `batch_first = True` to sieć rekurencyjna będzie się spodziewała wejścia jako `(rozmiar batcha, długość sekwencji, liczba cech)` czyli kolejne sekwencje będą w kolejnych wierszach tensora.\n",
    "\n",
    "Dalej, warto zauważyć, że w przypadku np. warstwy liniowej do obliczenia wyniku wystarczyło podanie samych danych ( `linear(dane)`), jednak wejściem sieci rekurencyjnej są nie tylko dane ale i poprzednie stany ukryte $h_{t-1}$ ( `rnn(dane, h0)`)."
   ]
  },
  {
   "cell_type": "code",
   "execution_count": 1,
   "metadata": {
    "ExecuteTime": {
     "end_time": "2021-12-23T01:17:16.402062Z",
     "start_time": "2021-12-23T01:17:16.032025Z"
    }
   },
   "outputs": [
    {
     "name": "stdout",
     "output_type": "stream",
     "text": [
      "Wyjście warstwy:  tensor([[[-0.4105,  0.9088, -0.7859],\n",
      "         [-0.7429,  0.9753, -0.3479],\n",
      "         [-0.7533,  0.9962, -0.4943],\n",
      "         [-0.7946,  0.9993, -0.4708]]], grad_fn=<TransposeBackward1>)\n",
      "Ostatni stan ukryty:  tensor([[[-0.7946,  0.9993, -0.4708]]], grad_fn=<StackBackward0>)\n"
     ]
    }
   ],
   "source": [
    "import torch\n",
    "import torch.nn as nn\n",
    "\n",
    "N_FEATURES = 2\n",
    "N_LAYERS = 1\n",
    "HIDDEN_SIZE = 3\n",
    "\n",
    "data = torch.FloatTensor([[1,1], [2,2], [3,3], [4,4]]).view(1, 4, 2)\n",
    "# Proste przykładowe dane: jedna 4 elementowa sekwencja gdzie każdy jej element jest opisany dwoma cechami\n",
    "# Zwróć uwagę na wymiary tensora (rozmiar batcha, długość sekwencji, liczba cech elementów) \n",
    "#     - konieczne batch_first=True\n",
    "\n",
    "rnn = nn.RNN(N_FEATURES, HIDDEN_SIZE, N_LAYERS, batch_first = True) \n",
    "\n",
    "h0 = torch.randn(N_LAYERS, 1, HIDDEN_SIZE)\n",
    "# Początkowy stan ukryty h0. Każda warstwa sieci rekurencyjnej zaczyna przetwarzanie od swojego h0\n",
    "# W sytuacji gdy przetwarzamy kilka sekwencji na raz (sieć jest uruchamiana równolegle na kilku sekwencjach)\n",
    "# również potrzebujemy dla każdej przetwarzanej sekwencji jej stan początkowy h0\n",
    "# Porównaj powyższy opis z wymiarowością zmiennej h0\n",
    "\n",
    "out, h_t = rnn(data, h0)\n",
    "print(\"Wyjście warstwy: \", out)\n",
    "print(\"Ostatni stan ukryty: \",h_t)\n"
   ]
  },
  {
   "cell_type": "markdown",
   "metadata": {},
   "source": [
    "Zwróć uwagę na otrzymane wyjście: ponieważ na wejście sieci podaliśmy sekwencję elementów to dla każdego przetwarzanego elementu sekwencji sieć zwróciła uzyskaną reprezentację ukrytą (skoro mamy 3 neurony w warstwie to taka reprezentacja jest 3-wymiarowa). Dodatkowo zwrócony został ostatni stan ukryty, który moglibyśmy przetwarzać np. kolejnej sieci rekurencyjnej.\n",
    "\n",
    "Sprawdź poprawność uzyskanego powyżej wyniku poprzez uruchomienie sieci rekurencyjnej element po elemencie (wejściem do sieci jest zawsze tylko jeden element sekwencji lub inaczej: sekwencje 1-elementowe). Wypisz na wyjście kolejne otrzymywane wyniki sieci i jej stany ukryte. Uzyskane wyniki powinny być takie same jak te z komórki wyżej."
   ]
  },
  {
   "cell_type": "code",
   "execution_count": 2,
   "metadata": {
    "ExecuteTime": {
     "end_time": "2021-12-23T01:17:16.409209Z",
     "start_time": "2021-12-23T01:17:16.403163Z"
    }
   },
   "outputs": [
    {
     "name": "stdout",
     "output_type": "stream",
     "text": [
      "tensor([[[-0.4105,  0.9088, -0.7859]]], grad_fn=<TransposeBackward1>) tensor([[[-0.4105,  0.9088, -0.7859]]], grad_fn=<StackBackward0>)\n",
      "tensor([[[-0.7429,  0.9753, -0.3479]]], grad_fn=<TransposeBackward1>) tensor([[[-0.7429,  0.9753, -0.3479]]], grad_fn=<StackBackward0>)\n",
      "tensor([[[-0.7533,  0.9962, -0.4943]]], grad_fn=<TransposeBackward1>) tensor([[[-0.7533,  0.9962, -0.4943]]], grad_fn=<StackBackward0>)\n",
      "tensor([[[-0.7946,  0.9993, -0.4708]]], grad_fn=<TransposeBackward1>) tensor([[[-0.7946,  0.9993, -0.4708]]], grad_fn=<StackBackward0>)\n"
     ]
    }
   ],
   "source": [
    "h_i = h0\n",
    "for i in range(1,5):\n",
    "    x_i = torch.FloatTensor([[i,i]]).view(1,1,2)\n",
    "    y_i, h_i = rnn(x_i, h_i)\n",
    "    print(y_i, h_i)"
   ]
  },
  {
   "cell_type": "markdown",
   "metadata": {},
   "source": [
    "W prosty sposób można również rozszerzyć naszą warstwę rekurencyjną do sieci dwukierunkowej. W konstruktorze wystarczy ustawić `bidirectional = True`. Jak mówiliśmy na wykładzie taka sieć składa się w rzeczywistości z dwóch sieci - jednej przetwarzającej wyniki od lewej do prawej i drugiej przetwarzającej wyniki od prawej do lewej. W związku z tym należy dla obydwu tych sieci przygotować ich stany początkowe $h_0$, a wymiarowość wyjścia zwiększy się dwukrotnie."
   ]
  },
  {
   "cell_type": "code",
   "execution_count": 3,
   "metadata": {
    "ExecuteTime": {
     "end_time": "2021-12-23T01:17:16.428503Z",
     "start_time": "2021-12-23T01:17:16.410110Z"
    }
   },
   "outputs": [
    {
     "name": "stdout",
     "output_type": "stream",
     "text": [
      "Wyjście warstwy:  tensor([[[ 0.3544,  0.7134, -0.8040, -0.6942,  0.7378, -0.3653],\n",
      "         [ 0.9799,  0.9275,  0.3703, -0.8844,  0.8064, -0.3645],\n",
      "         [ 0.9964,  0.8316,  0.4219, -0.9759,  0.8121, -0.5738],\n",
      "         [ 0.9996,  0.8941,  0.4395, -0.9864,  0.7353, -0.2237]]],\n",
      "       grad_fn=<TransposeBackward1>)\n",
      "Ostatni stan ukryty:  tensor([[[ 0.9996,  0.8941,  0.4395]],\n",
      "\n",
      "        [[-0.6942,  0.7378, -0.3653]]], grad_fn=<StackBackward0>)\n"
     ]
    }
   ],
   "source": [
    "rnn = nn.RNN(N_FEATURES, HIDDEN_SIZE, N_LAYERS, batch_first = True, bidirectional = True) \n",
    "\n",
    "h0 = torch.randn(N_LAYERS*2, 1, HIDDEN_SIZE)\n",
    "out, h_t = rnn(data, h0)\n",
    "print(\"Wyjście warstwy: \", out)\n",
    "print(\"Ostatni stan ukryty: \",h_t)\n"
   ]
  },
  {
   "cell_type": "markdown",
   "metadata": {},
   "source": [
    "Analogicznie jak poprzednio uzyskaj wynik z poprzedniej komórki zakładając że na wejściu obiektu `rnn` możesz umieścić jedynie sekwencje jednoelementowe (możesz go jednak wywoływać dowolnie wiele razy)."
   ]
  },
  {
   "cell_type": "code",
   "execution_count": 4,
   "metadata": {
    "ExecuteTime": {
     "end_time": "2021-12-23T01:17:16.476327Z",
     "start_time": "2021-12-23T01:17:16.431756Z"
    }
   },
   "outputs": [
    {
     "name": "stdout",
     "output_type": "stream",
     "text": [
      "tensor([[[ 0.3544,  0.7134, -0.8040, -0.4682,  0.6053,  0.0453]]],\n",
      "       grad_fn=<TransposeBackward1>) tensor([[[ 0.3544,  0.7134, -0.8040]],\n",
      "\n",
      "        [[-0.4682,  0.6053,  0.0453]]], grad_fn=<StackBackward0>)\n",
      "tensor([[[ 0.9799,  0.9275,  0.3703, -0.9422,  0.6112, -0.5373]]],\n",
      "       grad_fn=<TransposeBackward1>) tensor([[[ 0.9799,  0.9275,  0.3703]],\n",
      "\n",
      "        [[-0.9422,  0.6112, -0.5373]]], grad_fn=<StackBackward0>)\n",
      "tensor([[[ 0.9964,  0.8316,  0.4219, -0.9658,  0.8232, -0.4426]]],\n",
      "       grad_fn=<TransposeBackward1>) tensor([[[ 0.9964,  0.8316,  0.4219]],\n",
      "\n",
      "        [[-0.9658,  0.8232, -0.4426]]], grad_fn=<StackBackward0>)\n",
      "tensor([[[ 0.9996,  0.8941,  0.4395, -0.9924,  0.8469, -0.5588]]],\n",
      "       grad_fn=<TransposeBackward1>) tensor([[[ 0.9996,  0.8941,  0.4395]],\n",
      "\n",
      "        [[-0.9924,  0.8469, -0.5588]]], grad_fn=<StackBackward0>)\n"
     ]
    }
   ],
   "source": [
    "h_i = h0\n",
    "for i in range(1,5):\n",
    "    x_i = torch.FloatTensor([[i,i]]).view(1,1,2)\n",
    "    y_i, h_i = rnn(x_i, h_i)\n",
    "    print(y_i, h_i)"
   ]
  },
  {
   "cell_type": "markdown",
   "metadata": {},
   "source": [
    "Na koniec warto też zauważyć, że samodzielna inicjalizacja stanu wejściowego do sieci rekurencyjnej `h0` nie jest obowiązkowa i na wejście warstwy rekurencyjnej można podać samą sekwencję wejściową. W takim wypadku element `h0` zostanie zainicjalizowany domyślnie wektorem zer."
   ]
  },
  {
   "cell_type": "code",
   "execution_count": 5,
   "metadata": {
    "ExecuteTime": {
     "end_time": "2021-12-23T01:17:16.491285Z",
     "start_time": "2021-12-23T01:17:16.477517Z"
    }
   },
   "outputs": [
    {
     "name": "stdout",
     "output_type": "stream",
     "text": [
      "Wyjście warstwy:  tensor([[[ 0.8548,  0.7497, -0.3826, -0.6750,  0.7467, -0.3401],\n",
      "         [ 0.9804,  0.8390,  0.4887, -0.8999,  0.7943, -0.4241],\n",
      "         [ 0.9965,  0.8068,  0.3612, -0.9626,  0.8338, -0.4356],\n",
      "         [ 0.9997,  0.8977,  0.4509, -0.9950,  0.5421, -0.5657]]],\n",
      "       grad_fn=<TransposeBackward1>)\n",
      "Ostatni stan ukryty:  tensor([[[ 0.9997,  0.8977,  0.4509]],\n",
      "\n",
      "        [[-0.6750,  0.7467, -0.3401]]], grad_fn=<StackBackward0>)\n"
     ]
    }
   ],
   "source": [
    "out, h_t = rnn(data)\n",
    "print(\"Wyjście warstwy: \", out)\n",
    "print(\"Ostatni stan ukryty: \",h_t)"
   ]
  },
  {
   "cell_type": "markdown",
   "metadata": {},
   "source": [
    "**Ćwiczenia**\n",
    "- Jakich zmian w kodzie musiałbyś dokonać by uzyskać 3-warstwową sieć rekurencyjną? Jak zmieniłaby się wtedy wymiarowośc `h0` oraz wyjścia sieci neuronowej `h1` i `out`?\n",
    "- W przypadku neuronu rekurencyjnego RNN wejściem do modelu jest sekwencja oraz początkowy/poprzedni stan ukryty `h0`. Korzystając z gotowej implemetancji neuronu LSTM jakiego wejścia się spodziewasz?\n",
    "\n",
    "Odpowiedzi nie musisz zapisywać."
   ]
  },
  {
   "cell_type": "markdown",
   "metadata": {},
   "source": [
    "## Zadanie 2\n",
    "W ostatnim zadaniu domowym poznawałeś usprawnienia implementacji modeli uczących się w PyTorch poprzez wykorzystanie gotowych elementów z modułu `torch.nn`. Jednak ostatecznie uzyskany przez nas kod nadal przetwarzał pojedyncze instancje tj. nieobsługiwał mini-batchy. Można oczywiście ręcznie zaimplementować indeksowanie, które pozwoli nam na iterowanie po paczkach danych, jednak PyTorch pozwala oczywiście na automatyzację tego procesu."
   ]
  },
  {
   "cell_type": "markdown",
   "metadata": {},
   "source": [
    "Na początek wczytajmy dane uczące z których będziemy korzystać w tym zadaniu. (Może być konieczna instalacja biblioteki `torchtext`)."
   ]
  },
  {
   "cell_type": "code",
   "execution_count": 6,
   "metadata": {
    "ExecuteTime": {
     "end_time": "2021-12-23T01:17:16.710612Z",
     "start_time": "2021-12-23T01:17:16.492395Z"
    }
   },
   "outputs": [
    {
     "name": "stdout",
     "output_type": "stream",
     "text": [
      "['Confidence', 'in', 'the', 'pound', 'is', 'widely', 'expected', 'to', 'take', 'another', 'sharp', 'dive', 'if', 'trade', 'figures', 'for', 'September', ',', 'due', 'for', 'release', 'tomorrow', ',', 'fail', 'to', 'show', 'a', 'substantial', 'improvement', 'from', 'July', 'and', 'August', \"'s\", 'near-record', 'deficits', '.']\n",
      "['B-NP', 'B-PP', 'B-NP', 'I-NP', 'B-VP', 'I-VP', 'I-VP', 'I-VP', 'I-VP', 'B-NP', 'I-NP', 'I-NP', 'B-SBAR', 'B-NP', 'I-NP', 'B-PP', 'B-NP', 'O', 'B-ADJP', 'B-PP', 'B-NP', 'B-NP', 'O', 'B-VP', 'I-VP', 'I-VP', 'B-NP', 'I-NP', 'I-NP', 'B-PP', 'B-NP', 'I-NP', 'I-NP', 'B-NP', 'I-NP', 'I-NP', 'O']\n"
     ]
    }
   ],
   "source": [
    "from torchtext.datasets import CoNLL2000Chunking\n",
    "train_iter = CoNLL2000Chunking(split='train')\n",
    "seq_texts = []\n",
    "seq_tags = []\n",
    "for i in train_iter:\n",
    "    seq_texts.append(i[0])\n",
    "    seq_tags.append(i[2])\n",
    "print(seq_texts[0])\n",
    "print(seq_tags[0])"
   ]
  },
  {
   "cell_type": "markdown",
   "metadata": {},
   "source": [
    "Są to dane z popularnego zbioru CoNLL2000 dotyczące zadania płytkiej analizy frazowej. W liście `seq_texts` umieszczono kolejne zdania, a na liście `seq_tags` umieszczono odpowiadające im zestawy tagów. Zwróć uwagę, że zastosowano tutaj tagowanie BIO np. frazą czasownikową `VP` jest \"is widely expected to take\"."
   ]
  },
  {
   "cell_type": "markdown",
   "metadata": {},
   "source": [
    "Pierwszym krokiem przetwarzania jest zamiana słów na ich identyfikatory oraz obsłużenie tokenu `OOV`. W poprzednich zadaniach domowych robiliśmy to ręcznie jednak dzięki bibliotece `torchtext` ten proces równiez możemy zautomatyzować dzięki obiektowi `Vocab` i funkcji `build_vocab_from_iterator`."
   ]
  },
  {
   "cell_type": "code",
   "execution_count": 7,
   "metadata": {
    "ExecuteTime": {
     "end_time": "2021-12-23T01:17:16.853039Z",
     "start_time": "2021-12-23T01:17:16.711651Z"
    }
   },
   "outputs": [
    {
     "data": {
      "text/plain": [
       "4403"
      ]
     },
     "execution_count": 7,
     "metadata": {},
     "output_type": "execute_result"
    }
   ],
   "source": [
    "from torchtext.vocab import build_vocab_from_iterator\n",
    "vocab = build_vocab_from_iterator(seq_texts, specials=[\"<unk>\"], min_freq=5)\n",
    "len(vocab)"
   ]
  },
  {
   "cell_type": "markdown",
   "metadata": {},
   "source": [
    "Funkcja ta na wejście przyjmuje iterator z tekstami, a także opcjonalnie próg `min_freq` pomijający słowa występujące z niewystarczającą częstotliowścią oraz `specials` pozwalający na umieszczenie w słowniku dodatkowych tokenów. Tokeny specjalne domyślnie są umieszczane na początku słownika.\n",
    "\n",
    "Obiekt `Vocab` w prosty sposób zamienia sekwencję tokenów na sekwencję ich indeksów."
   ]
  },
  {
   "cell_type": "code",
   "execution_count": 8,
   "metadata": {
    "ExecuteTime": {
     "end_time": "2021-12-23T01:17:16.992062Z",
     "start_time": "2021-12-23T01:17:16.854023Z"
    }
   },
   "outputs": [
    {
     "data": {
      "text/plain": [
       "[107, 80, 8, 0]"
      ]
     },
     "execution_count": 8,
     "metadata": {},
     "output_type": "execute_result"
    }
   ],
   "source": [
    "vocab([\"if\",\"could\", \"in\", \"<unk>\"])"
   ]
  },
  {
   "cell_type": "markdown",
   "metadata": {},
   "source": [
    "oraz na inne proste konwersje:"
   ]
  },
  {
   "cell_type": "code",
   "execution_count": 9,
   "metadata": {
    "ExecuteTime": {
     "end_time": "2021-12-23T01:17:17.013519Z",
     "start_time": "2021-12-23T01:17:16.992896Z"
    }
   },
   "outputs": [
    {
     "name": "stdout",
     "output_type": "stream",
     "text": [
      "if\n",
      "[0]\n"
     ]
    }
   ],
   "source": [
    "print(vocab.lookup_token(107))\n",
    "print(vocab.lookup_indices([\"<unk>\"]))"
   ]
  },
  {
   "cell_type": "markdown",
   "metadata": {},
   "source": [
    "Domyślnie jednak słownik nie obsługuje słów spoza słownika. Dla przykładu \"Confidence\" występuje w rozważanym korpusie mniej niż 2 razy."
   ]
  },
  {
   "cell_type": "code",
   "execution_count": 10,
   "metadata": {
    "ExecuteTime": {
     "end_time": "2021-12-23T01:17:17.026261Z",
     "start_time": "2021-12-23T01:17:17.015422Z"
    }
   },
   "outputs": [],
   "source": [
    "#vocab([\"Confidence\"])"
   ]
  },
  {
   "cell_type": "markdown",
   "metadata": {},
   "source": [
    "Można jednak ustawić domyślny indeks słownika na token `UNK`, który automatycznie zamienia nieznane słowa na indeks tego tokenu."
   ]
  },
  {
   "cell_type": "code",
   "execution_count": 11,
   "metadata": {
    "ExecuteTime": {
     "end_time": "2021-12-23T01:17:17.039557Z",
     "start_time": "2021-12-23T01:17:17.027169Z"
    }
   },
   "outputs": [
    {
     "data": {
      "text/plain": [
       "[107, 80, 8, 0, 0]"
      ]
     },
     "execution_count": 11,
     "metadata": {},
     "output_type": "execute_result"
    }
   ],
   "source": [
    "vocab.set_default_index(0)\n",
    "vocab([\"if\",\"could\", \"in\", \"<unk>\",\"Confidence\"])"
   ]
  },
  {
   "cell_type": "markdown",
   "metadata": {},
   "source": [
    "Następny krokiem jest implementacja własnej klasy zbioru danych, dziedziczącej po klasie `torch.utils.data.Dataset`, która zapewni kompatybilność reprezentacji naszych danych z procedurami m.in. automatycznie tworzącymi batche.\n",
    "\n",
    "Zbiór danych powinien implementować co najmniej 3 funkcje: konstruktor, funkcję zwracającą liczbę elementów w zbiorze `__len__` oraz funckję pozwalającą na dostęp do wybranego elementu zbioru `__getitem__`.\n",
    "\n",
    "Wykorzystując funkcję `build_vocab_from_iterator` uzupełnij implementację poniższej klasy, tak aby funkcja `__getitem__` zwracała elementy zbioru składające się z sekwencji indeksów słów oraz z sekwencji indeksów klas. Należy obsłużyć słowa spoza słownika zamieniająć na token `UNK` słowa występujące jednokrotnie w zbiorze danych. Dodatkowo słownik powinien uwzględniać token specjalny `<PAD>`, najlepiej umieszczony pod indeksem 0, który będzie potrzebny w dalszej części ćwiczenia."
   ]
  },
  {
   "cell_type": "code",
   "execution_count": 12,
   "metadata": {
    "ExecuteTime": {
     "end_time": "2021-12-23T01:17:17.052162Z",
     "start_time": "2021-12-23T01:17:17.040873Z"
    }
   },
   "outputs": [],
   "source": [
    "from torch.utils.data import Dataset, DataLoader\n",
    "\n",
    "class CoNLLDataset(Dataset):\n",
    "    def __init__(self, seq_texts, seq_tags):\n",
    "        self.texts = seq_texts\n",
    "        self.labels = seq_tags\n",
    "        self.vocab = build_vocab_from_iterator(seq_texts, specials=['<pad>', '<unk>'], min_freq=2)\n",
    "        self.vocab.set_default_index(1)\n",
    "        self.vocab_labels = build_vocab_from_iterator(seq_tags, specials=['<pad>'], min_freq=1)\n",
    "        \n",
    "    def __len__(self):\n",
    "        return len(self.labels)\n",
    "    \n",
    "    def __getitem__(self, item):\n",
    "        return dict(text=self.vocab(self.texts[item]), label=self.vocab_labels(self.labels[item]))\n",
    "    \n",
    "    def get_vocab_size(self):\n",
    "        return len(self.vocab)\n",
    "    \n",
    "    def get_tagset_size(self):\n",
    "        return len(self.vocab_labels)"
   ]
  },
  {
   "cell_type": "code",
   "execution_count": 13,
   "metadata": {
    "ExecuteTime": {
     "end_time": "2021-12-23T01:17:17.216315Z",
     "start_time": "2021-12-23T01:17:17.053550Z"
    }
   },
   "outputs": [
    {
     "name": "stdout",
     "output_type": "stream",
     "text": [
      "{'text': [1, 9, 3, 1775, 17, 1164, 177, 6, 212, 317, 1216, 6116, 108, 650, 597, 11, 457, 2, 249, 11, 2626, 2963, 2, 4920, 6, 602, 7, 1401, 1752, 21, 732, 8, 543, 10, 8902, 1, 4], 'label': [2, 5, 2, 1, 4, 6, 6, 6, 6, 2, 1, 1, 8, 2, 1, 5, 2, 3, 9, 5, 2, 2, 3, 4, 6, 6, 2, 1, 1, 5, 2, 1, 1, 2, 1, 1, 3]}\n"
     ]
    }
   ],
   "source": [
    "dataset = CoNLLDataset(seq_texts, seq_tags)\n",
    "for i in dataset:\n",
    "    print(i)\n",
    "    break"
   ]
  },
  {
   "cell_type": "markdown",
   "metadata": {},
   "source": [
    "Mając zaimplementowany zbiór danych jako obiekt typu `Dataset`, podzielenie go na paczki instancji nie jest trudne. Wystarczy wykorzystać obiekt `DataLoader` i wyspecyfikować w nim rozmiar paczki danych `batch_size`."
   ]
  },
  {
   "cell_type": "code",
   "execution_count": 14,
   "metadata": {
    "ExecuteTime": {
     "end_time": "2021-12-23T01:17:17.219935Z",
     "start_time": "2021-12-23T01:17:17.217238Z"
    }
   },
   "outputs": [
    {
     "name": "stdout",
     "output_type": "stream",
     "text": [
      "Ile utworzono paczek? 2234\n"
     ]
    }
   ],
   "source": [
    "dataloader = DataLoader(dataset, batch_size=4)\n",
    "print(\"Ile utworzono paczek?\", len(dataloader))"
   ]
  },
  {
   "cell_type": "markdown",
   "metadata": {},
   "source": [
    "Niemniej jednak praca z tekstami nie jest niestety taka prosta spróbuj przeiterować pod kolejnych paczkach twojego zbioru:"
   ]
  },
  {
   "cell_type": "code",
   "execution_count": 15,
   "metadata": {
    "ExecuteTime": {
     "end_time": "2021-12-23T01:17:17.231670Z",
     "start_time": "2021-12-23T01:17:17.221000Z"
    }
   },
   "outputs": [],
   "source": [
    "#for i in dataloader:\n",
    "#    print(i)\n",
    "#    break"
   ]
  },
  {
   "cell_type": "markdown",
   "metadata": {},
   "source": [
    "Obiekt `DataLoader` próbuje automatycznie podzielić nasze dane na paczki, jednak nie jest to takie proste. Nasze dane składają się z sekwencji o różnych długościach, ciężko jest więc utworzyć z nich eleganckie tensory które mają stałe wymiarowości. Naturalnym rozwiązaniem problemu jest wyznaczenie długości najdłuższej sekwencji i uzupełnienie wszystkich pozostałych sekwencji do tej długości specjlanymi tokenami `<PAD>`. Taka operacja może niestety znacznie zwiększyć wymagania pamięciowe potrzebne do reprezentacji zbioru. Pojawienie się jednej bardzo długiej sekwencji w zbiorze znacznie zwiększa czas przetwarzania dla wszystkich jego elementów. \n",
    "\n",
    "Zauważ, że wymaganiem technicznym nie jest posiadanie całego zbioru danych w postaci jednego dużego tensora, ale stworzenie takiego tensora dla wszystkich sekwnencji w ramach jednej paczki danych. Zwykle długość najdłużej sekwencji w paczce jest dużo mniejsza niż długość najdłuszej sekwencji w całym zbiorze, co pozwoliłoby nam na nie tylko znaczne lepsze wykorzystanie pamięci operacyjnej, ale także na ograniczenie czasu przetwarzania. Z tego powodu w tym zadaniu będziemy dynamicznie tworzyć reprezentację paczki danych -- każda paczka będzie zawierała tyle samo sekwencji, jednak będą one uzupełniane do różnych długości, pod tym względem paczki danych *nie* będą równe.  \n",
    "\n",
    "Do uzupełnienia sekwencji do równych długości przydatna będzie funkcja `pad_sequence`, która również posiada parametr `batch_first` przygotowując dane o odpowiednich wymiarach."
   ]
  },
  {
   "cell_type": "code",
   "execution_count": 16,
   "metadata": {
    "ExecuteTime": {
     "end_time": "2021-12-23T01:17:17.255305Z",
     "start_time": "2021-12-23T01:17:17.232798Z"
    }
   },
   "outputs": [
    {
     "name": "stdout",
     "output_type": "stream",
     "text": [
      "tensor([[1, 1],\n",
      "        [2, 2],\n",
      "        [3, 0]])\n",
      "tensor([[1, 2, 3],\n",
      "        [1, 2, 0]])\n"
     ]
    }
   ],
   "source": [
    "from torch.nn.utils.rnn import pad_sequence\n",
    "\n",
    "data = [torch.tensor([1,2,3]), torch.tensor([1,2])]\n",
    "pad_data = pad_sequence(data, padding_value=0)\n",
    "print(pad_data)\n",
    "\n",
    "pad_data = pad_sequence(data, padding_value=0, batch_first=True)\n",
    "print(pad_data)"
   ]
  },
  {
   "cell_type": "markdown",
   "metadata": {},
   "source": [
    "Warto zwrócić uwagę, że zrównoleglanie przetwarzania sieci rekurencyjnej nie jest proste, gdyż wyniki przetwarzania zależą od poprzednich wyników. Nie można więc, tak jak w przypadku sieci splotowej, równocześnie obliczyć wyników filtra na wszystkich słowach w tekście, znakomicie zrównoleglając przetwarzanie. Należy najpierw zastosować \"filtr\" na pierwszym słowie, poczekać na wynik, potem na kolejnym itd. W związku z tym najlepszą możliwością zrównoleglenia przetwarzania sieci rekurencyjnych jest obsługa wielu przykładów uczących na raz. Sieć rekurencyjna, inicjalizowana potencjalnie różnymi `h0` dla różnych przykładów uczących, na raz przetwarza pierwsze elementy każdej sekwencji. Następnie przetwarza wszystkie drugie elementy, wszystkie trzecie elementy itd. Przetwarzanie odbywać się będzie po kolei w ramach kolejnych wierszy domyślnej repezentacji `batch_first=False` tj. równocześnie przetwarzane będą wszystkie sekwencje w batchu.\n",
    "\n",
    "Implementacja dynamicznego tworzenia paczek danych (wraz z uzupełnianiem `<PAD>`) jest możliwa dzięki przekazaniu do konstruktora `DataLoader` funkcji `collate_fn`. Funkcja ta na wejście otrzymuje kolekcję danych (w takiej postaci w jakiej zostały one zwrócone z `DataSet` a na wyjście powinna zwrócić tensory reprezentujące paczkę danych. Nasza funkcja `collate_fn` powinna zwrócić 3 tensory. Pierwszy tensor powinien zawierać przykłady uczące (o równej długości), drugi odpowiednio uzupełnione sekwencje tagów oraz trzeci tensor jednowymiarowy (wektor) zawierający długości kolejnych sekwencji w batchu.\n",
    "\n",
    "*UWAGA*: Konwencją umożliwiającą potem efektywniejsze przetwarzanie jest to, że sekwencje w batchu są posortowane ich długościami. Pierwsza sekwencja powinna być najdłuższa, a ostatnia najkrótsza."
   ]
  },
  {
   "cell_type": "code",
   "execution_count": 17,
   "metadata": {
    "ExecuteTime": {
     "end_time": "2021-12-23T01:17:17.271821Z",
     "start_time": "2021-12-23T01:17:17.256255Z"
    }
   },
   "outputs": [],
   "source": [
    "def collate_fn(batch):\n",
    "    batch = sorted(batch, key=lambda x: len(x['text']), reverse=True)\n",
    "    text, tags, sizes = [], [], []\n",
    "    for sample in batch:\n",
    "        text.append(torch.tensor(sample['text']))\n",
    "        tags.append(torch.tensor(sample['label']))\n",
    "        sizes.append(len(sample['text']))\n",
    "    return pad_sequence(text, padding_value=0, batch_first=True), \\\n",
    "            pad_sequence(tags, padding_value=0, batch_first=True), \\\n",
    "            torch.tensor(sizes)"
   ]
  },
  {
   "cell_type": "code",
   "execution_count": 18,
   "metadata": {
    "ExecuteTime": {
     "end_time": "2021-12-23T01:17:17.289492Z",
     "start_time": "2021-12-23T01:17:17.272806Z"
    }
   },
   "outputs": [
    {
     "name": "stdout",
     "output_type": "stream",
     "text": [
      "torch.Size([4, 37]) torch.Size([4, 37]) torch.Size([4])\n",
      "tensor([[   1,    9,    3, 1775,   17, 1164,  177,    6,  212,  317, 1216, 6116,\n",
      "          108,  650,  597,   11,  457,    2,  249,   11, 2626, 2963,    2, 4920,\n",
      "            6,  602,    7, 1401, 1752,   21,  732,    8,  543,   10, 8902,    1,\n",
      "            4],\n",
      "        [ 253,   36,  229,    3,  496,    5,    3,  118,  214, 1190,    6,  197,\n",
      "          977,  172,    6, 1117,   19,   21,   49,  312,  224,   19,  417,    6,\n",
      "         4096,    3, 1775,    2, 1143,    8,  384,  339,   56,  246,  138,    4,\n",
      "            0],\n",
      "        [  55,  246,    1, 2085,  477,   11, 2950,   36,   63, 6154,   25,    3,\n",
      "         5984,   10, 1048,    6, 2788,  113,   69,  260, 2043,    9,   64, 4593,\n",
      "          225, 3267,   88,  817,    4,    0,    0,    0,    0,    0,    0,    0,\n",
      "            0],\n",
      "        [2263,    5,    3, 4530, 4614, 1704,   10, 4293, 2543,    6,    7,  228,\n",
      "         1314,  260,   36,  794,    6, 1916,    7,    1,    9, 2950,   96,    3,\n",
      "          230,  126,    4,    0,    0,    0,    0,    0,    0,    0,    0,    0,\n",
      "            0]])\n",
      "tensor([[2, 5, 2, 1, 4, 6, 6, 6, 6, 2, 1, 1, 8, 2, 1, 5, 2, 3, 9, 5, 2, 2, 3, 4,\n",
      "         6, 6, 2, 1, 1, 5, 2, 1, 1, 2, 1, 1, 3],\n",
      "        [2, 4, 6, 2, 1, 5, 2, 1, 4, 6, 6, 6, 2, 1, 5, 2, 1, 5, 2, 1, 1, 1, 1, 4,\n",
      "         6, 2, 1, 3, 2, 3, 2, 1, 1, 1, 4, 3, 0],\n",
      "        [3, 2, 4, 2, 1, 5, 2, 4, 6, 6, 5, 2, 1, 2, 1, 4, 6, 2, 1, 1, 1, 5, 2, 1,\n",
      "         1, 1, 2, 1, 3, 0, 0, 0, 0, 0, 0, 0, 0],\n",
      "        [3, 5, 2, 1, 2, 1, 2, 1, 1, 5, 2, 1, 1, 1, 4, 6, 6, 6, 2, 1, 5, 2, 5, 2,\n",
      "         1, 1, 3, 0, 0, 0, 0, 0, 0, 0, 0, 0, 0]])\n",
      "tensor([37, 36, 29, 27])\n"
     ]
    }
   ],
   "source": [
    "dataloader = DataLoader(dataset, batch_size=4, collate_fn=collate_fn)\n",
    "for X, y, s in dataloader:\n",
    "    print(X.shape, y.shape, s.shape)\n",
    "    print(X)\n",
    "    print(y)\n",
    "    print(s)\n",
    "    break"
   ]
  },
  {
   "cell_type": "markdown",
   "metadata": {},
   "source": [
    "Uzupełnienie sekwencji tokenami `<PAD>` do pełnej długości wydaje sie być dobrym pomysłem i pozwala na operowanie na tensorach które łatwo przesłać na kartę graficzną czy wykonać równoległe obliczenia na wszystkich jego elementach. Niemniej jednak fakt, że nasze sekwencje nie są równiej długości jest nadal niezwykle istotny przy wielu różnych obliczeniach. W szczególności jest on istotny przy przetwarzaniu sekwencji przez sieć rekurencyjną. W przypadku sieci rekurencyjnej przetwarzającej sekwencję uzupełnioną do końca zerami, sieć nie zwróci reprezentacji dla każdego słowa ale dla wszystkich elementów sekwencji czyli także dla końcowych elementów-zer. Ewidentnie sieć wykonała wiele niepotrzebnych operacji obliczeniowych tracąc czas (a przecież sieci rekurencyjne do najszybszych nie należą) jednakże prawidłowy wynik nadal jest do odzyskania. Możemy przecież post-factum wziąć pod uwagę tylko (długość sekwencji)-pierwszych elementów wyniku, uzyskując taki sam wynik jak przy przetwarzaniu sekwencji bez uzupełnienia.\n",
    "\n",
    "Tak się jednak nie dzieje, gdy rozważamy dwukierunkową sieć rekurencyjną. Sieć iterująca w tył rozpoczęła przetwarzanie od początkowego stanu ukrytego, a następnie akutalizowała go za kolejne wejścia uważając sekwencję tokenów `<PAD>`! Wynik obliczeń tej sieci jest więc różny niż dla sekwencji nieuzupełnionej i co więcej nie jest on do odzyskania. Uzupełniając sekwnecję np. zerami nie tylko wykonujemy nadmiarowe obliczenia, ale także zaburzamy wyniki.\n",
    "\n",
    "Na szczęście sieci rekurencyjne zaimplementowane w PyTorch obsługją także specjalny format danych tzw. `PackedSequence`, który przechowuje informację o długościach sekwencji zapewniając oszczędność obliczeń i takie same wyniki jak dla sekwencji bez uzupełniania. Przed wykonaniem obliczeń siecią rekurencyjną możemy dane zapakować do tego formatu, a następnie przetworzony wynik możemy z powrotem odpakować do postaci uzupełnionego do pełnej długości tensora. Pomocne są w tym dwie funkcje: `pack_padded_sequence` pakująca dane do tego formatu oraz funkcja odpakowująca `pad_packed_sequence`."
   ]
  },
  {
   "cell_type": "code",
   "execution_count": 19,
   "metadata": {
    "ExecuteTime": {
     "end_time": "2021-12-23T01:17:17.300642Z",
     "start_time": "2021-12-23T01:17:17.290335Z"
    }
   },
   "outputs": [
    {
     "name": "stdout",
     "output_type": "stream",
     "text": [
      "PackedSequence(data=tensor([ 1, -1, 10,  2, -2, 20,  3, -3,  4,  5]), batch_sizes=tensor([3, 3, 2, 1, 1]), sorted_indices=None, unsorted_indices=None)\n"
     ]
    }
   ],
   "source": [
    "from torch.nn.utils.rnn import pack_padded_sequence, pad_packed_sequence\n",
    "\n",
    "data = torch.tensor([[1,2,3,4,5],[-1,-2,-3,0,0], [10,20,0,0,0]])\n",
    "lengths = torch.tensor([5,3,2])\n",
    "\n",
    "packed_data = pack_padded_sequence(data, lengths, batch_first=True)\n",
    "print(packed_data)"
   ]
  },
  {
   "cell_type": "markdown",
   "metadata": {},
   "source": [
    "Zapakowaliśmy 3 sekwencje, które uzupełnione były do długości 5. Ponieważ kolejne sekwencje są umieszczone w kolejnych wierszach tensora należy wyspecyfikować argument `batch_first=True`. Format `PackedSequence` przechowuje tensor `data` oraz tensor `batch_sizes`. Tak jak opisywaliśmy, sieć rekurencyjna zrównolegla swoje działania poprzez jednoczene przetwarzanie wszystkich sekwencji na raz, iterując po ich kolejnych elementach. Z tego powodu `batch_sizes` opisują wielkość przetwarzanej paczki danych (tj. liczba przetwarzanych sekwencji) w każdej iteracji. Na początku przetwarzamy 3 sekwencje, potem znowu 3, a następnie tylko dwie, gdyż ostatnia sekwencja miała tylko 2 elementy. Prześledź, że właśnie w taki sposób zostały ułożone dane w `data`.\n",
    "\n",
    "Porównajmy działanie neuronu rekurencyjnego dla danych uzupełnionych tokenami `<PAD>` oraz dla danych spakowanych do `PackedSequence`."
   ]
  },
  {
   "cell_type": "code",
   "execution_count": 20,
   "metadata": {
    "ExecuteTime": {
     "end_time": "2021-12-23T01:17:17.329079Z",
     "start_time": "2021-12-23T01:17:17.301634Z"
    }
   },
   "outputs": [
    {
     "name": "stdout",
     "output_type": "stream",
     "text": [
      "Wyjście sieci dla danych o stałej długości:  tensor([[[ 0.7575],\n",
      "         [ 0.8581],\n",
      "         [ 0.9685],\n",
      "         [ 0.9932],\n",
      "         [ 0.9987]],\n",
      "\n",
      "        [[-0.6181],\n",
      "         [-0.8078],\n",
      "         [-0.9505],\n",
      "         [ 0.6843],\n",
      "         [-0.3557]],\n",
      "\n",
      "        [[ 1.0000],\n",
      "         [ 1.0000],\n",
      "         [-0.5409],\n",
      "         [ 0.4886],\n",
      "         [-0.2234]]], grad_fn=<TransposeBackward1>)\n",
      "Wyjście sieci dla danych spakowanych:  PackedSequence(data=tensor([[ 0.7575],\n",
      "        [-0.6181],\n",
      "        [ 1.0000],\n",
      "        [ 0.8581],\n",
      "        [-0.8078],\n",
      "        [ 1.0000],\n",
      "        [ 0.9685],\n",
      "        [-0.9505],\n",
      "        [ 0.9932],\n",
      "        [ 0.9987]], grad_fn=<CatBackward0>), batch_sizes=tensor([3, 3, 2, 1, 1]), sorted_indices=None, unsorted_indices=None)\n",
      "Wyjście sieci po rozpakowaniu:  tensor([[[ 0.7575],\n",
      "         [ 0.8581],\n",
      "         [ 0.9685],\n",
      "         [ 0.9932],\n",
      "         [ 0.9987]],\n",
      "\n",
      "        [[-0.6181],\n",
      "         [-0.8078],\n",
      "         [-0.9505],\n",
      "         [ 0.0000],\n",
      "         [ 0.0000]],\n",
      "\n",
      "        [[ 1.0000],\n",
      "         [ 1.0000],\n",
      "         [ 0.0000],\n",
      "         [ 0.0000],\n",
      "         [ 0.0000]]], grad_fn=<TransposeBackward0>)\n"
     ]
    }
   ],
   "source": [
    "N_FEATURES = 1\n",
    "N_LAYERS = 1\n",
    "HIDDEN_SIZE = 1\n",
    "\n",
    "data = torch.FloatTensor([[1,2,3,4,5],[-1,-2,-3,0,0], [10,20,0,0,0]]).view(3,5,1)\n",
    "lengths = torch.tensor([5,3,2])\n",
    "\n",
    "rnn = nn.RNN(N_FEATURES, HIDDEN_SIZE, N_LAYERS, batch_first = True) \n",
    "out, _ = rnn(data)\n",
    "print(\"Wyjście sieci dla danych o stałej długości: \", out)\n",
    "\n",
    "packed_data = pack_padded_sequence(data, lengths, batch_first=True)\n",
    "out_packed, _ = rnn(packed_data)\n",
    "print(\"Wyjście sieci dla danych spakowanych: \",out_packed)\n",
    "out, out_len = pad_packed_sequence(out_packed, batch_first=True)\n",
    "print(\"Wyjście sieci po rozpakowaniu: \", out)\n"
   ]
  },
  {
   "cell_type": "markdown",
   "metadata": {},
   "source": [
    "Zwróć uwagę jak ułożone są spakowane wyniki sieci.\n",
    "\n",
    "Stworzyliśmy zbiór danych, mamy także zaimplementowany mechanizm dynamicznych paczek danych, a także wiemy jak efektywnie wykorzystywać je do obliczeń siecami rekurencyjnymi. Połóżmy więc wisienkę na torcie i stwórzmy model do tagowania tych danych. Model powinien składać się z warstwy zanurzeń słów, która jest wejściem do jednowarstwowego, dwukierunkowego LSTM. Ostatecznie predykcja jest wykonywana przez warstwę liniową (softmax)."
   ]
  },
  {
   "cell_type": "code",
   "execution_count": 21,
   "metadata": {
    "ExecuteTime": {
     "end_time": "2021-12-23T01:17:17.339941Z",
     "start_time": "2021-12-23T01:17:17.330016Z"
    }
   },
   "outputs": [],
   "source": [
    "import torch.nn.functional as F\n",
    "\n",
    "WORD_EMBEDDING = 20\n",
    "\n",
    "class TaggerNet(nn.Module):\n",
    "    def __init__(self, vocab_size, hidden_size, n_tags):\n",
    "        \"\"\" Argumentami konstruktora jest rozmiar słownika, \n",
    "            liczba neuronów w warstwie rekurencyjnej \n",
    "            oraz liczba klas/tagów\n",
    "        \"\"\"\n",
    "        super(TaggerNet, self).__init__()\n",
    "        self.embedding = nn.Embedding(vocab_size, WORD_EMBEDDING)\n",
    "        self.lstm = nn.LSTM(WORD_EMBEDDING, hidden_size, batch_first=True, bidirectional=True)\n",
    "        self.linear = nn.Linear(hidden_size*2, n_tags)\n",
    "        self.n_tags = n_tags\n",
    "        \n",
    "    def forward(self, sentence, seq_lengths):\n",
    "        \"\"\" Wejściem jest paczka zdań (słowa reprezentowane przez indeksy)\n",
    "            oraz tensor ich długości \n",
    "        \"\"\"\n",
    "        embedded_words = self.embedding(sentence)   \n",
    "        packed_words = pack_padded_sequence(embedded_words, seq_lengths, batch_first=True)\n",
    "        lstm_out, _ = self.lstm(packed_words)\n",
    "        unpacked, unpacked_len = pad_packed_sequence(lstm_out, batch_first=True)\n",
    "        out = self.linear(unpacked)\n",
    "        #out = F.log_softmax(out, dim=1)\n",
    "        return out.view(len(sentence), self.n_tags, -1)"
   ]
  },
  {
   "cell_type": "markdown",
   "metadata": {},
   "source": [
    "Zaimplemetuj finalną pętlę uczącą model. \n",
    "- Powinieneś wykorzystać błąd entropii krzyżowej jako funkcję straty policzoną dla każdego przewidzianego taga. \n",
    "- Zwróć uwagę, że wyniki sieci są w postaci rozpakowanej tj. uzupełnionej zerami do pełnej długości. Błąd nie powinien być liczony dla tych predykcji! Możesz to osiągnąć np. sprytnie wykorzystując parametr `ignore_index` klasy `nn.CrossEntropyLoss`. \n",
    "- Jako algorytm optymalizacyjny wykorzystaj `torch.optim.Adam`.\n",
    "- Jedną z technik stabilizujących trening sieci jest przycinanie gradientu. W PyTorch możesz to uzyskać wywołując pomiędzy obliczeniem gradientu a wywołaniem kroku optymalizatora funkcji `nn.utils.clip_grad_norm_(model.parameters(), TRESHOLD)`. Zwróć uwagę, że nazwa funkcji zakończona jest `_` to znaczy, że operacja jest wykonywana in-place i wyniku funkcji nie trzeba podstawiać do żadnej zmiennej.\n",
    "- Celem ćwiczenia nie jest wybór hiperparametrów, ani uzyskiwanie wysokich trafności."
   ]
  },
  {
   "cell_type": "code",
   "execution_count": 22,
   "metadata": {
    "ExecuteTime": {
     "end_time": "2021-12-23T01:17:36.695777Z",
     "start_time": "2021-12-23T01:17:17.340809Z"
    }
   },
   "outputs": [
    {
     "name": "stdout",
     "output_type": "stream",
     "text": [
      "epoch 1 | batch 70/70 | loss 3.06433439\n",
      "epoch 2 | batch 70/70 | loss 2.71088004\n",
      "epoch 3 | batch 70/70 | loss 2.37389255\n",
      "epoch 4 | batch 70/70 | loss 2.19242644\n",
      "epoch 5 | batch 70/70 | loss 2.10729361\n"
     ]
    }
   ],
   "source": [
    "model = TaggerNet(dataset.get_vocab_size(), 10, dataset.get_tagset_size())\n",
    "dataloader = DataLoader(dataset, batch_size=128, collate_fn=collate_fn)\n",
    "\n",
    "loss_function = nn.CrossEntropyLoss(ignore_index=0)\n",
    "optimizer = torch.optim.Adam(model.parameters())\n",
    "\n",
    "for epoch in range(5):  \n",
    "    loss_sum = torch.tensor(0.)\n",
    "    batch_count = len(dataloader)\n",
    "    for i, (sentences, tags, lengths) in enumerate(dataloader):\n",
    "        pred_tags = model(sentences, lengths)\n",
    "        loss = loss_function(pred_tags, tags)\n",
    "        loss.backward()\n",
    "        nn.utils.clip_grad_norm_(model.parameters(), 1)\n",
    "        optimizer.step()\n",
    "        optimizer.zero_grad()\n",
    "        with torch.no_grad():\n",
    "            loss_sum += loss\n",
    "            print(f'epoch {epoch+1} | batch {i+1}/{batch_count} | loss {loss_sum/(i+1):.8f}', end='\\r', flush=True)\n",
    "    print()"
   ]
  },
  {
   "cell_type": "markdown",
   "metadata": {},
   "source": [
    "**Ćwiczenia**\n",
    "- W tym zadaniu zaimplementowaliśmy dynamiczne tworzenie paczek danych, w ramach których uzupełnialiśmy sekwencje do takiej samej długości. Czasami stosowaną techniką jest posortowanie zbioru danych, tak aby sekwencje były ułożone od najdłuższej do najkrótszej, a następnie dynamicznie tworzy się kolejne paczeki danych iterując po tak ułożonym zbiorze. Jakie są wady i zalety takiego rozwiązania?\n",
    "- Student podczas treningu sieci neuronowej zauważył, że wyniki funkcji celu w czasie optymalizacji modelu nie są stabilne. Spodziewa się, że zwiększenie rozmiaru paczki danych przyczyni się do bardziej stabilnego treningu sieci i poprawi wyniki. Jednakże, dalsze zwiększenie paczki danych nie jest możliwe gdyż nie mieści się ona w pamięci na karcie GPU. Sama implementacja sieci i reprezentacji zbioru danych jest wg. studenta optymalna, inna karta GPU o większej pamięci nie jest dostępna. Jak rozwiązac ten problem? Podaj zarys implementacji. \n",
    "\n",
    "\n",
    "Odpowiedź na ostatnią kropkę umieść poniżej.\n"
   ]
  },
  {
   "cell_type": "markdown",
   "metadata": {},
   "source": [
    "**Odpowiedź**: Możemy akumulować gradienty pomiędzy N minibatchami, w efekcie mnożąc wielkość minibatcha razy N. W PyTorch wystarczy nie zerować gradientów pomiędzy kolejnymi faktycznymi minibatchami, tylko robić to okresowo. Trzeba jednak pamiętać o odpowiednim przeskalowaniu wartości funkcji straty.\n",
    "\n",
    "Zarys implementacji pętli uczenia, zwiększającej wielkość minibatcha razy `N`:\n",
    "\n",
    "```python\n",
    "for epoch in epochs:\n",
    "    for i, (inputs, targets) in enumerate(batches):\n",
    "        outputs = model(input)\n",
    "        loss = loss_function(outputs, targets) / N\n",
    "        loss.backward()\n",
    "        if (i+1) % N == 0:\n",
    "            optimizer.step()\n",
    "            optimizer.zero_grad()\n",
    "    # step i zero_grad, gdy len(batches) nie jest podzielne przez N\n",
    "```"
   ]
  },
  {
   "cell_type": "markdown",
   "metadata": {},
   "source": [
    "## Zadanie 3\n",
    "Celem ostatniego ćwiczenia jest rozszerzenie modelu o warstwę CRF (nie można korzystać z gotowców). Implementacja:\n",
    "- powinna operować tylko na jednej sekwencji (brak obsługi paczek danych w programowaniu dynamicznym)\n",
    "- powinna być stabilna numerycznie tj. operować na logarytmach prawdopodobieństw (patrz rozdział \"Uwaga implementacyjna\" w wykładzie o CRF)\n",
    "- warstwa CRF powinna być zaimplementowana wg. schematu \"rozbicie funkcji oceny na ocenę emisji i tranzycji\" $$\\Psi_i (y_i, y_{i-1}, \\vec{x}) = \\exp\\left(\n",
    " {W}_{y_i}h_i\\right) \\exp\\left( \\vec{b}_{y_i, y_{i-1}} \\right)\n",
    " $$\n",
    " gdzie ${W}_{y_i}h_i$ to ocena kompatybilności emisji, a $\\vec{b}_{y_i, y_{i-1}}$ to kompatybilność tranzycji. Reprezentacja $h_i$ jest obliczana poprzez sieć rekurenycjną LSTM. Zwróć więc uwagę, że ${W}_{y_i}h_i$ to wynik warstwy liniowej mającej tyle neuronów wyjściowych ile tagów, za wejście przyjmując stan ukryty sieci rekurencyjnej. Z kolei $\\vec{b}_{y_i, y_{i-1}}$ to jedna waga reprezentująca ocenę tranzycji, która jest dodatkowym parametrem warstwy CRF. Potrzebujemy więc macierz takich wag o wymiarach $C\\times C$ gdzie C to liczba tagów. \n",
    "- Model powinien uwzględniać też reprezentacje tagów `START` i `STOP`. W rezultacie więc wygodnie zaimplementować macierz parametrów oceniających tranzycję jako macierz o wymiarach $C+2\\times C+2$.\n",
    " \n",
    "W czasie treningu modelu powinieneś maksymalizować logarytmiczną funkcję wiarygodności, co przy paczce danych o wielkości 1 sprowadza się do maksymalizacji logarytmu prawdopodobieństwa prawidłowej sekwencji. \n",
    "$$\\max \\log P({y} | {x}) = \\log \\frac{\\prod_{i=1}^n \\Psi_i (y_i, y_{i-1}, {x})}{Z({x})}  = \\sum_{i=1}^n  \\log \\Psi_i (y_i, y_{i-1}, {x}) - \\log Z({x})  $$\n",
    "W PyTorch algorytmy optymalizacyjne minimalizują funkcje celu, więc wynik przed policzeniem gradientów musisz pomnożyć przez $-1$.\n",
    "\n",
    "Do dyspozycji masz funkcję `log_sum_exp`:"
   ]
  },
  {
   "cell_type": "code",
   "execution_count": 23,
   "metadata": {
    "ExecuteTime": {
     "end_time": "2021-12-23T01:17:36.698624Z",
     "start_time": "2021-12-23T01:17:36.696559Z"
    }
   },
   "outputs": [],
   "source": [
    "def log_sum_exp(vec):\n",
    "    max_score = torch.max(vec)\n",
    "    return max_score + torch.log(torch.sum(torch.exp(vec - max_score)))"
   ]
  },
  {
   "cell_type": "markdown",
   "metadata": {},
   "source": [
    "Uzupełnij klasę `TaggerCRFNet` takby aby implementowała powyższą architekturę."
   ]
  },
  {
   "cell_type": "code",
   "execution_count": 24,
   "metadata": {
    "ExecuteTime": {
     "end_time": "2021-12-23T01:17:37.131726Z",
     "start_time": "2021-12-23T01:17:36.699420Z"
    }
   },
   "outputs": [],
   "source": [
    "class TaggerCRFNet(nn.Module):\n",
    "    def __init__(self, vocab_size, hidden_size, n_tags):\n",
    "        super(TaggerCRFNet, self).__init__()\n",
    "        self.embedding = nn.Embedding(vocab_size, WORD_EMBEDDING)\n",
    "        self.lstm = nn.LSTM(WORD_EMBEDDING, hidden_size, bidirectional = True)\n",
    "        self.fc = nn.Linear(hidden_size * 2, n_tags)\n",
    "        self.n_tags = n_tags\n",
    "        self.START_TAG = self.n_tags \n",
    "        self.STOP_TAG = self.n_tags + 1\n",
    "        self.transitions = nn.Parameter(torch.randn((n_tags+2, n_tags+2)))\n",
    "\n",
    "\n",
    "    def _get_features(self, sentence, seq_lengths):\n",
    "        \"\"\"\n",
    "        Funkcja ekstrakcji cech przez sieć rekurencyjną LSTM.\n",
    "        Wyjście sieci zwraca od razu ocenę emisji każdego taga W_{y_i}*h_i\n",
    "        \n",
    "        Zwróć uwagę na wywołanie .view() na wyniku funkcji. Wynik ma \n",
    "        wymiarowość długość sekwencji x liczba tagów (brak obsługi kilku sekwencji na raz)\n",
    "        \"\"\"\n",
    "        embedded_words = self.embedding(sentence)   \n",
    "        packed_words = pack_padded_sequence(embedded_words, seq_lengths)\n",
    "        out, _ = self.lstm(packed_words)                 \n",
    "        unpacked, unpacked_len = pad_packed_sequence(out)\n",
    "        out = self.fc(unpacked)         \n",
    "        return out.view(-1, self.n_tags)  \n",
    "    \n",
    "    def _get_numerator(self, features, tags):\n",
    "        \"\"\"\n",
    "        Funkcja przyjmuje na wejście features zwracane przez _get_features\n",
    "        oraz sekwencję tagów. Obliczany jest (zlogarytmowany) licznik prawdopodobieństwa \n",
    "        podanej sekwencji. (Pierwszy term podanej wyżej funkcji celu)\n",
    "        \n",
    "        Zwróć uwagę w jaki sposób jest wykorzystywana macierz transitions.\n",
    "        Pierwszym indeksem jest *kolejny* tag\n",
    "        \"\"\"\n",
    "        score = torch.zeros(1)\n",
    "        # Funkcje kompatybilności emisji\n",
    "        for i, tag in enumerate(tags):\n",
    "            score = score + features[i,tag]\n",
    "        # Funkcje kompatybilności tranzycji\n",
    "        score = score + self.transitions[tags[0], self.START_TAG]\n",
    "        for i in range(len(tags)-1):\n",
    "            score = score + self.transitions[tags[i+1], tags[i]]\n",
    "        score = score + self.transitions[self.STOP_TAG,tags[-1]]\n",
    "        return score\n",
    "    \n",
    "    def _forward_alg(self, features, seq_lengths):\n",
    "        \"\"\"\n",
    "        Funkcja zwracająca logarytm sumy statystycznej (drugi term funkcji celu)\n",
    "        \"\"\"\n",
    "        alpha = features[0] + self.transitions[:self.n_tags, self.START_TAG].view(-1)\n",
    "        for feature in features[1:]:\n",
    "            # ~2x faster than a loop\n",
    "            z = alpha + feature.unsqueeze(1) + self.transitions[:self.n_tags, :self.n_tags]\n",
    "            z_max = z.max(1).values\n",
    "            alpha = z_max + (z - z_max.unsqueeze(1)).logsumexp(1)\n",
    "        return log_sum_exp(alpha + self.transitions[self.STOP_TAG, :self.n_tags])\n",
    "\n",
    "    def forward(self, sentence, seq_lengths):\n",
    "        \"\"\"\n",
    "        Funkcja zwracająca najbardziej prawdopodobną sekwencję tagów dla podanego wejścia.\n",
    "        \n",
    "        Porada: zaimplementuj ją w drugiej kolejności, jak seq_log_probability będzie prawidłowo działać\n",
    "        \"\"\"\n",
    "        features = self._get_features(sentence, seq_lengths)\n",
    "        DP = []\n",
    "        \n",
    "        beta = features[0] + self.transitions[:self.n_tags, self.START_TAG].view(-1)\n",
    "        for i, feature in enumerate(features[1:]):\n",
    "            beta, tags = (beta + feature.unsqueeze(1) + self.transitions[:self.n_tags, :self.n_tags]).max(1)\n",
    "            DP.append(tags)\n",
    "        beta += self.transitions[self.STOP_TAG, :self.n_tags]\n",
    "        \n",
    "        tag = int(beta.max(0).indices)\n",
    "        res = [tag]\n",
    "        for next_tag in reversed(DP):\n",
    "            tag = int(next_tag[tag])\n",
    "            res.append(tag)\n",
    "        return res[::-1]\n",
    "\n",
    "    def seq_log_probability(self, sentence, tags, seq_lengths):\n",
    "        \"\"\"\n",
    "        Funkcja zwracająca logarytm prawdopodobieństwa podanej sekwencji\n",
    "        \"\"\"\n",
    "        features = self._get_features(sentence, seq_lengths)\n",
    "        numerator = self._get_numerator(features, tags)\n",
    "        partition_function = self._forward_alg(features,seq_lengths)\n",
    "        return numerator - partition_function\n",
    "\n",
    "    def score_seq(self, sentence, tags, seq_lengths):\n",
    "        \"\"\"\n",
    "        Funkcja dla testów implementacji.\n",
    "        Wyznacz ocenę sekwencji (zlogarytmowany licznik). \n",
    "        \"\"\"\n",
    "        features = self._get_features(sentence, seq_lengths)\n",
    "        numerator = self._get_numerator(features, tags)\n",
    "        return numerator \n",
    "    \n",
    "    def partition_function(self, sentence, tags, seq_lengths):\n",
    "        \"\"\"\n",
    "        Funkcja dla testów implementacji.\n",
    "        Wyznacz sumę statystyczną (zlogarytmowany mianownik). \n",
    "        \"\"\"\n",
    "        features = self._get_features(sentence, seq_lengths)\n",
    "        gold_score = self._forward_alg(features, seq_lengths)\n",
    "        return gold_score"
   ]
  },
  {
   "cell_type": "markdown",
   "metadata": {},
   "source": [
    "Poprawność algorytmu \"w przód i w tył\" mozna prosto sprawdzić, porównując wynik z wynikiem algorytmu zachłannego (tj. iterującym po wszystkich sekwencjach), dla krótkiej sekwencji z małą liczbą możliwych tagów."
   ]
  },
  {
   "cell_type": "code",
   "execution_count": 25,
   "metadata": {
    "ExecuteTime": {
     "end_time": "2021-12-23T01:17:37.756002Z",
     "start_time": "2021-12-23T01:17:37.132697Z"
    }
   },
   "outputs": [
    {
     "name": "stdout",
     "output_type": "stream",
     "text": [
      "Programowanie dynamiczne tensor(10.9903, grad_fn=<AddBackward0>)\n",
      "Algorytm zachłanny tensor(10.9903)\n"
     ]
    }
   ],
   "source": [
    "import itertools\n",
    "\n",
    "data = torch.tensor([1, 2, 5, 10, 11, 3]).view(6,1)\n",
    "tags = torch.tensor([1, 2, 0, 1, 1, 1]).view(6,1)\n",
    "length = torch.tensor([6])\n",
    "\n",
    "model = TaggerCRFNet(vocab_size=12, hidden_size=3, n_tags=3)\n",
    "sum_forward_alg = model.partition_function(data,tags, length)\n",
    "print('Programowanie dynamiczne',sum_forward_alg)\n",
    "sum_score= []\n",
    "for i in itertools.product(range(3),repeat=6):\n",
    "    new_tags = torch.tensor(i).view(6,1)\n",
    "    sum_score.append(model.score_seq(data, new_tags, length))\n",
    "print(\"Algorytm zachłanny\",log_sum_exp(torch.tensor(sum_score)))"
   ]
  },
  {
   "cell_type": "markdown",
   "metadata": {},
   "source": [
    "Ostatecznie zaimplementuj trening modelu."
   ]
  },
  {
   "cell_type": "code",
   "execution_count": 26,
   "metadata": {
    "ExecuteTime": {
     "end_time": "2021-12-23T01:20:16.720726Z",
     "start_time": "2021-12-23T01:17:37.756873Z"
    }
   },
   "outputs": [
    {
     "name": "stdout",
     "output_type": "stream",
     "text": [
      "epoch 1 | batch 8936/8936 | loss 16.56167469\n",
      "took 158.95748496 seconds\n"
     ]
    }
   ],
   "source": [
    "from time import time\n",
    "\n",
    "CLIP_TRESHOLD = 5. \n",
    "\n",
    "model = TaggerCRFNet(dataset.get_vocab_size(), 10, dataset.get_tagset_size())\n",
    "dataloader = DataLoader(dataset, batch_size=1, collate_fn=collate_fn )\n",
    "optimizer = torch.optim.Adam(model.parameters())\n",
    "\n",
    "t = time()\n",
    "for epoch in range(1):  # dla testów wystarczy jedna epoka, możesz przerwać obliczenia w jej trakcie\n",
    "    loss_sum = torch.tensor(0.)\n",
    "    num_batches = len(dataloader)\n",
    "    for i, (sentences, tags, lengths) in enumerate(dataloader):\n",
    "        loss = -model.seq_log_probability(sentences.T, tags.T, lengths)\n",
    "        loss.backward()\n",
    "        nn.utils.clip_grad_norm_(model.parameters(), CLIP_TRESHOLD)\n",
    "        optimizer.step()\n",
    "        optimizer.zero_grad()\n",
    "        with torch.no_grad():\n",
    "            loss_sum += loss[0]\n",
    "            print(f'epoch {epoch+1} | batch {i+1}/{num_batches} | loss {float(loss_sum)/(i+1):.8f}', end='\\r', flush=True)\n",
    "            # Wyniki nadal będą niestabilne, ale ogólna tendencja liczb powinna być malejąca\n",
    "    print()\n",
    "                \n",
    "print(f'took {time() - t:.8f} seconds')"
   ]
  },
  {
   "cell_type": "code",
   "execution_count": 29,
   "metadata": {
    "ExecuteTime": {
     "end_time": "2021-12-23T01:20:57.689912Z",
     "start_time": "2021-12-23T01:20:57.591364Z"
    }
   },
   "outputs": [
    {
     "name": "stdout",
     "output_type": "stream",
     "text": [
      "Sample 0\n",
      "Y = [2, 5, 2, 1, 4, 6, 6, 6, 6, 6, 2, 1, 8, 2, 1, 5, 2, 3, 4, 5, 2, 1, 3, 4, 6, 6, 2, 1, 1, 5, 2, 1, 1, 2, 1, 1, 3]\n",
      "y = [2, 5, 2, 1, 4, 6, 6, 6, 6, 2, 1, 1, 8, 2, 1, 5, 2, 3, 9, 5, 2, 2, 3, 4, 6, 6, 2, 1, 1, 5, 2, 1, 1, 2, 1, 1, 3]\n",
      "accu = 89.1892%\n",
      "\n",
      "Sample 1\n",
      "Y = [2, 5, 2, 1, 1, 1, 2, 1, 1, 5, 2, 1, 1, 1, 4, 6, 6, 6, 2, 1, 5, 4, 5, 2, 1, 1, 3]\n",
      "y = [3, 5, 2, 1, 2, 1, 2, 1, 1, 5, 2, 1, 1, 1, 4, 6, 6, 6, 2, 1, 5, 2, 5, 2, 1, 1, 3]\n",
      "accu = 88.8889%\n",
      "\n",
      "Sample 2\n",
      "Y = [3, 2, 4, 2, 1, 5, 2, 4, 6, 6, 5, 2, 1, 2, 1, 4, 6, 2, 1, 1, 1, 5, 2, 1, 1, 1, 1, 1, 3]\n",
      "y = [3, 2, 4, 2, 1, 5, 2, 4, 6, 6, 5, 2, 1, 2, 1, 4, 6, 2, 1, 1, 1, 5, 2, 1, 1, 1, 2, 1, 3]\n",
      "accu = 96.5517%\n",
      "\n",
      "Sample 3\n",
      "Y = [2, 4, 6, 2, 1, 5, 2, 1, 4, 6, 6, 6, 2, 1, 5, 2, 1, 5, 2, 1, 1, 1, 1, 4, 6, 2, 1, 3, 2, 3, 2, 1, 1, 1, 4, 3]\n",
      "y = [2, 4, 6, 2, 1, 5, 2, 1, 4, 6, 6, 6, 2, 1, 5, 2, 1, 5, 2, 1, 1, 1, 1, 4, 6, 2, 1, 3, 2, 3, 2, 1, 1, 1, 4, 3]\n",
      "accu = 100.0000%\n",
      "\n",
      "Sample 4\n",
      "Y = [3, 2, 1, 5, 2, 5, 2, 1, 1, 1, 4, 6, 6, 5, 2, 1, 1, 3, 3, 4, 2, 1, 3, 2, 1, 1, 5, 2, 1, 1, 3]\n",
      "y = [3, 2, 1, 5, 2, 5, 2, 1, 1, 1, 4, 7, 12, 5, 2, 1, 1, 3, 3, 4, 2, 1, 3, 2, 1, 1, 5, 2, 1, 1, 3]\n",
      "accu = 93.5484%\n",
      "\n",
      "Sample 5\n",
      "Y = [3, 8, 2, 4, 6, 6, 2, 1, 3, 2, 4, 6, 2, 1, 1, 5, 2, 3, 3, 4, 2, 1, 3, 2, 1, 5, 2, 1, 3, 2, 1, 5, 2, 1, 1, 3]\n",
      "y = [3, 8, 2, 4, 2, 1, 1, 1, 3, 2, 4, 6, 2, 1, 1, 5, 2, 3, 3, 4, 2, 1, 3, 2, 1, 5, 2, 1, 3, 2, 1, 5, 2, 1, 1, 3]\n",
      "accu = 91.6667%\n",
      "\n",
      "Sample 6\n",
      "Y = [2, 5, 2, 1, 1, 1, 1, 3, 3, 2, 1, 4, 2, 1, 4, 6, 2, 1, 1, 1, 5, 2, 1, 1, 1, 3, 2, 1, 1, 3, 2, 5, 2, 1, 1, 4, 5, 2, 3]\n",
      "y = [2, 5, 2, 1, 1, 4, 7, 3, 3, 2, 1, 4, 2, 1, 4, 6, 2, 1, 1, 1, 5, 3, 3, 3, 3, 3, 9, 3, 3, 3, 2, 5, 2, 1, 1, 4, 5, 2, 3]\n",
      "accu = 76.9231%\n",
      "\n",
      "Sample 7\n",
      "Y = [2, 1, 1, 3, 2, 1, 1, 1, 1, 1, 5, 2, 4, 6, 6, 5, 2, 1, 1, 1, 1, 5, 2, 1, 3]\n",
      "y = [2, 1, 1, 3, 2, 1, 1, 1, 1, 4, 5, 2, 4, 6, 7, 5, 2, 1, 1, 1, 1, 5, 2, 1, 3]\n",
      "accu = 92.0000%\n",
      "\n",
      "Sample 8\n",
      "Y = [2, 1, 3, 2, 1, 5, 2, 1, 1, 1, 3, 4, 2, 4, 2, 1, 2, 4, 2, 1, 1, 4, 6, 2, 5, 2, 1, 3]\n",
      "y = [2, 1, 3, 2, 1, 5, 2, 1, 1, 1, 3, 4, 2, 4, 2, 1, 8, 2, 2, 1, 1, 4, 6, 2, 4, 6, 2, 3]\n",
      "accu = 82.1429%\n",
      "\n",
      "Sample 9\n",
      "Y = [5, 2, 1, 1, 3, 2, 4, 2, 4, 5, 2, 1, 5, 2, 3, 4, 2, 1, 1, 3, 2, 1, 1, 3]\n",
      "y = [5, 2, 1, 1, 3, 2, 4, 9, 10, 5, 2, 1, 5, 2, 3, 5, 2, 1, 1, 1, 1, 1, 1, 3]\n",
      "accu = 79.1667%\n",
      "\n",
      "Sample 10\n",
      "Y = [2, 4, 2, 1, 1, 1, 4, 6, 6, 6, 2, 1, 1, 5, 2, 3]\n",
      "y = [2, 4, 2, 1, 1, 1, 4, 6, 5, 2, 1, 1, 1, 5, 2, 3]\n",
      "accu = 81.2500%\n",
      "\n"
     ]
    }
   ],
   "source": [
    "import numpy as np\n",
    "\n",
    "for i, (sentences, tags_target, lengths) in enumerate(dataloader):\n",
    "    tags_pred = model(sentences.T, lengths)\n",
    "    Y, y = np.array(tags_pred), tags_target[0].numpy()\n",
    "    print('Sample', i)\n",
    "    print('Y =', list(Y))\n",
    "    print('y =', list(y))\n",
    "    print(f'accu = {(Y == y).mean()*100:.4f}%\\n')\n",
    "    if i == 10: break"
   ]
  },
  {
   "cell_type": "code",
   "execution_count": null,
   "metadata": {},
   "outputs": [],
   "source": []
  }
 ],
 "metadata": {
  "kernelspec": {
   "display_name": "Python [conda env:ml]",
   "language": "python",
   "name": "conda-env-ml-py"
  },
  "language_info": {
   "codemirror_mode": {
    "name": "ipython",
    "version": 3
   },
   "file_extension": ".py",
   "mimetype": "text/x-python",
   "name": "python",
   "nbconvert_exporter": "python",
   "pygments_lexer": "ipython3",
   "version": "3.9.7"
  },
  "varInspector": {
   "cols": {
    "lenName": 16,
    "lenType": 16,
    "lenVar": 40
   },
   "kernels_config": {
    "python": {
     "delete_cmd_postfix": "",
     "delete_cmd_prefix": "del ",
     "library": "var_list.py",
     "varRefreshCmd": "print(var_dic_list())"
    },
    "r": {
     "delete_cmd_postfix": ") ",
     "delete_cmd_prefix": "rm(",
     "library": "var_list.r",
     "varRefreshCmd": "cat(var_dic_list()) "
    }
   },
   "types_to_exclude": [
    "module",
    "function",
    "builtin_function_or_method",
    "instance",
    "_Feature"
   ],
   "window_display": false
  }
 },
 "nbformat": 4,
 "nbformat_minor": 4
}
