{
 "cells": [
  {
   "cell_type": "markdown",
   "metadata": {
    "id": "N68VFs4BYovC"
   },
   "source": [
    "# Czym jest SPARQL"
   ]
  },
  {
   "cell_type": "markdown",
   "metadata": {
    "id": "2TC-F7vrYovF"
   },
   "source": [
    "**SPARQL** (SPARQL Protocol And RDF Query Language):\n",
    "- język zapytań do danych w formacie RDF\n",
    "- protokół (REST)"
   ]
  },
  {
   "cell_type": "markdown",
   "metadata": {
    "id": "CIK3vI5OYovI"
   },
   "source": [
    "W celu ćwiczeń użyjemy przykładowego grafu opisującego domenę miejscowości, który zawiera wybrane informacje z grafu wiedzy **DBpedia** (https://www.dbpedia.org). \n",
    "DBpedia zawiera dane z Wikipedii ustrukturyzowane do formatu RDF."
   ]
  },
  {
   "cell_type": "code",
   "execution_count": 1,
   "metadata": {
    "colab": {
     "base_uri": "https://localhost:8080/"
    },
    "id": "5nDf0gxzYovK",
    "outputId": "63e01e58-5aec-4579-d68b-7565864e3681"
   },
   "outputs": [
    {
     "name": "stdout",
     "output_type": "stream",
     "text": [
      "Requirement already satisfied: rdflib in /home/max/.local/opt/miniconda3/envs/ml/lib/python3.8/site-packages (5.0.0)\n",
      "Requirement already satisfied: six in /home/max/.local/opt/miniconda3/envs/ml/lib/python3.8/site-packages (from rdflib) (1.15.0)\n",
      "Requirement already satisfied: pyparsing in /home/max/.local/opt/miniconda3/envs/ml/lib/python3.8/site-packages (from rdflib) (2.4.7)\n",
      "Requirement already satisfied: isodate in /home/max/.local/opt/miniconda3/envs/ml/lib/python3.8/site-packages (from rdflib) (0.6.0)\n",
      "Graf zawiera 156 trójek.\n"
     ]
    }
   ],
   "source": [
    "!pip install rdflib\n",
    "\n",
    "from rdflib import Graph\n",
    "g = Graph()\n",
    "\n",
    "g.parse(\"miejscowosci3.ttl\", format=\"ttl\")\n",
    "print(\"Graf zawiera %s trójek.\" % len(g))"
   ]
  },
  {
   "cell_type": "markdown",
   "metadata": {
    "id": "c8UfToCEYovh"
   },
   "source": [
    "W rdflib zapytania SPARQL mogą być wydawane do grafu za pomocą metody rdflib.graph.Graph.query().\n",
    "\n",
    "# Wzorce trójkowe i podstawowy wzorzec\n",
    "Główną formą zapytania w SPARQL jest zapytanie typu `SELECT`, które wygląda trochę jak zapytanie SQL. Zapytanie `SELECT` składa się z dwóch głównych elementów: nagłówka z listą wybranych zmiennych i klauzuli `WHERE` do określenia wzorców grafów jakie chcemy dopasować do zapytania, a konkretniej **podstawowego wzorca grafu** (zapisanego w nawiasach klamrowych). \n",
    "\n",
    "Wynikiem zapytania `SELECT` jest tabela, w której będzie jedna kolumna dla każdej wybranej zmiennej i jeden wiersz dla każdego dopasowania do wzorca.\n",
    "\n",
    "Podstawowym elementem składowym zapytań SPARQL są **wzorce trójkowe**. Są one podobne do trójek RDF, ale możesz użyć zmiennej w dowolnej z trzech pozycji. Używamy ich aby znaleźć pasujące trójki w grafie, a zmienne działają jak symbole wieloznaczne pasujące do dowolnego węzła grafu."
   ]
  },
  {
   "cell_type": "code",
   "execution_count": 2,
   "metadata": {
    "colab": {
     "base_uri": "https://localhost:8080/"
    },
    "id": "ihvY_VwNYovj",
    "outputId": "db0f8f8a-4229-451e-9c7a-eb30565b4c36"
   },
   "outputs": [
    {
     "name": "stdout",
     "output_type": "stream",
     "text": [
      "http://dbpedia.org/resource/Poznań należy do kraju http://dbpedia.org/resource/Poland\n",
      "http://dbpedia.org/resource/Wrocław należy do kraju http://dbpedia.org/resource/Poland\n",
      "http://dbpedia.org/resource/Malbork należy do kraju http://dbpedia.org/resource/Poland\n",
      "http://dbpedia.org/resource/Ogrodzieniec należy do kraju http://dbpedia.org/resource/Poland\n",
      "http://dbpedia.org/resource/Uchylsko należy do kraju http://dbpedia.org/resource/Poland\n",
      "http://dbpedia.org/resource/Tricity,_Poland należy do kraju http://dbpedia.org/resource/Poland\n",
      "http://dbpedia.org/resource/Kraków należy do kraju http://dbpedia.org/resource/Poland\n",
      "http://dbpedia.org/resource/Gliwice należy do kraju http://dbpedia.org/resource/Poland\n",
      "http://dbpedia.org/resource/Warsaw należy do kraju http://dbpedia.org/resource/Poland\n"
     ]
    }
   ],
   "source": [
    "qres = g.query(\n",
    "    \"\"\"PREFIX dbo: <http://dbpedia.org/ontology/>\n",
    "       \n",
    "       SELECT ?x ?y\n",
    "       WHERE {\n",
    "          ?x dbo:country ?y .\n",
    "       }\"\"\")\n",
    "\n",
    "for row in qres:\n",
    "    print(\"%s należy do kraju %s\" % row)"
   ]
  },
  {
   "cell_type": "markdown",
   "metadata": {
    "id": "4hdHbzb7Yovu"
   },
   "source": [
    "<span style=\"color:red\"> __Zadanie 1: Sformułuj proste zapytanie do grafu g (zawierające jeden wzorzec trójkowy) o encje dotyczące obiektów mających swoje lokalizacje (`dbo:location`) w Warszawie. Warszawa reprezentowana jest poprzez zasób `dbr:Warsaw`, gdzie `dbr` to prefiks związany z przestrzenią nazw <http://dbpedia.org/resource/>). Na liście wyników powinien znaleźć się m.in. zasób http://dbpedia.org/resource/Copernicus_Science_Centre.    __ </span>"
   ]
  },
  {
   "cell_type": "code",
   "execution_count": 15,
   "metadata": {
    "colab": {
     "base_uri": "https://localhost:8080/"
    },
    "id": "YouqHHDZYovw",
    "outputId": "e8baf410-029d-478c-853f-a8d9251194d2"
   },
   "outputs": [
    {
     "name": "stdout",
     "output_type": "stream",
     "text": [
      "http://dbpedia.org/resource/Holy_Trinity_Church,_Warsaw ma lokalizację w Warszawie\n",
      "http://dbpedia.org/resource/Konstanty_Zamoyski_Palace ma lokalizację w Warszawie\n",
      "http://dbpedia.org/resource/Miodowa_Street_(Warsaw) ma lokalizację w Warszawie\n",
      "http://dbpedia.org/resource/Copernicus_Science_Centre ma lokalizację w Warszawie\n",
      "http://dbpedia.org/resource/Grochowska_Street,_Warsaw ma lokalizację w Warszawie\n",
      "http://dbpedia.org/resource/Uruski_Palace ma lokalizację w Warszawie\n"
     ]
    }
   ],
   "source": [
    "qres = g.query(\"\"\"\n",
    "    PREFIX dbo: <http://dbpedia.org/ontology/> \n",
    "    PREFIX dbr: <http://dbpedia.org/resource/> \n",
    "    SELECT ?x\n",
    "    WHERE {?x dbo:location dbr:Warsaw}\n",
    "\"\"\")\n",
    "for row in qres:\n",
    "    print(\"%s ma lokalizację w Warszawie\" % row)"
   ]
  },
  {
   "cell_type": "markdown",
   "metadata": {
    "id": "fvhaEXyeYov0"
   },
   "source": [
    "Zadajmy następnie zapytanie zawierające dwa wzorce trójek, o obiekty geograficzne, które znajdują się w konkretnych dzielnicach Warszawy:"
   ]
  },
  {
   "cell_type": "code",
   "execution_count": 16,
   "metadata": {
    "colab": {
     "base_uri": "https://localhost:8080/"
    },
    "id": "mAY_e-suYov1",
    "outputId": "4736daff-3d4f-4baf-9b1b-3a9a182fb29a"
   },
   "outputs": [
    {
     "name": "stdout",
     "output_type": "stream",
     "text": [
      "http://dbpedia.org/resource/Warsaw_Uprising_Museum leży w http://dbpedia.org/resource/Wola\n",
      "http://dbpedia.org/resource/Electio_Viritim_Monument leży w http://dbpedia.org/resource/Wola\n",
      "http://dbpedia.org/resource/Korkowa_Street,_Warsaw leży w http://dbpedia.org/resource/Wawer\n",
      "http://dbpedia.org/resource/Grochowska_Street,_Warsaw leży w http://dbpedia.org/resource/Praga_Południe\n",
      "http://dbpedia.org/resource/Arena_COS_Torwar leży w http://dbpedia.org/resource/Śródmieście,_Warsaw\n",
      "http://dbpedia.org/resource/Chancellery_of_the_Prime_Minister_of_Poland leży w http://dbpedia.org/resource/Śródmieście,_Warsaw\n",
      "http://dbpedia.org/resource/Castle_Square,_Warsaw leży w http://dbpedia.org/resource/Śródmieście,_Warsaw\n",
      "http://dbpedia.org/resource/Warsaw_Icon_Museum leży w http://dbpedia.org/resource/Ochota\n",
      "http://dbpedia.org/resource/Museum_of_John_Paul_II_and_Primate_Wyszyński leży w http://dbpedia.org/resource/Wilanów\n",
      "http://dbpedia.org/resource/Warsaw_Chopin_Airport leży w http://dbpedia.org/resource/Włochy\n",
      "http://dbpedia.org/resource/Żerań_Power_Station leży w http://dbpedia.org/resource/Białołęka\n"
     ]
    }
   ],
   "source": [
    "  qres = g.query(\n",
    "    \"\"\"PREFIX dbo: <http://dbpedia.org/ontology/>\n",
    "       PREFIX dbr: <http://dbpedia.org/resource/>\n",
    "       \n",
    "       select ?poi ?district\n",
    "       WHERE {\n",
    "        dbr:Warsaw dbo:subdivision ?district   .\n",
    "        ?poi dbo:location ?district .\n",
    "       }\n",
    "       \"\"\")\n",
    "\n",
    "for row in qres:\n",
    "    print(\"%s leży w %s\" % row)"
   ]
  },
  {
   "cell_type": "markdown",
   "metadata": {
    "id": "MvTdUEAqYov9"
   },
   "source": [
    "<span style=\"color:red\"> __Zadanie 2: Sformułuj do grafu g zapytanie (zawierające dwa wzorce trójkowe) o typy obiektów geograficznych, które znajdują się w Warszawie (wykorzystaj własności `dbo:location` i `rdf:type`). Na liście wyników powinna znaleźć się m.in. para: (http://dbpedia.org/resource/Copernicus_Science_Centre, http://dbpedia.org/ontology/Museum) __ </span>"
   ]
  },
  {
   "cell_type": "code",
   "execution_count": 18,
   "metadata": {
    "colab": {
     "base_uri": "https://localhost:8080/"
    },
    "id": "QWf26cRAYov_",
    "outputId": "4445a1de-b062-4e71-856c-19492d0caddd"
   },
   "outputs": [
    {
     "name": "stdout",
     "output_type": "stream",
     "text": [
      "http://dbpedia.org/resource/Holy_Trinity_Church,_Warsaw jest typu http://dbpedia.org/ontology/Place\n",
      "http://dbpedia.org/resource/Holy_Trinity_Church,_Warsaw jest typu http://www.w3.org/2003/01/geo/wgs84_pos#SpatialThing\n",
      "http://dbpedia.org/resource/Holy_Trinity_Church,_Warsaw jest typu http://www.w3.org/2002/07/owl#NamedIndividual\n",
      "http://dbpedia.org/resource/Holy_Trinity_Church,_Warsaw jest typu http://dbpedia.org/ontology/Building\n",
      "http://dbpedia.org/resource/Holy_Trinity_Church,_Warsaw jest typu http://dbpedia.org/ontology/ArchitecturalStructure\n",
      "http://dbpedia.org/resource/Holy_Trinity_Church,_Warsaw jest typu http://dbpedia.org/ontology/Location\n",
      "http://dbpedia.org/resource/Konstanty_Zamoyski_Palace jest typu http://dbpedia.org/ontology/Place\n",
      "http://dbpedia.org/resource/Konstanty_Zamoyski_Palace jest typu http://www.w3.org/2002/07/owl#Thing\n",
      "http://dbpedia.org/resource/Konstanty_Zamoyski_Palace jest typu http://www.w3.org/2003/01/geo/wgs84_pos#SpatialThing\n",
      "http://dbpedia.org/resource/Konstanty_Zamoyski_Palace jest typu http://www.w3.org/2002/07/owl#NamedIndividual\n",
      "http://dbpedia.org/resource/Konstanty_Zamoyski_Palace jest typu http://dbpedia.org/ontology/HistoricPlace\n",
      "http://dbpedia.org/resource/Konstanty_Zamoyski_Palace jest typu http://dbpedia.org/ontology/Location\n",
      "http://dbpedia.org/resource/Miodowa_Street_(Warsaw) jest typu http://dbpedia.org/ontology/Infrastructure\n",
      "http://dbpedia.org/resource/Miodowa_Street_(Warsaw) jest typu http://dbpedia.org/ontology/RouteOfTransportation\n",
      "http://dbpedia.org/resource/Miodowa_Street_(Warsaw) jest typu http://dbpedia.org/ontology/Place\n",
      "http://dbpedia.org/resource/Miodowa_Street_(Warsaw) jest typu http://www.w3.org/2003/01/geo/wgs84_pos#SpatialThing\n",
      "http://dbpedia.org/resource/Miodowa_Street_(Warsaw) jest typu http://www.w3.org/2002/07/owl#NamedIndividual\n",
      "http://dbpedia.org/resource/Miodowa_Street_(Warsaw) jest typu http://dbpedia.org/ontology/Road\n",
      "http://dbpedia.org/resource/Miodowa_Street_(Warsaw) jest typu http://dbpedia.org/ontology/ArchitecturalStructure\n",
      "http://dbpedia.org/resource/Miodowa_Street_(Warsaw) jest typu http://dbpedia.org/ontology/Location\n",
      "http://dbpedia.org/resource/Copernicus_Science_Centre jest typu http://dbpedia.org/ontology/Place\n",
      "http://dbpedia.org/resource/Copernicus_Science_Centre jest typu http://dbpedia.org/ontology/Museum\n",
      "http://dbpedia.org/resource/Copernicus_Science_Centre jest typu http://www.w3.org/2003/01/geo/wgs84_pos#SpatialThing\n",
      "http://dbpedia.org/resource/Copernicus_Science_Centre jest typu http://www.w3.org/2002/07/owl#NamedIndividual\n",
      "http://dbpedia.org/resource/Copernicus_Science_Centre jest typu http://dbpedia.org/ontology/Building\n",
      "http://dbpedia.org/resource/Copernicus_Science_Centre jest typu http://dbpedia.org/ontology/ArchitecturalStructure\n",
      "http://dbpedia.org/resource/Copernicus_Science_Centre jest typu http://dbpedia.org/ontology/Location\n",
      "http://dbpedia.org/resource/Grochowska_Street,_Warsaw jest typu http://dbpedia.org/ontology/Road\n",
      "http://dbpedia.org/resource/Grochowska_Street,_Warsaw jest typu http://dbpedia.org/ontology/ArchitecturalStructure\n",
      "http://dbpedia.org/resource/Grochowska_Street,_Warsaw jest typu http://dbpedia.org/ontology/Location\n",
      "http://dbpedia.org/resource/Grochowska_Street,_Warsaw jest typu http://dbpedia.org/ontology/Infrastructure\n",
      "http://dbpedia.org/resource/Grochowska_Street,_Warsaw jest typu http://dbpedia.org/ontology/RouteOfTransportation\n",
      "http://dbpedia.org/resource/Grochowska_Street,_Warsaw jest typu http://dbpedia.org/ontology/Place\n",
      "http://dbpedia.org/resource/Grochowska_Street,_Warsaw jest typu http://www.w3.org/2003/01/geo/wgs84_pos#SpatialThing\n",
      "http://dbpedia.org/resource/Grochowska_Street,_Warsaw jest typu http://www.w3.org/2002/07/owl#NamedIndividual\n",
      "http://dbpedia.org/resource/Uruski_Palace jest typu http://www.w3.org/2003/01/geo/wgs84_pos#SpatialThing\n",
      "http://dbpedia.org/resource/Uruski_Palace jest typu http://www.w3.org/2002/07/owl#NamedIndividual\n",
      "http://dbpedia.org/resource/Uruski_Palace jest typu http://dbpedia.org/ontology/Location\n",
      "http://dbpedia.org/resource/Uruski_Palace jest typu http://dbpedia.org/ontology/HistoricPlace\n",
      "http://dbpedia.org/resource/Uruski_Palace jest typu http://dbpedia.org/ontology/Place\n"
     ]
    }
   ],
   "source": [
    "qres = g.query(\"\"\"\n",
    "    PREFIX dbo: <http://dbpedia.org/ontology/> \n",
    "    PREFIX dbr: <http://dbpedia.org/resource/> \n",
    "    SELECT ?x ?y\n",
    "    WHERE {\n",
    "        ?x dbo:location dbr:Warsaw .\n",
    "        ?x rdf:type ?y .\n",
    "    }\n",
    "\"\"\")\n",
    "\n",
    "for row in qres:\n",
    "    print(\"%s jest typu %s\" % row)"
   ]
  },
  {
   "cell_type": "markdown",
   "metadata": {
    "id": "9k3Mjp9hwGG9"
   },
   "source": [
    "# Modyfikatory zapytania\n",
    "\n",
    "Jeżeli chcielibyśmy żeby wyniki zapytania były posortowane wg wartości wybranej zmiennej, możemy dodać klazulę `ORDER BY`:"
   ]
  },
  {
   "cell_type": "code",
   "execution_count": 19,
   "metadata": {
    "colab": {
     "base_uri": "https://localhost:8080/"
    },
    "id": "8t0_D-3VwSi_",
    "outputId": "7eacb4fd-8068-487f-c945-efa2c3433ca0"
   },
   "outputs": [
    {
     "name": "stdout",
     "output_type": "stream",
     "text": [
      "http://dbpedia.org/resource/Arena_COS_Torwar leży w http://dbpedia.org/resource/Śródmieście,_Warsaw\n",
      "http://dbpedia.org/resource/Castle_Square,_Warsaw leży w http://dbpedia.org/resource/Śródmieście,_Warsaw\n",
      "http://dbpedia.org/resource/Chancellery_of_the_Prime_Minister_of_Poland leży w http://dbpedia.org/resource/Śródmieście,_Warsaw\n",
      "http://dbpedia.org/resource/Electio_Viritim_Monument leży w http://dbpedia.org/resource/Wola\n",
      "http://dbpedia.org/resource/Grochowska_Street,_Warsaw leży w http://dbpedia.org/resource/Praga_Południe\n",
      "http://dbpedia.org/resource/Korkowa_Street,_Warsaw leży w http://dbpedia.org/resource/Wawer\n",
      "http://dbpedia.org/resource/Museum_of_John_Paul_II_and_Primate_Wyszyński leży w http://dbpedia.org/resource/Wilanów\n",
      "http://dbpedia.org/resource/Warsaw_Chopin_Airport leży w http://dbpedia.org/resource/Włochy\n",
      "http://dbpedia.org/resource/Warsaw_Icon_Museum leży w http://dbpedia.org/resource/Ochota\n",
      "http://dbpedia.org/resource/Warsaw_Uprising_Museum leży w http://dbpedia.org/resource/Wola\n",
      "http://dbpedia.org/resource/Żerań_Power_Station leży w http://dbpedia.org/resource/Białołęka\n"
     ]
    }
   ],
   "source": [
    "  qres = g.query(\n",
    "    \"\"\"PREFIX dbo: <http://dbpedia.org/ontology/>\n",
    "       PREFIX dbr: <http://dbpedia.org/resource/>\n",
    "       PREFIX rdfs: <http://www.w3.org/2000/01/rdf-schema#>\n",
    "       \n",
    "       select ?poi ?district \n",
    "       WHERE {\n",
    "        dbr:Warsaw dbo:subdivision ?district   .\n",
    "        ?poi dbo:location ?district .\n",
    "       }\n",
    "       ORDER BY ?poi\n",
    "       \"\"\")\n",
    "\n",
    "for row in qres:\n",
    "    print(\"%s leży w %s\" % row)"
   ]
  },
  {
   "cell_type": "markdown",
   "metadata": {
    "id": "Idl74ENuxrRI"
   },
   "source": [
    "Modyfikator `LIMIT` pozwala nam z kolei na wyświetlenie ograniczonej liczby wyników:"
   ]
  },
  {
   "cell_type": "code",
   "execution_count": 20,
   "metadata": {
    "colab": {
     "base_uri": "https://localhost:8080/"
    },
    "id": "LCuX3iTXxfnv",
    "outputId": "aa28f336-d037-4c2b-881e-75eb30d9e8ef"
   },
   "outputs": [
    {
     "name": "stdout",
     "output_type": "stream",
     "text": [
      "http://dbpedia.org/resource/Warsaw_Uprising_Museum leży w http://dbpedia.org/resource/Wola\n",
      "http://dbpedia.org/resource/Electio_Viritim_Monument leży w http://dbpedia.org/resource/Wola\n",
      "http://dbpedia.org/resource/Korkowa_Street,_Warsaw leży w http://dbpedia.org/resource/Wawer\n"
     ]
    }
   ],
   "source": [
    "qres = g.query(\n",
    "    \"\"\"PREFIX dbo: <http://dbpedia.org/ontology/>\n",
    "       PREFIX dbr: <http://dbpedia.org/resource/>\n",
    "       PREFIX rdfs: <http://www.w3.org/2000/01/rdf-schema#>\n",
    "       \n",
    "       select ?poi ?district \n",
    "       WHERE {\n",
    "        dbr:Warsaw dbo:subdivision ?district   .\n",
    "        ?poi dbo:location ?district .\n",
    "       }\n",
    "       LIMIT 3\n",
    "       \"\"\")\n",
    "\n",
    "for row in qres:\n",
    "    print(\"%s leży w %s\" % row)"
   ]
  },
  {
   "cell_type": "markdown",
   "metadata": {
    "id": "A6Cr1GJKYowN"
   },
   "source": [
    " <span style=\"color:red\"> __Zadanie 3: sformułuj do grafu g zapytanie o miasta leżące w Polsce ograniczając wyniki do 5  __ </span>"
   ]
  },
  {
   "cell_type": "code",
   "execution_count": 39,
   "metadata": {
    "id": "6PH_EAJ6YowO"
   },
   "outputs": [
    {
     "name": "stdout",
     "output_type": "stream",
     "text": [
      "http://dbpedia.org/resource/Wrocław\n",
      "http://dbpedia.org/resource/Poznań\n",
      "http://dbpedia.org/resource/Kraków\n",
      "http://dbpedia.org/resource/Ogrodzieniec\n",
      "http://dbpedia.org/resource/Uchylsko\n"
     ]
    }
   ],
   "source": [
    "qres = g.query(\"\"\"\n",
    "    PREFIX dbo: <http://dbpedia.org/ontology/>\n",
    "    PREFIX dbr: <http://dbpedia.org/resource/>\n",
    "    PREFIX rdfs: <http://www.w3.org/2000/01/rdf-schema#>\n",
    "\n",
    "    select ?x\n",
    "    WHERE {\n",
    "        ?x dbo:country dbr:Poland .\n",
    "    }\n",
    "    LIMIT 5\n",
    "\"\"\")\n",
    "\n",
    "for row in qres:\n",
    "    print(\"%s\" % row)"
   ]
  },
  {
   "cell_type": "markdown",
   "metadata": {
    "id": "0M7pLtv5YowQ"
   },
   "source": [
    "# Klauzula FILTER"
   ]
  },
  {
   "cell_type": "markdown",
   "metadata": {
    "id": "LahUsLOwYowR"
   },
   "source": [
    "\n",
    "\n",
    "Klauzula FILTER pozwala na wykluczenie wybranych trójek z wyników zapytania. Jej ideą jest wykonanie boolowskiego testu, który ma na celu włączenie bądź też wykluczenie wyników na podstawie wartości danej zmiennej. \n",
    "\n",
    "SPARQL obsługuje wiele wbudowanych funkcji do pisania takich wyrażeń, np.:\n",
    "operatory porównania: (`=`,`!=`, `<`, `<=`, `>`, `>=`)\n",
    "operatory logiczne (`&&`, `||`, `!`)\n",
    "operatory matematyczne (`+`, `-`, `/`, `*`)  \n"
   ]
  },
  {
   "cell_type": "code",
   "execution_count": 40,
   "metadata": {
    "colab": {
     "base_uri": "https://localhost:8080/"
    },
    "id": "ihQWXb_xYowS",
    "outputId": "d2aac78d-503c-4061-bce4-977fade34dfd"
   },
   "outputs": [
    {
     "name": "stdout",
     "output_type": "stream",
     "text": [
      "http://dbpedia.org/resource/Wrocław ma liczbę ludności 642869\n",
      "http://dbpedia.org/resource/Poznań ma liczbę ludności 534813\n",
      "http://dbpedia.org/resource/Kraków ma liczbę ludności 779115\n",
      "http://dbpedia.org/resource/Tricity,_Poland ma liczbę ludności 748986\n",
      "http://dbpedia.org/resource/Warsaw ma liczbę ludności 1790658\n"
     ]
    }
   ],
   "source": [
    "qres = g.query(\n",
    "    \"\"\"PREFIX dbo: <http://dbpedia.org/ontology/>\n",
    "       PREFIX dbr: <http://dbpedia.org/resource/>\n",
    "\n",
    "       SELECT ?settlement ?population\n",
    "       WHERE {\n",
    "        ?settlement dbo:country dbr:Poland .\n",
    "        ?settlement dbo:populationTotal ?population . FILTER (?population >= \"500000\"^^xsd:int)\n",
    "       }\"\"\")\n",
    "\n",
    "for row in qres:\n",
    "    print(\"%s ma liczbę ludności %s\" % row)"
   ]
  },
  {
   "cell_type": "markdown",
   "metadata": {
    "id": "l9u4I8l6YowX"
   },
   "source": [
    "<span style=\"color:red\"> __Zadanie 4: sformułuj do grafu g zapytanie o nazwy miejscowości i ich powierznie (`dbo:areaTotal`), które mają powierzchnie większe niż 120000000 __ </span>"
   ]
  },
  {
   "cell_type": "code",
   "execution_count": 56,
   "metadata": {
    "id": "II4mHUc2YowY"
   },
   "outputs": [
    {
     "name": "stdout",
     "output_type": "stream",
     "text": [
      "http://dbpedia.org/resource/Wrocław\tma liczbę ludności 292920000.0\n",
      "http://dbpedia.org/resource/Poznań\tma liczbę ludności 261850000.0\n",
      "http://dbpedia.org/resource/Kraków\tma liczbę ludności 326800000.0\n",
      "http://dbpedia.org/resource/Tricity,_Poland\tma liczbę ludności 414810000.0\n",
      "http://dbpedia.org/resource/Gliwice\tma liczbę ludności 133880000.0\n",
      "http://dbpedia.org/resource/Warsaw\tma liczbę ludności 517240000.0\n"
     ]
    }
   ],
   "source": [
    "qres = g.query(\n",
    "    \"\"\"PREFIX dbo: <http://dbpedia.org/ontology/>\n",
    "       PREFIX dbr: <http://dbpedia.org/resource/>\n",
    "       PREFIX rdfs: <http://www.w3.org/2000/01/rdf-schema#>\n",
    "\n",
    "       SELECT ?city ?area\n",
    "       WHERE {\n",
    "        ?city dbo:country dbr:Poland .\n",
    "        ?city dbo:areaTotal ?area . FILTER (?area >= \"120000000\"^^xsd:int)\n",
    "       }\"\"\")\n",
    "\n",
    "for row in qres:\n",
    "    print(\"%s\\tma liczbę ludności %s\" % row)"
   ]
  },
  {
   "cell_type": "markdown",
   "metadata": {
    "collapsed": true,
    "id": "_A3X32qoYowc"
   },
   "source": [
    "# Klauzula OPTIONAL"
   ]
  },
  {
   "cell_type": "markdown",
   "metadata": {
    "id": "YX2fJ1mJYowd"
   },
   "source": [
    "Za pomocą klauzuli OPTIONAL możemy wyspecyfikować fragmenty zapytania, które nie muszą być dopasowane do grafu aby całe zapytanie zwróciło wynik dla danego wzorca grafu. Przykładowo, w grafie wiedzy takim jak DBpedia mogą znajdować się informacje na temat liczby ludności danej miejscowości, ale nie na temat jej powierzchni, mimo tego możemy chcieć zwrócić informacje o danej miejscowości, nawet jeśli są cząstkowe."
   ]
  },
  {
   "cell_type": "code",
   "execution_count": 57,
   "metadata": {
    "colab": {
     "base_uri": "https://localhost:8080/"
    },
    "id": "SdjvhqieYowe",
    "outputId": "87b7e615-5df4-4064-c823-7a70afa6528b"
   },
   "outputs": [
    {
     "name": "stdout",
     "output_type": "stream",
     "text": [
      "http://dbpedia.org/resource/Wrocław ma liczbę ludności 642869\n",
      "http://dbpedia.org/resource/Poznań ma liczbę ludności 534813\n",
      "http://dbpedia.org/resource/Kraków ma liczbę ludności 779115\n",
      "http://dbpedia.org/resource/Ogrodzieniec ma liczbę ludności 4282\n",
      "http://dbpedia.org/resource/Uchylsko ma liczbę ludności 338\n",
      "http://dbpedia.org/resource/Tricity,_Poland ma liczbę ludności 748986\n",
      "http://dbpedia.org/resource/Malbork ma liczbę ludności 38723\n",
      "http://dbpedia.org/resource/Gliwice ma liczbę ludności 178603\n",
      "http://dbpedia.org/resource/Warsaw ma liczbę ludności 1790658\n"
     ]
    }
   ],
   "source": [
    "qres = g.query(\n",
    "    \"\"\"PREFIX dbo: <http://dbpedia.org/ontology/>\n",
    "       PREFIX dbr: <http://dbpedia.org/resource/>\n",
    "\n",
    "       SELECT ?settlement ?population\n",
    "       WHERE {\n",
    "        ?settlement dbo:country dbr:Poland .\n",
    "        OPTIONAL {?settlement dbo:populationTotal ?population . }\n",
    "       }\"\"\")\n",
    "\n",
    "for row in qres:\n",
    "    print(\"%s ma liczbę ludności %s\" % row)\n"
   ]
  },
  {
   "cell_type": "markdown",
   "metadata": {
    "id": "9SMCO0HRYowj"
   },
   "source": [
    "<span style=\"color:red\"> __Zadanie 5: Sformułuj zapytanie o nazwy miejscowości z opcjonalną informacją o jej powierzchni (`dbo:areaTotal`). __ </span>"
   ]
  },
  {
   "cell_type": "code",
   "execution_count": 58,
   "metadata": {
    "id": "L3NQ7YJbYowj"
   },
   "outputs": [
    {
     "name": "stdout",
     "output_type": "stream",
     "text": [
      "http://dbpedia.org/resource/Wrocław\tma liczbę ludności 292920000.0\n",
      "http://dbpedia.org/resource/Poznań\tma liczbę ludności 261850000.0\n",
      "http://dbpedia.org/resource/Kraków\tma liczbę ludności 326800000.0\n",
      "http://dbpedia.org/resource/Ogrodzieniec\tma liczbę ludności None\n",
      "http://dbpedia.org/resource/Uchylsko\tma liczbę ludności 2520000.0\n",
      "http://dbpedia.org/resource/Tricity,_Poland\tma liczbę ludności 414810000.0\n",
      "http://dbpedia.org/resource/Malbork\tma liczbę ludności None\n",
      "http://dbpedia.org/resource/Gliwice\tma liczbę ludności 133880000.0\n",
      "http://dbpedia.org/resource/Warsaw\tma liczbę ludności 517240000.0\n"
     ]
    }
   ],
   "source": [
    "qres = g.query(\n",
    "    \"\"\"PREFIX dbo: <http://dbpedia.org/ontology/>\n",
    "       PREFIX dbr: <http://dbpedia.org/resource/>\n",
    "       PREFIX rdfs: <http://www.w3.org/2000/01/rdf-schema#>\n",
    "\n",
    "       SELECT ?city ?area\n",
    "       WHERE {\n",
    "        ?city dbo:country dbr:Poland .\n",
    "        OPTIONAL {?city dbo:areaTotal ?area}\n",
    "       }\"\"\")\n",
    "\n",
    "for row in qres:\n",
    "    print(\"%s\\tma liczbę ludności %s\" % row)"
   ]
  },
  {
   "cell_type": "markdown",
   "metadata": {
    "id": "NZk7uCU7YowD"
   },
   "source": [
    "# Zapytanie typu ASK"
   ]
  },
  {
   "cell_type": "markdown",
   "metadata": {
    "id": "sUOLW09DYowE"
   },
   "source": [
    "Jeśli zależy nam na określeniu czy dany wzorzec trójkowy albo trójka RDF w ogóle znajdzie dopasowanie w grafie a niekoniecznie na wszystkich wynikach dopasowania, możemy zadać zapytanie typu `ASK`, które zwraca wartość `true` albo `false`: "
   ]
  },
  {
   "cell_type": "code",
   "execution_count": 60,
   "metadata": {
    "colab": {
     "base_uri": "https://localhost:8080/"
    },
    "id": "7XNyZVC5YowK",
    "outputId": "c9004f4c-8521-425f-b5b3-d18c84ec71df"
   },
   "outputs": [
    {
     "name": "stdout",
     "output_type": "stream",
     "text": [
      "False\n"
     ]
    }
   ],
   "source": [
    "qres = g.query(\n",
    "    \"\"\"PREFIX dbo: <http://dbpedia.org/ontology/>\n",
    "       PREFIX dbr: <http://dbpedia.org/resource/>\n",
    "       ASK \n",
    "       WHERE {\n",
    "          dbr:Warsaw dbo:location dbr:Poland \n",
    "       }\"\"\")\n",
    "\n",
    "for row in qres:\n",
    "    print(\"%s\" % row)"
   ]
  },
  {
   "cell_type": "markdown",
   "metadata": {
    "id": "jP88wvn1Fk7d"
   },
   "source": [
    "<span style=\"color:red\"> __Zadanie 6: Sformułuj zapytanie typu `ASK` analogiczne do powyższego, ale o to czy krajem Warszawy jest Polska (`dbo:country`). __ </span>"
   ]
  },
  {
   "cell_type": "code",
   "execution_count": 61,
   "metadata": {
    "id": "ZSkJi6JZFzgD"
   },
   "outputs": [
    {
     "name": "stdout",
     "output_type": "stream",
     "text": [
      "True\n"
     ]
    }
   ],
   "source": [
    "qres = g.query(\n",
    "    \"\"\"PREFIX dbo: <http://dbpedia.org/ontology/>\n",
    "       PREFIX dbr: <http://dbpedia.org/resource/>\n",
    "       ASK \n",
    "       WHERE {\n",
    "          dbr:Warsaw dbo:country dbr:Poland \n",
    "       }\"\"\")\n",
    "\n",
    "for row in qres:\n",
    "    print(\"%s\" % row)"
   ]
  },
  {
   "cell_type": "markdown",
   "metadata": {
    "id": "kH5QdIjSIOZh"
   },
   "source": [
    "# Końcówka SPARQL DBpedii\n",
    "\n",
    "Zapytania SPARQL są wykonywane względem zbiorów danych RDF, składających się z grafów RDF. \n",
    "Końcówka SPARQL to usługa, która akceptuje zapytania i zwraca wyniki przez HTTP. \n",
    "Końcówki SPARQL mają swoje adresy, najczęściej powiązane z konkretnymi zbiorami danych. \n",
    "Adres końcówki SPARQL powiązanej z grafem wiedzy DBpedia to https://dbpedia.org/sparql\n",
    "DBpedia oferuje także interfejsy służące do przeglądania grafu jak i do jego odpytywania: https://dbpedia.org/sparql/\n",
    " "
   ]
  },
  {
   "cell_type": "markdown",
   "metadata": {
    "id": "qx1puWeWJYYD"
   },
   "source": [
    "__Zadanie 7: Korzystając z interfejsu jaki udostępnia DBpedia i pozyskanej do tej pory wiedzy na temat tego grafu, sformułuj następujące zapytania w języku SPARQL, tak żeby dostać wyniki za pomocą końcówki SPARQL DBpedii:\n",
    "\n",
    "1. Lista osób urodzonych w Warszawie \n",
    "2. Lista muzeów w Krakowie\n",
    "3. Lista osób urodzonych w Warszawie, które zdobyły nagrodę Nobla\n",
    "4. Daty urodzin osób urodzonych w Krakowie  \n",
    ". __"
   ]
  },
  {
   "cell_type": "code",
   "execution_count": 62,
   "metadata": {
    "id": "4LeoleP8KCqX"
   },
   "outputs": [],
   "source": [
    "# prefiksy takie same jak w poprzednich zadaniach\n",
    "\n",
    "urodzeni_warszawa = \"\"\"\n",
    "SELECT ?x\n",
    "WHERE {\n",
    "  ?x rdf:type dbo:Person .\n",
    "  ?x dbo:birthPlace dbr:Warsaw .\n",
    "}\n",
    "\"\"\"\n",
    "\n",
    "muzea_kraków = \"\"\"\n",
    "SELECT ?x\n",
    "WHERE {\n",
    "  ?x rdf:type dbo:Museum .\n",
    "  ?x dbo:location dbr:Kraków . \n",
    "}\n",
    "\"\"\"\n",
    "\n",
    "# http://data.nobelprize.org/snorql/\n",
    "nobliści_warszawa = \"\"\"\n",
    "SELECT ?label\n",
    "WHERE { \n",
    "  ?x rdf:type <http://data.nobelprize.org/terms/Laureate> . \n",
    "  ?x rdfs:label ?label .\n",
    "  ?x dbpedia-owl:birthPlace <http://data.nobelprize.org/resource/city/Warsaw> .\n",
    "}\n",
    "\"\"\"\n",
    "\n",
    "urodziny_warszawa = \"\"\"\n",
    "SELECT ?x ?birthday\n",
    "WHERE {\n",
    "  ?x rdf:type dbo:Person .\n",
    "  ?x dbo:birthDate ?birthday .\n",
    "  ?x dbo:birthPlace dbr:Warsaw .\n",
    "}\n",
    "\"\"\""
   ]
  },
  {
   "cell_type": "code",
   "execution_count": null,
   "metadata": {},
   "outputs": [],
   "source": []
  }
 ],
 "metadata": {
  "colab": {
   "collapsed_sections": [],
   "name": "lab-sparql.ipynb",
   "provenance": [],
   "toc_visible": true
  },
  "kernelspec": {
   "display_name": "Python 3",
   "language": "python",
   "name": "python3"
  },
  "language_info": {
   "codemirror_mode": {
    "name": "ipython",
    "version": 3
   },
   "file_extension": ".py",
   "mimetype": "text/x-python",
   "name": "python",
   "nbconvert_exporter": "python",
   "pygments_lexer": "ipython3",
   "version": "3.8.3"
  }
 },
 "nbformat": 4,
 "nbformat_minor": 1
}
