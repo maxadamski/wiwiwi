{
 "cells": [
  {
   "cell_type": "markdown",
   "metadata": {
    "id": "ebvqJaNU9bkH"
   },
   "source": [
    "# Elementy Inteligencji Obliczeniowej - Sieci Neuronowe\n",
    "\n",
    "\n",
    "---\n",
    "\n",
    "**Prowadzący:** Jakub Bednarek<br>\n",
    "**Kontakt:** jakub.bednarek@put.poznan.pl<br>\n",
    "**Materiały:** [Strona WWW](http://jakub.bednarek.pracownik.put.poznan.pl)\n",
    "\n",
    "---"
   ]
  },
  {
   "cell_type": "markdown",
   "metadata": {
    "id": "i0tVMrm99g5w"
   },
   "source": [
    "## Uwaga\n",
    "\n",
    "* **Aby wykonać polecenia należy najpierw przejść do trybu 'playground'. File -> Open in Playground Mode**\n",
    "* Nowe funkcje Colab pozwalają na autouzupełnianie oraz czytanie dokumentacji"
   ]
  },
  {
   "cell_type": "markdown",
   "metadata": {
    "id": "Wlq47LA0BuBB"
   },
   "source": [
    "## Cel ćwiczeń: \n",
    "\n",
    "* wprowadzenie biblioteki TensorFlow,\n",
    "* prezentacja podejścia Eager oraz Graph Execution,\n",
    "* ukazanie różnic i podobieństw pomiędzy NumPy a TensorFlow,\n",
    "* algorytm wstecznej propagacji błędu w TensorFlow"
   ]
  },
  {
   "cell_type": "markdown",
   "metadata": {
    "id": "C0AoiF16OTow"
   },
   "source": [
    "## Tensorflow\n",
    "\n",
    "Tensorflow to biblioteka przeznaczona do uczenia maszynowego oraz przetwarzania Big Data. Jej podstawy zostały zbudowane na wzór NumPy, którego poszczególne elementy zostały zaprezentowane na poprzednich zajęciach.\n",
    "Co wyróżnia Tensorflow to możliwość korzystania zarówno z CPU, GPU jak i łączenia jednostek obliczeniowych w klastry.\n",
    "\n",
    "Korzystając z Colab nie potrzebujesz wykonywać żadnych dodatkowych kroków w celu konfiguracji.\n",
    "\n",
    "Najnowszą wersją biblioteki jest TensorFlow 2.x. Aby ją aktywować wywołaj poniższe polecenie.\n"
   ]
  },
  {
   "cell_type": "code",
   "execution_count": null,
   "metadata": {
    "id": "2ovUb2T9CbQv"
   },
   "outputs": [],
   "source": [
    "%tensorflow_version 2.x"
   ]
  },
  {
   "cell_type": "markdown",
   "metadata": {
    "id": "kyOQAsNXECp0"
   },
   "source": [
    "## Model działania biblioteki Tensorflow."
   ]
  },
  {
   "cell_type": "markdown",
   "metadata": {
    "id": "uUuN3WIZEFaT"
   },
   "source": [
    "### Eager Execution"
   ]
  },
  {
   "cell_type": "markdown",
   "metadata": {
    "id": "QBy3wd9GSXa0"
   },
   "source": [
    "Tensorflow w wersji 2.x pozwala na prawie identyczne wykonanie operacji jak w przypadku biblioteki NumPy, poznanej na poprzednich zajęciach. Operacje wykonywane są w momencie ich wywołania. Podejście takie nazywa się **Eager Execution**.\n",
    "\n",
    "Poniżej przedstawione zostało porównanie wykonania tego samego zadania w NumPy oraz w Tensorflow:"
   ]
  },
  {
   "cell_type": "code",
   "execution_count": null,
   "metadata": {
    "id": "jl7PpJ5OOVNj"
   },
   "outputs": [],
   "source": [
    "# import bibliotek\n",
    "import tensorflow as tf\n",
    "import numpy as np\n",
    "from tqdm.notebook import tqdm"
   ]
  },
  {
   "cell_type": "code",
   "execution_count": null,
   "metadata": {
    "colab": {
     "base_uri": "https://localhost:8080/"
    },
    "executionInfo": {
     "elapsed": 766,
     "status": "ok",
     "timestamp": 1608182160682,
     "user": {
      "displayName": "Dariusz Max Adamski",
      "photoUrl": "https://lh3.googleusercontent.com/a-/AOh14GhnYXiO1WyUqmQTRdZRyU1OAxXlwLrQ5Ovpf1VieQ=s64",
      "userId": "05648663591110704065"
     },
     "user_tz": -60
    },
    "id": "GKGuFNGnTa9c",
    "outputId": "e973d800-c0e1-4be3-acf1-2da5d5ec5a7e"
   },
   "outputs": [
    {
     "name": "stdout",
     "output_type": "stream",
     "text": [
      "NumPy array:\n",
      " [[ 0.56389826  0.5879547  -0.02854724  0.71045977  0.29838058]\n",
      " [-0.39198896  0.43335077 -0.82526611 -1.2072732   0.34787783]\n",
      " [ 0.10258361  0.07397717 -0.36219031  0.2352135   0.17891657]\n",
      " [ 0.65851136  1.76034592 -0.53041362  0.64633372 -1.01998416]\n",
      " [-1.47834602 -0.15673567 -0.19988929  0.20113793 -1.45344409]] \n",
      "\n",
      "Tensorflow array:\n",
      " tf.Tensor(\n",
      "[[ 0.5825702  -0.46907014  1.1793156   0.5433648   0.4374141 ]\n",
      " [ 1.0656632   0.8227748  -0.9604433  -0.45934138  1.1112857 ]\n",
      " [-0.02629011 -0.2863956  -1.632595   -1.1069534   1.2723184 ]\n",
      " [-1.1063924  -0.32587734 -0.45697463 -1.5977099   0.8095892 ]\n",
      " [ 0.27526763  1.6246026  -0.15527722 -1.0772396   0.07285953]], shape=(5, 5), dtype=float32) \n",
      "\n"
     ]
    }
   ],
   "source": [
    "# przykładowa alokacja danych:\n",
    "np_arr = np.zeros([5, 5])\n",
    "tf_arr = tf.zeros([5, 5])\n",
    "\n",
    "np_arr = np.ones([5, 5])\n",
    "tf_arr = tf.ones([5, 5])\n",
    "\n",
    "np_arr = np.array([1, 2, 3, 4, 5])\n",
    "tf_arr = tf.constant([1, 2, 3, 4, 5])\n",
    "\n",
    "np_arr = np.random.normal(0, 1, [5, 5])\n",
    "tf_arr = tf.random.normal([5, 5], 0, 1)\n",
    "\n",
    "print('NumPy array:\\n', np_arr, '\\n')\n",
    "print('Tensorflow array:\\n', tf_arr, '\\n')"
   ]
  },
  {
   "cell_type": "markdown",
   "metadata": {
    "id": "IDAxwKNDUMrH"
   },
   "source": [
    "### Zadanie 1\n",
    "\n",
    "Zaalokuj tablicę samych zer o wymiarze 2 x 2. Następnie utwórz tablicę jedynek o tym samym wymiarze (wykorzystaj funkcję ones_like)."
   ]
  },
  {
   "cell_type": "code",
   "execution_count": null,
   "metadata": {
    "colab": {
     "base_uri": "https://localhost:8080/"
    },
    "executionInfo": {
     "elapsed": 912,
     "status": "ok",
     "timestamp": 1608182161514,
     "user": {
      "displayName": "Dariusz Max Adamski",
      "photoUrl": "https://lh3.googleusercontent.com/a-/AOh14GhnYXiO1WyUqmQTRdZRyU1OAxXlwLrQ5Ovpf1VieQ=s64",
      "userId": "05648663591110704065"
     },
     "user_tz": -60
    },
    "id": "lnt4cj4vWhms",
    "outputId": "48aa8581-3305-401b-bfce-885a376d2f44"
   },
   "outputs": [
    {
     "name": "stdout",
     "output_type": "stream",
     "text": [
      "tf.Tensor(\n",
      "[[0. 0.]\n",
      " [0. 0.]], shape=(2, 2), dtype=float32)\n",
      "tf.Tensor(\n",
      "[[1. 1.]\n",
      " [1. 1.]], shape=(2, 2), dtype=float32)\n"
     ]
    }
   ],
   "source": [
    "# alokacja zer\n",
    "z = tf.zeros((2, 2))\n",
    "\n",
    "# alokacja jedynek\n",
    "o = tf.ones_like(z)\n",
    "\n",
    "print(z)\n",
    "print(o)"
   ]
  },
  {
   "cell_type": "markdown",
   "metadata": {
    "id": "RAy5wHavW0Gc"
   },
   "source": [
    "Również operacje na danych wyglądają podobnie w Tensorflow:"
   ]
  },
  {
   "cell_type": "code",
   "execution_count": null,
   "metadata": {
    "colab": {
     "base_uri": "https://localhost:8080/"
    },
    "executionInfo": {
     "elapsed": 431,
     "status": "ok",
     "timestamp": 1608182161888,
     "user": {
      "displayName": "Dariusz Max Adamski",
      "photoUrl": "https://lh3.googleusercontent.com/a-/AOh14GhnYXiO1WyUqmQTRdZRyU1OAxXlwLrQ5Ovpf1VieQ=s64",
      "userId": "05648663591110704065"
     },
     "user_tz": -60
    },
    "id": "CsL2HNwZXcYl",
    "outputId": "7dbc0b07-95e0-444d-ed47-24069cff3b66"
   },
   "outputs": [
    {
     "name": "stdout",
     "output_type": "stream",
     "text": [
      "tf.Tensor([11.224972   3.4641016  6.       ], shape=(3,), dtype=float32)\n"
     ]
    }
   ],
   "source": [
    "a = tf.constant([1, 2, 3], dtype=tf.float32)\n",
    "b = tf.constant([5, 2, 3], dtype=tf.float32)\n",
    "\n",
    "c = a + b\n",
    "d = a * b\n",
    "e = a ** 2 + b ** 3\n",
    "f = tf.sqrt(e)\n",
    "\n",
    "print(f)"
   ]
  },
  {
   "cell_type": "markdown",
   "metadata": {
    "id": "xIo9g-OZI-jv"
   },
   "source": [
    "### Zmienne w TensorFlow"
   ]
  },
  {
   "cell_type": "markdown",
   "metadata": {
    "id": "RZW2QB-HJDxu"
   },
   "source": [
    "Tensorflow posiada specjalny rodzaj obiektów, które reprezentują **zmienne uczone**. Poniżej zostało zaprezentowane wykorzystanie zmiennych uczonych.\n",
    "\n",
    "Każda operacja w TensorFlow tworzy na wyjściu **tensor**, przez który można automatycznie propagować błąd. "
   ]
  },
  {
   "cell_type": "code",
   "execution_count": null,
   "metadata": {
    "colab": {
     "base_uri": "https://localhost:8080/"
    },
    "executionInfo": {
     "elapsed": 471,
     "status": "ok",
     "timestamp": 1608182162945,
     "user": {
      "displayName": "Dariusz Max Adamski",
      "photoUrl": "https://lh3.googleusercontent.com/a-/AOh14GhnYXiO1WyUqmQTRdZRyU1OAxXlwLrQ5Ovpf1VieQ=s64",
      "userId": "05648663591110704065"
     },
     "user_tz": -60
    },
    "id": "tpLPMsD0JeB_",
    "outputId": "4e080c67-c506-4361-d0a3-4174593ad18b"
   },
   "outputs": [
    {
     "name": "stdout",
     "output_type": "stream",
     "text": [
      "tf.Tensor([[30.96758  29.036226 28.929491 28.314678 30.508444]], shape=(1, 5), dtype=float32)\n"
     ]
    }
   ],
   "source": [
    "# zmienne uczone dla pojedynczej warstwy neuronowej (5 neuronów)\n",
    "w = tf.Variable(tf.random.uniform([128, 5]))\n",
    "b = tf.Variable(tf.random.uniform([5]))\n",
    "\n",
    "# definicja warstwy w pełni połączonej\n",
    "def neuron_layer(x):\n",
    "  return x @ w + b\n",
    "\n",
    "# losowy wektor wejściowy i inferencja (odpytanie) sieci neuronowej\n",
    "x = tf.random.uniform([1, 128])\n",
    "y = neuron_layer(x)\n",
    "\n",
    "print(y)"
   ]
  },
  {
   "cell_type": "markdown",
   "metadata": {
    "id": "_ah23dQ-KYdI"
   },
   "source": [
    "Zmienne w TensorFlow można dowolnie modyfikować operacją *assign* (oraz jej pochodnymi wersjami).\n",
    "\n",
    "**Uwaga:** Zmienne oraz wszelkie tensory w TensorFlow można przekształcić do tablicy Numpy wywołując funkcję *.numpy()*."
   ]
  },
  {
   "cell_type": "code",
   "execution_count": null,
   "metadata": {
    "colab": {
     "base_uri": "https://localhost:8080/"
    },
    "executionInfo": {
     "elapsed": 405,
     "status": "ok",
     "timestamp": 1608182163839,
     "user": {
      "displayName": "Dariusz Max Adamski",
      "photoUrl": "https://lh3.googleusercontent.com/a-/AOh14GhnYXiO1WyUqmQTRdZRyU1OAxXlwLrQ5Ovpf1VieQ=s64",
      "userId": "05648663591110704065"
     },
     "user_tz": -60
    },
    "id": "DFaFBDxdKe4S",
    "outputId": "42aab572-12cb-4008-dfa3-ace5eeb2afca"
   },
   "outputs": [
    {
     "name": "stdout",
     "output_type": "stream",
     "text": [
      "[0.64847004 0.40507615 0.701529   0.6795193  0.70399404]\n",
      "[1.64847    0.40507615 0.701529   1.6795193  0.70399404]\n",
      "[0.64847004 0.40507615 0.701529   0.6795193  0.70399404]\n",
      "[1. 2. 3. 4. 5.]\n"
     ]
    }
   ],
   "source": [
    "# inicjalizacja zmiennej z losowymi wartościami\n",
    "b = tf.Variable(tf.random.uniform([5]))\n",
    "\n",
    "print(b.numpy())\n",
    "\n",
    "# wykonanie operacji dodawania na zmiennej\n",
    "b.assign_add([1, 0, 0, 1, 0])\n",
    "\n",
    "print(b.numpy())\n",
    "\n",
    "# wykonanie operacji odejmowania na zmiennej\n",
    "b.assign_sub([1, 0, 0, 1, 0])\n",
    "\n",
    "print(b.numpy())\n",
    "\n",
    "# wykonanie operacji przypisania na zmiennej\n",
    "b.assign([1, 2, 3, 4, 5])\n",
    "\n",
    "print(b.numpy())"
   ]
  },
  {
   "cell_type": "markdown",
   "metadata": {
    "id": "-Sh_nuvpLfJu"
   },
   "source": [
    "### Funkcje aktywacji i straty w TensorFlow"
   ]
  },
  {
   "cell_type": "markdown",
   "metadata": {
    "id": "zbUbMgx0LkXd"
   },
   "source": [
    "TensorFlow jest biblioteką przygotowaną do **Machine Learningu**. Wiele operacji bardzo często się powtarza w wielu zagadnieniach, np. funkcje aktywacji, funkcje straty, metryki, rodzaje warstw (operacji), itp. Stąd, w bilbiotece tej możemy znaleźć już gotowe komponenty, które można z łatwością wykorzystać.\n",
    "\n",
    "Poniżej zaprezentowane zostały gotowe funkcje aktywacji oraz straty."
   ]
  },
  {
   "cell_type": "code",
   "execution_count": null,
   "metadata": {
    "colab": {
     "base_uri": "https://localhost:8080/"
    },
    "executionInfo": {
     "elapsed": 594,
     "status": "ok",
     "timestamp": 1608182165709,
     "user": {
      "displayName": "Dariusz Max Adamski",
      "photoUrl": "https://lh3.googleusercontent.com/a-/AOh14GhnYXiO1WyUqmQTRdZRyU1OAxXlwLrQ5Ovpf1VieQ=s64",
      "userId": "05648663591110704065"
     },
     "user_tz": -60
    },
    "id": "v_Z84f4NMI0_",
    "outputId": "d1466e39-5432-466b-f773-bdb01b13a62d"
   },
   "outputs": [
    {
     "name": "stdout",
     "output_type": "stream",
     "text": [
      "Relu: [0.         0.         0.4352479  0.54695606 0.35010672]\n",
      "Sigmoid: [0.40136933 0.27461678 0.6071261  0.6334291  0.58664346]\n",
      "Softmax: [0.11677542 0.06593649 0.26914853 0.30095825 0.24718134]\n",
      "Tangens hiperboliczny: [-0.37974605 -0.74928534  0.4096977   0.49823537  0.3364702 ] \n",
      "\n",
      "MSE: tf.Tensor([0.14955626 0.22112457], shape=(2,), dtype=float32)\n",
      "MAE: tf.Tensor([0.31359902 0.37600076], shape=(2,), dtype=float32)\n",
      "CE: tf.Tensor([2.0752153 4.771546 ], shape=(2,), dtype=float32)\n"
     ]
    }
   ],
   "source": [
    "a = tf.random.uniform([5], -1, 1)\n",
    "\n",
    "a_relu = tf.nn.relu(a)\n",
    "a_sigmoid = tf.nn.sigmoid(a)\n",
    "a_softmax = tf.nn.softmax(a, -1)\n",
    "a_tanh = tf.nn.tanh(a)\n",
    "\n",
    "print('Relu:', a_relu.numpy())  # max(x, 0)\n",
    "print('Sigmoid:', a_sigmoid.numpy())  # wyjście w przedziale (0, 1)\n",
    "print('Softmax:', a_softmax.numpy())  # wyjście w przedziale (0, 1) a suma jest równa 1\n",
    "print('Tangens hiperboliczny:', a_tanh.numpy(), '\\n')\n",
    "\n",
    "y = tf.random.uniform([2, 5], 0, 1)  # batch o wielkości 2\n",
    "y_hat = tf.random.uniform([2, 5], 0, 1)\n",
    "\n",
    "y_mse = tf.losses.mean_squared_error(y_hat, y)  # dla każdego elementu w batchu błąd jest wyliczony osobno\n",
    "y_mae = tf.losses.mean_absolute_error(y_hat, y)\n",
    "y_ce = tf.losses.categorical_crossentropy(y_hat, y, from_logits=True)  # from_logits oznacza, że funkcja aktywacji (softmax) będzie wywołana wewnątrz funkcji straty, a więc wyjście z sieci powinno być liniowe\n",
    "\n",
    "print('MSE:', y_mse)\n",
    "print('MAE:', y_mae)\n",
    "print('CE:', y_ce)\n"
   ]
  },
  {
   "cell_type": "markdown",
   "metadata": {
    "id": "RxSdsMUWD9ci"
   },
   "source": [
    "### Graph Execution"
   ]
  },
  {
   "cell_type": "markdown",
   "metadata": {
    "id": "hJIwUfddR9Gl"
   },
   "source": [
    "Na potrzeby optymalizacji Google wprowadziło (przywróciło) możliwość definiowania grafów przetwarzania. Przetwarzanie grafowe polega na przekształceniu ciągu operacji do grafu, który następnie jest optymalizowany (np. poprzez zastąpienie instrukcji 'for' przez 'tf.while_loop').\n",
    "\n",
    "Aby zoptymalizować działanie kodu należy umieścić dane operacje w definicji funkcji opatrzonej w adnotację  @tf.function.\n",
    "\n",
    "**Uwaga**\n",
    "Po przekształceniu na graf tracimy możliwość łatwego debugowania kodu. Operacje przekształcane są do niskopoziomowej reprezentacji TensorFlow, znanej z wersji 1.x."
   ]
  },
  {
   "cell_type": "code",
   "execution_count": null,
   "metadata": {
    "id": "ets0mmTSUVsK"
   },
   "outputs": [],
   "source": [
    "import time\n",
    "\n",
    "# funkcja pomocnicza do mierzenia czasu wykonania funkcji\n",
    "\n",
    "def speed_test(iters, func, *arg):\n",
    "\n",
    "  start = time.time()\n",
    "  for i in range(iters):\n",
    "    func(*arg)\n",
    "  end = time.time()\n",
    "  \n",
    "  return end - start"
   ]
  },
  {
   "cell_type": "code",
   "execution_count": null,
   "metadata": {
    "id": "OS0cUgx3E5um"
   },
   "outputs": [],
   "source": [
    "# część wspólna operacji wywołanych w graph i eager execution\n",
    "def eager_op(inputs):\n",
    "  x = inputs ** 2\n",
    "  z = tf.transpose(tf.ones_like(x))\n",
    "  \n",
    "  for i in range(100):\n",
    "    # @ oznacza operację matmul\n",
    "    x = inputs @ x\n",
    "\n",
    "  # ile razy wywoła się ta linia w graph a ile w eager execution i dlaczego? \n",
    "  print('Ops function executed')\n",
    "\n",
    "  return x\n",
    "\n",
    "# graph execution wykonuje dokładnie te same operacje\n",
    "@tf.function\n",
    "def graph_op(inputs):\n",
    "  return eager_op(inputs)"
   ]
  },
  {
   "cell_type": "code",
   "execution_count": null,
   "metadata": {
    "colab": {
     "base_uri": "https://localhost:8080/"
    },
    "executionInfo": {
     "elapsed": 1499,
     "status": "ok",
     "timestamp": 1608182168706,
     "user": {
      "displayName": "Dariusz Max Adamski",
      "photoUrl": "https://lh3.googleusercontent.com/a-/AOh14GhnYXiO1WyUqmQTRdZRyU1OAxXlwLrQ5Ovpf1VieQ=s64",
      "userId": "05648663591110704065"
     },
     "user_tz": -60
    },
    "id": "gn-jG-qcTbEo",
    "outputId": "efa3ff80-adf0-4165-a860-3489b65d971e"
   },
   "outputs": [
    {
     "name": "stdout",
     "output_type": "stream",
     "text": [
      "------------ Eager Execution -----------\n",
      "Ops function executed\n",
      "Ops function executed\n",
      "Ops function executed\n",
      "Ops function executed\n",
      "Ops function executed\n",
      "Ops function executed\n",
      "Ops function executed\n",
      "Ops function executed\n",
      "Ops function executed\n",
      "Ops function executed\n",
      "0.2935144901275635 sec\n",
      "------------ Graph Execution -----------\n",
      "Ops function executed\n",
      "0.46624255180358887 sec\n"
     ]
    }
   ],
   "source": [
    "a = tf.random.uniform([1024, 1024], 0, 1)\n",
    "\n",
    "print('------------ Eager Execution -----------')\n",
    "print(speed_test(10, eager_op, a), 'sec')\n",
    "\n",
    "print('------------ Graph Execution -----------')\n",
    "print(speed_test(10, graph_op, a), 'sec')"
   ]
  },
  {
   "cell_type": "markdown",
   "metadata": {
    "id": "gQ-XK5nUEUWd"
   },
   "source": [
    "## Algorytm wstecznej propagacji błędu"
   ]
  },
  {
   "cell_type": "markdown",
   "metadata": {
    "id": "ZWWYxKRmguWl"
   },
   "source": [
    "Do wyprowadzenia wzorów na aktualizację zmiennych w algorytmie niezbędna jest znajomość zagadnień **chain-rule** oraz **multivariable chain-rule**. Poza podstawową wiedzą z matematyki są to jedyne niezbędne zagadnienia.\n",
    "\n",
    "### Chain-rule & Multivariable Chain-rule\n",
    "\n",
    "Poniżej zostały zaprezentowane zagadnienia **chain-rule** oraz **multivariable chain-rule** w sposób intuicyjny (i graficzny). Poniższa notacja została zaczerpnięta z sieci neuronowych, aby skojarzyć związek z algorytmem **backpropagation**.\n",
    "\n",
    "#### Chain-rule\n",
    "\n",
    "Jest to reguła opierająca się na pochodnej funkcji złożonej. W graficzny sposób można to pokazać następująco:\n",
    "\n",
    "![chain-rule](https://drive.google.com/uc?id=1S8pSUrrOzoisKr8d8YJaQHNLYgEq2dpk)\n",
    "\n",
    "Gdzie $L$ to pewna funkcja dla której liczymy pochodną względem zmiennej $w$. Jak widać, $L$ zależy od $y$, który zależy od $z$ który dopiero zależy bezpośrednio od $w$. Zależności tworzą łańcuch, skąd pochodzi nazwa **chain-rule**.\n",
    "\n",
    "#### Multivariable Chain-rule\n",
    "\n",
    "W przypadku gdy \"łańcuch\" w pewnym momencie się rozgałęzia, dalej możemy korzystać z zasady **chain-rule**, jednak tym razem przybiera ona formę nieco inną (lecz dalej intuicyjną):\n",
    "\n",
    "![multivariable-chain-rule](https://drive.google.com/uc?id=13WH6JXd_5rnTkyToKrBcCZDPdUXCqoT8)\n",
    "\n",
    "W tym przypadku, pochodna funkcji $L$ po zmiennej $z$ wyrażona jest jako suma pochodnych funkcji złożonych odpowiednio $y_1$ oraz $y_2$.\n",
    "\n",
    "<!-- \\\\ %ib: chyba nie jest to tak dobry przykład, jak myślałem...\n",
    "\n",
    "##### **Przykład:**\n",
    "Załóżmy, że mamy funkcję $f(x) = x\\cdot ln(x)$. Możemy ją przedstawić jako $f(x) = g(x)\\cdot h(x)$, gdzie $g(x)=x$ i $h(x)=ln(x)$. Korzystając z multivariable chain-rule możemy wyprowadzić:\n",
    "\n",
    "$$\\frac{\\partial f(x)}{\\partial x} = \\frac{\\partial g(x)h(x)}{\\partial x} = \\frac{\\partial g(x)h(x)}{\\partial g(x)} \\frac{\\partial g(x)}{\\partial x} + \\frac{\\partial g(x)h(x)}{\\partial h(x)} \\frac{\\partial h(x)}{\\partial x} = h(x)\\cdot 1 + g(x)\\cdot \\frac{1}{x} = ln(x) + 1$$\n",
    "\n",
    "Zwróć uwagę, że wzór na pochodną iloczynu jest szczególnym przypadkiem multivariable chain-rule:\n",
    "$$(g(x)h(x))' = g'(x)h(x) + g(x)h'(x) = 1\\cdot ln(x) + x\\cdot\\frac{1}{x} = ln(x) + 1$$ -->\n",
    "\n",
    "\\\\\n",
    "\n",
    "### Backpropagation\n",
    "\n",
    "Algorytm **wstecznej propagacji błędu** jest właściwie jedynie rozwinięciem **reguły delta**, która została przedstawiona na pierwszych zajęciach. Podobnie jak poprzednio, uczenie neuronów opisane jest w następujący sposób:\n",
    "\n",
    "$$w_i' = w_i - \\mu \\frac{\\partial L}{\\partial w_i} $$\n",
    "\n",
    "Jedyną różnicą jest sposób w jaki się wylicza gradient. Nawiązując do powyższych, krótkich wyjaśnień **chain-rule**, w podobny sposób należy traktować sieci neuronowe. \n",
    "\n",
    "**Dla warstwy wyjściowej** gradient można przedstawić następująco:\n",
    "\n",
    "$$\\frac{\\partial L}{\\partial w_{ij}} = \\frac{\\partial L}{\\partial y_j} \\frac{\\partial y_j}{\\partial w_{ji}} = \\frac{\\partial L}{\\partial y_j} \\frac{\\partial y_j}{\\partial z_j}\\frac{\\partial z_j}{\\partial w_{ji}}$$\n",
    "\n",
    "Albo inaczej:\n",
    "\n",
    "$$\\frac{\\partial L}{\\partial w_{ij}} = \\delta_j o_i$$\n",
    "\n",
    "Gdzie $w_{ji}$ oznacza wagę połączenia pomiędzy neuronem $j$ a $i$, $\\delta_j = \\frac{\\partial L}{\\partial y_j} \\frac{\\partial y_j}{\\partial z_j}$ oraz $o_i$ to wyjście z neuronu $i$ (dla neuronów w pierwszej warstwie będą to wejścia do sieci, natomiast w kolejnych warstwach będą to wyjścia z neuronów poprzednich).\n",
    "\n",
    "**Dla warstwy ukrytej** sprawa nieco bardziej się komplikuje. Weźmy jako przykład następującą prostą sieć z 2 warstwami i łącznie 3 neuronami:\n",
    "\n",
    "![simplenet](https://drive.google.com/uc?id=1NXHjEWUX3gAbn8NnHh9eGWdQaSNDavKW)\n",
    "\n",
    "Dla warstwy wyjściowej możemy skorzystać jedynie z **chain-rule** uzyskując następujące równanie:\n",
    "\n",
    "$$\\frac{\\partial L}{\\partial w^{2}_{i}} = \\frac{\\partial L}{\\partial y^{2}_i} \\frac{\\partial y^{2}_i}{\\partial z^{2}_i}\\frac{\\partial z^{2}_i}{\\partial w^{2}_{i}} = \\delta^2_i y^1_1$$\n",
    "\n",
    "Przy obliczaniu gradientu dla warstwy ukrytej najpierw stosujemy  proste **chain-rule**:\n",
    "\n",
    "$$\\frac{\\partial L}{\\partial w^{1}_{1}} = \\frac{\\partial L}{\\partial y^{1}_1} \\frac{\\partial y^{1}_1}{\\partial z^{1}_1}\\frac{\\partial z^{1}_1}{\\partial w^{1}_{1}}$$\n",
    "\n",
    "W tym momencie można zauważyć, że jest możliwe zastosowanie **multivariable chain-rule** do wyrażenia $\\frac{\\partial L}{\\partial y^{1}_1}$ (ponieważ $L$ nie zależy bezpośrednio od $y^{1}_1$, oraz występuje \"rozgałęzienie\" od $y$):\n",
    "\n",
    "$$\\frac{\\partial L}{\\partial y^{1}_1} = \\frac{\\partial L}{\\partial y^{2}_1} \\frac{\\partial y^{2}_1}{\\partial y^{1}_1} + \\frac{\\partial L}{\\partial y^{2}_2} \\frac{\\partial y^{2}_2}{\\partial y^{1}_1} = \\frac{\\partial L}{\\partial y^{2}_1} \\frac{\\partial y^{2}_1}{\\partial z^{2}_1}\\frac{\\partial z^{2}_1}{\\partial y^{1}_1} + \\frac{\\partial L}{\\partial y^{2}_2} \\frac{\\partial y^{2}_2}{\\partial z^{2}_2} \\frac{\\partial z^{2}_2}{\\partial y^{1}_1}$$\n",
    "\n",
    "Tu można zauważyć, że $\\frac{\\partial z^{2}_2}{\\partial y^{1}_1} = w^2_2$ oraz $\\frac{\\partial L}{\\partial y^{2}_2} \\frac{\\partial y^{2}_2}{\\partial z^{2}_2} = \\delta^2_2$ (przy założeniu liniowej funkcji aktywacji), co daje nam końcowo:\n",
    "\n",
    "$$\\frac{\\partial L}{\\partial y^{1}_1} = \\sum_i^2 \\delta^2_i w^2_i$$\n",
    "\n",
    "Podstawiając do wcześniejszego wzoru otrzymujemy:\n",
    "\n",
    "$$\\frac{\\partial L}{\\partial w^{1}_{1}} = \\sum_i^2 \\delta^2_i w^2_i \\frac{\\partial y^{1}_1}{\\partial z^{1}_1}\\frac{\\partial z^{1}_1}{\\partial w^{1}_{1}}$$\n",
    "\n",
    "Ostatecznie, za pomocą następujących podstawień możemy sprowadzić powyższe równanie do wersji spójnej z gradientem dla warstwy wyjściowej:\n",
    "\n",
    "$$\\sum_i^2 \\delta^2_i w^2_i \\frac{\\partial y^{1}_1}{\\partial z^{1}_1} = \\delta^1_1$$\n",
    "$$\\frac{\\partial z^{1}_1}{\\partial w^{1}_{1}} = x$$\n",
    "$$\\frac{\\partial L}{\\partial w^{1}_{1}} = \\delta^1_1 x$$\n",
    "\n",
    "\n",
    "\n",
    "---\n",
    "\n",
    "Podsumowując, zarówno dla warstwy wyjściowej jak i warstwy ukrytej gradienty możemy przedstawić w tej samej formie, składającej się z **błędu neuronu** ($\\delta$), oraz wyjścia z poprzedniej warstwy ($y$ lub $x$).\n",
    "\n",
    "$$\\frac{\\partial L}{\\partial w^{i}_{j}} = \\delta^i_j o^{(i-1)}$$"
   ]
  },
  {
   "cell_type": "code",
   "execution_count": null,
   "metadata": {
    "id": "YViUnHJSf5vT"
   },
   "outputs": [],
   "source": []
  },
  {
   "cell_type": "markdown",
   "metadata": {
    "id": "TJKj35Ykeqzn"
   },
   "source": [
    "### Automatyczna wsteczna propagacja błędu"
   ]
  },
  {
   "cell_type": "markdown",
   "metadata": {
    "id": "DA3PfOaWcE9q"
   },
   "source": [
    "Można rozpatrywać różne algorytmy optymalizacji działające na bazie algorytmu wstecznej propagacji błędu, który sam w sobie jest po prostu pewną strategią przydziału informacji o błędzie do zmiennych, a to jak na tej podstawie będziemy je modyfikować pozostaje otwartą kwestią. Jednym z prostszych optymalizatorów jest **Stochastic Gradient Descent** (SGD). Różni się od klasycznego Gradient Descent tym, że w jego przypadku gradient liczony jest w każdej iteracji dla losowo wybranego podzbioru danych uczących zamiast dla wszystkich. Innym popularnym optymalizatorem jest **ADAM** (od \"adaptive moment estimation\"), który każdą zmienną modyfikuje na podstawie jej statystycznych momentów (rzędu 1 i 2) gradientu w pewnym oknie czasowym. Ogólnie konstruowanie optymalizatorów opartych na gradiencie to cała osobna obszerna dziedzina naukowa. Przykładowo, na niektórych problemach ADAM ma znacznie szybszą zbieżność niż SGD, ale na innych zauważalnie gorzej radzi sobie z uogólnieniem wiedzy i w efekcie błąd na zbiorze testowym jest większy.\n",
    "\n",
    "Poniżej zaprezentowany został algorytm wstecznej propagacji błędu zaimplementowany w bibliotece TensorFlow. Przykład składa się z definicji sieci neuronowej, funkcji straty oraz jednego kroku uczenia przy użyciu gotowego optymalizatora."
   ]
  },
  {
   "cell_type": "markdown",
   "metadata": {
    "id": "gyUufSiJEgUH"
   },
   "source": [
    "### Prosta sieć neuronowa"
   ]
  },
  {
   "cell_type": "code",
   "execution_count": null,
   "metadata": {
    "id": "Ra9SuKPAE1wU"
   },
   "outputs": [],
   "source": [
    "# zmienne uczone pojedynczego neuronu, który na wejście otrzymuje wektor 10 liczb.\n",
    "w = tf.Variable(tf.ones([10, 1]))\n",
    "b = tf.Variable(tf.ones([1]))\n",
    "\n",
    "# definicja 1-warstwowej sieci neuronowej z funkcją aktywacji relu\n",
    "# (@ jest aliasem do tf.matmul())\n",
    "def network(x):\n",
    "  return tf.nn.relu(x @ w + b)"
   ]
  },
  {
   "cell_type": "markdown",
   "metadata": {
    "id": "c97P9HzdEnID"
   },
   "source": [
    "### Funkcja straty"
   ]
  },
  {
   "cell_type": "markdown",
   "metadata": {
    "id": "JAaD7jSpyUmk"
   },
   "source": [
    "W poniższym kodzie tf.reduce_mean to odpowiednik np.mean i działa tak samo. Jako drugi argument można podać wymiar, po którym liczona będzie średnia (domyślnie liczona jest z wszystkich wymiarów). Jeżeli chodzi o *reduce* (nazywane również *fold*) w nazwie, to jest to schemat obliczeń często wykorzystywany w paradygmacie programowania funkcyjnego, i polega na rekurencyjnym przechodzeniu przez strukturę przy jednoczesnym konstruowaniu nowej, w pewnym sensie redukując tę strukturę (np. macierz liczb) do nowej struktury (np. liczby)."
   ]
  },
  {
   "cell_type": "code",
   "execution_count": null,
   "metadata": {
    "id": "sqwbPkFiE2UZ"
   },
   "outputs": [],
   "source": [
    "# mean squared error jako funkcja straty\n",
    "def loss(y_pred, y_true):\n",
    "  return tf.reduce_mean((y_pred - y_true) ** 2)"
   ]
  },
  {
   "cell_type": "markdown",
   "metadata": {
    "id": "EWv0Fg36Epug"
   },
   "source": [
    "### Obliczenie gradientu"
   ]
  },
  {
   "cell_type": "code",
   "execution_count": null,
   "metadata": {
    "colab": {
     "base_uri": "https://localhost:8080/"
    },
    "executionInfo": {
     "elapsed": 525,
     "status": "ok",
     "timestamp": 1608182183661,
     "user": {
      "displayName": "Dariusz Max Adamski",
      "photoUrl": "https://lh3.googleusercontent.com/a-/AOh14GhnYXiO1WyUqmQTRdZRyU1OAxXlwLrQ5Ovpf1VieQ=s64",
      "userId": "05648663591110704065"
     },
     "user_tz": -60
    },
    "id": "-ejn6iHQE2kw",
    "outputId": "0550c1df-a996-4d1c-87cb-82c9c98887da"
   },
   "outputs": [
    {
     "name": "stdout",
     "output_type": "stream",
     "text": [
      "[<tf.Tensor: shape=(10, 1), dtype=float32, numpy=\n",
      "array([[4.7762833],\n",
      "       [4.7342887],\n",
      "       [4.000676 ],\n",
      "       [4.954791 ],\n",
      "       [4.442652 ],\n",
      "       [4.622094 ],\n",
      "       [5.805034 ],\n",
      "       [5.4456444],\n",
      "       [4.77318  ],\n",
      "       [4.9318914]], dtype=float32)>, <tf.Tensor: shape=(1,), dtype=float32, numpy=array([9.699442], dtype=float32)>]\n"
     ]
    }
   ],
   "source": [
    "# wsteczna propagacja błędu obsługiwana jest przez optymalizatory dostępne w bibliotece TensorFlow; tutaj użyliśmy Adam'a.\n",
    "optimizer = tf.optimizers.Adam(0.001)\n",
    "#optimizer = tf.optimizers.SGD(0.001)  # a tutaj Stochastic Gradient Descent\n",
    "\n",
    "# wejście oraz pożądane wyjście z sieci neuronowej\n",
    "x = tf.random.uniform([32, 10])\n",
    "y_true = tf.ones([32, 1])\n",
    "\n",
    "# obiekt gradient tape pozwala na \"nagrywanie\" pochodnych operacji wykonanych wewnątrz struktury \"with ... :\"\n",
    "with tf.GradientTape() as tape:\n",
    "  y_pred = network(x)\n",
    "  l = loss(y_pred, y_true)\n",
    "\n",
    "# pobranie interesujących nas gradientów (tylko dla uczonych zmiennych!)\n",
    "grads = tape.gradient(l, [w, b])\n",
    "# oraz ich użycie przez optymalizator\n",
    "optimizer.apply_gradients(zip(grads, [w, b]))\n",
    "\n",
    "print(grads)"
   ]
  },
  {
   "cell_type": "markdown",
   "metadata": {
    "id": "idPo7uRZexv9"
   },
   "source": [
    "#### Zadanie 2"
   ]
  },
  {
   "cell_type": "markdown",
   "metadata": {
    "id": "IFKkCPhgezMI"
   },
   "source": [
    "Korzystając z wiedzy z tych i poprzednich zajęć stwórz sieć neuronową składającą się z 3 warstw o rozmiarach odpowiednio 1, 2, 1. Niech w pierwszej i drugiej warstwie funkcją aktywacji będzie sigmoid a wyjście z sieci funkcją liniową. Skorzystaj z funkcji straty MSE.\n",
    "\n",
    "Naucz sieć neuronową, aby wykonywała funkcję **sinus** (wejściem sieci niech będzie kąt wyrażony w radianach). Trening sieci powinien polegać na wykonaniu algorytmu wstecznej propagacji błędu **ITERS** razy. Każda iteracja niech przetwarza **batch** danych o rozmiarze 16. Do nauki sieci wykorzystaj algorytm **Stochastic Gradient Descent** (tf.optimizers.SGD).\n",
    "\n",
    "W celu optymalizacji szybkości działania, dodaj do definicji modelu adnotację @tf.function.\n",
    "\n",
    "Przy domyślnych parametrach wyjdzie zasadniczo linia prosta na zerze. Poeksperymentuj z prędkością uczenia i liczbą iteracji, by poprawić ten rezultat. Sprawdź, jak działa ReLU dla tego problemu. Dla sigmoidalnej funkcji aktywacji rezultat powinien przypominać następujący wykres:\n",
    "![alt text](https://www.cs.put.poznan.pl/ibladek/students/eio/img/expected_sine.png)\n"
   ]
  },
  {
   "cell_type": "code",
   "execution_count": 2,
   "metadata": {
    "colab": {
     "base_uri": "https://localhost:8080/",
     "height": 315,
     "referenced_widgets": [
      "d2fbbe0d4e9745a7824e454c95df5163",
      "ec0bf9783a29400581d60a9e43a81fe3",
      "2618748670ff490a90ebd2ef35594c7c",
      "1d05f2483dcf46c78da5b3937d949f67",
      "269d534c331540709dd7b6c5bc45cc76",
      "ee25c84dae48444ab6b18b24c36a2084",
      "6dfb4350a6a24640b088fbee7d007fba",
      "5b8df284a8554468a8f5ee651ac3c79a"
     ]
    },
    "executionInfo": {
     "elapsed": 22962,
     "status": "ok",
     "timestamp": 1608559201804,
     "user": {
      "displayName": "Dariusz Max Adamski",
      "photoUrl": "https://lh3.googleusercontent.com/a-/AOh14GhnYXiO1WyUqmQTRdZRyU1OAxXlwLrQ5Ovpf1VieQ=s64",
      "userId": "05648663591110704065"
     },
     "user_tz": -60
    },
    "id": "A2Urm0SzgDv-",
    "outputId": "fe6af2e1-c9dd-4c73-bc4f-1cb6edfc2208"
   },
   "outputs": [
    {
     "data": {
      "application/vnd.jupyter.widget-view+json": {
       "model_id": "d2fbbe0d4e9745a7824e454c95df5163",
       "version_major": 2,
       "version_minor": 0
      },
      "text/plain": [
       "HBox(children=(FloatProgress(value=0.0, max=5000.0), HTML(value='')))"
      ]
     },
     "metadata": {
      "tags": []
     },
     "output_type": "display_data"
    },
    {
     "name": "stdout",
     "output_type": "stream",
     "text": [
      "\n"
     ]
    },
    {
     "data": {
      "image/png": "[encoded data removed]",
      "text/plain": [
       "<Figure size 432x288 with 1 Axes>"
      ]
     },
     "metadata": {
      "needs_background": "light",
      "tags": []
     },
     "output_type": "display_data"
    }
   ],
   "source": [
    "import math\n",
    "import tensorflow as tf\n",
    "import numpy as np\n",
    "import matplotlib.pyplot as plt\n",
    "from tqdm.notebook import tqdm\n",
    "\n",
    "w1 = tf.Variable(tf.ones([1, 1]))\n",
    "b1 = tf.Variable(tf.ones([1]))\n",
    "w2 = tf.Variable(tf.ones([1, 2]))\n",
    "b2 = tf.Variable(tf.ones([2]))\n",
    "w3 = tf.Variable(tf.ones([2, 1]))\n",
    "b3 = tf.Variable(tf.ones([1]))\n",
    "\n",
    "def layer_1(x):\n",
    "  return tf.nn.sigmoid(x @ w1 + b1)\n",
    "\n",
    "def layer_2(x):\n",
    "  return tf.nn.sigmoid(x @ w2 + b2)\n",
    "\n",
    "def layer_3(x):\n",
    "  return x @ w3 + b3\n",
    "\n",
    "def network(x):\n",
    "  return layer_3(layer_2(layer_1(x)))\n",
    "\n",
    "ITERS = 5000\n",
    "mu = 0.01\n",
    "variables = [w1, b1, w2, b2, w3, b3]\n",
    "optimizer = tf.optimizers.SGD(learning_rate=mu)\n",
    "\n",
    "for i in tqdm(range(ITERS)):\n",
    "  x = tf.random.uniform([16, 1], 0, math.pi * 2)  # dane wejściowe\n",
    "  y_true = tf.math.sin(x)                         # dane uczące (ground truth)\n",
    "  with tf.GradientTape() as tape:\n",
    "    y_pred = network(x)\n",
    "    l = tf.losses.mean_squared_error(y_true, y_pred)\n",
    "  grads = tape.gradient(l, variables)\n",
    "  optimizer.apply_gradients(zip(grads, variables))\n",
    "\n",
    "# testowanie sieci na zbiorze testowym\n",
    "xs = np.linspace(0, 2 * math.pi, 100, dtype=np.float32).reshape([100, 1])  # wymiary są zmieniane by xs zostało zaakceptowane jako wejście do sieci\n",
    "ys1 = np.sin(xs)\n",
    "ys2 = network(xs)\n",
    "plt.plot(xs, ys1, xs, ys2)\n",
    "plt.show()"
   ]
  },
  {
   "cell_type": "markdown",
   "metadata": {
    "id": "rePvYrKH51OD"
   },
   "source": [
    "#### Zadanie 3"
   ]
  },
  {
   "cell_type": "code",
   "execution_count": null,
   "metadata": {
    "id": "UB-Mnx-vmNvc"
   },
   "outputs": [],
   "source": [
    "optimizer.momentum"
   ]
  },
  {
   "cell_type": "markdown",
   "metadata": {
    "id": "3_yWbmVHhCWj"
   },
   "source": [
    "Wykonaj ponownie zadanie 2, tym razem samodzielnie implementując algorytm backpropagation."
   ]
  },
  {
   "cell_type": "code",
   "execution_count": null,
   "metadata": {
    "colab": {
     "base_uri": "https://localhost:8080/",
     "height": 315,
     "referenced_widgets": [
      "c8e58b119e684425b009d9531f71058d",
      "6c53657d514e4f2e94180456e5c2e496",
      "ad7b8cd702f84c05b950e3c6190f335a",
      "cd202422b43f4bed9fee7ce13652af2f",
      "d009cc11ab9a4ac687821b4ae470f848",
      "9cd0cf510dfd458886f1e2a86046898b",
      "05b94a62ac064b0f9fa9e08de37fcce0",
      "686598747f6f4998a2970f2244522ff8"
     ]
    },
    "executionInfo": {
     "elapsed": 7619,
     "status": "ok",
     "timestamp": 1608203595408,
     "user": {
      "displayName": "Dariusz Max Adamski",
      "photoUrl": "https://lh3.googleusercontent.com/a-/AOh14GhnYXiO1WyUqmQTRdZRyU1OAxXlwLrQ5Ovpf1VieQ=s64",
      "userId": "05648663591110704065"
     },
     "user_tz": -60
    },
    "id": "zfcJ-fiiiK0i",
    "outputId": "83684104-ffe9-43af-f71f-6e01e8e743aa"
   },
   "outputs": [
    {
     "data": {
      "application/vnd.jupyter.widget-view+json": {
       "model_id": "c8e58b119e684425b009d9531f71058d",
       "version_major": 2,
       "version_minor": 0
      },
      "text/plain": [
       "HBox(children=(FloatProgress(value=0.0, max=5000.0), HTML(value='')))"
      ]
     },
     "metadata": {
      "tags": []
     },
     "output_type": "display_data"
    },
    {
     "name": "stdout",
     "output_type": "stream",
     "text": [
      "\n"
     ]
    },
    {
     "data": {
      "image/png": "[encoded data removed]",
      "text/plain": [
       "<Figure size 432x288 with 1 Axes>"
      ]
     },
     "metadata": {
      "needs_background": "light",
      "tags": []
     },
     "output_type": "display_data"
    }
   ],
   "source": [
    "import math\n",
    "import tensorflow as tf\n",
    "import numpy as np\n",
    "import matplotlib.pyplot as plt\n",
    "from tqdm.notebook import tqdm\n",
    "\n",
    "w1 = tf.Variable(tf.ones([1, 1]))\n",
    "b1 = tf.Variable(tf.ones([1]))\n",
    "w2 = tf.Variable(tf.ones([1, 2]))\n",
    "b2 = tf.Variable(tf.ones([2]))\n",
    "w3 = tf.Variable(tf.ones([2, 1]))\n",
    "b3 = tf.Variable(tf.ones([1]))\n",
    "\n",
    "def d_sigmoid(z, beta=0.5):\n",
    "  sigma = tf.sigmoid(z)\n",
    "  return sigma*(1 - sigma)\n",
    "\n",
    "ITERS = 5_000\n",
    "mu = 0.1\n",
    "for i in tqdm(range(ITERS)):\n",
    "  x = tf.random.uniform([16, 1], 0, math.pi * 2)\n",
    "  y_true = tf.math.sin(x)\n",
    "\n",
    "  # forward pass\n",
    "  z1 = x@w1 + b1\n",
    "  y1 = tf.sigmoid(z1)\n",
    "\n",
    "  z2 = y1@w2 + b2\n",
    "  y2 = tf.sigmoid(z2)\n",
    "\n",
    "  z3 = y2@w3 + b3\n",
    "  y3 = z3\n",
    "  y_pred = y3\n",
    "\n",
    "  # backward pass\n",
    "  d3 = 2*(y_pred - y_true)\n",
    "  dw3 = tf.expand_dims(tf.reduce_mean(d3*y2, axis=0), axis=1)\n",
    "  db3 = tf.reduce_mean(d3, axis=0)\n",
    "\n",
    "  d2 = (d3 @ tf.transpose(w3)) * d_sigmoid(z2)\n",
    "  dw2 = tf.reduce_mean(d2*y1, axis=0)\n",
    "  db2 = tf.reduce_mean(d2, axis=0)\n",
    "\n",
    "  d1 = (d2 @ tf.transpose(w2)) * d_sigmoid(z1)\n",
    "  dw1 = tf.reduce_mean(d1*x, axis=0)\n",
    "  db1 = tf.reduce_mean(d1, axis=0)\n",
    "\n",
    "  # update\n",
    "  w3 = w3 - mu*dw3\n",
    "  w2 = w2 - mu*dw2\n",
    "  w1 = w1 - mu*dw1\n",
    "  b3 = b3 - mu*db3\n",
    "  b2 = b2 - mu*db2\n",
    "  b1 = b1 - mu*db1\n",
    "\n",
    "# testowanie sieci na zbiorze testowym\n",
    "xs = np.linspace(0, 2 * math.pi, 100, dtype=np.float32).reshape([100, 1])  # wymiary są zmieniane by xs zostało zaakceptowane jako wejście do sieci\n",
    "plt.plot(xs, np.sin(xs))\n",
    "plt.plot(xs, tf.sigmoid(tf.sigmoid(xs@w1 + b1)@w2 + b2)@w3 + b3 )\n",
    "plt.show()"
   ]
  },
  {
   "cell_type": "code",
   "execution_count": null,
   "metadata": {
    "id": "VCOyWTdl-Q8W"
   },
   "outputs": [],
   "source": []
  }
 ],
 "metadata": {
  "accelerator": "GPU",
  "colab": {
   "collapsed_sections": [],
   "name": "eio-lab-2",
   "provenance": [
    {
     "file_id": "1IoykAcFSx3zbSP0o-grMcQDJ_RJ3RsQD",
     "timestamp": 1607594723645
    },
    {
     "file_id": "1KkEkBZP_Np-vTCyez6XqmCLWbreb6Mnn",
     "timestamp": 1572989895093
    },
    {
     "file_id": "1n9-kVtnVLuvIf5EjxR928ea-M93iLtip",
     "timestamp": 1572989889002
    },
    {
     "file_id": "1QpsxkPhAE-EgfwYsOsRPd_KobYhyFan9",
     "timestamp": 1572989882145
    },
    {
     "file_id": "1YyS2vvPmtCATqCXPNrdic-aKZxtdm35j",
     "timestamp": 1572989874798
    },
    {
     "file_id": "1aknfFPOfmvYFqJdqkyaHQLjomDNh4KpT",
     "timestamp": 1572989868630
    },
    {
     "file_id": "1XAUKPGNFNzkiuiNUTFGzxJh3VxFAWamq",
     "timestamp": 1572989860085
    }
   ]
  },
  "kernelspec": {
   "display_name": "Python 3",
   "language": "python",
   "name": "python3"
  },
  "language_info": {
   "codemirror_mode": {
    "name": "ipython",
    "version": 3
   },
   "file_extension": ".py",
   "mimetype": "text/x-python",
   "name": "python",
   "nbconvert_exporter": "python",
   "pygments_lexer": "ipython3",
   "version": "3.8.3"
  },
  "widgets": {
   "application/vnd.jupyter.widget-state+json": {
    "05b94a62ac064b0f9fa9e08de37fcce0": {
     "model_module": "@jupyter-widgets/controls",
     "model_name": "DescriptionStyleModel",
     "state": {
      "_model_module": "@jupyter-widgets/controls",
      "_model_module_version": "1.5.0",
      "_model_name": "DescriptionStyleModel",
      "_view_count": null,
      "_view_module": "@jupyter-widgets/base",
      "_view_module_version": "1.2.0",
      "_view_name": "StyleView",
      "description_width": ""
     }
    },
    "1d05f2483dcf46c78da5b3937d949f67": {
     "model_module": "@jupyter-widgets/controls",
     "model_name": "HTMLModel",
     "state": {
      "_dom_classes": [],
      "_model_module": "@jupyter-widgets/controls",
      "_model_module_version": "1.5.0",
      "_model_name": "HTMLModel",
      "_view_count": null,
      "_view_module": "@jupyter-widgets/controls",
      "_view_module_version": "1.5.0",
      "_view_name": "HTMLView",
      "description": "",
      "description_tooltip": null,
      "layout": "IPY_MODEL_5b8df284a8554468a8f5ee651ac3c79a",
      "placeholder": "​",
      "style": "IPY_MODEL_6dfb4350a6a24640b088fbee7d007fba",
      "value": " 5000/5000 [00:22&lt;00:00, 223.76it/s]"
     }
    },
    "2618748670ff490a90ebd2ef35594c7c": {
     "model_module": "@jupyter-widgets/controls",
     "model_name": "FloatProgressModel",
     "state": {
      "_dom_classes": [],
      "_model_module": "@jupyter-widgets/controls",
      "_model_module_version": "1.5.0",
      "_model_name": "FloatProgressModel",
      "_view_count": null,
      "_view_module": "@jupyter-widgets/controls",
      "_view_module_version": "1.5.0",
      "_view_name": "ProgressView",
      "bar_style": "success",
      "description": "100%",
      "description_tooltip": null,
      "layout": "IPY_MODEL_ee25c84dae48444ab6b18b24c36a2084",
      "max": 5000,
      "min": 0,
      "orientation": "horizontal",
      "style": "IPY_MODEL_269d534c331540709dd7b6c5bc45cc76",
      "value": 5000
     }
    },
    "269d534c331540709dd7b6c5bc45cc76": {
     "model_module": "@jupyter-widgets/controls",
     "model_name": "ProgressStyleModel",
     "state": {
      "_model_module": "@jupyter-widgets/controls",
      "_model_module_version": "1.5.0",
      "_model_name": "ProgressStyleModel",
      "_view_count": null,
      "_view_module": "@jupyter-widgets/base",
      "_view_module_version": "1.2.0",
      "_view_name": "StyleView",
      "bar_color": null,
      "description_width": "initial"
     }
    },
    "5b8df284a8554468a8f5ee651ac3c79a": {
     "model_module": "@jupyter-widgets/base",
     "model_name": "LayoutModel",
     "state": {
      "_model_module": "@jupyter-widgets/base",
      "_model_module_version": "1.2.0",
      "_model_name": "LayoutModel",
      "_view_count": null,
      "_view_module": "@jupyter-widgets/base",
      "_view_module_version": "1.2.0",
      "_view_name": "LayoutView",
      "align_content": null,
      "align_items": null,
      "align_self": null,
      "border": null,
      "bottom": null,
      "display": null,
      "flex": null,
      "flex_flow": null,
      "grid_area": null,
      "grid_auto_columns": null,
      "grid_auto_flow": null,
      "grid_auto_rows": null,
      "grid_column": null,
      "grid_gap": null,
      "grid_row": null,
      "grid_template_areas": null,
      "grid_template_columns": null,
      "grid_template_rows": null,
      "height": null,
      "justify_content": null,
      "justify_items": null,
      "left": null,
      "margin": null,
      "max_height": null,
      "max_width": null,
      "min_height": null,
      "min_width": null,
      "object_fit": null,
      "object_position": null,
      "order": null,
      "overflow": null,
      "overflow_x": null,
      "overflow_y": null,
      "padding": null,
      "right": null,
      "top": null,
      "visibility": null,
      "width": null
     }
    },
    "686598747f6f4998a2970f2244522ff8": {
     "model_module": "@jupyter-widgets/base",
     "model_name": "LayoutModel",
     "state": {
      "_model_module": "@jupyter-widgets/base",
      "_model_module_version": "1.2.0",
      "_model_name": "LayoutModel",
      "_view_count": null,
      "_view_module": "@jupyter-widgets/base",
      "_view_module_version": "1.2.0",
      "_view_name": "LayoutView",
      "align_content": null,
      "align_items": null,
      "align_self": null,
      "border": null,
      "bottom": null,
      "display": null,
      "flex": null,
      "flex_flow": null,
      "grid_area": null,
      "grid_auto_columns": null,
      "grid_auto_flow": null,
      "grid_auto_rows": null,
      "grid_column": null,
      "grid_gap": null,
      "grid_row": null,
      "grid_template_areas": null,
      "grid_template_columns": null,
      "grid_template_rows": null,
      "height": null,
      "justify_content": null,
      "justify_items": null,
      "left": null,
      "margin": null,
      "max_height": null,
      "max_width": null,
      "min_height": null,
      "min_width": null,
      "object_fit": null,
      "object_position": null,
      "order": null,
      "overflow": null,
      "overflow_x": null,
      "overflow_y": null,
      "padding": null,
      "right": null,
      "top": null,
      "visibility": null,
      "width": null
     }
    },
    "6c53657d514e4f2e94180456e5c2e496": {
     "model_module": "@jupyter-widgets/base",
     "model_name": "LayoutModel",
     "state": {
      "_model_module": "@jupyter-widgets/base",
      "_model_module_version": "1.2.0",
      "_model_name": "LayoutModel",
      "_view_count": null,
      "_view_module": "@jupyter-widgets/base",
      "_view_module_version": "1.2.0",
      "_view_name": "LayoutView",
      "align_content": null,
      "align_items": null,
      "align_self": null,
      "border": null,
      "bottom": null,
      "display": null,
      "flex": null,
      "flex_flow": null,
      "grid_area": null,
      "grid_auto_columns": null,
      "grid_auto_flow": null,
      "grid_auto_rows": null,
      "grid_column": null,
      "grid_gap": null,
      "grid_row": null,
      "grid_template_areas": null,
      "grid_template_columns": null,
      "grid_template_rows": null,
      "height": null,
      "justify_content": null,
      "justify_items": null,
      "left": null,
      "margin": null,
      "max_height": null,
      "max_width": null,
      "min_height": null,
      "min_width": null,
      "object_fit": null,
      "object_position": null,
      "order": null,
      "overflow": null,
      "overflow_x": null,
      "overflow_y": null,
      "padding": null,
      "right": null,
      "top": null,
      "visibility": null,
      "width": null
     }
    },
    "6dfb4350a6a24640b088fbee7d007fba": {
     "model_module": "@jupyter-widgets/controls",
     "model_name": "DescriptionStyleModel",
     "state": {
      "_model_module": "@jupyter-widgets/controls",
      "_model_module_version": "1.5.0",
      "_model_name": "DescriptionStyleModel",
      "_view_count": null,
      "_view_module": "@jupyter-widgets/base",
      "_view_module_version": "1.2.0",
      "_view_name": "StyleView",
      "description_width": ""
     }
    },
    "9cd0cf510dfd458886f1e2a86046898b": {
     "model_module": "@jupyter-widgets/base",
     "model_name": "LayoutModel",
     "state": {
      "_model_module": "@jupyter-widgets/base",
      "_model_module_version": "1.2.0",
      "_model_name": "LayoutModel",
      "_view_count": null,
      "_view_module": "@jupyter-widgets/base",
      "_view_module_version": "1.2.0",
      "_view_name": "LayoutView",
      "align_content": null,
      "align_items": null,
      "align_self": null,
      "border": null,
      "bottom": null,
      "display": null,
      "flex": null,
      "flex_flow": null,
      "grid_area": null,
      "grid_auto_columns": null,
      "grid_auto_flow": null,
      "grid_auto_rows": null,
      "grid_column": null,
      "grid_gap": null,
      "grid_row": null,
      "grid_template_areas": null,
      "grid_template_columns": null,
      "grid_template_rows": null,
      "height": null,
      "justify_content": null,
      "justify_items": null,
      "left": null,
      "margin": null,
      "max_height": null,
      "max_width": null,
      "min_height": null,
      "min_width": null,
      "object_fit": null,
      "object_position": null,
      "order": null,
      "overflow": null,
      "overflow_x": null,
      "overflow_y": null,
      "padding": null,
      "right": null,
      "top": null,
      "visibility": null,
      "width": null
     }
    },
    "ad7b8cd702f84c05b950e3c6190f335a": {
     "model_module": "@jupyter-widgets/controls",
     "model_name": "FloatProgressModel",
     "state": {
      "_dom_classes": [],
      "_model_module": "@jupyter-widgets/controls",
      "_model_module_version": "1.5.0",
      "_model_name": "FloatProgressModel",
      "_view_count": null,
      "_view_module": "@jupyter-widgets/controls",
      "_view_module_version": "1.5.0",
      "_view_name": "ProgressView",
      "bar_style": "success",
      "description": "100%",
      "description_tooltip": null,
      "layout": "IPY_MODEL_9cd0cf510dfd458886f1e2a86046898b",
      "max": 5000,
      "min": 0,
      "orientation": "horizontal",
      "style": "IPY_MODEL_d009cc11ab9a4ac687821b4ae470f848",
      "value": 5000
     }
    },
    "c8e58b119e684425b009d9531f71058d": {
     "model_module": "@jupyter-widgets/controls",
     "model_name": "HBoxModel",
     "state": {
      "_dom_classes": [],
      "_model_module": "@jupyter-widgets/controls",
      "_model_module_version": "1.5.0",
      "_model_name": "HBoxModel",
      "_view_count": null,
      "_view_module": "@jupyter-widgets/controls",
      "_view_module_version": "1.5.0",
      "_view_name": "HBoxView",
      "box_style": "",
      "children": [
       "IPY_MODEL_ad7b8cd702f84c05b950e3c6190f335a",
       "IPY_MODEL_cd202422b43f4bed9fee7ce13652af2f"
      ],
      "layout": "IPY_MODEL_6c53657d514e4f2e94180456e5c2e496"
     }
    },
    "cd202422b43f4bed9fee7ce13652af2f": {
     "model_module": "@jupyter-widgets/controls",
     "model_name": "HTMLModel",
     "state": {
      "_dom_classes": [],
      "_model_module": "@jupyter-widgets/controls",
      "_model_module_version": "1.5.0",
      "_model_name": "HTMLModel",
      "_view_count": null,
      "_view_module": "@jupyter-widgets/controls",
      "_view_module_version": "1.5.0",
      "_view_name": "HTMLView",
      "description": "",
      "description_tooltip": null,
      "layout": "IPY_MODEL_686598747f6f4998a2970f2244522ff8",
      "placeholder": "​",
      "style": "IPY_MODEL_05b94a62ac064b0f9fa9e08de37fcce0",
      "value": " 5000/5000 [00:06&lt;00:00, 736.88it/s]"
     }
    },
    "d009cc11ab9a4ac687821b4ae470f848": {
     "model_module": "@jupyter-widgets/controls",
     "model_name": "ProgressStyleModel",
     "state": {
      "_model_module": "@jupyter-widgets/controls",
      "_model_module_version": "1.5.0",
      "_model_name": "ProgressStyleModel",
      "_view_count": null,
      "_view_module": "@jupyter-widgets/base",
      "_view_module_version": "1.2.0",
      "_view_name": "StyleView",
      "bar_color": null,
      "description_width": "initial"
     }
    },
    "d2fbbe0d4e9745a7824e454c95df5163": {
     "model_module": "@jupyter-widgets/controls",
     "model_name": "HBoxModel",
     "state": {
      "_dom_classes": [],
      "_model_module": "@jupyter-widgets/controls",
      "_model_module_version": "1.5.0",
      "_model_name": "HBoxModel",
      "_view_count": null,
      "_view_module": "@jupyter-widgets/controls",
      "_view_module_version": "1.5.0",
      "_view_name": "HBoxView",
      "box_style": "",
      "children": [
       "IPY_MODEL_2618748670ff490a90ebd2ef35594c7c",
       "IPY_MODEL_1d05f2483dcf46c78da5b3937d949f67"
      ],
      "layout": "IPY_MODEL_ec0bf9783a29400581d60a9e43a81fe3"
     }
    },
    "ec0bf9783a29400581d60a9e43a81fe3": {
     "model_module": "@jupyter-widgets/base",
     "model_name": "LayoutModel",
     "state": {
      "_model_module": "@jupyter-widgets/base",
      "_model_module_version": "1.2.0",
      "_model_name": "LayoutModel",
      "_view_count": null,
      "_view_module": "@jupyter-widgets/base",
      "_view_module_version": "1.2.0",
      "_view_name": "LayoutView",
      "align_content": null,
      "align_items": null,
      "align_self": null,
      "border": null,
      "bottom": null,
      "display": null,
      "flex": null,
      "flex_flow": null,
      "grid_area": null,
      "grid_auto_columns": null,
      "grid_auto_flow": null,
      "grid_auto_rows": null,
      "grid_column": null,
      "grid_gap": null,
      "grid_row": null,
      "grid_template_areas": null,
      "grid_template_columns": null,
      "grid_template_rows": null,
      "height": null,
      "justify_content": null,
      "justify_items": null,
      "left": null,
      "margin": null,
      "max_height": null,
      "max_width": null,
      "min_height": null,
      "min_width": null,
      "object_fit": null,
      "object_position": null,
      "order": null,
      "overflow": null,
      "overflow_x": null,
      "overflow_y": null,
      "padding": null,
      "right": null,
      "top": null,
      "visibility": null,
      "width": null
     }
    },
    "ee25c84dae48444ab6b18b24c36a2084": {
     "model_module": "@jupyter-widgets/base",
     "model_name": "LayoutModel",
     "state": {
      "_model_module": "@jupyter-widgets/base",
      "_model_module_version": "1.2.0",
      "_model_name": "LayoutModel",
      "_view_count": null,
      "_view_module": "@jupyter-widgets/base",
      "_view_module_version": "1.2.0",
      "_view_name": "LayoutView",
      "align_content": null,
      "align_items": null,
      "align_self": null,
      "border": null,
      "bottom": null,
      "display": null,
      "flex": null,
      "flex_flow": null,
      "grid_area": null,
      "grid_auto_columns": null,
      "grid_auto_flow": null,
      "grid_auto_rows": null,
      "grid_column": null,
      "grid_gap": null,
      "grid_row": null,
      "grid_template_areas": null,
      "grid_template_columns": null,
      "grid_template_rows": null,
      "height": null,
      "justify_content": null,
      "justify_items": null,
      "left": null,
      "margin": null,
      "max_height": null,
      "max_width": null,
      "min_height": null,
      "min_width": null,
      "object_fit": null,
      "object_position": null,
      "order": null,
      "overflow": null,
      "overflow_x": null,
      "overflow_y": null,
      "padding": null,
      "right": null,
      "top": null,
      "visibility": null,
      "width": null
     }
    }
   }
  }
 },
 "nbformat": 4,
 "nbformat_minor": 1
}
