{
 "cells": [
  {
   "cell_type": "markdown",
   "metadata": {},
   "source": [
    "# WZK - Zadanie 1\n",
    "\n",
    "Autor: Dariusz Max Adamski (nr indeksu 136674)\n",
    "\n",
    "---"
   ]
  },
  {
   "cell_type": "code",
   "execution_count": 1,
   "metadata": {},
   "outputs": [],
   "source": [
    "from ipywidgets import interact, interactive, fixed, interact_manual\n",
    "from ipywidgets import IntText, Text\n",
    "import ipywidgets as widgets\n",
    "from numpy.random import randint\n",
    "import numpy as np\n",
    "map = lambda xs, f: [f(x) for x in xs]\n",
    "join = lambda xs, sep: sep.join(xs)\n",
    "\n",
    "def mod(a, b):\n",
    "    # Graham, Knuth, Patashnik - ''Concrete Mathematics''\n",
    "    return a - b * (a // b)"
   ]
  },
  {
   "cell_type": "markdown",
   "metadata": {},
   "source": [
    "## 1. Metoda trywialna\n",
    "\n",
    "### Parametry\n",
    "\n",
    "- `n` - liczba udziałów\n",
    "- `k` - górna granica sekretu\n",
    "\n",
    "### Pytania\n",
    "\n",
    "*Jakie są podstawowe wady metody trywialnego podziału sekretu?*\n",
    "\n",
    "Wymagane są wszystkie udziały do odtworzenia sekretu. Przez to metoda może być użyta tylko w sytuacjach gdzie do odczytania sekretu potrzebna jest zgoda wszystkich udziałowców.\n",
    "\n",
    "Przykładowa kłopotliwa sytuacja: może być 100 udziałów i mamy zgodę wszystkich na odczytanie sekretu, ale 1 udziałowiec zgubił swój udział i w efekcie nie można odczytać sekretu."
   ]
  },
  {
   "cell_type": "code",
   "execution_count": 2,
   "metadata": {},
   "outputs": [
    {
     "data": {
      "application/vnd.jupyter.widget-view+json": {
       "model_id": "047ed065092843c3a30cd1c952a11eb3",
       "version_major": 2,
       "version_minor": 0
      },
      "text/plain": [
       "interactive(children=(IntText(value=1998, description='secret'), IntText(value=5000, description='k'), IntSlid…"
      ]
     },
     "metadata": {},
     "output_type": "display_data"
    }
   ],
   "source": [
    "@interact_manual(secret=IntText(1998), k=IntText(5000), n=(1, 10, 1))\n",
    "def trivial_encrypt(secret, k, n=2):\n",
    "    assert k > secret, f'k > secret not satisfied ({k} <= {secret})'\n",
    "    s = secret\n",
    "    keys = randint(0, k, size=n)\n",
    "    s -= np.sum(keys)\n",
    "    s %= k\n",
    "    print('encrypted =', s)\n",
    "    print('keys =', ','.join(map(keys, str)))"
   ]
  },
  {
   "cell_type": "code",
   "execution_count": 3,
   "metadata": {},
   "outputs": [
    {
     "data": {
      "application/vnd.jupyter.widget-view+json": {
       "model_id": "5aacc040722841ee92fd84a1784e38e8",
       "version_major": 2,
       "version_minor": 0
      },
      "text/plain": [
       "interactive(children=(IntText(value=0, description='secret'), Text(value='', description='keys'), IntText(valu…"
      ]
     },
     "metadata": {},
     "output_type": "display_data"
    }
   ],
   "source": [
    "@interact_manual(secret=IntText(), keys=Text(), k=IntText(5000))\n",
    "def trivial_decrypt(secret, keys, k):\n",
    "    s = secret\n",
    "    s += sum(map(keys.split(','), int))\n",
    "    s %= k\n",
    "    print('decrypted =', s)"
   ]
  },
  {
   "cell_type": "markdown",
   "metadata": {},
   "source": [
    "## 2. Schemat Shamira\n",
    "\n",
    "### Parametry\n",
    "    \n",
    "- `p` liczba pierwsza\n",
    "- `t` wymagana liczba udziałów\n",
    "- `n` całkowita liczba udziałów\n",
    "\n",
    "### Pytania\n",
    "\n",
    "*Jaka jest minimalna wymagana liczba udziałów, aby algorytm działał poprawnie?*\n",
    "\n",
    "Minimalne `t` wynosi 2, ponieważ nie może być mniejsze od 1, a gdy wynosi 1, punkty `y` są równe sekretowi `s`, co sprawia, że podział sekretu jest bez sensu."
   ]
  },
  {
   "cell_type": "code",
   "execution_count": 4,
   "metadata": {},
   "outputs": [
    {
     "data": {
      "text/plain": [
       "8191"
      ]
     },
     "execution_count": 4,
     "metadata": {},
     "output_type": "execute_result"
    }
   ],
   "source": [
    "# proszę tu ustawić liczbę pierwszą\n",
    "p = 2**13 - 1\n",
    "p"
   ]
  },
  {
   "cell_type": "code",
   "execution_count": 6,
   "metadata": {},
   "outputs": [
    {
     "data": {
      "application/vnd.jupyter.widget-view+json": {
       "model_id": "0261c53667b54571a3a0360b96b249ab",
       "version_major": 2,
       "version_minor": 0
      },
      "text/plain": [
       "interactive(children=(IntText(value=0, description='secret'), IntSlider(value=4, description='n', max=10, min=…"
      ]
     },
     "metadata": {},
     "output_type": "display_data"
    }
   ],
   "source": [
    "def poly_eval(A, x):\n",
    "    X = np.array([x**i for i in range(len(A))])\n",
    "    y = np.sum(A*X)\n",
    "    return y\n",
    "\n",
    "@interact_manual(secret=IntText(), n=(1, 10, 1), t=(1, 10, 1))\n",
    "def shamir_encrypt(secret, n=4, t=3):\n",
    "    assert p > secret, f'p > secret not satisfied ({p} <= {secret})'\n",
    "    assert p > n, f'p > n not satisfied ({p} <= {n})'\n",
    "    A = [secret] + list(randint(0, p, size=t-1))\n",
    "    X = np.arange(n) + 1\n",
    "    Y = [poly_eval(A, x) for x in X]\n",
    "    \n",
    "    # pretty print results\n",
    "    for i, x in enumerate(A): print(f'a_{i} = {x}')\n",
    "    for x, y in zip(X, Y): print(f's_{x} = f({x}) mod p = {y: 8d} mod {p} = {y % p}')\n",
    "    print('--- ENCRYPTED ---')\n",
    "    print(join([f'{x},{y % p}' for x, y in zip(X, Y)], ';'))"
   ]
  },
  {
   "cell_type": "code",
   "execution_count": 7,
   "metadata": {
    "scrolled": true
   },
   "outputs": [
    {
     "data": {
      "application/vnd.jupyter.widget-view+json": {
       "model_id": "0b7f40bcf08047d9aa826f2aa55b9773",
       "version_major": 2,
       "version_minor": 0
      },
      "text/plain": [
       "interactive(children=(Text(value='', description='keys'), Button(description='Run Interact', style=ButtonStyle…"
      ]
     },
     "metadata": {},
     "output_type": "display_data"
    }
   ],
   "source": [
    "from fractions import Fraction\n",
    "\n",
    "def lagr_interp(X):\n",
    "    num, den = np.ones_like(X), np.ones_like(X)\n",
    "    for i, xi in enumerate(X):\n",
    "        for j, xj in enumerate(X):\n",
    "            if i == j: continue\n",
    "            num[i] *= xj\n",
    "            den[i] *= xj - xi\n",
    "    return [Fraction(a, b) for a, b in zip(num, den)]\n",
    "\n",
    "@interact_manual(keys=Text())\n",
    "def shamir_decrypt(keys):\n",
    "    X, Y = np.array([map(x.split(','), int) for x in keys.split(';')]).T\n",
    "    L = lagr_interp(X)\n",
    "    S = np.sum(Y * L) % p # modulo is distributive\n",
    "    \n",
    "    # pretty print results\n",
    "    for i in range(len(X)): print(f'y_{i}*l_{i} = {Y[i]: 6d} * {L[i]} = {Y[i] * L[i]}')\n",
    "    print('--- DECRYPTED ---')\n",
    "    print(S)"
   ]
  },
  {
   "cell_type": "code",
   "execution_count": null,
   "metadata": {},
   "outputs": [],
   "source": []
  }
 ],
 "metadata": {
  "kernelspec": {
   "display_name": "Python 3",
   "language": "python",
   "name": "python3"
  },
  "language_info": {
   "codemirror_mode": {
    "name": "ipython",
    "version": 3
   },
   "file_extension": ".py",
   "mimetype": "text/x-python",
   "name": "python",
   "nbconvert_exporter": "python",
   "pygments_lexer": "ipython3",
   "version": "3.8.3"
  }
 },
 "nbformat": 4,
 "nbformat_minor": 4
}
