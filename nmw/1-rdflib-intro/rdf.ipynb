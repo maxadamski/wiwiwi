{
 "cells": [
  {
   "cell_type": "markdown",
   "metadata": {
    "id": "YQFgc_YUuCv2"
   },
   "source": [
    "# Czym jest rdflib"
   ]
  },
  {
   "cell_type": "markdown",
   "metadata": {
    "id": "yrdNfjqQuCv5"
   },
   "source": [
    "Pakiet Pythona pomocny w pracy z grafami RDF. Umożliwia:\n",
    "- wczytywanie grafów z internetu\n",
    "- zapisywanie grafów\n",
    "- parsowanie i serializację grafów\n",
    "- manipulowanie grafami RDF\n",
    "- wydawanie zapytań za pomocą języka SPARQL"
   ]
  },
  {
   "cell_type": "markdown",
   "metadata": {},
   "source": [
    "# Trójkowy model danych\n",
    "\n",
    "__[<b>RDF</b>](https://pl.wikipedia.org/wiki/Resource_Description_Framework)__ (ang. <i>Resource Description Framework</i>) jest językiem umożliwiającym reprezentowanie <b>sieci semantycznych</b> za pomocą technologii Web. \n",
    "Model RDF pozwala na opis zasobów, np. osób, produktów, miejscowości, witrynych internetowych, w postaci zdań o formacie trójek <b>Subject Predicate\tObject</b>."
   ]
  },
  {
   "cell_type": "markdown",
   "metadata": {
    "id": "ehQ8o7I1uCv7"
   },
   "source": [
    "# Instalacja pakietu:\n",
    "> pip install rdflib"
   ]
  },
  {
   "cell_type": "code",
   "execution_count": 1,
   "metadata": {
    "colab": {
     "base_uri": "https://localhost:8080/",
     "height": 342
    },
    "id": "nGtxllOfZXup",
    "outputId": "083c34d5-ee20-4eca-b489-244e247daf27",
    "scrolled": true
   },
   "outputs": [],
   "source": [
    "import rdflib"
   ]
  },
  {
   "cell_type": "markdown",
   "metadata": {
    "id": "nonWZ368uCv_"
   },
   "source": [
    "# Tworzenie grafu"
   ]
  },
  {
   "cell_type": "markdown",
   "metadata": {
    "id": "dU6UFxPluCv9"
   },
   "source": [
    "W celu ćwiczeń będziemy operować na przykładowym grafie opisującym domenę miejscowości. "
   ]
  },
  {
   "cell_type": "markdown",
   "metadata": {
    "id": "4UfZoiZcuCwC"
   },
   "source": [
    "Tworzenie grafu:"
   ]
  },
  {
   "cell_type": "code",
   "execution_count": 2,
   "metadata": {
    "id": "y-uT_V5DuCwE"
   },
   "outputs": [],
   "source": [
    "from rdflib import Graph\n",
    "g1 = Graph()"
   ]
  },
  {
   "cell_type": "markdown",
   "metadata": {
    "id": "AxnM2LF-uCwL"
   },
   "source": [
    "Ładowanie grafu z zewnętrznego źródła:"
   ]
  },
  {
   "cell_type": "code",
   "execution_count": 3,
   "metadata": {
    "colab": {
     "base_uri": "https://localhost:8080/",
     "height": 347
    },
    "id": "hZWZOkEduCwN",
    "outputId": "60b0d570-506e-4c48-aad8-2042880d542a"
   },
   "outputs": [
    {
     "data": {
      "text/plain": [
       "<Graph identifier=Ne01b760b95f344cb9b9eef78c61be7d0 (<class 'rdflib.graph.Graph'>)>"
      ]
     },
     "execution_count": 3,
     "metadata": {},
     "output_type": "execute_result"
    }
   ],
   "source": [
    "g1.parse(\"miejscowosci.ttl\", format=\"ttl\")"
   ]
  },
  {
   "cell_type": "code",
   "execution_count": 4,
   "metadata": {
    "colab": {
     "base_uri": "https://localhost:8080/",
     "height": 34
    },
    "id": "vf-jUNgBuCwT",
    "outputId": "f52d250a-767b-45f5-f28b-734aeab29612"
   },
   "outputs": [
    {
     "name": "stdout",
     "output_type": "stream",
     "text": [
      "Graf zawiera 22 trójek.\n"
     ]
    }
   ],
   "source": [
    "print(\"Graf zawiera %s trójek.\" % len(g1))"
   ]
  },
  {
   "cell_type": "markdown",
   "metadata": {
    "id": "TZktC2ZvuCwb"
   },
   "source": [
    "# Serializacja grafu"
   ]
  },
  {
   "cell_type": "markdown",
   "metadata": {
    "id": "cIBHG3JHuCwe"
   },
   "source": [
    "Graf RDF możemy serializować na wiele różnych formatów: xml, turle, n3, json-ld itd. Poniżej znajduje się przykład serializacji do formatu turtle. "
   ]
  },
  {
   "cell_type": "code",
   "execution_count": 5,
   "metadata": {
    "colab": {
     "base_uri": "https://localhost:8080/",
     "height": 74
    },
    "id": "vO2rERKtuCwh",
    "outputId": "eaa38faa-0c20-4a54-833d-c706467a376c",
    "scrolled": false
   },
   "outputs": [
    {
     "name": "stdout",
     "output_type": "stream",
     "text": [
      "@prefix : <http://przyklad.org/miejscowosci#> .\n",
      "@prefix owl: <http://www.w3.org/2002/07/owl#> .\n",
      "@prefix rdfs: <http://www.w3.org/2000/01/rdf-schema#> .\n",
      "@prefix xsd: <http://www.w3.org/2001/XMLSchema#> .\n",
      "\n",
      ": a owl:Ontology .\n",
      "\n",
      ":miejsc_000000001 a :miejsc_000000000,\n",
      "        owl:NamedIndividual ;\n",
      "    rdfs:label \"Poznań\"@pl ;\n",
      "    :miejsc_000000003 \"533830\"^^xsd:int .\n",
      "\n",
      ":miejsc_000000002 a :miejsc_000000000,\n",
      "        owl:NamedIndividual ;\n",
      "    rdfs:label \"Warszawa\"@pl ;\n",
      "    :miejsc_000000003 \"1790658\"^^xsd:int .\n",
      "\n",
      ":miejsc_000000003 a owl:DatatypeProperty ;\n",
      "    rdfs:label \"liczbaLudności\"@pl ;\n",
      "    rdfs:range xsd:int .\n",
      "\n",
      ":miejsc_000000005 a :miejsc_000000004,\n",
      "        owl:NamedIndividual ;\n",
      "    rdfs:label \"Województwo Wielkopolskie\"@pl .\n",
      "\n",
      ":miejsc_000000006 a :miejsc_000000004,\n",
      "        owl:NamedIndividual ;\n",
      "    rdfs:label \"Województwo Mazowieckie\"@pl .\n",
      "\n",
      ":miejsc_000000000 a owl:Class ;\n",
      "    rdfs:label \"Miejscowość\"@pl .\n",
      "\n",
      ":miejsc_000000004 a owl:Class ;\n",
      "    rdfs:label \"Województwo\"@pl .\n",
      "\n",
      "\n"
     ]
    }
   ],
   "source": [
    "print(g1.serialize(format='turtle').decode('utf-8'))"
   ]
  },
  {
   "cell_type": "markdown",
   "metadata": {
    "id": "sGTdMTrUuCwl"
   },
   "source": [
    "<span style=\"color:red\"> __Zadanie 1: serializuj graf g1 do formatu XML ('xml'), który jest jednym z typowych formatów serializacji grafów RDF (tzw. rdf/xml).__ </span>"
   ]
  },
  {
   "cell_type": "code",
   "execution_count": 6,
   "metadata": {
    "id": "FnVJOng8uCwm"
   },
   "outputs": [
    {
     "name": "stdout",
     "output_type": "stream",
     "text": [
      "<?xml version=\"1.0\" encoding=\"UTF-8\"?>\n",
      "<rdf:RDF\n",
      "   xmlns=\"http://przyklad.org/miejscowosci#\"\n",
      "   xmlns:rdf=\"http://www.w3.org/1999/02/22-rdf-syntax-ns#\"\n",
      "   xmlns:rdfs=\"http://www.w3.org/2000/01/rdf-schema#\"\n",
      ">\n",
      "  <rdf:Description rdf:about=\"http://przyklad.org/miejscowosci#miejsc_000000000\">\n",
      "    <rdf:type rdf:resource=\"http://www.w3.org/2002/07/owl#Class\"/>\n",
      "    <rdfs:label xml:lang=\"pl\">Miejscowość</rdfs:label>\n",
      "  </rdf:Description>\n",
      "  <rdf:Description rdf:about=\"http://przyklad.org/miejscowosci#miejsc_000000004\">\n",
      "    <rdfs:label xml:lang=\"pl\">Województwo</rdfs:label>\n",
      "    <rdf:type rdf:resource=\"http://www.w3.org/2002/07/owl#Class\"/>\n",
      "  </rdf:Description>\n",
      "  <rdf:Description rdf:about=\"http://przyklad.org/miejscowosci#miejsc_000000005\">\n",
      "    <rdf:type rdf:resource=\"http://www.w3.org/2002/07/owl#NamedIndividual\"/>\n",
      "    <rdfs:label xml:lang=\"pl\">Województwo Wielkopolskie</rdfs:label>\n",
      "    <rdf:type rdf:resource=\"http://przyklad.org/miejscowosci#miejsc_000000004\"/>\n",
      "  </rdf:Description>\n",
      "  <rdf:Description rdf:about=\"http://przyklad.org/miejscowosci#miejsc_000000003\">\n",
      "    <rdf:type rdf:resource=\"http://www.w3.org/2002/07/owl#DatatypeProperty\"/>\n",
      "    <rdfs:range rdf:resource=\"http://www.w3.org/2001/XMLSchema#int\"/>\n",
      "    <rdfs:label xml:lang=\"pl\">liczbaLudności</rdfs:label>\n",
      "  </rdf:Description>\n",
      "  <rdf:Description rdf:about=\"http://przyklad.org/miejscowosci#\">\n",
      "    <rdf:type rdf:resource=\"http://www.w3.org/2002/07/owl#Ontology\"/>\n",
      "  </rdf:Description>\n",
      "  <rdf:Description rdf:about=\"http://przyklad.org/miejscowosci#miejsc_000000002\">\n",
      "    <miejsc_000000003 rdf:datatype=\"http://www.w3.org/2001/XMLSchema#int\">1790658</miejsc_000000003>\n",
      "    <rdf:type rdf:resource=\"http://www.w3.org/2002/07/owl#NamedIndividual\"/>\n",
      "    <rdf:type rdf:resource=\"http://przyklad.org/miejscowosci#miejsc_000000000\"/>\n",
      "    <rdfs:label xml:lang=\"pl\">Warszawa</rdfs:label>\n",
      "  </rdf:Description>\n",
      "  <rdf:Description rdf:about=\"http://przyklad.org/miejscowosci#miejsc_000000006\">\n",
      "    <rdfs:label xml:lang=\"pl\">Województwo Mazowieckie</rdfs:label>\n",
      "    <rdf:type rdf:resource=\"http://przyklad.org/miejscowosci#miejsc_000000004\"/>\n",
      "    <rdf:type rdf:resource=\"http://www.w3.org/2002/07/owl#NamedIndividual\"/>\n",
      "  </rdf:Description>\n",
      "  <rdf:Description rdf:about=\"http://przyklad.org/miejscowosci#miejsc_000000001\">\n",
      "    <miejsc_000000003 rdf:datatype=\"http://www.w3.org/2001/XMLSchema#int\">533830</miejsc_000000003>\n",
      "    <rdf:type rdf:resource=\"http://przyklad.org/miejscowosci#miejsc_000000000\"/>\n",
      "    <rdfs:label xml:lang=\"pl\">Poznań</rdfs:label>\n",
      "    <rdf:type rdf:resource=\"http://www.w3.org/2002/07/owl#NamedIndividual\"/>\n",
      "  </rdf:Description>\n",
      "</rdf:RDF>\n",
      "\n"
     ]
    }
   ],
   "source": [
    "print(g1.serialize(format='xml').decode('utf-8'))"
   ]
  },
  {
   "cell_type": "markdown",
   "metadata": {},
   "source": [
    "Po serializacji do formatu xml (rdf/xml), dane grafu powinny znaleźć się pomiędzy znacznikami <code><rdf:RDF></code>. \n",
    "Żeby zwalidować poprawność danych w tym formacie (oraz je zwizualizować) można posłużyć się usługą webową <b>RDF Validator</b> dostępną pod adresem http://www.w3.org/RDF/Validator/. W tym celu skopiuj dane (łącznie ze znacznikami otwierającymi i zamykającymi <code><rdf:RDF></code> i <code></rdf:RDF></code> i zaczynając od informacji o kodowaniu <code><?xml version=\"1.0\" encoding=\"UTF-8\"?></code>) a następnie wklej do pola tesktowego udostępnionego przez usługę (uwaga: najpierw trzeba usunąć znaki końca linii <code>\\n</code>). \n",
    "Żeby zwizualizować graf, wybierz opcję <i>Triples and Graph</i> w <i>Display Result Options</i> a następnie kliknij przycisk <i>Parse RDF</i>. Wynikiem powienien być zwizualizowany graf, jak i tablica z wypisanymi wszystkimi trójkami RDF."
   ]
  },
  {
   "cell_type": "markdown",
   "metadata": {
    "id": "E0iUlBxRuCwr"
   },
   "source": [
    "# Iterowanie po trójkach w grafie \n",
    "\n",
    "Możemy iterować po trójkach w grafie jak pokazane poniżej:\n"
   ]
  },
  {
   "cell_type": "code",
   "execution_count": 7,
   "metadata": {
    "id": "zzR6CnONuCwt",
    "scrolled": true
   },
   "outputs": [
    {
     "name": "stdout",
     "output_type": "stream",
     "text": [
      "http://przyklad.org/miejscowosci#miejsc_000000000 http://www.w3.org/1999/02/22-rdf-syntax-ns#type http://www.w3.org/2002/07/owl#Class\n",
      "http://przyklad.org/miejscowosci#miejsc_000000004 http://www.w3.org/1999/02/22-rdf-syntax-ns#type http://www.w3.org/2002/07/owl#Class\n",
      "http://przyklad.org/miejscowosci#miejsc_000000005 http://www.w3.org/1999/02/22-rdf-syntax-ns#type http://www.w3.org/2002/07/owl#NamedIndividual\n",
      "http://przyklad.org/miejscowosci#miejsc_000000005 http://www.w3.org/2000/01/rdf-schema#label Województwo Wielkopolskie\n",
      "http://przyklad.org/miejscowosci#miejsc_000000003 http://www.w3.org/2000/01/rdf-schema#range http://www.w3.org/2001/XMLSchema#int\n",
      "http://przyklad.org/miejscowosci# http://www.w3.org/1999/02/22-rdf-syntax-ns#type http://www.w3.org/2002/07/owl#Ontology\n",
      "http://przyklad.org/miejscowosci#miejsc_000000002 http://przyklad.org/miejscowosci#miejsc_000000003 1790658\n",
      "http://przyklad.org/miejscowosci#miejsc_000000006 http://www.w3.org/2000/01/rdf-schema#label Województwo Mazowieckie\n",
      "http://przyklad.org/miejscowosci#miejsc_000000002 http://www.w3.org/1999/02/22-rdf-syntax-ns#type http://przyklad.org/miejscowosci#miejsc_000000000\n",
      "http://przyklad.org/miejscowosci#miejsc_000000003 http://www.w3.org/2000/01/rdf-schema#label liczbaLudności\n",
      "http://przyklad.org/miejscowosci#miejsc_000000002 http://www.w3.org/2000/01/rdf-schema#label Warszawa\n",
      "http://przyklad.org/miejscowosci#miejsc_000000002 http://www.w3.org/1999/02/22-rdf-syntax-ns#type http://www.w3.org/2002/07/owl#NamedIndividual\n",
      "http://przyklad.org/miejscowosci#miejsc_000000001 http://przyklad.org/miejscowosci#miejsc_000000003 533830\n",
      "http://przyklad.org/miejscowosci#miejsc_000000003 http://www.w3.org/1999/02/22-rdf-syntax-ns#type http://www.w3.org/2002/07/owl#DatatypeProperty\n",
      "http://przyklad.org/miejscowosci#miejsc_000000006 http://www.w3.org/1999/02/22-rdf-syntax-ns#type http://www.w3.org/2002/07/owl#NamedIndividual\n",
      "http://przyklad.org/miejscowosci#miejsc_000000004 http://www.w3.org/2000/01/rdf-schema#label Województwo\n",
      "http://przyklad.org/miejscowosci#miejsc_000000006 http://www.w3.org/1999/02/22-rdf-syntax-ns#type http://przyklad.org/miejscowosci#miejsc_000000004\n",
      "http://przyklad.org/miejscowosci#miejsc_000000000 http://www.w3.org/2000/01/rdf-schema#label Miejscowość\n",
      "http://przyklad.org/miejscowosci#miejsc_000000001 http://www.w3.org/2000/01/rdf-schema#label Poznań\n",
      "http://przyklad.org/miejscowosci#miejsc_000000001 http://www.w3.org/1999/02/22-rdf-syntax-ns#type http://www.w3.org/2002/07/owl#NamedIndividual\n",
      "http://przyklad.org/miejscowosci#miejsc_000000001 http://www.w3.org/1999/02/22-rdf-syntax-ns#type http://przyklad.org/miejscowosci#miejsc_000000000\n",
      "http://przyklad.org/miejscowosci#miejsc_000000005 http://www.w3.org/1999/02/22-rdf-syntax-ns#type http://przyklad.org/miejscowosci#miejsc_000000004\n"
     ]
    }
   ],
   "source": [
    "for s, p, o in g1:\n",
    "    print(s, p, o)"
   ]
  },
  {
   "cell_type": "markdown",
   "metadata": {},
   "source": [
    "<span style=\"color:red\"> __Pytanie 1: Zwróć uwagę, że obiekty w grafie (miejscowości i województwa) mają alfanumeryczne identyfikatory URI a ich nazwa jest reprezentowana poprzez etykietę wprowadzoną za pomocą własności <code>rdfs:label</code> (np. <i>Poznań</i>). Jakie zalety może mieć takie rozwiązanie w stosunku do rozwiązania, w którym nazwa jest wykorzystywana bezpośrednio w identyfikatorze URI i nie jest tworzona osobna etykieta?__ </span>"
   ]
  },
  {
   "cell_type": "markdown",
   "metadata": {},
   "source": [
    "Identyfikator powinien być jednoznaczny i czytelny. Natomiast nazwy nie muszą być czytelne w różnych językach - nie wszyscy mają na przykład polskie znaki na klawiaturze (i w ogóle potrafią je czytać). Identyfikator numeryczny jest jednoznaczny i całkiem uniwersalny, a za pomocą własności rdfs:label można bez problemu dodać etykiety dla dowolnych języków.\n",
    "\n",
    "Moglibyśmy się też umówić, żeby używać angielskiego dla identyfikatorów, ale to, że ten język jest popularny nie jest bardzo mnie przekonuje. Niektóre koncepcje mogą nie mieć np. odpowiednika w angielskim, albo dwie podobne koncepcje mogą mieć taką samą nazwę w jakimś języku. W skrócie, z identyfikatorami z języka naturalnego, wprowadzane są wszystkie problemy związane z nieprecyzyjnością języka."
   ]
  },
  {
   "cell_type": "markdown",
   "metadata": {
    "collapsed": true,
    "id": "_69Au3veuCwy"
   },
   "source": [
    "# Przestrzenie nazw"
   ]
  },
  {
   "cell_type": "markdown",
   "metadata": {
    "id": "5oLN18ZxuCw4"
   },
   "source": [
    "Przestrzenie nazw, które są zdefiniowane w pakiecie to: RDF, RDFS, OWL, XSD, FOAF, SKOS, DOAP, DC, DCTERMS,VOID"
   ]
  },
  {
   "cell_type": "code",
   "execution_count": 8,
   "metadata": {
    "id": "sITJxF2wuCw5"
   },
   "outputs": [],
   "source": [
    "from rdflib.namespace import RDF, RDFS, OWL"
   ]
  },
  {
   "cell_type": "markdown",
   "metadata": {
    "id": "4p-tetuQuCw8"
   },
   "source": [
    "<span style=\"color:red\"> __Zadanie 2: Zaimportuj przestrzeń nazw XSD__ </span>"
   ]
  },
  {
   "cell_type": "code",
   "execution_count": 9,
   "metadata": {
    "id": "8IHiG2MsuCw9"
   },
   "outputs": [],
   "source": [
    "from rdflib.namespace import XSD"
   ]
  },
  {
   "cell_type": "markdown",
   "metadata": {
    "id": "KNQsNXbfuCwz"
   },
   "source": [
    "rdflib pozwala utworzyć własne przestrzenie nazw. Poniżej deklarujemy przestrzeń nazw dla naszej domeny miejscowości:"
   ]
  },
  {
   "cell_type": "code",
   "execution_count": 10,
   "metadata": {
    "id": "YiDig7eouCw0"
   },
   "outputs": [],
   "source": [
    "from rdflib import Namespace\n",
    "n1 = Namespace(\"http://przyklad.org/miejscowosci#\")"
   ]
  },
  {
   "cell_type": "markdown",
   "metadata": {
    "id": "6dg_0tQJuCxA"
   },
   "source": [
    "# Zasoby"
   ]
  },
  {
   "cell_type": "markdown",
   "metadata": {
    "id": "UtZrANrXuCxC"
   },
   "source": [
    "## Reprezentacja podstawowych elementów i ich tworzenie"
   ]
  },
  {
   "cell_type": "markdown",
   "metadata": {
    "id": "izwFYxCZuCxD"
   },
   "source": [
    "Dane w formacie RDF stanowią graf, w którym węzły (wierzchołki) są odniesieniami do identyfikatorów URI, węzłami anonimowymi (pustymi) lub literałami. W bibliotece rdflib te typy węzłów są reprezentowane odpowiednio przez klasy <b>URIRef</b>, <b>BNode</b> i <b>Literal</b>. URIRef i BNode można traktować jako zasoby.\n",
    "<ul>\n",
    "<li><code>BNode</code> to węzeł, dla którego nie jest znany dokładny identyfikator URI.\n",
    "<li><code>URIRef</code> to węzeł, dla którego jest znany dokładny identyfikator URI. Węzły URIRefs są również używane do reprezentowania własności / predykatów w grafie RDF.\n",
    "<li>Literały reprezentują wartości atrybutów, takie jak nazwa, liczba, data itp. Najpopularniejsze wartości literałów mają typy danych pochodzące z przestrzeni nazw XML Schema (XSD).\n",
    "</ul>\n",
    "\n",
    "### URIRef"
   ]
  },
  {
   "cell_type": "markdown",
   "metadata": {
    "id": "8f5RT1JruCxE"
   },
   "source": [
    "Poniżej pokazano tworzenie referencji do zasobów (reprezentowanych przez URI)."
   ]
  },
  {
   "cell_type": "code",
   "execution_count": 11,
   "metadata": {
    "id": "i82EC-pjuCxF"
   },
   "outputs": [],
   "source": [
    "from rdflib import URIRef, BNode, Literal\n",
    "kleparz = URIRef(\"http://przyklad.org/miejscowosci#miejsc_0000000010\")\n",
    "ryczywol = URIRef(\"http://przyklad.org/miejscowosci#miejsc_0000000011\")"
   ]
  },
  {
   "cell_type": "markdown",
   "metadata": {
    "id": "0QI2tPPkuCxI"
   },
   "source": [
    "<span style=\"color:red\"> __Zadanie 3: Utwórz następujące zasoby:__ </span>\n",
    "- http://przyklad.org/miejscowosci#miejsc_0000000012 (katowice) \n",
    "- http://przyklad.org/miejscowosci#miejsc_0000000013 (niedzica_zamek)\n",
    "- http://przyklad.org/miejscowosci#miejsc_0000000014 (pasieczniki_duze)\n",
    "\n",
    "        "
   ]
  },
  {
   "cell_type": "code",
   "execution_count": 12,
   "metadata": {
    "id": "rWe9EQ84uCxJ"
   },
   "outputs": [
    {
     "data": {
      "text/plain": [
       "rdflib.term.URIRef('http://przyklad.org/miejscowosci#miejsc_0000000012')"
      ]
     },
     "execution_count": 12,
     "metadata": {},
     "output_type": "execute_result"
    }
   ],
   "source": [
    "katowice = n1.miejsc_0000000012\n",
    "niedzica_zamek = n1.miejsc_0000000013\n",
    "pasieczniki_duze = n1.miejsc_0000000014\n",
    "katowice"
   ]
  },
  {
   "cell_type": "markdown",
   "metadata": {
    "id": "7zlRtyEQuCxQ"
   },
   "source": [
    "### Literał"
   ]
  },
  {
   "cell_type": "markdown",
   "metadata": {},
   "source": [
    "Przypiszemy teraz nazwy miejscowości (etykiety) do naszych zasobów za pomocą własności <code>rdfs:label</code>. "
   ]
  },
  {
   "cell_type": "code",
   "execution_count": 13,
   "metadata": {},
   "outputs": [],
   "source": [
    "g1.add([kleparz, RDFS.label, Literal(\"Kleparz\")])\n",
    "g1.add([ryczywol, RDFS.label, Literal(\"Ryczywół\")])"
   ]
  },
  {
   "cell_type": "markdown",
   "metadata": {
    "id": "uviHzWByuCxT"
   },
   "source": [
    "<span style=\"color:red\"> __Zadanie 4: Utwórz następujące etykiety i odpowiednio przypisz je do zasobów:__ </span>\n",
    "- 'Katowice' \n",
    "- 'Niedzica Zamek' \n",
    "- 'Pasieczniki Duże'"
   ]
  },
  {
   "cell_type": "code",
   "execution_count": 14,
   "metadata": {
    "id": "wpbTl7aTuCxc"
   },
   "outputs": [],
   "source": [
    "g1.add([katowice, RDFS.label, Literal('Katowice')])\n",
    "g1.add([niedzica_zamek, RDFS.label, Literal('Niedzica Zamek')])\n",
    "g1.add([pasieczniki_duze, RDFS.label, Literal('Pasieczniki Duże')])"
   ]
  },
  {
   "cell_type": "markdown",
   "metadata": {},
   "source": [
    "Utworzymy teraz literały, które będą służyć nam do reprezentacji liczby ludności dla wybranych miejscowości i odpowiednio je przypiszmy poprzez dodanie odpowiednich trójek, np.:"
   ]
  },
  {
   "cell_type": "code",
   "execution_count": 15,
   "metadata": {},
   "outputs": [],
   "source": [
    "lit1 = Literal('302397', datatype = XSD.int)\n",
    "g1.add([katowice, URIRef('http://przyklad.org/miejscowosci#miejsc_000000003'), lit1])"
   ]
  },
  {
   "cell_type": "markdown",
   "metadata": {},
   "source": [
    "<span style=\"color:red\"> __Zadanie 5: Utwórz literał opisujący liczbę ludności i odpowiednio przypisz je do następującego zasobu:__ </span>\n",
    "- pasieczniki_duze (liczba ludności: 114)"
   ]
  },
  {
   "cell_type": "code",
   "execution_count": 16,
   "metadata": {},
   "outputs": [],
   "source": [
    "liczba_ludnosci = n1.miejsc_000000003\n",
    "g1.add([pasieczniki_duze, liczba_ludnosci, Literal('114', datatype=XSD.int)])"
   ]
  },
  {
   "cell_type": "markdown",
   "metadata": {
    "id": "V7xwu4MiuCxN"
   },
   "source": [
    "### BNode: węzeł anonimowy"
   ]
  },
  {
   "cell_type": "code",
   "execution_count": 17,
   "metadata": {
    "id": "pXVMl3RbuCxO"
   },
   "outputs": [],
   "source": [
    "bnode = BNode()"
   ]
  },
  {
   "cell_type": "markdown",
   "metadata": {
    "id": "wjPeFEY2uCxg"
   },
   "source": [
    "# Dodawanie i usuwanie trójek"
   ]
  },
  {
   "cell_type": "markdown",
   "metadata": {
    "id": "cxA8AVtGuCxh"
   },
   "source": [
    "### Dodawanie trójek RDF\n",
    "\n",
    "W powyższych przykładach widzieliśmy już jak można dodać trójkę do grafu RDF. \n",
    "Dodajmy jeszcze dodatkowe trójki, którymi opiszemy to, że dana miejscowość jest częścią danego województwa. \n",
    "\n",
    "<span style=\"color:magenta\"> <b>Wskazówka: dobrą praktyką jest wykorzystywanie w swoich grafach już przyjętych i popularnych zasobów na określenie '<i>klas</i>' i własności. Szczególnie dotyczy to własności, gdyż wykorzystanie typowych, popularnych własności, tam gdzie tylko widzimy, że będzie pasować to semantycznie, pozwoli lepiej modularyzować nasze grafy i lepiej je integrować z innymi grafami. Wynika to po części z tego, że twórcy tych zasobów, jak i narzędzia do edycji, koncentrują się na 'encjocentrycznym' podejściu, budując przede wszystkim taksonomię pojęć (klas). </b></span>\n",
    "\n",
    "Żeby wyrazić, że coś <i>jest częścią</i> czegoś innego uzyjemy własności <code>has part</code> z popularnej ontologii relacji <b>RO</b> (ang. <i>Relation Ontology</i>)."
   ]
  },
  {
   "cell_type": "code",
   "execution_count": 18,
   "metadata": {
    "id": "mCS2IE49uCxi"
   },
   "outputs": [],
   "source": [
    "# Województwo Wielkopolskie ma część Poznań\n",
    "wojewodztwo_wielkopolskie = URIRef('http://przyklad.org/miejscowosci#miejsc_000000005')\n",
    "poznan = URIRef('http://przyklad.org/miejscowosci#miejsc_000000001')\n",
    "ma_czesc = URIRef('http://purl.obolibrary.org/obo/BFO_0000051') \n",
    "    \n",
    "g1.add((wojewodztwo_wielkopolskie, ma_czesc, poznan))"
   ]
  },
  {
   "cell_type": "markdown",
   "metadata": {
    "id": "g6qrXYLFuCxk"
   },
   "source": [
    "<span style=\"color:red\"> __Zadanie 6: dodaj do grafu g1 trójkę reprezentującą informację o tym, że Województwo Mazowieckie ma część Warszawa.__ </span>\n"
   ]
  },
  {
   "cell_type": "code",
   "execution_count": 19,
   "metadata": {
    "id": "hOsxOXUluCxl"
   },
   "outputs": [],
   "source": [
    "mazowieckie = n1.miejsc_000000006\n",
    "warszawa = n1.miejsc_000000002\n",
    "g1.add((mazowieckie, ma_czesc, warszawa))"
   ]
  },
  {
   "cell_type": "markdown",
   "metadata": {
    "id": "zjo1lJPuuCxo"
   },
   "source": [
    "<span style=\"color:red\"> __Zadanie 7: dodaj do grafu g1 następującą informację: (warszawa, jest_czescia, _bnode1), (_bnode1, RDFS.label, \"Polska\"). Uwaga: _bnode1 może być zastąpiony dowolnym identyfikatorem węzła anonimowego (np. automatycznie wygenerowanym).__ </span>"
   ]
  },
  {
   "cell_type": "code",
   "execution_count": 20,
   "metadata": {
    "id": "Uv7waKDduCxq"
   },
   "outputs": [],
   "source": [
    "polska = URIRef('http://przyklad.org/miejscowosci#miejsc_000000100')\n",
    "jest_czescia = URIRef('http://purl.obolibrary.org/obo/BFO_0000050')\n",
    "g1.add((warszawa, jest_czescia, bnode))\n",
    "g1.add((bnode, RDFS.label, Literal('Polska', lang='pl')))"
   ]
  },
  {
   "cell_type": "markdown",
   "metadata": {
    "id": "dXmBDJKZuCxt"
   },
   "source": [
    "### Usuwanie trójek:\n",
    "Przykład pokazano poniżej:"
   ]
  },
  {
   "cell_type": "code",
   "execution_count": 21,
   "metadata": {
    "id": "XsLNywzMuCxu"
   },
   "outputs": [],
   "source": [
    "g1.remove( (wojewodztwo_wielkopolskie, ma_czesc, None) )"
   ]
  },
  {
   "cell_type": "markdown",
   "metadata": {
    "id": "-CdyQI2vuCxw"
   },
   "source": [
    "# Odczyt grafu"
   ]
  },
  {
   "cell_type": "markdown",
   "metadata": {
    "id": "qvQiHM8nuCxx"
   },
   "source": [
    "- Odczyt trójki z grafu"
   ]
  },
  {
   "cell_type": "markdown",
   "metadata": {
    "id": "s0zYs873uCxy"
   },
   "source": [
    "Grafy reprezentowane za pomocą rdflib wspierają podstawowe dopasowywanie wzorców za pomocą funkcji triples(). Ta funkcja jest generatorem trójek, które można dopasować do wzorca określonego przez argumenty. Termy __None__ są traktowane jako wildcard, np:"
   ]
  },
  {
   "cell_type": "code",
   "execution_count": 22,
   "metadata": {
    "id": "V97CwwsGuCxy"
   },
   "outputs": [
    {
     "name": "stdout",
     "output_type": "stream",
     "text": [
      "http://przyklad.org/miejscowosci#miejsc_000000001 jest miejscowością\n",
      "http://przyklad.org/miejscowosci#miejsc_000000002 jest miejscowością\n"
     ]
    }
   ],
   "source": [
    "miejscowosc = URIRef('http://przyklad.org/miejscowosci#miejsc_000000000')\n",
    "\n",
    "for s,p,o in g1.triples( (None, RDF.type, miejscowosc) ):\n",
    "   print(\"%s jest miejscowością\"%s)"
   ]
  },
  {
   "cell_type": "markdown",
   "metadata": {
    "id": "rUosvejouCx1"
   },
   "source": [
    "Odczyt podmiotu"
   ]
  },
  {
   "cell_type": "code",
   "execution_count": 23,
   "metadata": {
    "id": "jELOPMtvuCx1"
   },
   "outputs": [
    {
     "name": "stdout",
     "output_type": "stream",
     "text": [
      "http://przyklad.org/miejscowosci#miejsc_000000001 jest miejscowością\n",
      "http://przyklad.org/miejscowosci#miejsc_000000002 jest miejscowością\n"
     ]
    }
   ],
   "source": [
    "# podmioty dla danego typu\n",
    "for miejscowosc in g1.subjects(RDF.type, miejscowosc):\n",
    "   print(\"%s jest miejscowością\"%miejscowosc)"
   ]
  },
  {
   "cell_type": "markdown",
   "metadata": {
    "id": "kISqwp3QuCx3"
   },
   "source": [
    "Odczyt predykatu"
   ]
  },
  {
   "cell_type": "code",
   "execution_count": 24,
   "metadata": {
    "id": "LEfo765wuCx4"
   },
   "outputs": [
    {
     "name": "stdout",
     "output_type": "stream",
     "text": [
      "http://przyklad.org/miejscowosci#miejsc_000000003\n",
      "http://www.w3.org/1999/02/22-rdf-syntax-ns#type\n",
      "http://www.w3.org/2000/01/rdf-schema#label\n",
      "http://www.w3.org/1999/02/22-rdf-syntax-ns#type\n"
     ]
    }
   ],
   "source": [
    "# predykaty dla podmiotu i obiektu\n",
    "for pred in g1.predicates(poznan, None): \n",
    "   print(pred)"
   ]
  },
  {
   "cell_type": "code",
   "execution_count": 25,
   "metadata": {
    "id": "xvut80UDuCx6"
   },
   "outputs": [
    {
     "name": "stdout",
     "output_type": "stream",
     "text": [
      "<generator object Graph.objects at 0x7f27a8605740>\n",
      "533830\n"
     ]
    }
   ],
   "source": [
    "# obiekty dla podmiotu i predykatu\n",
    "ma_liczbe_ludnosci = URIRef('http://przyklad.org/miejscowosci#miejsc_000000003')\n",
    "print(g1.objects(poznan, ma_liczbe_ludnosci)) # albo\n",
    "print(g1.value(poznan, ma_liczbe_ludnosci))"
   ]
  },
  {
   "cell_type": "markdown",
   "metadata": {
    "id": "RAsS2RmkuCx7"
   },
   "source": [
    "<span style=\"color:red\"> __Zadanie 8: z grafu g1 odczytaj nazwy (RDFS.label) wszystkich miejscowosci (instancji typu <code>miejscowosc</code>)__ </span>"
   ]
  },
  {
   "cell_type": "code",
   "execution_count": 26,
   "metadata": {
    "id": "K7sbAtPluCx8"
   },
   "outputs": [
    {
     "name": "stdout",
     "output_type": "stream",
     "text": [
      "http://przyklad.org/miejscowosci#miejsc_000000001 Poznań\n",
      "http://przyklad.org/miejscowosci#miejsc_000000002 Warszawa\n"
     ]
    }
   ],
   "source": [
    "miejscowosc = URIRef('http://przyklad.org/miejscowosci#miejsc_000000000')\n",
    "for s in g1.subjects(RDF.type, miejscowosc):\n",
    "    print(s, next(g1.objects(s, RDFS.label)))"
   ]
  },
  {
   "cell_type": "markdown",
   "metadata": {
    "id": "BIfRQN1auCx-"
   },
   "source": [
    "<span style=\"color:red\"> __Zadanie 9: z grafu g1 odczytaj wszystkie miejscowosci, które są częścią Województwa Mazowieckiego __ </span>   "
   ]
  },
  {
   "cell_type": "code",
   "execution_count": 27,
   "metadata": {
    "id": "n5eQRE5juCx-"
   },
   "outputs": [
    {
     "name": "stdout",
     "output_type": "stream",
     "text": [
      "http://przyklad.org/miejscowosci#miejsc_000000002 Warszawa\n"
     ]
    }
   ],
   "source": [
    "for o in g1.objects(mazowieckie, ma_czesc):\n",
    "    if (o, RDF.type, miejscowosc) in g1:\n",
    "        print(o, next(g1.objects(o, RDFS.label)))"
   ]
  },
  {
   "cell_type": "markdown",
   "metadata": {
    "id": "e-IpdrTfuCyA"
   },
   "source": [
    "# Scenariusz: Reprezentacja zmian miejscowości w czasie. \n",
    "\n",
    "Rozważmy przykładowy scenariusz, który wywodzi się z rzeczywistej aplikacji w dziedzinie geografii historycznej i wymogów systemu realizowanego przez Instytut Historii PAN w celu reprezentacji historycznych systemów informacji geograficznej. \n",
    "Poniżej możesz przeczytać na czym pokrótce polega ten scenariusz i zagadnienia związane z opracowaniem odpowiednich modeli danych i wiedzy o miejscowościach i ich zmianach. \n",
    "Więcej na temat tego scenariusza możesz znaleźć w artykułach naukowych, np.:\n",
    "\n",
    "Garbacz Paweł; Ławrynowicz, Agnieszka; Szady Bogumił, <i>Identity Criteria for Localities</i>, In proceedings S. Borgo P. Hitzler, Kutz O (Ed.): Formal Ontology in Information Systems. Proceedings of the 10th International Conference (FOIS 2018), pp. 47-54, 2018 (artykuł jest załączony do tego ćwiczenia)\n",
    "\n",
    "a rzeczywistą ontologię miejscowości (a dokładniej jednostek osadniczych) możesz znaleźć w repozytorium na GitHubie: https://github.com/ontogeohist/ontology\n",
    "\n",
    "Zacznijmy więc od opisu naszego scenariusza:\n",
    "\n",
    "Miejscowości reprezentowane są przez: nazwę, typ (np. miasto, wieś, osada leśna, przysiółek itp.) oraz ich położenie geograficzne. \n",
    "Na przestrzeni czasu dana miejscowość mogła przejść szereg zmian, w tym zmiany nazwy (np. z <i>Katowice</i> na <i>Stalinogród</i>), zmiany typu (np  z <i>wieś</i> na <i>miasto</i>), zmiany położenia, zmiany mereologiczne (np. podział jednej miejscowości na kilka innych, absorpcja jednej miejscowości przez inną).\n",
    "Kilka przykładów takich zmian opisano w poniższej tabeli. \n",
    "   "
   ]
  },
  {
   "cell_type": "markdown",
   "metadata": {},
   "source": [
    "\n",
    "| Nazwa początkowa | Typ początkowy | Nazwa końcowa | Typ końcowy  | Zmiana  | Zmiana tożsamości | \n",
    "| --- | --- | --- | --- | ---  | --- | \n",
    "| Katowice | miasto | Stalinogród | miasto | zmiana nazwy | nie |\n",
    "| Kleparz | miasteczko | Kleparz | dzielnica | zmiana typu | nie |\n",
    "| Holonki | wieś | Pasieczniki | wieś | absorpcja | tak | \n",
    "| Pauluk  | wieś | Pasieczniki | wieś | absorpcja | tak | \n",
    "| Konstantyniuk | wieś | Pasieczniki | wieś | absorpcja | tak | \n",
    "| Zamek | część wsi | Niedzica-Zamek| wieś | separacja | tak | \n"
   ]
  },
  {
   "cell_type": "markdown",
   "metadata": {},
   "source": [
    "Jednym z problemów jaki występuje w tym scenariuszu, jest, wydawałoby się, prosta sprawa polegająca na podejmowaniu decyzji czy utworzyć dla nowej wersji miejscowości (np. po zmianie tylko nazwy, czy też po zmianie typu) nowy główny rekord w bazie danych, który reprezentuje zagregowaną w czasie informację na temat danej miejscowości i jej zmian w czasie, czy też nie tworzyć takiego rekordu. \n",
    "Ostatnia kolumna w tabeli wskazuje na to jakie zmiany nie powodują potrzeby utworzenia nowego głównego rekordu reprezentującego miejscowość (wartość <code>nie</code>), a jakie były na tyle duże, że spowodowały utratę tożsamości miejscowości i powstał zupełnie nowy byt (<code>tak</code>). Ziemie polskie są tutaj bardzo ciekawym przykładem, ze względu na wiele historycznych zmian, wojen, rozbiorów, zmian ustroju.    \n",
    "\n",
    "Sposób rozwiązania problemu modelowania tego scenariusza, wykorzystujący koncepcję tzw. <b>'manifestacji'</b> (które reprezentują kolejne wersje miejscowości) jest pokazany na poniższym rysunku. \n",
    "Reprezentacja każdej miejscowości składa się z dwóch części: głównego rekordu (miejscowość) i wariantów w czasie (manifestacja miejscowości).\n",
    "\n",
    " \n",
    "\n",
    "    \n"
   ]
  },
  {
   "cell_type": "markdown",
   "metadata": {},
   "source": [
    "![manifestacje.png](attachment:manifestacje.png)"
   ]
  },
  {
   "cell_type": "markdown",
   "metadata": {},
   "source": [
    "<span style=\"color:red\"> __Zadanie 10. Utwórz graf RDF, który będzie reprezentować model danych przedstawiony na powyższym rysunku oraz informacje o zmianach miejscowości przedstawione w tabeli, tj. informacje o zdarzeniu i jego typie (absorpcja, rozdzielenie itd.), w którego wyniku powstały nowe manifestacje miejscowości bądź też nawet nowa miejscowość. Utwórz nową własność aby reprezentować wynik zdarzenia (możesz np. użyć do tego celu już istniejącej relacji, np. <code>http://purl.obolibrary.org/obo/RO_0002353</code> z RO, która reprezentuje informacje o tym, że coś \"jest wynikiem\" czegoś)  \n",
    "Rozważ następujące zagadnienie: jakiego rodzaju relacją będą te zdarzenia? Binarną? A może n-arną?__ </span> "
   ]
  },
  {
   "cell_type": "code",
   "execution_count": 28,
   "metadata": {},
   "outputs": [],
   "source": [
    "from rdflib.namespace import OWL\n",
    "ns = Namespace('http://example.com/miasta#')\n",
    "gg = Graph()\n",
    "gg.bind('', ns)\n",
    "gg.bind('owl', OWL)\n",
    "\n",
    "for s in 'ma_manifestację jest_wynikiem typ_manifestacji'.split():\n",
    "    locals()[s] = ns[s]\n",
    "    gg.add([ns[s], RDF.type, OWL.DatatypeProperty])\n",
    "    gg.add([ns[s], RDFS.label, Literal(s.replace('_', ' ').title())])\n",
    "\n",
    "for s in 'miejscowość manifestacja miasto miasteczko dzielnica wieś część_wsi'.split():\n",
    "    locals()[s] = ns[s]\n",
    "    gg.add([ns[s], RDF.type, OWL.Class])\n",
    "    gg.add([ns[s], RDFS.label, Literal(s.replace('_', ' ').title())])\n",
    "    \n",
    "manifestacje = [\n",
    "    (0, 'Katowice', miasto, 0),\n",
    "    (1, 'Stalingród', miasto, 0),\n",
    "    (2, 'Kleparz', miasto, 1),\n",
    "    (3, 'Kleparz', dzielnica, 1),\n",
    "    (4, 'Holonki', wieś, 2),\n",
    "    (5, 'Pauluk', wieś, 3),\n",
    "    (6, 'Konstantyniuk', wieś, 4),\n",
    "    (7, 'Pasieczniki', wieś, 5),\n",
    "    (8, 'Zamek', część_wsi, 6),\n",
    "    (9, 'Niedzica-Zamek', wieś, 7),\n",
    "]\n",
    "\n",
    "for manif, label, typ, miejsc in manifestacje:\n",
    "    miejsc, manif = ns[f'miejsc_{miejsc}'], ns[f'manif_{manif}']\n",
    "    gg.add((manif, RDF.type, OWL.NamedIndividual))\n",
    "    gg.add((manif, RDF.type, manifestacja))\n",
    "    gg.add((manif, RDFS.label, Literal(label)))\n",
    "    gg.add((manif, typ_manifestacji, typ))\n",
    "    gg.add((miejsc, RDF.type, miejscowość))\n",
    "    gg.add((miejsc, ma_manifestację, manif))\n",
    "    \n",
    "zmiany = [\n",
    "    ([0], 'zmiana_nazwy', [1]),\n",
    "    ([2], 'zmiana_typu', [3]),\n",
    "    ([4, 5, 6], 'absorpcja', [7]),\n",
    "    ([8], 'separacja', [9]),\n",
    "]\n",
    "\n",
    "for before, change, after in zmiany:\n",
    "    for x in before:\n",
    "        for y in after:\n",
    "            gg.add((ns[f'manif_{y}'], jest_wynikiem, ns[f'manif_{x}']))"
   ]
  },
  {
   "cell_type": "code",
   "execution_count": 29,
   "metadata": {
    "scrolled": false
   },
   "outputs": [
    {
     "name": "stdout",
     "output_type": "stream",
     "text": [
      "@prefix : <http://example.com/miasta#> .\n",
      "@prefix owl: <http://www.w3.org/2002/07/owl#> .\n",
      "@prefix rdfs: <http://www.w3.org/2000/01/rdf-schema#> .\n",
      "\n",
      ":jest_wynikiem a owl:DatatypeProperty ;\n",
      "    rdfs:label \"Jest Wynikiem\" .\n",
      "\n",
      ":ma_manifestację a owl:DatatypeProperty ;\n",
      "    rdfs:label \"Ma Manifestację\" .\n",
      "\n",
      ":miasteczko a owl:Class ;\n",
      "    rdfs:label \"Miasteczko\" .\n",
      "\n",
      ":miejsc_0 a :miejscowość ;\n",
      "    :ma_manifestację :manif_0,\n",
      "        :manif_1 .\n",
      "\n",
      ":miejsc_1 a :miejscowość ;\n",
      "    :ma_manifestację :manif_2,\n",
      "        :manif_3 .\n",
      "\n",
      ":miejsc_2 a :miejscowość ;\n",
      "    :ma_manifestację :manif_4 .\n",
      "\n",
      ":miejsc_3 a :miejscowość ;\n",
      "    :ma_manifestację :manif_5 .\n",
      "\n",
      ":miejsc_4 a :miejscowość ;\n",
      "    :ma_manifestację :manif_6 .\n",
      "\n",
      ":miejsc_5 a :miejscowość ;\n",
      "    :ma_manifestację :manif_7 .\n",
      "\n",
      ":miejsc_6 a :miejscowość ;\n",
      "    :ma_manifestację :manif_8 .\n",
      "\n",
      ":miejsc_7 a :miejscowość ;\n",
      "    :ma_manifestację :manif_9 .\n",
      "\n",
      ":typ_manifestacji a owl:DatatypeProperty ;\n",
      "    rdfs:label \"Typ Manifestacji\" .\n",
      "\n",
      ":część_wsi a owl:Class ;\n",
      "    rdfs:label \"Część Wsi\" .\n",
      "\n",
      ":dzielnica a owl:Class ;\n",
      "    rdfs:label \"Dzielnica\" .\n",
      "\n",
      ":manif_1 a :manifestacja,\n",
      "        owl:NamedIndividual ;\n",
      "    rdfs:label \"Stalingród\" ;\n",
      "    :jest_wynikiem :manif_0 ;\n",
      "    :typ_manifestacji :miasto .\n",
      "\n",
      ":manif_3 a :manifestacja,\n",
      "        owl:NamedIndividual ;\n",
      "    rdfs:label \"Kleparz\" ;\n",
      "    :jest_wynikiem :manif_2 ;\n",
      "    :typ_manifestacji :dzielnica .\n",
      "\n",
      ":manif_7 a :manifestacja,\n",
      "        owl:NamedIndividual ;\n",
      "    rdfs:label \"Pasieczniki\" ;\n",
      "    :jest_wynikiem :manif_4,\n",
      "        :manif_5,\n",
      "        :manif_6 ;\n",
      "    :typ_manifestacji :wieś .\n",
      "\n",
      ":manif_9 a :manifestacja,\n",
      "        owl:NamedIndividual ;\n",
      "    rdfs:label \"Niedzica-Zamek\" ;\n",
      "    :jest_wynikiem :manif_8 ;\n",
      "    :typ_manifestacji :wieś .\n",
      "\n",
      ":manif_0 a :manifestacja,\n",
      "        owl:NamedIndividual ;\n",
      "    rdfs:label \"Katowice\" ;\n",
      "    :typ_manifestacji :miasto .\n",
      "\n",
      ":manif_2 a :manifestacja,\n",
      "        owl:NamedIndividual ;\n",
      "    rdfs:label \"Kleparz\" ;\n",
      "    :typ_manifestacji :miasto .\n",
      "\n",
      ":manif_4 a :manifestacja,\n",
      "        owl:NamedIndividual ;\n",
      "    rdfs:label \"Holonki\" ;\n",
      "    :typ_manifestacji :wieś .\n",
      "\n",
      ":manif_5 a :manifestacja,\n",
      "        owl:NamedIndividual ;\n",
      "    rdfs:label \"Pauluk\" ;\n",
      "    :typ_manifestacji :wieś .\n",
      "\n",
      ":manif_6 a :manifestacja,\n",
      "        owl:NamedIndividual ;\n",
      "    rdfs:label \"Konstantyniuk\" ;\n",
      "    :typ_manifestacji :wieś .\n",
      "\n",
      ":manif_8 a :manifestacja,\n",
      "        owl:NamedIndividual ;\n",
      "    rdfs:label \"Zamek\" ;\n",
      "    :typ_manifestacji :część_wsi .\n",
      "\n",
      ":miasto a owl:Class ;\n",
      "    rdfs:label \"Miasto\" .\n",
      "\n",
      ":wieś a owl:Class ;\n",
      "    rdfs:label \"Wieś\" .\n",
      "\n",
      ":miejscowość a owl:Class ;\n",
      "    rdfs:label \"Miejscowość\" .\n",
      "\n",
      ":manifestacja a owl:Class ;\n",
      "    rdfs:label \"Manifestacja\" .\n",
      "\n",
      "\n"
     ]
    }
   ],
   "source": [
    "print(gg.serialize(format='turtle').decode('utf-8'))"
   ]
  },
  {
   "cell_type": "code",
   "execution_count": null,
   "metadata": {},
   "outputs": [],
   "source": []
  }
 ],
 "metadata": {
  "colab": {
   "collapsed_sections": [],
   "name": "lab-rdf.ipynb",
   "provenance": []
  },
  "kernelspec": {
   "display_name": "Python 3",
   "language": "python",
   "name": "python3"
  },
  "language_info": {
   "codemirror_mode": {
    "name": "ipython",
    "version": 3
   },
   "file_extension": ".py",
   "mimetype": "text/x-python",
   "name": "python",
   "nbconvert_exporter": "python",
   "pygments_lexer": "ipython3",
   "version": "3.8.3"
  }
 },
 "nbformat": 4,
 "nbformat_minor": 1
}
