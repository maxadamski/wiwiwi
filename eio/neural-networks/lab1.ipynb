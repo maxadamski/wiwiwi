{
 "cells": [
  {
   "cell_type": "markdown",
   "metadata": {
    "id": "ebvqJaNU9bkH"
   },
   "source": [
    "# Elementy Inteligencji Obliczeniowej - Sieci Neuronowe\n",
    "\n",
    "\n",
    "---\n",
    "\n",
    "**Prowadzący:** Jakub Bednarek<br>\n",
    "**Kontakt:** jakub.bednarek@put.poznan.pl<br>\n",
    "**Materiały:** [Strona WWW](http://jakub.bednarek.pracownik.put.poznan.pl)\n",
    "\n",
    "---"
   ]
  },
  {
   "cell_type": "markdown",
   "metadata": {
    "id": "i0tVMrm99g5w"
   },
   "source": [
    "## Uwaga\n",
    "\n",
    "* **Aby wykonać polecenia należy najpierw przejść do trybu 'playground'. File -> Open in Playground Mode**\n",
    "* Nowe funkcje Colab pozwalają na autouzupełnianie oraz czytanie dokumentacji"
   ]
  },
  {
   "cell_type": "markdown",
   "metadata": {
    "id": "e5fCLe_r9mfo"
   },
   "source": [
    "## Technologie:\n",
    "\n",
    "Na zajęciach będziemy korzystać z języka Python oraz bibliotek **NumPy**, **Tensorflow**, IPython, Pillow, Matplotlib. Ponieważ:\n",
    "* obliczenia wykonywane przez sieci są masywne - przez co rozsądne jest aby korzystać z GPU,\n",
    "* nie każdy ma GPU w swoim komputerze, \n",
    "* nie każdy chce zostawać po godzinach w laboratoriach i korzystać z uczelnianych GPU,\n",
    "* konfiguracja Tensorflow na GPU potrafi być uciążliwa,\n",
    "\n",
    "będziemy korzystać głównie z Colab, na którym jest skonfigurowane środowisko wraz ze wszystkimi potrzebnymi składnikami oraz GPU.\n",
    "\n",
    "*Dla zainteresowanych: na stronie [Tensorflow](https://www.tensorflow.org/install/) znajduje się poradnik jak zainstalować bibliotekę na własnym komputerze. Popularnym podejściem do konfiguracji środowiska TensorFlow na własnej maszynie jest instalacja wirtualnego środowiska przy wykorzystaniu oprogramowania **Anaconda (Conda)**. Popularne IDE do Pythona, jak PyCharm posiadają obsługę środowisk stworzonych przez Condę. Można również korzystać z [NVIDIA-Docker2](https://github.com/NVIDIA/nvidia-docker) oraz gotowych obrazów systemu dostępnych po rejestracji na [NGC](https://ngc.nvidia.com).*\n"
   ]
  },
  {
   "cell_type": "markdown",
   "metadata": {
    "id": "ZYcu0HmX9poV"
   },
   "source": [
    "## Cel ćwiczeń: \n",
    "\n",
    "* zapoznanie się z językiem Python oraz popularnymi bibliotekami do przetwarzania danych,\n",
    "* przedstawienie podstaw teoretycznych, na których oparte są sieci neuronowe,\n",
    "* implementacja podstawowych elementów sieci neuronowej (perceptron, funkcja aktywacji, funkcja straty, warstwa neuronów) i sposobu ich uczenia (**wsteczna propagacja błędu**)."
   ]
  },
  {
   "cell_type": "markdown",
   "metadata": {
    "id": "2uhqCEJy5uuz"
   },
   "source": [
    "## NumPy\n",
    "\n",
    "NumPy jest biblioteką przeznaczoną do obliczeń o charakterze naukowym. Zawiera implementacje operacji na macierzach i wektorach, jak i bardziej zaawansowane funkcje typu transformata Fouriera.\n",
    "\n",
    "Aby korzystać z NumPy należy wykonać następującą instrukcję:"
   ]
  },
  {
   "cell_type": "code",
   "execution_count": 1,
   "metadata": {
    "executionInfo": {
     "elapsed": 833,
     "status": "ok",
     "timestamp": 1607533636495,
     "user": {
      "displayName": "Dariusz Max Adamski",
      "photoUrl": "https://lh3.googleusercontent.com/a-/AOh14GhnYXiO1WyUqmQTRdZRyU1OAxXlwLrQ5Ovpf1VieQ=s64",
      "userId": "05648663591110704065"
     },
     "user_tz": -60
    },
    "id": "x0DEDWrjBF8S"
   },
   "outputs": [],
   "source": [
    "# import biblioteki NumPy i przypisanie aliasu ''np''\n",
    "import numpy as np"
   ]
  },
  {
   "cell_type": "code",
   "execution_count": 2,
   "metadata": {
    "colab": {
     "base_uri": "https://localhost:8080/"
    },
    "executionInfo": {
     "elapsed": 821,
     "status": "ok",
     "timestamp": 1607533636495,
     "user": {
      "displayName": "Dariusz Max Adamski",
      "photoUrl": "https://lh3.googleusercontent.com/a-/AOh14GhnYXiO1WyUqmQTRdZRyU1OAxXlwLrQ5Ovpf1VieQ=s64",
      "userId": "05648663591110704065"
     },
     "user_tz": -60
    },
    "id": "cHMxlATApJkY",
    "outputId": "61f13139-bdb1-4bcb-e9dd-ca4325a406f2"
   },
   "outputs": [
    {
     "name": "stdout",
     "output_type": "stream",
     "text": [
      "Wed Dec  9 17:07:16 2020       \n",
      "+-----------------------------------------------------------------------------+\n",
      "| NVIDIA-SMI 455.45.01    Driver Version: 418.67       CUDA Version: 10.1     |\n",
      "|-------------------------------+----------------------+----------------------+\n",
      "| GPU  Name        Persistence-M| Bus-Id        Disp.A | Volatile Uncorr. ECC |\n",
      "| Fan  Temp  Perf  Pwr:Usage/Cap|         Memory-Usage | GPU-Util  Compute M. |\n",
      "|                               |                      |               MIG M. |\n",
      "|===============================+======================+======================|\n",
      "|   0  Tesla T4            Off  | 00000000:00:04.0 Off |                    0 |\n",
      "| N/A   39C    P8     9W /  70W |      0MiB / 15079MiB |      0%      Default |\n",
      "|                               |                      |                 ERR! |\n",
      "+-------------------------------+----------------------+----------------------+\n",
      "                                                                               \n",
      "+-----------------------------------------------------------------------------+\n",
      "| Processes:                                                                  |\n",
      "|  GPU   GI   CI        PID   Type   Process name                  GPU Memory |\n",
      "|        ID   ID                                                   Usage      |\n",
      "|=============================================================================|\n",
      "|  No running processes found                                                 |\n",
      "+-----------------------------------------------------------------------------+\n"
     ]
    }
   ],
   "source": [
    "!nvidia-smi"
   ]
  },
  {
   "cell_type": "markdown",
   "metadata": {
    "id": "2WAkAImKBawh"
   },
   "source": [
    "Podstawowym typem danych w NumPy jest tablica, poniżej zostały zaprezentowane różne metody alokacji takich tablic."
   ]
  },
  {
   "cell_type": "code",
   "execution_count": 3,
   "metadata": {
    "colab": {
     "base_uri": "https://localhost:8080/"
    },
    "executionInfo": {
     "elapsed": 808,
     "status": "ok",
     "timestamp": 1607533636496,
     "user": {
      "displayName": "Dariusz Max Adamski",
      "photoUrl": "https://lh3.googleusercontent.com/a-/AOh14GhnYXiO1WyUqmQTRdZRyU1OAxXlwLrQ5Ovpf1VieQ=s64",
      "userId": "05648663591110704065"
     },
     "user_tz": -60
    },
    "id": "4tOm6bXP60C3",
    "outputId": "5aa7e5d0-67fd-4980-d260-f922f0b040c9"
   },
   "outputs": [
    {
     "name": "stdout",
     "output_type": "stream",
     "text": [
      "Tablica int: [1 2 3] \n",
      "\n",
      "Tablica float: [1. 2. 3.] \n",
      "\n",
      "Tablica zer:\n",
      " [[0. 0. 0.]\n",
      " [0. 0. 0.]] \n",
      "\n",
      "Tablica jedynek:\n",
      " [[1. 1. 1.]\n",
      " [1. 1. 1.]] \n",
      "\n",
      "5 wartości z rozkładu normalnego N(5, 2):\n",
      " [2.44711414 4.71800429 3.86872933 3.89217564 4.78790422] \n",
      "\n",
      "5 wartości losowych z przedziału <0, 2):\n",
      " [1.77123884 0.51093837 1.99716036 0.14911297 0.29816319] \n",
      "\n",
      "Tablica zer (float64) o takim samym rozmiarze co poprzednia tablica:\n",
      " [0. 0. 0. 0. 0.] \n",
      "\n",
      "Tablica zer (uint8) o takim samym rozmiarze co poprzednia tablica:\n",
      " [0 0 0 0 0] \n",
      "\n"
     ]
    }
   ],
   "source": [
    "# funkcja np.array() zmienia parametr (lista/tuple) na tablicę NumPy,\n",
    "# jednym z parametrów jest dtype który określa typ alokowanych danych (np.int32, np.float32, itp.)\n",
    "\n",
    "arr = np.array([1, 2, 3], dtype=np.int32)\n",
    "\n",
    "print('Tablica int:', arr, '\\n')\n",
    "\n",
    "arr = np.array([1, 2, 3], dtype=np.float32)\n",
    "print('Tablica float:', arr, '\\n')\n",
    "\n",
    "arr = np.zeros([2, 3], dtype=np.float32)\n",
    "print('Tablica zer:\\n', arr, '\\n')\n",
    "\n",
    "arr = np.ones([2, 3], dtype=np.float32)\n",
    "print('Tablica jedynek:\\n', arr, '\\n')\n",
    "\n",
    "arr = np.random.normal(5, 2, [5])\n",
    "print('5 wartości z rozkładu normalnego N(5, 2):\\n', arr, '\\n')\n",
    "\n",
    "arr = np.random.uniform(0, 2, [5])\n",
    "print('5 wartości losowych z przedziału <0, 2):\\n', arr, '\\n')\n",
    "\n",
    "arr = np.zeros_like(arr, dtype=np.float64)\n",
    "print('Tablica zer (float64) o takim samym rozmiarze co poprzednia tablica:\\n', arr, '\\n')\n",
    "\n",
    "arr = np.zeros_like(arr, dtype=np.uint8)\n",
    "print('Tablica zer (uint8) o takim samym rozmiarze co poprzednia tablica:\\n', arr, '\\n')"
   ]
  },
  {
   "cell_type": "markdown",
   "metadata": {
    "id": "X3nF2Ki5qUa3"
   },
   "source": [
    "Dodatkowo w bibliotece można znaleźć metody alokacji według pewnego wzorca jak *range* czy *linspace* (UWAGA: sprawdź, czy metody zwracają również przypadki krańcowe jako elementy tablicy):"
   ]
  },
  {
   "cell_type": "code",
   "execution_count": 4,
   "metadata": {
    "colab": {
     "base_uri": "https://localhost:8080/"
    },
    "executionInfo": {
     "elapsed": 791,
     "status": "ok",
     "timestamp": 1607533636497,
     "user": {
      "displayName": "Dariusz Max Adamski",
      "photoUrl": "https://lh3.googleusercontent.com/a-/AOh14GhnYXiO1WyUqmQTRdZRyU1OAxXlwLrQ5Ovpf1VieQ=s64",
      "userId": "05648663591110704065"
     },
     "user_tz": -60
    },
    "id": "kxa5LFyAqfn_",
    "outputId": "ffcd86a6-838a-436f-ddc8-877f9318afee"
   },
   "outputs": [
    {
     "name": "stdout",
     "output_type": "stream",
     "text": [
      "Linspace: [ 0.          1.11111111  2.22222222  3.33333333  4.44444444  5.55555556\n",
      "  6.66666667  7.77777778  8.88888889 10.        ] \n",
      "\n",
      "ARange: [0.  0.5 1.  1.5 2.  2.5 3.  3.5 4.  4.5 5.  5.5 6.  6.5 7.  7.5 8.  8.5\n",
      " 9.  9.5] \n",
      "\n"
     ]
    }
   ],
   "source": [
    "# alokacja tablicy 10 wartości od 0 do 10 z równym krokiem\n",
    "arr = np.linspace(0, 10, 10)\n",
    "\n",
    "print('Linspace:', arr, '\\n')\n",
    "\n",
    "# alokacja tablicy z wartościami od 0 do 10 z krokiem 0.5\n",
    "arr = np.arange(0, 10, 0.5)\n",
    "\n",
    "print('ARange:', arr, '\\n')"
   ]
  },
  {
   "cell_type": "markdown",
   "metadata": {
    "id": "IBXHfrIcrZrL"
   },
   "source": [
    "Kolejną przydatną funkcją jest funkcja **reshape** do zmiany wymiarów tablicy. "
   ]
  },
  {
   "cell_type": "code",
   "execution_count": 5,
   "metadata": {
    "colab": {
     "base_uri": "https://localhost:8080/"
    },
    "executionInfo": {
     "elapsed": 773,
     "status": "ok",
     "timestamp": 1607533636498,
     "user": {
      "displayName": "Dariusz Max Adamski",
      "photoUrl": "https://lh3.googleusercontent.com/a-/AOh14GhnYXiO1WyUqmQTRdZRyU1OAxXlwLrQ5Ovpf1VieQ=s64",
      "userId": "05648663591110704065"
     },
     "user_tz": -60
    },
    "id": "HHXn_4hvrkSE",
    "outputId": "e5f81f4d-92bd-4898-ef89-7d11447e2900"
   },
   "outputs": [
    {
     "name": "stdout",
     "output_type": "stream",
     "text": [
      "[[ 0.          0.41666667  0.83333333  1.25        1.66666667]\n",
      " [ 2.08333333  2.5         2.91666667  3.33333333  3.75      ]\n",
      " [ 4.16666667  4.58333333  5.          5.41666667  5.83333333]\n",
      " [ 6.25        6.66666667  7.08333333  7.5         7.91666667]\n",
      " [ 8.33333333  8.75        9.16666667  9.58333333 10.        ]]\n"
     ]
    }
   ],
   "source": [
    "# alokacja danych (tablica 25 wartości)\n",
    "arr = np.linspace(0, 10, 25)\n",
    "\n",
    "# zmiana rozmiaru z (25) na (5, 5):\n",
    "arr = np.reshape(arr, [5, 5])\n",
    "\n",
    "print(arr)"
   ]
  },
  {
   "cell_type": "markdown",
   "metadata": {
    "id": "HriZKIT7FWdR"
   },
   "source": [
    "NumPy dostarcza implementacji wielu przydatnych operacji na tablicach. Poniżej zaprezentowane zostały podstawowe operacje:"
   ]
  },
  {
   "cell_type": "code",
   "execution_count": 6,
   "metadata": {
    "colab": {
     "base_uri": "https://localhost:8080/"
    },
    "executionInfo": {
     "elapsed": 762,
     "status": "ok",
     "timestamp": 1607533636498,
     "user": {
      "displayName": "Dariusz Max Adamski",
      "photoUrl": "https://lh3.googleusercontent.com/a-/AOh14GhnYXiO1WyUqmQTRdZRyU1OAxXlwLrQ5Ovpf1VieQ=s64",
      "userId": "05648663591110704065"
     },
     "user_tz": -60
    },
    "id": "1XO7gXvxFqa5",
    "outputId": "a2fcf7bc-95e5-4e2b-fe0c-7de88bbf4ac5"
   },
   "outputs": [
    {
     "name": "stdout",
     "output_type": "stream",
     "text": [
      "Tablica a:\n",
      " [[ 0.08836795 -0.21544934  0.20762827]\n",
      " [ 0.21486893  0.78194197 -0.2506901 ]\n",
      " [-0.53863492 -0.88701718  0.71629529]] \n",
      "\n",
      "Tablica b:\n",
      " [[ 0.89222666  0.44899931 -0.85352153]\n",
      " [ 0.43137371 -0.83617361  0.59703964]\n",
      " [ 0.99390842  0.81813405 -0.22889628]] \n",
      "\n",
      "Mnożenie elementwise:\n",
      " [[ 0.07884424 -0.0967366  -0.1772152 ]\n",
      " [ 0.09268881 -0.65383924 -0.14967193]\n",
      " [-0.53535378 -0.72569895 -0.16395733]] \n",
      "\n",
      "Mnożenie macierzy:\n",
      " [[ 0.19226854  0.38969795 -0.25158108]\n",
      " [ 0.279858   -0.76246135  0.34083712]\n",
      " [-0.15128841  1.08587921 -0.23380524]] \n",
      "\n",
      "Transpozycja:\n",
      " [[ 0.08836795  0.21486893 -0.53863492]\n",
      " [-0.21544934  0.78194197 -0.88701718]\n",
      " [ 0.20762827 -0.2506901   0.71629529]] \n",
      "\n",
      "Potęgowanie:\n",
      " [[0.00780889 0.04641842 0.0431095 ]\n",
      " [0.04616866 0.61143325 0.06284553]\n",
      " [0.29012758 0.78679947 0.51307894]] \n",
      "\n",
      "Broadcasted:\n",
      " [[ 0.08836795 -0.43089867  0.62288481]\n",
      " [ 0.21486893  1.56388394 -0.7520703 ]\n",
      " [-0.53863492 -1.77403435  2.14888586]] \n",
      "\n"
     ]
    }
   ],
   "source": [
    "# alokacja danych\n",
    "a = np.random.normal(0, 1, [3, 3])\n",
    "b = np.random.uniform(-1, 1, [3, 3])\n",
    "\n",
    "print('Tablica a:\\n', a, '\\n\\nTablica b:\\n', b, '\\n')\n",
    "\n",
    "# mnożenie element-wise:\n",
    "print('Mnożenie elementwise:\\n', np.multiply(a, b), '\\n')\n",
    "\n",
    "# mnożenie macierzy:\n",
    "print('Mnożenie macierzy:\\n', np.matmul(a, b), '\\n')\n",
    "\n",
    "# transpozycja tablicy\n",
    "print('Transpozycja:\\n', np.transpose(a, [1, 0]), '\\n')\n",
    "\n",
    "# potęgowanie:\n",
    "print('Potęgowanie:\\n', np.power(a, 2), '\\n')\n",
    "\n",
    "# broadcasted ops (są to operacje które wykonują pewien wzorzec dla wszystkich elementów):\n",
    "# np. dla macierzy o wymiarach (5, 10) możemy zdefiniować tablicę o wymiarach (1, 10)\n",
    "# wówczas podstawowe operacje spowodują, że dla każdego wiersza (5 wierszy) zostanie wykonana\n",
    "# taka operacja z wykorzystaniem 10 elementów drugiej tablicy\n",
    "# poniżej a ma rozmiar (3, 3), factor ma rozmiar (1, 3)\n",
    "factor = np.array([[1, 2, 3]], dtype=np.float)\n",
    "print('Broadcasted:\\n', np.multiply(a, factor), '\\n')\n",
    "\n",
    "# TODO: sprawdź również broadcasted ops dla innych operacji jak dodawanie, odejmowanie."
   ]
  },
  {
   "cell_type": "markdown",
   "metadata": {
    "id": "HLajGS7BH33s"
   },
   "source": [
    "Podstawowe operacje jak dodawanie, odejmowanie, mnożenie (element-wise), potęgowanie jest również dostępne korzystając z Python-owych operatorów (+, -, ...)"
   ]
  },
  {
   "cell_type": "code",
   "execution_count": 7,
   "metadata": {
    "colab": {
     "base_uri": "https://localhost:8080/"
    },
    "executionInfo": {
     "elapsed": 751,
     "status": "ok",
     "timestamp": 1607533636499,
     "user": {
      "displayName": "Dariusz Max Adamski",
      "photoUrl": "https://lh3.googleusercontent.com/a-/AOh14GhnYXiO1WyUqmQTRdZRyU1OAxXlwLrQ5Ovpf1VieQ=s64",
      "userId": "05648663591110704065"
     },
     "user_tz": -60
    },
    "id": "KMl2sLqvIY59",
    "outputId": "6d8f85d2-73bf-4c3b-c921-b9f1fd9f9a02"
   },
   "outputs": [
    {
     "name": "stdout",
     "output_type": "stream",
     "text": [
      "[[1. 1. 1.]\n",
      " [1. 1. 1.]\n",
      " [1. 1. 1.]] \n",
      "\n",
      "[[4. 4. 4.]\n",
      " [4. 4. 4.]\n",
      " [4. 4. 4.]] \n",
      "\n",
      "[[11. 11. 11.]\n",
      " [11. 11. 11.]\n",
      " [11. 11. 11.]] \n",
      "\n",
      "[[10. 10. 10.]\n",
      " [10. 10. 10.]\n",
      " [10. 10. 10.]] \n",
      "\n"
     ]
    }
   ],
   "source": [
    "a = np.ones([3, 3])\n",
    "\n",
    "print(a, '\\n')\n",
    "print((a * 2) ** 2, '\\n')\n",
    "print(a + 10, '\\n')\n",
    "print(a * 10, '\\n')"
   ]
  },
  {
   "cell_type": "markdown",
   "metadata": {
    "id": "-AqptNHVsTWd"
   },
   "source": [
    "### Zadanie 0\n",
    "Wykonaj poniższe polecenia:"
   ]
  },
  {
   "cell_type": "code",
   "execution_count": 8,
   "metadata": {
    "colab": {
     "base_uri": "https://localhost:8080/"
    },
    "executionInfo": {
     "elapsed": 743,
     "status": "ok",
     "timestamp": 1607533636500,
     "user": {
      "displayName": "Dariusz Max Adamski",
      "photoUrl": "https://lh3.googleusercontent.com/a-/AOh14GhnYXiO1WyUqmQTRdZRyU1OAxXlwLrQ5Ovpf1VieQ=s64",
      "userId": "05648663591110704065"
     },
     "user_tz": -60
    },
    "id": "SN2wZRBWsYYH",
    "outputId": "dd28a625-04ee-4250-be2f-d1715d542e5d"
   },
   "outputs": [
    {
     "name": "stdout",
     "output_type": "stream",
     "text": [
      "[[ 0.          1.05263158  2.10526316  3.15789474  4.21052632  5.26315789\n",
      "   6.31578947  7.36842105  8.42105263  9.47368421]\n",
      " [10.52631579 11.57894737 12.63157895 13.68421053 14.73684211 15.78947368\n",
      "  16.84210526 17.89473684 18.94736842 20.        ]] \n",
      "\n",
      "[[ 2.          3.05263158  4.10526316  5.15789474  6.21052632  7.26315789\n",
      "   8.31578947  9.36842105 10.42105263 11.47368421]\n",
      " [15.52631579 16.57894737 17.63157895 18.68421053 19.73684211 20.78947368\n",
      "  21.84210526 22.89473684 23.94736842 25.        ]] \n",
      "\n",
      "[241.06648199 274.86149584 310.87257618 349.09972299 389.54293629\n",
      " 432.20221607 477.07756233 524.16897507 573.47645429 625.        ]\n"
     ]
    }
   ],
   "source": [
    "arr = np.linspace(0, 20, 20)\n",
    "\n",
    "#TODO: zmień kształt tablicy na (2, 10) - 2 wiersze po 10 wartości\n",
    "arr = arr.reshape(2, 10)\n",
    "print(arr, '\\n')\n",
    "\n",
    "#TODO: powiększ pierwszy wiersz o 2, drugi o 5. Operacja powinna być wykonana w 1 linii (zaalokuj zmienną a i wykorzystaj ją w operacji)\n",
    "a = np.repeat([[2], [5]], 10, axis=1)\n",
    "arr = arr + a\n",
    "\n",
    "print(arr, '\\n')\n",
    "\n",
    "#TODO: tablice NumPy można indeksować tak jak w innych językach programowania (np C, C++, Java)\n",
    "#TODO: ''wybierz'' z tablicy drugi wiersz, podnieś do potęgi jego elementy i wyświetl funkcją print()\n",
    "arr = arr[1]**2\n",
    "print(arr)"
   ]
  },
  {
   "cell_type": "markdown",
   "metadata": {
    "id": "v9W5ffp5IrnJ"
   },
   "source": [
    "### Zadanie 1\n",
    "Napisz funkcję liniową dla wielu zmiennych (**X** ma rozmiar *n* - liczba zmiennych), jednego współczynnika kierunkowego **a** i jednego wyrazu wolnego **b**. Następnie sprawdź, czy funkcja działa również, gdy dla każdej zmiennej przypiszemy osobne wartości a i b."
   ]
  },
  {
   "cell_type": "code",
   "execution_count": 9,
   "metadata": {
    "colab": {
     "base_uri": "https://localhost:8080/"
    },
    "executionInfo": {
     "elapsed": 735,
     "status": "ok",
     "timestamp": 1607533636500,
     "user": {
      "displayName": "Dariusz Max Adamski",
      "photoUrl": "https://lh3.googleusercontent.com/a-/AOh14GhnYXiO1WyUqmQTRdZRyU1OAxXlwLrQ5Ovpf1VieQ=s64",
      "userId": "05648663591110704065"
     },
     "user_tz": -60
    },
    "id": "CCRLIDLmI1yr",
    "outputId": "b0d2db6e-e0c3-463b-a2c3-f7c24cf02f53"
   },
   "outputs": [
    {
     "name": "stdout",
     "output_type": "stream",
     "text": [
      "[1 3 5 7 9]\n",
      "[ 6 12  9 17  6]\n"
     ]
    }
   ],
   "source": [
    "x = np.array([1, 2, 3, 4, 5])\n",
    "a = np.array(2)\n",
    "b = np.array(-1)\n",
    "\n",
    "def f1(x, a, b):\n",
    "  return x*a + b\n",
    "  \n",
    "print(f1(x, a, b))\n",
    "\n",
    "a = np.array([1, 5, 2, 3, 1])\n",
    "b = np.array([5, 2, 3, 5, 1])\n",
    "\n",
    "print(f1(x, a, b))"
   ]
  },
  {
   "cell_type": "markdown",
   "metadata": {
    "id": "FCgv2OGMmjP3"
   },
   "source": [
    "Mechanizm polegający na wykonaniu tej samej operacji dla wszystkich wartości w danej osi nazywa się **broadcasting**. Przykładowo, wynikiem mnożenia dwóch zmiennych o wymiarach [20] i [1] będzie zmienna o wymiarze [20], dla zmiennych o wymiarach [20, 1] i [1, 20] wynikiem będzie zmienna o wymiarach [20, 20] (a więc każdy element z pierwszej zmiennej, przemnożony zostanie przez wszystkie wartości (**osobno**) z drugiej zmiennej."
   ]
  },
  {
   "cell_type": "markdown",
   "metadata": {
    "id": "W_kYYr5vKIw4"
   },
   "source": [
    "### Zadanie 2\n",
    "\n",
    "Napisz funkcję, która będzie wykonywała kombinację liniową zmiennych **X** oraz wektora **a**. Sprawdź, czy dla wielu wektorów **a** funkcja będzie działała (jeśli nie, popraw funkcję).\n"
   ]
  },
  {
   "cell_type": "code",
   "execution_count": 10,
   "metadata": {
    "colab": {
     "base_uri": "https://localhost:8080/"
    },
    "executionInfo": {
     "elapsed": 729,
     "status": "ok",
     "timestamp": 1607533636501,
     "user": {
      "displayName": "Dariusz Max Adamski",
      "photoUrl": "https://lh3.googleusercontent.com/a-/AOh14GhnYXiO1WyUqmQTRdZRyU1OAxXlwLrQ5Ovpf1VieQ=s64",
      "userId": "05648663591110704065"
     },
     "user_tz": -60
    },
    "id": "QwvXJ0GOL4Z3",
    "outputId": "971a06be-f89d-4d2e-adc6-77b03aefd88e"
   },
   "outputs": [
    {
     "name": "stdout",
     "output_type": "stream",
     "text": [
      "38\n",
      "[[38 15]]\n"
     ]
    }
   ],
   "source": [
    "x = np.array([2, 3, 5])\n",
    "a = np.array([5, 1, 5])\n",
    "\n",
    "def f2(x, a):\n",
    "  return x@a\n",
    "    \n",
    "print(f2(x, a))\n",
    "\n",
    "# for broadcast\n",
    "x = np.expand_dims(x, 0)\n",
    "\n",
    "a = np.array([\n",
    "    [5, 2],\n",
    "    [1, 2],\n",
    "    [5, 1]\n",
    "])\n",
    "\n",
    "print(f2(x, a))"
   ]
  },
  {
   "cell_type": "markdown",
   "metadata": {
    "id": "qnpgaxS9Ux4L"
   },
   "source": [
    "## Perceptron (Neuron)\n",
    "\n",
    "Podstawowym elementem każdej sieci neuronowej jest perceptron. Jest to jednostka która wykonuje następującą operację:\n",
    "\n",
    "$$z = \\sum_i x_i * w_i + b$$\n",
    "$$y = f(z)$$\n",
    "\n",
    "Gdzie $x_i$ to i-te *wejście* perceptronu, $w_i$ to waga tego wejścia, natomiast $b$ to pewna stała. Wyjście funkcji liniowej $z$ jest następnie podawane na wejście pewnej funkcji aktywacji $f$.\n",
    "\n",
    "Istnieje wiele funkcji aktywacji takich jak:\n",
    "* skokowa (*funkcja progowa unipolarna*),\n",
    "$${\\displaystyle y(x)=\\left\\{{\\begin{matrix}0 & dla & x\\lt a\\\\1 & dla&x\\geq a\\\\\\end{matrix}}\\right.}$$\n",
    "* sigmoid,\n",
    "$$y(x)={\\frac {1}{1+e^{-\\beta x}}}$$\n",
    "* tangens hiperboliczny,\n",
    "$$y(x)={\\frac {2}{1+e^{-\\beta x}}}-1={\\frac {1-e^{-\\beta x}}{1+e^{-\\beta x}}}$$\n",
    "* relu,\n",
    "$$y(x)=max(0, x)$$\n",
    "\n",
    "\n",
    " Dla skokowej funkcji aktywacji zwyczajowo mówimy o perceptronie, dla innych funkcji aktywacji mówimy o **neuronie**.\n",
    "\n",
    "\n",
    "---\n",
    "\n",
    "\n",
    "Neuron wchodzi w skład wielu różnych elementów sieci neuronowej jak *konwolucja* czy *warstwa w pełni połączona* (fully connected).\n",
    "W przypadku warstwy fully connected wzór rozszerza się trywialnie na:\n",
    "\n",
    "$$z_j = \\sum_i x_i * w_{ij} + b_j$$\n",
    "$$y_j = f(z_j)$$\n",
    "\n",
    "Gdzie $j$ oznacza j-ty neuron. \n",
    "Jak widać powyżej, każdy z neuronów korzysta ze wszystkich wejść. Składnik $\\sum_i x_i * w_{ij}$ to kombinacja liniowa (patrz zadanie 2).\n",
    "\n",
    "\n",
    "\n",
    "---\n",
    "\n",
    "### Zadanie 3\n",
    "Zaimplementuj z wykorzystaniem biblioteki NumPy prosty perceptron (linear) oraz następujące funkcje aktywacji: **sigmoid**, **relu**."
   ]
  },
  {
   "cell_type": "code",
   "execution_count": 11,
   "metadata": {
    "colab": {
     "base_uri": "https://localhost:8080/"
    },
    "executionInfo": {
     "elapsed": 721,
     "status": "ok",
     "timestamp": 1607533636501,
     "user": {
      "displayName": "Dariusz Max Adamski",
      "photoUrl": "https://lh3.googleusercontent.com/a-/AOh14GhnYXiO1WyUqmQTRdZRyU1OAxXlwLrQ5Ovpf1VieQ=s64",
      "userId": "05648663591110704065"
     },
     "user_tz": -60
    },
    "id": "oz25l0F1aUiY",
    "outputId": "1e428161-9807-4100-80f7-c4a5c0c8acaf"
   },
   "outputs": [
    {
     "name": "stdout",
     "output_type": "stream",
     "text": [
      "Linear activation:\n",
      " [[-0.84888871  0.54776496]] \n",
      "\n",
      "Sigmoid activation:\n",
      " [[0.39545375 0.5680458 ]] \n",
      "\n",
      "Relu activation:\n",
      " [[0.         0.54776496]] \n",
      "\n"
     ]
    }
   ],
   "source": [
    "def linear(x, w, b):\n",
    "  return x@w + b\n",
    "\n",
    "def sigmoid(z, beta=0.5):\n",
    "  return 1 / (1 + np.exp(-beta*z))\n",
    "\n",
    "def relu(z):\n",
    "  return np.where(z > 0, z, 0)\n",
    "  \n",
    "# UWAGA: rozmiar wejściowy (1, 5) ma dodaną jedynkę tylko ze względów obliczeniowych\n",
    "x = np.random.normal(0, 1, [1, 5])\n",
    "w = np.random.normal(0, 1, [5, 2])\n",
    "b = np.random.normal(0, 1, [2])\n",
    "\n",
    "z = linear(x, w, b)\n",
    "\n",
    "print('Linear activation:\\n', z, '\\n')\n",
    "print('Sigmoid activation:\\n', sigmoid(z), '\\n')\n",
    "print('Relu activation:\\n', relu(z), '\\n')"
   ]
  },
  {
   "cell_type": "markdown",
   "metadata": {
    "id": "z_FP5yglctfL"
   },
   "source": [
    "## Uczenie neuronów\n",
    "\n",
    "Podstawową metodą uczenia sieci neuronowych jest **metoda największego spadku**. Aby wykonać tę metodę niezbędne jest zdefiniowanie odpowiedniej **funkcji straty**. Funkcja straty określa jak bardzo nasza sieć myli się na danym przykładzie. Przykładowo jeśli neuron ma za zadanie odwzorować funkcję sinus to funkcją straty może być różnica pomiędzy estymowanym wyjściem neuronu ($y$) a pożądanym wyjściem ($y'$). Innym przykładem może byc klasyfikacja - sieć może estymować rozkład prawdopodobieństwa klas dla danego obrazka wejściowego (np. czy jest to kot czy pies), natomiast pożądanym wyjściem będzie **one-hot** wektor z zapalonym bitem na pozycji klasy prawdziwej. Wówczas jako funkcję straty możemy określić **cross-entropy**.\n",
    "\n",
    "Dla różnego rodzaju sieci (i ich przeznczenia) można korzystać z różnych funkcji strat. Do najpopularniejszych należą:\n",
    "* Mean Square Error:\n",
    "$$L = \\frac{1}{n}\\sum_i^n(y - y')^2$$\n",
    "gdzie $y$ to wyjście z neuronu (sieć), natomiast $y'$ to tzw. ground-truth - wartość, którą neuron (sieć) ma aproksymować,\n",
    "* Mean Absolute Error:\n",
    "$$L = \\frac{1}{n}\\sum_i^n |y - y'|$$\n",
    "* Cross-Entropy:\n",
    "$$L(p,q)=-\\sum _{x}p(x)\\,\\log q(x)$$\n",
    "gdzie p to pewien rozkład prawdopodobieństwa estymowany przez sieć, q to ground-truth rozkład prawdopodobieństwa. $x$ to przykład wejściowy.\n",
    "\n",
    "### Zadanie 4\n",
    "Zaimplementuj funkcję straty Mean Square Error (UWAGA: Mean Square Error jest liczony dla każdego przykładu (wiersza) osobno - przy obliczaniu średniej podaj odpowiedni parametr axis, wykorzystaj funkcję **np.mean**):"
   ]
  },
  {
   "cell_type": "code",
   "execution_count": 12,
   "metadata": {
    "colab": {
     "base_uri": "https://localhost:8080/"
    },
    "executionInfo": {
     "elapsed": 1781,
     "status": "ok",
     "timestamp": 1607533637568,
     "user": {
      "displayName": "Dariusz Max Adamski",
      "photoUrl": "https://lh3.googleusercontent.com/a-/AOh14GhnYXiO1WyUqmQTRdZRyU1OAxXlwLrQ5Ovpf1VieQ=s64",
      "userId": "05648663591110704065"
     },
     "user_tz": -60
    },
    "id": "rit_pqx5B_VZ",
    "outputId": "8f892e5b-8195-4177-9e29-00061ddbdc0c"
   },
   "outputs": [
    {
     "name": "stdout",
     "output_type": "stream",
     "text": [
      "Mean Square Error: [10.66666667  0.66666667]\n"
     ]
    }
   ],
   "source": [
    "y = np.array([\n",
    "    [5, 1, 2],\n",
    "    [2, 2, 3]\n",
    "])\n",
    "y_hat = np.array([\n",
    "    [1, 5, 2],\n",
    "    [2, 3, 2]\n",
    "])\n",
    "\n",
    "def mse(y, y_hat):\n",
    "  return np.mean((y - y_hat)**2, axis=1)\n",
    "\n",
    "print('Mean Square Error:', mse(y, y_hat))"
   ]
  },
  {
   "cell_type": "markdown",
   "metadata": {
    "id": "Bmf9bVIdB9z0"
   },
   "source": [
    "#### Aktualizacja wag\n",
    "\n",
    "We wcześniejszych zadaniach można wyróżnić **zmienne uczące** oraz **propagowany sygnał**. Zmiennymi uczącymi nazywamy wszystkie parametry, które wchodzą w skład neuronów ale nie są podawane na wejściu. Z ich pomocą uczymy sieć aby produkowała pożądane wyjście na podstawie przykładów wejściowych. Przykłady wejściowe jak i rezultaty neuronów nazywamy propagowanym sygnałem. Jest to sygnał wykorzystany w procesie uczenia do określenia błędu jaki popełnił każdy z neuronów i w końcu do **obliczenia nowych wartości zmiennych**.\n",
    "\n",
    "Wyliczenie nowych wartości zmiennych przebiega zgodnie z zasadą:\n",
    "\n",
    "$$w_i' = w_i - \\mu \\frac{\\partial L}{\\partial w_i} $$\n",
    "\n",
    "Gdzie $\\mu$ to prędkość uczenia.\n",
    "\n",
    "Jak widać największy problem stanowi obliczenie pochodnej funkcji straty po danej wadze. W przypadku jednowarstwowej sieci neuronowej otrzymujemy (korzystając z chain-rule):\n",
    "\n",
    "$$\\frac{\\partial L}{\\partial w_i} = \\frac{\\partial L}{\\partial y} \\frac{\\partial y}{\\partial w_i}$$\n",
    "\n",
    "Wówczas ponownie korzystając z chain rule:\n",
    "\n",
    "$$\\frac{\\partial L}{\\partial w_i} = \\frac{\\partial L}{\\partial y} \\frac{\\partial y}{\\partial w_i} = \\frac{\\partial L}{\\partial y} \\frac{\\partial y}{\\partial z}\\frac{\\partial z}{\\partial w_i}$$\n",
    "\n",
    "Gdzie $\\frac{\\partial y}{\\partial z}$ to pochodna funkcji aktywacji, natomiast $z = \\sum_iw_ix_i + b$, dla której pochodna jest równa $x_i$, stąd:\n",
    "\n",
    "$$\\frac{\\partial L}{\\partial w_i} = \\frac{\\partial L}{\\partial y} f'(z) x_i$$\n",
    "\n",
    "Końcowo:\n",
    "\n",
    "$$w_i' = w_i - \\mu \\frac{\\partial L}{\\partial y} f'(z) x_i $$\n",
    "\n",
    "*Wskazówka do kolejnych zadań:*\n",
    "\n",
    "* Zastępując $\\frac{\\partial L}{\\partial y} f'(z) = \\delta$ zwór można zapisać jako:\n",
    "$$w_i' = w_i - \\mu \\delta x_i $$\n",
    "\n",
    "\n",
    "---\n",
    "\n",
    "### Zadanie 5\n",
    "Zaimplementuj pochodne funkcji aktywacji: **relu** oraz **sigmoid** oraz funkcji liniowej. Dodatkowo zaimplementuj pochodną funkcji straty **Mean Square Error**.\n",
    "\n",
    "**Podpowiedź:** tablice w NumPy można indeksować tablicą bool-ową. Przykład:\n",
    "\n",
    "\n",
    "```\n",
    "a = np.random.normal(0, 1, [3, 3])\n",
    "a[a<0] = -1\n",
    "a[a>=0] = 1\n",
    "```\n",
    "\n",
    "Powyższy przykład ustawia wartości w tablicy na -1, gdzie poprzednio była wartość ujemna, natomiast dla wartości dodatnich (lub 0) ustawia wartość 1.\n",
    "\n",
    "\n"
   ]
  },
  {
   "cell_type": "code",
   "execution_count": 13,
   "metadata": {
    "executionInfo": {
     "elapsed": 1775,
     "status": "ok",
     "timestamp": 1607533637569,
     "user": {
      "displayName": "Dariusz Max Adamski",
      "photoUrl": "https://lh3.googleusercontent.com/a-/AOh14GhnYXiO1WyUqmQTRdZRyU1OAxXlwLrQ5Ovpf1VieQ=s64",
      "userId": "05648663591110704065"
     },
     "user_tz": -60
    },
    "id": "MWQXvZOZ_2OS"
   },
   "outputs": [],
   "source": [
    "def d_relu(z):\n",
    "  return np.where(z > 0, 1, 0)\n",
    "\n",
    "def d_sigmoid(z, beta=0.5):\n",
    "  a = np.exp(-beta*z)\n",
    "  return b*a / (1 + a)**2\n",
    "\n",
    "def d_linear(x, w, b):\n",
    "  return w\n",
    "\n",
    "def d_mse(y, y_hat):\n",
    "  return -2 * np.mean(y - y_hat, axis=1)"
   ]
  },
  {
   "cell_type": "markdown",
   "metadata": {
    "id": "7U2VS0EAAQ2W"
   },
   "source": [
    "### Zadanie 6\n",
    "Zaimplementuj funkcję obliczającą nową wartość dla zmiennych **w**."
   ]
  },
  {
   "cell_type": "code",
   "execution_count": 14,
   "metadata": {
    "colab": {
     "base_uri": "https://localhost:8080/"
    },
    "executionInfo": {
     "elapsed": 1770,
     "status": "ok",
     "timestamp": 1607533637569,
     "user": {
      "displayName": "Dariusz Max Adamski",
      "photoUrl": "https://lh3.googleusercontent.com/a-/AOh14GhnYXiO1WyUqmQTRdZRyU1OAxXlwLrQ5Ovpf1VieQ=s64",
      "userId": "05648663591110704065"
     },
     "user_tz": -60
    },
    "id": "B3twSteMAh_V",
    "outputId": "f5ce8e97-0228-4385-9c09-138157dabcef"
   },
   "outputs": [
    {
     "name": "stdout",
     "output_type": "stream",
     "text": [
      "X:\n",
      " [[ 0.85107695  0.31285743 -1.81445596  0.48994681  0.01203011]] \n",
      "\n",
      "Z:\n",
      " [[2.2421291]] \n",
      "\n",
      "Y:\n",
      " [[2.2421291]]\n",
      "Delta:\n",
      " [[0.26830285]] \n",
      "\n",
      "Wagi przed:\n",
      " [[ 0.55557089]\n",
      " [-1.84523945]\n",
      " [-1.64973628]\n",
      " [-0.1236169 ]\n",
      " [-0.3035524 ]] \n",
      "\n",
      "Wagi po:\n",
      " [[ 0.55328743]\n",
      " [-1.84607886]\n",
      " [-1.64486805]\n",
      " [-0.12493144]\n",
      " [-0.30358467]]\n"
     ]
    }
   ],
   "source": [
    "mu = 1e-2\n",
    "\n",
    "# UWAGA: rozmiar wejściowy (1, 5) ma dodaną jedynkę tylko ze względów obliczeniowych\n",
    "x = np.random.normal(0, 1, [1, 5])\n",
    "w = np.random.normal(0, 1, [5, 1])\n",
    "b = np.random.normal(0, 1, [1])\n",
    "\n",
    "y_hat = np.ones([1, 1], dtype=np.float32)\n",
    "\n",
    "z = linear(x, w, b)\n",
    "y = relu(z)\n",
    "\n",
    "print('X:\\n', x, '\\n')\n",
    "print('Z:\\n', z, '\\n')\n",
    "print('Y:\\n', y)\n",
    "\n",
    "delta = d_sigmoid(z) * d_mse(y, y_hat)\n",
    "\n",
    "print('Delta:\\n', delta, '\\n')\n",
    "\n",
    "def update(w, mu, delta, x):\n",
    "  return w - mu*delta*x.T\n",
    "\n",
    "w_new = update(w, mu, delta, x)\n",
    "\n",
    "print('Wagi przed:\\n', w, '\\n')\n",
    "print('Wagi po:\\n', w_new)"
   ]
  },
  {
   "cell_type": "markdown",
   "metadata": {
    "id": "mbVuSc6DFIUA"
   },
   "source": [
    "### Zadanie 7*\n",
    "Wyznacz regułę aktualizacji dla zmiennych **b**."
   ]
  },
  {
   "cell_type": "code",
   "execution_count": 15,
   "metadata": {
    "colab": {
     "base_uri": "https://localhost:8080/"
    },
    "executionInfo": {
     "elapsed": 1765,
     "status": "ok",
     "timestamp": 1607533637569,
     "user": {
      "displayName": "Dariusz Max Adamski",
      "photoUrl": "https://lh3.googleusercontent.com/a-/AOh14GhnYXiO1WyUqmQTRdZRyU1OAxXlwLrQ5Ovpf1VieQ=s64",
      "userId": "05648663591110704065"
     },
     "user_tz": -60
    },
    "id": "GHM3dEmAQdiu",
    "outputId": "cf644d42-4df7-460b-db2c-6701c6c89429"
   },
   "outputs": [
    {
     "name": "stdout",
     "output_type": "stream",
     "text": [
      "Bias przed:\n",
      "[-0.58256398]\n",
      "Bias po:\n",
      "[[-0.58524701]]\n"
     ]
    }
   ],
   "source": [
    "print('Bias przed:')\n",
    "print(b)\n",
    "b_new = b - mu*delta\n",
    "print('Bias po:')\n",
    "print(b_new)"
   ]
  },
  {
   "cell_type": "code",
   "execution_count": 15,
   "metadata": {
    "executionInfo": {
     "elapsed": 1764,
     "status": "ok",
     "timestamp": 1607533637570,
     "user": {
      "displayName": "Dariusz Max Adamski",
      "photoUrl": "https://lh3.googleusercontent.com/a-/AOh14GhnYXiO1WyUqmQTRdZRyU1OAxXlwLrQ5Ovpf1VieQ=s64",
      "userId": "05648663591110704065"
     },
     "user_tz": -60
    },
    "id": "hdJnb_Cld7oZ"
   },
   "outputs": [],
   "source": []
  }
 ],
 "metadata": {
  "accelerator": "GPU",
  "colab": {
   "collapsed_sections": [],
   "name": "eio-lab1.ipynb",
   "provenance": [
    {
     "file_id": "1ybL4NdZ6ks3xW2xKytn2BoVMoBmnkJbq",
     "timestamp": 1607006051466
    },
    {
     "file_id": "1IoykAcFSx3zbSP0o-grMcQDJ_RJ3RsQD",
     "timestamp": 1572989901363
    },
    {
     "file_id": "1KkEkBZP_Np-vTCyez6XqmCLWbreb6Mnn",
     "timestamp": 1572989895093
    },
    {
     "file_id": "1n9-kVtnVLuvIf5EjxR928ea-M93iLtip",
     "timestamp": 1572989889002
    },
    {
     "file_id": "1QpsxkPhAE-EgfwYsOsRPd_KobYhyFan9",
     "timestamp": 1572989882145
    },
    {
     "file_id": "1YyS2vvPmtCATqCXPNrdic-aKZxtdm35j",
     "timestamp": 1572989874798
    },
    {
     "file_id": "1aknfFPOfmvYFqJdqkyaHQLjomDNh4KpT",
     "timestamp": 1572989868630
    },
    {
     "file_id": "1XAUKPGNFNzkiuiNUTFGzxJh3VxFAWamq",
     "timestamp": 1572989860085
    }
   ],
   "toc_visible": true
  },
  "kernelspec": {
   "display_name": "Python 3",
   "language": "python",
   "name": "python3"
  },
  "language_info": {
   "codemirror_mode": {
    "name": "ipython",
    "version": 3
   },
   "file_extension": ".py",
   "mimetype": "text/x-python",
   "name": "python",
   "nbconvert_exporter": "python",
   "pygments_lexer": "ipython3",
   "version": "3.8.3"
  }
 },
 "nbformat": 4,
 "nbformat_minor": 1
}
