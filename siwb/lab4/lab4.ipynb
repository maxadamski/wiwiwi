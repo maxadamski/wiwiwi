{
 "cells": [
  {
   "cell_type": "markdown",
   "metadata": {},
   "source": [
    "# SIwB lab04\n",
    "\n",
    "Autorzy: Zespół: Max Adamski, Sławomir Gilewski, Patryk Jedlikowski, Mikołaj Sienkiewicz"
   ]
  },
  {
   "cell_type": "code",
   "execution_count": 1,
   "metadata": {
    "ExecuteTime": {
     "end_time": "2022-04-25T14:49:19.623266Z",
     "start_time": "2022-04-25T14:49:19.616533Z"
    },
    "execution": {
     "iopub.execute_input": "2022-05-05T14:45:04.150221Z",
     "iopub.status.busy": "2022-05-05T14:45:04.148172Z",
     "iopub.status.idle": "2022-05-05T14:45:14.506777Z",
     "shell.execute_reply": "2022-05-05T14:45:14.505995Z",
     "shell.execute_reply.started": "2022-05-05T14:45:04.150100Z"
    },
    "id": "9ab0cdd3",
    "outputId": "44538c77-2164-4ee7-d474-311ae96ad8d4"
   },
   "outputs": [],
   "source": [
    "#!pip install -U xmltodict"
   ]
  },
  {
   "cell_type": "code",
   "execution_count": 4,
   "metadata": {
    "execution": {
     "iopub.execute_input": "2022-05-05T14:46:05.158581Z",
     "iopub.status.busy": "2022-05-05T14:46:05.158281Z",
     "iopub.status.idle": "2022-05-05T14:49:09.768530Z",
     "shell.execute_reply": "2022-05-05T14:49:09.767588Z",
     "shell.execute_reply.started": "2022-05-05T14:46:05.158547Z"
    }
   },
   "outputs": [],
   "source": [
    "#!cp -r ../input/siwblab4/RNA-Puzzles ./RNA-Puzzles"
   ]
  },
  {
   "cell_type": "code",
   "execution_count": 5,
   "metadata": {
    "ExecuteTime": {
     "end_time": "2022-04-25T14:49:22.138434Z",
     "start_time": "2022-04-25T14:49:19.629134Z"
    },
    "execution": {
     "iopub.execute_input": "2022-05-05T14:49:09.770800Z",
     "iopub.status.busy": "2022-05-05T14:49:09.770537Z",
     "iopub.status.idle": "2022-05-05T14:49:10.709698Z",
     "shell.execute_reply": "2022-05-05T14:49:10.709007Z",
     "shell.execute_reply.started": "2022-05-05T14:49:09.770764Z"
    },
    "id": "fa4684b3"
   },
   "outputs": [],
   "source": [
    "import os\n",
    "import pandas as pd\n",
    "import numpy as np\n",
    "import xmltodict\n",
    "import seaborn as sns\n",
    "import matplotlib.pyplot as plt\n",
    "from tqdm import tqdm\n",
    "from math import ceil\n",
    "from functools import lru_cache"
   ]
  },
  {
   "cell_type": "code",
   "execution_count": 6,
   "metadata": {
    "ExecuteTime": {
     "end_time": "2022-04-25T14:49:22.149687Z",
     "start_time": "2022-04-25T14:49:22.143062Z"
    },
    "execution": {
     "iopub.execute_input": "2022-05-05T14:49:10.711013Z",
     "iopub.status.busy": "2022-05-05T14:49:10.710736Z",
     "iopub.status.idle": "2022-05-05T14:49:10.716582Z",
     "shell.execute_reply": "2022-05-05T14:49:10.715921Z",
     "shell.execute_reply.started": "2022-05-05T14:49:10.710978Z"
    },
    "id": "2a6a427c"
   },
   "outputs": [],
   "source": [
    "assert os.path.exists('RNA-Puzzles/'), 'You should extract SIwB-lab-04-data.zip in this directory'\n",
    "temp_dir = 'cache'\n",
    "if not os.path.exists(temp_dir):\n",
    "    os.mkdir(temp_dir)\n",
    "# pliki .pdb - reprezentacja kartezjańska (https://www.cgl.ucsf.edu/chimera/docs/UsersGuide/tutorials/pdbintro.html)\n",
    "# pliki .tor - reprezentacja torsyjna"
   ]
  },
  {
   "cell_type": "code",
   "execution_count": 7,
   "metadata": {
    "ExecuteTime": {
     "end_time": "2022-04-25T14:49:22.183808Z",
     "start_time": "2022-04-25T14:49:22.154133Z"
    },
    "execution": {
     "iopub.execute_input": "2022-05-05T14:49:10.719176Z",
     "iopub.status.busy": "2022-05-05T14:49:10.718713Z",
     "iopub.status.idle": "2022-05-05T14:49:10.733424Z",
     "shell.execute_reply": "2022-05-05T14:49:10.732734Z",
     "shell.execute_reply.started": "2022-05-05T14:49:10.719134Z"
    },
    "id": "3ea68067",
    "outputId": "b6e0a392-c62c-4381-b5f5-5e0d31b661f8"
   },
   "outputs": [],
   "source": [
    "def read_xml(path):\n",
    "    with open(path) as f:\n",
    "        data = xmltodict.parse(f.read())\n",
    "    scores = {}\n",
    "    errors = {}\n",
    "    for structure in data['measureScores'].values():\n",
    "        for description in structure:\n",
    "            filename = description['description']['filename']\n",
    "            file_err = description['description']['errors']\n",
    "            if file_err: errors[filename] = file_err['error']\n",
    "            scores[filename] = float(description['score'])\n",
    "    \n",
    "    return scores, errors\n",
    "\n",
    "scores, errors = read_xml('RNA-Puzzles/pz01/1_solution_0_rpr_A_10_C-rmsd.xml')\n",
    "scores"
   ]
  },
  {
   "cell_type": "code",
   "execution_count": 8,
   "metadata": {
    "ExecuteTime": {
     "end_time": "2022-04-25T14:49:22.273725Z",
     "start_time": "2022-04-25T14:49:22.191909Z"
    },
    "execution": {
     "iopub.execute_input": "2022-05-05T14:49:10.735256Z",
     "iopub.status.busy": "2022-05-05T14:49:10.734637Z",
     "iopub.status.idle": "2022-05-05T14:49:10.795634Z",
     "shell.execute_reply": "2022-05-05T14:49:10.795014Z",
     "shell.execute_reply.started": "2022-05-05T14:49:10.735219Z"
    },
    "id": "088c0a21",
    "outputId": "12e44bd1-028f-47ce-afed-367d210e5d98"
   },
   "outputs": [],
   "source": [
    "pdb_columns = 'type index atom residue chain residue_sequence x y z occupancy temperature_factor element'.split()\n",
    "        \n",
    "def preprocess_pdb(df):\n",
    "    for val in 'ACUG':\n",
    "        df['residue_'+val] = df.residue.str.contains(val).astype(int)\n",
    "    for val in 'CNOP':\n",
    "        df['atom_'+val] = df.atom.str.contains(val).astype(int)\n",
    "    df = df.drop(columns='index atom chain residue_sequence'.split())\n",
    "    df = df.drop(columns=['type', 'residue', 'element']).fillna(0).apply(pd.to_numeric)\n",
    "    return df\n",
    "\n",
    "def parse_atom(l):\n",
    "    return [\n",
    "        'ATOM',\n",
    "        int(l[6:11].strip()), # atom serial number\n",
    "        l[12:16].strip(), # atom name\n",
    "        #l[16], # alternate location indicator (don't care)\n",
    "        l[17:20].strip(), # residue name\n",
    "        l[21].strip(), # chain id\n",
    "        int(l[22:26]), # residue sequence number\n",
    "        #l[26], # code for insertion of residues (don't care)\n",
    "        float(l[30:38]), # x coordinate (A)\n",
    "        float(l[38:46]), # y coordinate (A)\n",
    "        float(l[46:54]), # z coordinate (A)\n",
    "        float(l[54:60]), # occupancy\n",
    "        float(l[60:66]), # temperature factor\n",
    "        #l[72:76].strip(), # segment identifier (don't care)\n",
    "        l[13] #l[76:78].strip(), # element symbol\n",
    "    ]\n",
    "\n",
    "def read_pdb(path, *, preprocess=False):\n",
    "    records = []\n",
    "    with open(path) as f:\n",
    "        for line in f.readlines():\n",
    "            head = line[:3]\n",
    "            #if head == 'TER':\n",
    "            #    records.append(['TER'])\n",
    "            if head == 'ATO':\n",
    "                records.append(parse_atom(line))\n",
    "            #else:\n",
    "            #    assert False, f'unknown record {line}'\n",
    "    df = pd.DataFrame(records, columns=pdb_columns)\n",
    "    if preprocess:\n",
    "        df = preprocess_pdb(df)\n",
    "    return df\n",
    "    \n",
    "df = read_pdb('RNA-Puzzles/pz01/1_solution_0_rpr_A_10_C.pdb', preprocess=True)\n",
    "df"
   ]
  },
  {
   "cell_type": "code",
   "execution_count": 9,
   "metadata": {
    "ExecuteTime": {
     "end_time": "2022-04-25T14:49:26.842968Z",
     "start_time": "2022-04-25T14:49:22.284911Z"
    },
    "execution": {
     "iopub.execute_input": "2022-05-05T14:49:10.797409Z",
     "iopub.status.busy": "2022-05-05T14:49:10.796644Z",
     "iopub.status.idle": "2022-05-05T14:49:12.511463Z",
     "shell.execute_reply": "2022-05-05T14:49:12.510761Z",
     "shell.execute_reply.started": "2022-05-05T14:49:10.797375Z"
    },
    "id": "141ea514",
    "outputId": "aa01ab71-ba01-4599-adba-bdd56178d548"
   },
   "outputs": [],
   "source": [
    "from glob import glob\n",
    "import os\n",
    "\n",
    "prefix = 'RNA-Puzzles'\n",
    "\n",
    "data = []\n",
    "for i in range(10):\n",
    "    puzzle = f'pz{i+1:02}'\n",
    "    set = 'test' if puzzle == 'pz10' else 'train'\n",
    "    for rmsd_xml in glob(f'{prefix}/{puzzle}/*-rmsd.xml'):\n",
    "        rna = os.path.basename(rmsd_xml).strip('-rmsd.xml')\n",
    "        scores, errors = read_xml(rmsd_xml)\n",
    "        for solution, score in scores.items():\n",
    "            solution_path = os.path.join(prefix, puzzle, rna, solution)\n",
    "            pdb_path = os.path.join(prefix, puzzle, rna + '.pdb')\n",
    "            data.append(dict(set=set, rna=rna, rna_pdb=pdb_path, solution=solution_path, score=score))\n",
    "\n",
    "data = pd.DataFrame(data)\n",
    "\n",
    "for paths in [data.solution, data.rna_pdb]:\n",
    "    for path in paths:\n",
    "        assert os.path.exists(path), f'{path} doesn\\'t exist!'\n",
    "\n",
    "data"
   ]
  },
  {
   "cell_type": "code",
   "execution_count": 10,
   "metadata": {
    "execution": {
     "iopub.execute_input": "2022-05-05T14:49:12.513330Z",
     "iopub.status.busy": "2022-05-05T14:49:12.512908Z",
     "iopub.status.idle": "2022-05-05T14:49:12.688064Z",
     "shell.execute_reply": "2022-05-05T14:49:12.687349Z",
     "shell.execute_reply.started": "2022-05-05T14:49:12.513291Z"
    },
    "id": "d6b191eb",
    "outputId": "b1d3253d-7a56-42e8-fc48-dad9a8157d22"
   },
   "outputs": [],
   "source": [
    "from sklearn.model_selection import train_test_split\n",
    "data_train_valid, data_test = data[data.set == 'train'], data[data.set == 'test']\n",
    "data_train, data_valid = train_test_split(data_train_valid, test_size=0.05, random_state=42)\n",
    "data_valid.set = 'valid'\n",
    "print('tr size', len(data_train), len(data_train) / len(data))\n",
    "print('vl size', len(data_valid), len(data_valid) / len(data))\n",
    "print('te size', len(data_test), len(data_test) / len(data))"
   ]
  },
  {
   "cell_type": "code",
   "execution_count": 11,
   "metadata": {
    "execution": {
     "iopub.execute_input": "2022-05-05T14:49:12.690121Z",
     "iopub.status.busy": "2022-05-05T14:49:12.689256Z",
     "iopub.status.idle": "2022-05-05T14:49:12.921620Z",
     "shell.execute_reply": "2022-05-05T14:49:12.920781Z",
     "shell.execute_reply.started": "2022-05-05T14:49:12.690078Z"
    },
    "id": "0f6337b0",
    "outputId": "3b824c9b-2c04-4a60-bf99-d638fc650716"
   },
   "outputs": [],
   "source": [
    "X_tr = data_train.to_dict('records')\n",
    "X_vl = data_valid.to_dict('records')\n",
    "X_te = data_test.to_dict('records')\n",
    "X_tr[0]"
   ]
  },
  {
   "cell_type": "code",
   "execution_count": 12,
   "metadata": {
    "ExecuteTime": {
     "end_time": "2022-04-25T14:57:05.765710Z",
     "start_time": "2022-04-25T14:57:05.742373Z"
    },
    "execution": {
     "iopub.execute_input": "2022-05-05T14:49:12.923534Z",
     "iopub.status.busy": "2022-05-05T14:49:12.923091Z",
     "iopub.status.idle": "2022-05-05T19:51:50.280450Z",
     "shell.execute_reply": "2022-05-05T19:51:50.279647Z",
     "shell.execute_reply.started": "2022-05-05T14:49:12.923493Z"
    },
    "id": "ca1d5737",
    "outputId": "9b05b2bb-7e38-448a-ccbd-7a8aea8abb65",
    "scrolled": true
   },
   "outputs": [],
   "source": [
    "import torch as T\n",
    "import torch.nn as nn\n",
    "import torch.nn.functional as F\n",
    "from torch.nn.utils.rnn import pack_sequence, pad_sequence\n",
    "\n",
    "class RNNModel(nn.Module):\n",
    "    def __init__(self, pdb_features=13, rnn_size=128, rnn_units=8, hidden_size=128, bidirectional=True):\n",
    "        super().__init__()\n",
    "        directions = 2 if bidirectional else 1\n",
    "        self.encoder = nn.GRU(batch_first=True, bidirectional=bidirectional, num_layers=rnn_units,\n",
    "                              input_size=pdb_features, hidden_size=rnn_size)\n",
    "        self.lin1 = nn.Linear(2*rnn_units*directions*rnn_size, hidden_size)\n",
    "        self.lin2 = nn.Linear(hidden_size, hidden_size)\n",
    "        self.linear = [self.lin1, self.lin2]\n",
    "        self.output = nn.Linear(hidden_size, 1)\n",
    "        \n",
    "    def forward(self, x1, x2, *, batch_size):\n",
    "        _, h1 = self.encoder(x1)\n",
    "        _, h2 = self.encoder(x2)\n",
    "        h1 = h1.permute(1, 0, 2).reshape(batch_size, -1)\n",
    "        h2 = h2.permute(1, 0, 2).reshape(batch_size, -1)\n",
    "        x = T.cat([h1, h2], axis=1)\n",
    "        for layer in self.linear:\n",
    "            x = F.elu(layer(x))\n",
    "        x = T.relu(self.output(x))\n",
    "        return x\n",
    "\n",
    "def minibatches(permutation, batch_size):\n",
    "    batch_count = int(ceil(len(permutation) / batch_size))\n",
    "    result = []\n",
    "    for batch_idx in range(batch_count):\n",
    "        result.append(permutation[batch_idx*batch_size:][:batch_size])\n",
    "    return result\n",
    "\n",
    "def param_count(x):\n",
    "    return sum(T.numel(p) for p in x.parameters())\n",
    "\n",
    "def prog(x, y):\n",
    "    res = f'{x}/{y}'\n",
    "    res = '0'*(len(str(y)) - len(str(x))) + res\n",
    "    return res\n",
    "    \n",
    "def batch(dataset, indices=None):\n",
    "    if indices is None: indices = range(dataset)\n",
    "    X1 = pack_sequence([read_input(dataset[i]['rna_pdb']) for i in indices], enforce_sorted=False).to(dev)\n",
    "    X2 = pack_sequence([read_input(dataset[i]['solution']) for i in indices], enforce_sorted=False).to(dev)\n",
    "    y = T.Tensor([dataset[i]['score'] for i in indices]).unsqueeze(1).to(dev)\n",
    "    return X1, X2, y\n",
    "\n",
    "@lru_cache(32)\n",
    "def read_input(pdb):\n",
    "    return T.Tensor(read_pdb(pdb, preprocess=True).to_numpy()).to(dev)\n",
    "\n",
    "dev = T.device('cuda' if T.cuda.is_available() else 'cpu')\n",
    "model = RNNModel().to(dev)\n",
    "lr = 1e-4\n",
    "optim = T.optim.AdamW(model.parameters(), lr=lr)\n",
    "epoch_count = 10\n",
    "train_history = []\n",
    "valid_history = []\n",
    "batch_size = 32\n",
    "valid_batch_size = 128\n",
    "criterion = nn.MSELoss()\n",
    "\n",
    "print('training model with', param_count(model), 'parameters')\n",
    "train_batch = 0\n",
    "for epoch_idx in range(epoch_count):\n",
    "    train_losses = []\n",
    "    batches = minibatches(T.randperm(len(X_tr)), batch_size)\n",
    "    \n",
    "    # --- TRAINING\n",
    "    model.train()\n",
    "    for batch_idx, idxs in enumerate(batches):\n",
    "        optim.zero_grad()\n",
    "        X1, X2, y = batch(X_tr, idxs)\n",
    "        Y = model(X1, X2, batch_size=len(idxs))\n",
    "        loss = criterion(Y, y)\n",
    "        loss.backward()\n",
    "        optim.step()\n",
    "\n",
    "        train_losses.append(loss.item())\n",
    "        train_loss = np.mean(train_losses)\n",
    "        prefix = f'\\rtrain epoch {prog(epoch_idx+1, epoch_count)} | batch {prog(batch_idx+1, len(batches))}'\n",
    "        print(f'{prefix} | train loss = {train_loss:.4f}', end='')\n",
    "        train_history.append(dict(epoch=epoch_idx, batch=train_batch, batch_loss=loss.item()))\n",
    "\n",
    "        train_batch += 1\n",
    "            \n",
    "    # --- VALIDATION\n",
    "    model.eval()\n",
    "    with T.no_grad():\n",
    "        batches = minibatches(np.arange(len(X_vl)), valid_batch_size)\n",
    "        Y, y = [], []\n",
    "        for batch_idx, idxs in enumerate(batches):\n",
    "            X1, X2, y_batch = batch(X_vl, idxs)\n",
    "            Y_batch = model(X1, X2, batch_size=len(idxs))\n",
    "            Y.append(Y_batch)\n",
    "            y.append(y_batch)\n",
    "        Y, y = T.cat(Y), T.cat(y)\n",
    "        \n",
    "        valid_loss = criterion(Y, y).item()\n",
    "        valid_rmse = ((Y - y)**2).mean().sqrt().item()\n",
    "        print(f' | valid loss = {valid_loss:.4f} | valid rmse = {valid_rmse:.4f}', end='')\n",
    "        valid_history.append(dict(epoch=epoch_idx, train_loss=train_loss, valid_loss=valid_loss, valid_rmse=valid_rmse))\n",
    "\n",
    "    print()\n",
    "\n",
    "# 128*8 + 2*128x128x1"
   ]
  },
  {
   "cell_type": "code",
   "execution_count": 13,
   "metadata": {
    "execution": {
     "iopub.execute_input": "2022-05-05T19:51:50.283455Z",
     "iopub.status.busy": "2022-05-05T19:51:50.283261Z",
     "iopub.status.idle": "2022-05-05T19:53:03.330148Z",
     "shell.execute_reply": "2022-05-05T19:53:03.329096Z",
     "shell.execute_reply.started": "2022-05-05T19:51:50.283431Z"
    }
   },
   "outputs": [],
   "source": [
    "# --- TESTING\n",
    "model.eval()\n",
    "with T.no_grad():\n",
    "    batches = minibatches(np.arange(len(X_te)), valid_batch_size)\n",
    "    Y, y = [], []\n",
    "    for batch_idx, idxs in tqdm(list(enumerate(batches))):\n",
    "        X1, X2, y_batch = batch(X_te, idxs)\n",
    "        Y_batch = model(X1, X2, batch_size=len(idxs))\n",
    "        Y.append(Y_batch)\n",
    "        y.append(y_batch)\n",
    "Y, y = T.cat(Y).cpu().detach().numpy(), T.cat(y).cpu().detach().numpy()\n",
    "test_rmse = np.sqrt(np.mean((Y - y)**2))\n",
    "print(test_rmse)"
   ]
  },
  {
   "cell_type": "code",
   "execution_count": 42,
   "metadata": {
    "execution": {
     "iopub.execute_input": "2022-05-05T20:03:57.177789Z",
     "iopub.status.busy": "2022-05-05T20:03:57.177532Z",
     "iopub.status.idle": "2022-05-05T20:03:57.459468Z",
     "shell.execute_reply": "2022-05-05T20:03:57.458781Z",
     "shell.execute_reply.started": "2022-05-05T20:03:57.177761Z"
    }
   },
   "outputs": [],
   "source": [
    "df_train = pd.DataFrame(train_history)\n",
    "df_valid = pd.DataFrame(valid_history)\n",
    "plt.rc('figure', dpi=110, figsize=(10, 5))\n",
    "sns.set_style('white')\n",
    "sns.set_context('talk')\n",
    "sns.lineplot(x='epoch', y='batch_loss', label='Training loss', ci=None, data=df_train)\n",
    "sns.lineplot(x='epoch', y='valid_loss', label='Validation loss', data=df_valid)\n",
    "plt.legend()\n",
    "plt.ylabel('MSE Loss')\n",
    "epoch_list = np.arange(df_train.epoch.max()+1)\n",
    "plt.xticks(epoch_list, epoch_list+1)\n",
    "plt.show()"
   ]
  },
  {
   "cell_type": "code",
   "execution_count": 43,
   "metadata": {
    "execution": {
     "iopub.execute_input": "2022-05-05T20:11:01.344416Z",
     "iopub.status.busy": "2022-05-05T20:11:01.343866Z",
     "iopub.status.idle": "2022-05-05T20:11:01.591509Z",
     "shell.execute_reply": "2022-05-05T20:11:01.590858Z",
     "shell.execute_reply.started": "2022-05-05T20:11:01.344381Z"
    }
   },
   "outputs": [],
   "source": [
    "sns.lineplot(x='epoch', y='valid_rmse', data=df_valid)\n",
    "plt.ylabel('Validation RMSE')\n",
    "epoch_list = np.arange(df_valid.epoch.max() + 1)\n",
    "plt.xticks(epoch_list, epoch_list+1)\n",
    "plt.show()"
   ]
  },
  {
   "cell_type": "code",
   "execution_count": 35,
   "metadata": {
    "execution": {
     "iopub.execute_input": "2022-05-05T20:01:44.345618Z",
     "iopub.status.busy": "2022-05-05T20:01:44.345369Z",
     "iopub.status.idle": "2022-05-05T20:01:44.726358Z",
     "shell.execute_reply": "2022-05-05T20:01:44.725605Z",
     "shell.execute_reply.started": "2022-05-05T20:01:44.345590Z"
    }
   },
   "outputs": [],
   "source": [
    "sns.distplot(y - Y)\n",
    "plt.xlabel('Test error distribution')\n",
    "print(np.mean(np.abs(y - Y)))\n",
    "print(np.sqrt(np.mean((y - Y)**2)))"
   ]
  },
  {
   "cell_type": "code",
   "execution_count": 43,
   "metadata": {
    "execution": {
     "iopub.execute_input": "2022-05-05T01:53:38.896430Z",
     "iopub.status.busy": "2022-05-05T01:53:38.895733Z",
     "iopub.status.idle": "2022-05-05T01:53:39.394181Z",
     "shell.execute_reply": "2022-05-05T01:53:39.393438Z",
     "shell.execute_reply.started": "2022-05-05T01:53:38.896379Z"
    },
    "id": "-4A7qT0zER6V"
   },
   "outputs": [],
   "source": [
    "def free_memory():\n",
    "    for obj in gc.get_objects():\n",
    "        try:\n",
    "            if (T.is_tensor(obj) or T.is_tensor(obj.data)) and obj.is_cuda:\n",
    "                del obj\n",
    "        except Exception as e:\n",
    "            pass\n",
    "    \n",
    "    gc.collect()\n",
    "    T.cuda.empty_cache()\n",
    "\n",
    "free_memory()"
   ]
  }
 ],
 "metadata": {
  "accelerator": "TPU",
  "colab": {
   "name": "lab4.ipynb",
   "provenance": []
  },
  "kernelspec": {
   "display_name": "Python 3 (ipykernel)",
   "language": "python",
   "name": "python3"
  },
  "language_info": {
   "codemirror_mode": {
    "name": "ipython",
    "version": 3
   },
   "file_extension": ".py",
   "mimetype": "text/x-python",
   "name": "python",
   "nbconvert_exporter": "python",
   "pygments_lexer": "ipython3",
   "version": "3.9.7"
  },
  "varInspector": {
   "cols": {
    "lenName": 16,
    "lenType": 16,
    "lenVar": 40
   },
   "kernels_config": {
    "python": {
     "delete_cmd_postfix": "",
     "delete_cmd_prefix": "del ",
     "library": "var_list.py",
     "varRefreshCmd": "print(var_dic_list())"
    },
    "r": {
     "delete_cmd_postfix": ") ",
     "delete_cmd_prefix": "rm(",
     "library": "var_list.r",
     "varRefreshCmd": "cat(var_dic_list()) "
    }
   },
   "types_to_exclude": [
    "module",
    "function",
    "builtin_function_or_method",
    "instance",
    "_Feature"
   ],
   "window_display": false
  }
 },
 "nbformat": 4,
 "nbformat_minor": 4
}
