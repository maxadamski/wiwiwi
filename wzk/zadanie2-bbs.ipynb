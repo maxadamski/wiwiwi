{
 "cells": [
  {
   "cell_type": "markdown",
   "metadata": {},
   "source": [
    "# WZK - Zadanie 2\n",
    "\n",
    "Autor: Dariusz Max Adamski - nr indeksu 136674\n",
    "\n",
    "---"
   ]
  },
  {
   "cell_type": "code",
   "execution_count": 2,
   "metadata": {},
   "outputs": [],
   "source": [
    "import numpy as np\n",
    "from random import randint\n",
    "from math import gcd"
   ]
  },
  {
   "cell_type": "markdown",
   "metadata": {},
   "source": [
    "## 1. Szybkie sprawdzanie liczb pierwszych\n",
    "\n",
    "Do rozwiązania zadan jest potrzebny generator dużych liczb pierwszych.\n",
    "\n",
    "W tym celu zaimplementowałem algorytm Millera-Rabina do szybkiego sprawdzenia czy liczba (prawdopodobnie) jest liczbą pierwszą. Dla $k$ iteracji algorytmu, prawdopodobieństwo popełnienia błędu jest równe co najwyżej $4^{-k}$. Jako $k$ wybrałem moją ulubioną liczbę 42, co daje prawdopodobieństwo pomyłki równe około $5.17 \\cdot 10^{-26}$. Bardziej prawdopodobne niż pomyłka tego algorytmu, jest to, że losowo wybierając gwiazdę we wszechświecie akurat wybierzemy nasze Słońce!"
   ]
  },
  {
   "cell_type": "code",
   "execution_count": 7,
   "metadata": {},
   "outputs": [],
   "source": [
    "def is_witness(w, n, r, d):\n",
    "    w = pow(w, d, n)\n",
    "    if w == 1 or w == n - 1:\n",
    "        return False\n",
    "    for _ in range(r):\n",
    "        w = pow(w, 2, n)\n",
    "        if w == n - 1:\n",
    "            return False\n",
    "    return True\n",
    "\n",
    "def is_prime(n, rounds=42):\n",
    "    if n <= 1: return False\n",
    "    if n <= 3: return True\n",
    "    \n",
    "    # n = 2^r * d + 1\n",
    "    r, d = 0, n - 1\n",
    "    while d % 2 == 0:\n",
    "        d //= 2\n",
    "        r += 1\n",
    "        \n",
    "    for _ in range(rounds):\n",
    "        w = randint(2, n - 2)\n",
    "        if is_witness(w, n, r, d):\n",
    "            return False\n",
    "    return True"
   ]
  },
  {
   "cell_type": "markdown",
   "metadata": {},
   "source": [
    "## 2. Algorytm Blum-Blum-Shub\n",
    "\n",
    "W algorytmie BBS na początku losuję dwie duże liczby pierwsze $p$ i $q$, które są przystające do 3 modulo 4.\n",
    "Losuję też liczbę $x$ taką, że $pq$ i $x$ są względnie pierwsze, co jest równoznaczne z tym, że ich największy wspólny dzielnik jest równy 1. Następnie tyle razy ile chcę pozyskać bitów, ustawiam $x := x^2\\ \\text{mod}\\ n$ i dodaję namniej znaczący bit do wynikowego ciągu."
   ]
  },
  {
   "cell_type": "code",
   "execution_count": 40,
   "metadata": {},
   "outputs": [
    {
     "name": "stdout",
     "output_type": "stream",
     "text": [
      "1111111111111111111111111111111111111111111111111111111111111111111111111111111111111111111111111111\n",
      "p  = 7\n",
      "q  = 11\n",
      "n  = 77\n",
      "x0 = 12\n",
      "r  = 1267650600228229401496703205375\n"
     ]
    }
   ],
   "source": [
    "def random_where(lb, ub, where):\n",
    "    while True:\n",
    "        n = randint(lb, ub)\n",
    "        if where(n): return n\n",
    "        \n",
    "def random_bbs(n_bits, p=None, q=None, x0=None):\n",
    "    lb, ub = 2**32, 2**40\n",
    "    p = p or random_where(lb, ub, where=lambda x: x % 4 == 3 and is_prime(x))\n",
    "    q = q or random_where(lb, ub, where=lambda x: x % 4 == 3 and is_prime(x))\n",
    "    n = p * q\n",
    "    x0 = x0 or random_where(0, 2**32, where=lambda x: gcd(n, x) == 1)\n",
    "    assert gcd(n, x0) == 1\n",
    "    x = x0\n",
    "    r = 0\n",
    "    for _ in range(n_bits):\n",
    "        x = pow(x, 2, n)\n",
    "        r = (r << 1) | (x & 1)\n",
    "        print(x & 1, end='')\n",
    "    print()\n",
    "        \n",
    "    # demonstration \n",
    "    assert p % 4 == 3 and q % 4 == 3 and gcd(n, x) == 1\n",
    "    print(f'p  = {p}\\nq  = {q}\\nn  = {n}\\nx0 = {x0}')\n",
    "    print(f'r  = {str(r)[:50]}')\n",
    "    \n",
    "    return r\n",
    "    \n",
    "r = random_bbs(p=7, q=11, x0=12, n_bits=100)"
   ]
  },
  {
   "cell_type": "markdown",
   "metadata": {},
   "source": [
    "## 3. Testy losowości\n",
    "\n",
    "Aby przetestować losowość wygenerowanego ciągu należy użyć testów statystycznych. Zestaw prymitywnych testów jest zawarty w standardzie FIPS 140-2. Poniżej umieszczone są implementacje czterech testów losowości z tego standardu."
   ]
  },
  {
   "cell_type": "code",
   "execution_count": 5,
   "metadata": {},
   "outputs": [
    {
     "name": "stdout",
     "output_type": "stream",
     "text": [
      "monobit test\tpassed\n",
      "runs test\tpassed\n",
      "long run test\tpassed\n",
      "poker test\tpassed\n"
     ]
    }
   ],
   "source": [
    "def monobit_test(x):\n",
    "    n = 0\n",
    "    for _ in range(20_000):\n",
    "        b = x & 1\n",
    "        x = x >> 1\n",
    "        if b == 1:\n",
    "            n += 1\n",
    "    return 9725 < n < 10275\n",
    "\n",
    "def runs_test(x):\n",
    "    runs = np.zeros(6)\n",
    "    last = x & 1\n",
    "    x = x >> 1\n",
    "    n = 1\n",
    "    for _ in range(20_000):\n",
    "        b = x & 1\n",
    "        x = x >> 1\n",
    "        if b != 0:\n",
    "            runs[min(n, 6) - 1] += 1\n",
    "            last = b\n",
    "            n = 0\n",
    "        n += 1\n",
    "    s1, s2, s3, s4, s5, s6 = runs // 2\n",
    "    return (2315 <= s1 <= 2685 and\n",
    "            1114 <= s2 <= 1386 and\n",
    "            527  <= s3 <= 723 and\n",
    "            240  <= s4 <= 384 and\n",
    "            103  <= s5 <= 209 and\n",
    "            103  <= s6 <= 209)\n",
    "\n",
    "def long_run_test(x):\n",
    "    last = None\n",
    "    max_n = 0\n",
    "    n = 0\n",
    "    for _ in range(20_000):\n",
    "        b = x & 1\n",
    "        x = x >> 1\n",
    "        if b != last:\n",
    "            last = b\n",
    "            max_n = max(n, max_n)\n",
    "            n = 0\n",
    "        n += 1\n",
    "    return max_n < 26\n",
    "\n",
    "def poker_test(x):\n",
    "    count = np.zeros(shape=16)\n",
    "    a, b, c, d = x >> 0, x >> 5000, x >> 10000, x >> 15000\n",
    "    for _ in range(5000):\n",
    "        i = ((a&1) << 0) | ((b&1) << 1) | ((c&1) << 2) | ((d&1) << 3)\n",
    "        count[i] += 1\n",
    "        a, b, c, d = a >> 1, b >> 1, c >> 1, d >> 1\n",
    "    criterion = 16/5000 * np.sum(count**2) - 5000\n",
    "    return 2.16 < criterion < 46.17\n",
    "\n",
    "def all_tests(x):\n",
    "    names = ['monobit', 'runs', 'long run', 'poker']\n",
    "    tests = [monobit_test, runs_test, long_run_test, poker_test]\n",
    "    for name, f in zip(names, tests):\n",
    "        result = 'passed' if f(x) else 'failed'\n",
    "        print(f'{name} test\\t{result}')\n",
    "        \n",
    "all_tests(r)"
   ]
  },
  {
   "cell_type": "markdown",
   "metadata": {},
   "source": [
    "Wygenerowany ciąg przeszedł wszystkie testy FIPS 140-2. Nie oznacza to jednak, że ciąg generowany przez ten algorytm jest nieprzewidywalny. Wykazano, że testy losowości FIPS 140-2 mogą zostać oszukane przez ciągi generowane z intencjonalnie wadliwych generatorów losowych ciągów (poniższa publikacja). Sam standard FIPS 140-2 został zastąpiony nowszym FIPS 140-3 w 2019 roku, a w 2026 roku testy z FIPS 140-2 zostaną oznaczone jako historyczne.\n",
    "\n",
    "D. Hurley-Smith, C. Patsakis and J. Hernandez-Castro, \"On the unbearable lightness of FIPS 140-2 randomness tests,\" in IEEE Transactions on Information Forensics and Security, doi: 10.1109/TIFS.2020.2988505."
   ]
  },
  {
   "cell_type": "markdown",
   "metadata": {},
   "source": [
    "## 4. Dodatkowe testy\n",
    "\n",
    "Sprawdziłem też ciągi generowane z urządzenia systemowego `/dev/random` i wadliwego generatora zwracającego ciąg z naprzemiennymi zerami i jedynkami. Tak jak się można było spodziewać, pierwszy przechodzi wszystkie testy, a drugi nie."
   ]
  },
  {
   "cell_type": "code",
   "execution_count": 6,
   "metadata": {},
   "outputs": [
    {
     "name": "stdout",
     "output_type": "stream",
     "text": [
      "-- /dev/random --\n",
      "monobit test\tpassed\n",
      "runs test\tpassed\n",
      "long run test\tpassed\n",
      "poker test\tpassed\n"
     ]
    }
   ],
   "source": [
    "import os\n",
    "ref = int.from_bytes(os.urandom(20_000), 'little')\n",
    "print('-- /dev/random --')\n",
    "all_tests(ref)"
   ]
  },
  {
   "cell_type": "code",
   "execution_count": 7,
   "metadata": {},
   "outputs": [
    {
     "name": "stdout",
     "output_type": "stream",
     "text": [
      "-- 0101010... --\n",
      "monobit test\tpassed\n",
      "runs test\tfailed\n",
      "long run test\tpassed\n",
      "poker test\tfailed\n"
     ]
    }
   ],
   "source": [
    "print('-- 0101010... --')\n",
    "bad = 0\n",
    "last = 0\n",
    "for _ in range(20_000):\n",
    "    bad = (bad << 1) | (last & 1)\n",
    "    last = 1 - last\n",
    "all_tests(bad)"
   ]
  },
  {
   "cell_type": "code",
   "execution_count": null,
   "metadata": {},
   "outputs": [],
   "source": []
  }
 ],
 "metadata": {
  "kernelspec": {
   "display_name": "Python 3",
   "language": "python",
   "name": "python3"
  },
  "language_info": {
   "codemirror_mode": {
    "name": "ipython",
    "version": 3
   },
   "file_extension": ".py",
   "mimetype": "text/x-python",
   "name": "python",
   "nbconvert_exporter": "python",
   "pygments_lexer": "ipython3",
   "version": "3.8.3"
  }
 },
 "nbformat": 4,
 "nbformat_minor": 4
}
