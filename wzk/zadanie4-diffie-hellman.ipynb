{
 "cells": [
  {
   "cell_type": "markdown",
   "metadata": {},
   "source": [
    "# WZK - Zadanie 4\n",
    "\n",
    "Autor: Dariusz Max Adamski - nr indeksu 136674\n",
    "\n",
    "---"
   ]
  },
  {
   "cell_type": "code",
   "execution_count": 5,
   "metadata": {},
   "outputs": [],
   "source": [
    "import random\n",
    "from random import getrandbits\n",
    "from math import gcd\n",
    "from miller_rabin import miller_rabin\n",
    "from Crypto.Cipher import AES\n",
    "from tqdm.notebook import tqdm\n",
    "\n",
    "pad = lambda x: x + b'\\0' * (AES.block_size - len(x) % AES.block_size)\n",
    "strip = lambda x: x.rstrip(b'\\0')\n",
    "hexdump = lambda x: ' '.join(f'{b:02X}' for b in x)"
   ]
  },
  {
   "cell_type": "code",
   "execution_count": 11,
   "metadata": {},
   "outputs": [
    {
     "data": {
      "application/vnd.jupyter.widget-view+json": {
       "model_id": "257f5bde94b145f0a9287c6b0651258f",
       "version_major": 2,
       "version_minor": 0
      },
      "text/plain": [
       "HBox(children=(FloatProgress(value=0.0, max=42.0), HTML(value='')))"
      ]
     },
     "metadata": {},
     "output_type": "display_data"
    },
    {
     "name": "stdout",
     "output_type": "stream",
     "text": [
      "\n",
      "n = 43, g = 5\n"
     ]
    }
   ],
   "source": [
    "def randwhile(bits, until):\n",
    "    while True:\n",
    "        x = getrandbits(bits)\n",
    "        if until(x): return x\n",
    "        \n",
    "def primroots(p):\n",
    "    coprime = {x for x in range(1, p) if gcd(x, p) == 1}\n",
    "    return [x for x in tqdm(range(1, p)) if coprime == {pow(x, y, p) for y in range(1, p)}]\n",
    "\n",
    "n = randwhile(10, miller_rabin)\n",
    "g = random.choice(primroots(n))\n",
    "print(f\"n = {n}, g = {g}\")"
   ]
  },
  {
   "cell_type": "code",
   "execution_count": 12,
   "metadata": {},
   "outputs": [
    {
     "name": "stdout",
     "output_type": "stream",
     "text": [
      "A: x = 175565266149031796200044, X = 1\n",
      "B: y = 475898292913556375537608, Y = 24\n",
      "A -X--> B\n",
      "B -Y--> A\n",
      "A: full key = 1\n",
      "B: full key = 1\n"
     ]
    }
   ],
   "source": [
    "x = getrandbits(80)\n",
    "X = pow(g, x, n)\n",
    "print(f\"A: x = {x}, X = {X}\")\n",
    "\n",
    "y = getrandbits(80)\n",
    "Y = pow(g, y, n)\n",
    "print(f\"B: y = {y}, Y = {Y}\")\n",
    "\n",
    "print('A -X--> B')\n",
    "print('B -Y--> A')\n",
    "\n",
    "Ak = pow(Y, x, n)\n",
    "print(f\"A: full key = {Ak}\")\n",
    "\n",
    "Bk = pow(X, y, n)\n",
    "print(f\"B: full key = {Bk}\")\n",
    "\n",
    "assert Ak == Bk\n",
    "k = Ak = Bk"
   ]
  },
  {
   "cell_type": "code",
   "execution_count": 13,
   "metadata": {},
   "outputs": [
    {
     "name": "stdout",
     "output_type": "stream",
     "text": [
      "A: encrypted = A7 F8 DC FD E7 1A 19 3B 0D 9D AD 9E B3 9A 50 02\n"
     ]
    }
   ],
   "source": [
    "def encrypt(key, m):\n",
    "    cipher = AES.new(key.to_bytes(16, byteorder='big'), AES.MODE_ECB)\n",
    "    return cipher.encrypt(pad(bytes(m, 'utf-8')))\n",
    "\n",
    "msg = encrypt(k, 'Hello, world!')\n",
    "print('A: encrypted =', hexdump(msg))"
   ]
  },
  {
   "cell_type": "code",
   "execution_count": 14,
   "metadata": {},
   "outputs": [
    {
     "name": "stdout",
     "output_type": "stream",
     "text": [
      "B: decrypted = Hello, world!\n"
     ]
    }
   ],
   "source": [
    "def decrypt(key, m):\n",
    "    cipher = AES.new(key.to_bytes(16, byteorder='big'), AES.MODE_ECB)\n",
    "    return strip(cipher.decrypt(m)).decode('utf-8')\n",
    "\n",
    "res = decrypt(k, msg)\n",
    "print('B: decrypted =', res)"
   ]
  },
  {
   "cell_type": "code",
   "execution_count": null,
   "metadata": {},
   "outputs": [],
   "source": []
  }
 ],
 "metadata": {
  "kernelspec": {
   "display_name": "Python 3",
   "language": "python",
   "name": "python3"
  },
  "language_info": {
   "codemirror_mode": {
    "name": "ipython",
    "version": 3
   },
   "file_extension": ".py",
   "mimetype": "text/x-python",
   "name": "python",
   "nbconvert_exporter": "python",
   "pygments_lexer": "ipython3",
   "version": "3.8.3"
  }
 },
 "nbformat": 4,
 "nbformat_minor": 4
}
