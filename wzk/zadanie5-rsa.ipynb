{
 "cells": [
  {
   "cell_type": "markdown",
   "metadata": {},
   "source": [
    "# Zadanie 5 - RSA\n",
    "\n",
    "Autor: Dariusz Max Adamski\n",
    "\n",
    "---"
   ]
  },
  {
   "cell_type": "code",
   "execution_count": 1,
   "metadata": {},
   "outputs": [],
   "source": [
    "from random import randint\n",
    "from math import gcd\n",
    "from miller_rabin import miller_rabin as isprime\n",
    "\n",
    "def randuntil(lb, ub, until):\n",
    "    while True:\n",
    "        x = randint(lb, ub)\n",
    "        if until(x): return x\n",
    "        \n",
    "def hexdump(xs):\n",
    "    return ' '.join(f'{x:08X}' for x in xs)"
   ]
  },
  {
   "cell_type": "code",
   "execution_count": 2,
   "metadata": {},
   "outputs": [],
   "source": [
    "def keygen(p=None, q=None):\n",
    "    if p is None: p = randuntil(2, 1e4-1, isprime);                   print('p =', p)\n",
    "    if q is None: q = randuntil(2, 1e4-1, isprime);                   print('q =', q)\n",
    "    assert p != q\n",
    "    n = p*q;                                                          print('n =', n)\n",
    "    ϕ = (p - 1)*(q - 1);                                              print('ϕ =', ϕ)\n",
    "    e = randuntil(3, 2**32, lambda x: isprime(x) and gcd(x, ϕ) == 1); print('e =', e)\n",
    "    # przyspieszenie: rozszerzony alg. euklidesa\n",
    "    d = pow(e, -1, ϕ);                                                print('d =', d)\n",
    "    #d = randuntil(2, 2**32, lambda x: e*x % ϕ == 1);                  print('d =', d)\n",
    "    return (e, n), (d, n)"
   ]
  },
  {
   "cell_type": "code",
   "execution_count": 16,
   "metadata": {},
   "outputs": [
    {
     "data": {
      "text/plain": [
       "0"
      ]
     },
     "execution_count": 16,
     "metadata": {},
     "output_type": "execute_result"
    }
   ],
   "source": [
    "pow(0, 11, 25)"
   ]
  },
  {
   "cell_type": "code",
   "execution_count": 33,
   "metadata": {},
   "outputs": [],
   "source": [
    "def cipher(key, msg):\n",
    "    p, n = key\n",
    "    return [pow(x, p, n) for x in msg]\n",
    "\n",
    "encrypt = lambda k, m: cipher(k, bytes(m, 'utf-8'))\n",
    "decrypt = lambda k, m: bytes(cipher(k, m)).decode('utf-8')"
   ]
  },
  {
   "cell_type": "code",
   "execution_count": 34,
   "metadata": {},
   "outputs": [
    {
     "name": "stdout",
     "output_type": "stream",
     "text": [
      "p = 8893\n",
      "q = 9631\n",
      "n = 85648483\n",
      "ϕ = 85629960\n",
      "e = 617791397\n",
      "d = 22626533\n"
     ]
    }
   ],
   "source": [
    "pub, prv = keygen()"
   ]
  },
  {
   "cell_type": "code",
   "execution_count": 35,
   "metadata": {},
   "outputs": [
    {
     "name": "stdout",
     "output_type": "stream",
     "text": [
      "Alice opened the door and found that it led into a\n"
     ]
    }
   ],
   "source": [
    "original = 'Alice opened the door and found that it led into a'\n",
    "assert len(bytes(original, 'utf-8')) == 50\n",
    "print(original)"
   ]
  },
  {
   "cell_type": "code",
   "execution_count": 36,
   "metadata": {},
   "outputs": [
    {
     "name": "stdout",
     "output_type": "stream",
     "text": [
      "length = 50 \n",
      "-----------\n",
      "01DF0892 0494B660 02BEC210 048F01C5 026C3F68 00D1DB69 046E525C 0400C638 026C3F68 0162655F 026C3F68 01431A5A 00D1DB69 01C4DDD8 0428BCE8 026C3F68 00D1DB69 01431A5A 046E525C 046E525C 050083F5 00D1DB69 030E8AA6 0162655F 01431A5A 00D1DB69 027022B0 046E525C 04EF38BC 0162655F 01431A5A 00D1DB69 01C4DDD8 0428BCE8 030E8AA6 01C4DDD8 00D1DB69 02BEC210 01C4DDD8 00D1DB69 0494B660 026C3F68 01431A5A 00D1DB69 02BEC210 0162655F 01C4DDD8 046E525C 00D1DB69 030E8AA6\n"
     ]
    }
   ],
   "source": [
    "secret = encrypt(pub, original)\n",
    "print('length =', len(secret), '\\n'+'-'*11)\n",
    "print(hexdump(secret))"
   ]
  },
  {
   "cell_type": "code",
   "execution_count": 37,
   "metadata": {},
   "outputs": [
    {
     "name": "stdout",
     "output_type": "stream",
     "text": [
      "Alice opened the door and found that it led into a\n"
     ]
    }
   ],
   "source": [
    "recevied = decrypt(prv, secret)\n",
    "assert recevied == original\n",
    "print(recevied)"
   ]
  },
  {
   "cell_type": "code",
   "execution_count": null,
   "metadata": {},
   "outputs": [],
   "source": []
  }
 ],
 "metadata": {
  "kernelspec": {
   "display_name": "Python 3",
   "language": "python",
   "name": "python3"
  },
  "language_info": {
   "codemirror_mode": {
    "name": "ipython",
    "version": 3
   },
   "file_extension": ".py",
   "mimetype": "text/x-python",
   "name": "python",
   "nbconvert_exporter": "python",
   "pygments_lexer": "ipython3",
   "version": "3.8.3"
  }
 },
 "nbformat": 4,
 "nbformat_minor": 4
}
