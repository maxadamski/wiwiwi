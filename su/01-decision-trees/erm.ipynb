{
 "cells": [
  {
   "cell_type": "code",
   "execution_count": 1,
   "metadata": {},
   "outputs": [],
   "source": [
    "import pandas as pd\n",
    "import numpy as np\n",
    "import os.path as path\n",
    "import numba\n",
    "import random\n",
    "from sklearn.model_selection import train_test_split, KFold\n",
    "from tqdm.notebook import tqdm\n",
    "from math import ceil"
   ]
  },
  {
   "cell_type": "code",
   "execution_count": 2,
   "metadata": {},
   "outputs": [],
   "source": [
    "def read_dataset(id, root='data'):\n",
    "    X_tr = pd.read_csv(path.join(root, f'{id}-X.csv')).values\n",
    "    y_tr = pd.read_csv(path.join(root, f'{id}-Y.csv')).values\n",
    "    X_te = pd.read_csv(path.join(root, f'{id}-test.csv')).values\n",
    "    return X_tr, y_tr[:,0], X_te, None\n",
    "\n",
    "@numba.njit\n",
    "def rmse(Y, y):\n",
    "    return np.sqrt(np.mean((Y - y)**2))\n",
    "\n",
    "@numba.njit\n",
    "def best_split(X, y, min_samples_leaf=1):\n",
    "    # Ugly imperative code for Numba to optimize\n",
    "    n_rows, n_cols = X.shape\n",
    "    best_loss, split = None, (None, None)\n",
    "    cols = np.arange(n_cols)\n",
    "    for col in cols:\n",
    "        vals = np.unique(X[:,col])\n",
    "        n_vals = len(vals)\n",
    "        if n_vals > 1000:\n",
    "            vals = np.random.choice(vals, size=ceil(np.sqrt(n_vals)), replace=False)\n",
    "        for val in vals:\n",
    "            mask = X[:,col] < val\n",
    "            a, b = y[mask], y[~mask]\n",
    "            if len(a) < min_samples_leaf or len(b) < min_samples_leaf:\n",
    "                continue\n",
    "            loss = max(rmse(np.mean(a), a), rmse(np.mean(b), b))\n",
    "            if best_loss is None or loss < best_loss:\n",
    "                best_loss = loss\n",
    "                split = col, val\n",
    "    return split\n",
    "\n",
    "class Node:\n",
    "    def __init__(self):\n",
    "        self.lhs, self.rhs, self.leaf, self.split = [None]*4\n",
    "    \n",
    "    def set_params(self, params):\n",
    "        for k, x in params.items(): setattr(self, k, x)\n",
    "        self.params = params\n",
    "        \n",
    "    def extend(self):\n",
    "        tree = Node()\n",
    "        tree.set_params(self.params)\n",
    "        return tree\n",
    "    \n",
    "    def _fit(self, X, y, depth=0):\n",
    "        n_rows = len(y)\n",
    "        mean_y = np.mean(y)\n",
    "        n_matches = np.sum(np.abs(mean_y - y) < self.eps)\n",
    "        if self.max_depth == depth or n_matches/n_rows > self.max_samples_split:\n",
    "            self.leaf = mean_y\n",
    "            return\n",
    "        \n",
    "        self.split = col, val = best_split(X, y, min_samples_leaf=self.min_samples_leaf)\n",
    "        if col is None:\n",
    "            self.leaf = mean_y\n",
    "            return\n",
    "        \n",
    "        mask = X[:,col] < val\n",
    "        self.lhs, self.rhs = self.extend(), self.extend()\n",
    "        self.lhs._fit(X[ mask], y[ mask], depth=depth+1)\n",
    "        self.rhs._fit(X[~mask], y[~mask], depth=depth+1)\n",
    "        \n",
    "    def fit(self, X, y, **params):\n",
    "        self.set_params(params)\n",
    "        self._fit(X, y, depth=0)\n",
    "    \n",
    "    def predict_one(self, x):\n",
    "        if self.leaf is not None: return self.leaf\n",
    "        col, val = self.split\n",
    "        node = self.lhs if x[col] < val else self.rhs\n",
    "        return node.predict_one(x)\n",
    "    \n",
    "    def predict(self, X):\n",
    "        #assert self.lhs and self.rhs and self.split, 'Tree is not trained'\n",
    "        return np.array([self.predict_one(X[i,:]) for i in range(X.shape[0])])\n",
    "    \n",
    "    def depth(self):\n",
    "        return 0 if self.leaf is not None else 1 + max(self.lhs.depth(), self.rhs.depth())"
   ]
  },
  {
   "cell_type": "code",
   "execution_count": 3,
   "metadata": {},
   "outputs": [],
   "source": [
    "best_params = {}"
   ]
  },
  {
   "cell_type": "code",
   "execution_count": 4,
   "metadata": {},
   "outputs": [
    {
     "data": {
      "application/vnd.jupyter.widget-view+json": {
       "model_id": "39fe468fd8804e23b01af2cf4f8d4425",
       "version_major": 2,
       "version_minor": 0
      },
      "text/plain": [
       "  0%|          | 0/40 [00:00<?, ?it/s]"
      ]
     },
     "metadata": {},
     "output_type": "display_data"
    },
    {
     "name": "stdout",
     "output_type": "stream",
     "text": [
      "new best!\n",
      "1 0.9800689318123466 {'max_depth': 19, 'max_samples_split': 0.9500000000000004, 'min_samples_leaf': 1, 'eps': 0.03}\n"
     ]
    },
    {
     "data": {
      "application/vnd.jupyter.widget-view+json": {
       "model_id": "e42ea2b0ace0448388080401f849518c",
       "version_major": 2,
       "version_minor": 0
      },
      "text/plain": [
       "  0%|          | 0/1000 [00:00<?, ?it/s]"
      ]
     },
     "metadata": {},
     "output_type": "display_data"
    },
    {
     "name": "stdout",
     "output_type": "stream",
     "text": [
      "new best!\n",
      "2 0.27790240210236294 {'max_depth': 19, 'max_samples_split': 0.9500000000000004, 'min_samples_leaf': 1, 'eps': 0.07}\n"
     ]
    },
    {
     "data": {
      "application/vnd.jupyter.widget-view+json": {
       "model_id": "9af40197fea744c28b77dbd828882b43",
       "version_major": 2,
       "version_minor": 0
      },
      "text/plain": [
       "  0%|          | 0/1000 [00:00<?, ?it/s]"
      ]
     },
     "metadata": {},
     "output_type": "display_data"
    },
    {
     "name": "stdout",
     "output_type": "stream",
     "text": [
      "new best!\n",
      "3 0.9906855523585231 {'max_depth': 16, 'max_samples_split': 0.9500000000000004, 'min_samples_leaf': 1, 'eps': 0.075}\n"
     ]
    },
    {
     "data": {
      "application/vnd.jupyter.widget-view+json": {
       "model_id": "b679f0ae2b4f4a85855ecd6d00396e87",
       "version_major": 2,
       "version_minor": 0
      },
      "text/plain": [
       "  0%|          | 0/20 [00:00<?, ?it/s]"
      ]
     },
     "metadata": {},
     "output_type": "display_data"
    },
    {
     "name": "stdout",
     "output_type": "stream",
     "text": [
      "new best!\n",
      "4 0.9980364377987232 {'max_depth': 19, 'max_samples_split': 0.8000000000000003, 'min_samples_leaf': 1, 'eps': 0.005}\n"
     ]
    },
    {
     "data": {
      "application/vnd.jupyter.widget-view+json": {
       "model_id": "d8fe618e1cc1435187a56abd98798aa9",
       "version_major": 2,
       "version_minor": 0
      },
      "text/plain": [
       "  0%|          | 0/20 [00:00<?, ?it/s]"
      ]
     },
     "metadata": {},
     "output_type": "display_data"
    },
    {
     "name": "stdout",
     "output_type": "stream",
     "text": [
      "new best!\n",
      "5 0.4717611555057145 {'max_depth': 16, 'max_samples_split': 1.0000000000000004, 'min_samples_leaf': 1, 'eps': 0.06}\n"
     ]
    },
    {
     "data": {
      "application/vnd.jupyter.widget-view+json": {
       "model_id": "89bf746ce8174297b222f3c6adfc0e7f",
       "version_major": 2,
       "version_minor": 0
      },
      "text/plain": [
       "  0%|          | 0/1000 [00:00<?, ?it/s]"
      ]
     },
     "metadata": {},
     "output_type": "display_data"
    },
    {
     "name": "stdout",
     "output_type": "stream",
     "text": [
      "new best!\n",
      "6 0.9979195877723124 {'max_depth': 17, 'max_samples_split': 0.6000000000000001, 'min_samples_leaf': 1, 'eps': 0.09}\n"
     ]
    },
    {
     "data": {
      "application/vnd.jupyter.widget-view+json": {
       "model_id": "fb38bacf70104e3ba874b7bea261537c",
       "version_major": 2,
       "version_minor": 0
      },
      "text/plain": [
       "  0%|          | 0/1000 [00:00<?, ?it/s]"
      ]
     },
     "metadata": {},
     "output_type": "display_data"
    },
    {
     "name": "stdout",
     "output_type": "stream",
     "text": [
      "new best!\n",
      "7 0.6655638771575338 {'max_depth': 19, 'max_samples_split': 0.7500000000000002, 'min_samples_leaf': 1, 'eps': 0.001}\n"
     ]
    },
    {
     "data": {
      "application/vnd.jupyter.widget-view+json": {
       "model_id": "f756572d856b4cd19279d07ad6a7ab94",
       "version_major": 2,
       "version_minor": 0
      },
      "text/plain": [
       "  0%|          | 0/1000 [00:00<?, ?it/s]"
      ]
     },
     "metadata": {},
     "output_type": "display_data"
    },
    {
     "name": "stdout",
     "output_type": "stream",
     "text": [
      "new best!\n",
      "8 0.7037490192249347 {'max_depth': 4, 'max_samples_split': 0.6500000000000001, 'min_samples_leaf': 1, 'eps': 0.05}\n"
     ]
    },
    {
     "data": {
      "application/vnd.jupyter.widget-view+json": {
       "model_id": "a12852aa0b6041a08d3968338ffd07f9",
       "version_major": 2,
       "version_minor": 0
      },
      "text/plain": [
       "  0%|          | 0/10 [00:00<?, ?it/s]"
      ]
     },
     "metadata": {},
     "output_type": "display_data"
    },
    {
     "name": "stdout",
     "output_type": "stream",
     "text": [
      "new best!\n",
      "9 0.9901353837622405 {'max_depth': 18, 'max_samples_split': 0.9500000000000004, 'min_samples_leaf': 1, 'eps': 0.04}\n"
     ]
    },
    {
     "data": {
      "application/vnd.jupyter.widget-view+json": {
       "model_id": "b29ce069fd8243f798356d730efbf9eb",
       "version_major": 2,
       "version_minor": 0
      },
      "text/plain": [
       "  0%|          | 0/40 [00:00<?, ?it/s]"
      ]
     },
     "metadata": {},
     "output_type": "display_data"
    },
    {
     "name": "stdout",
     "output_type": "stream",
     "text": [
      "new best!\n",
      "10 0.9990725171207057 {'max_depth': 19, 'max_samples_split': 0.6000000000000001, 'min_samples_leaf': 1, 'eps': 0.025}\n"
     ]
    },
    {
     "data": {
      "application/vnd.jupyter.widget-view+json": {
       "model_id": "26979f1ed5d64029b522d905535c44fc",
       "version_major": 2,
       "version_minor": 0
      },
      "text/plain": [
       "  0%|          | 0/10 [00:00<?, ?it/s]"
      ]
     },
     "metadata": {},
     "output_type": "display_data"
    },
    {
     "name": "stdout",
     "output_type": "stream",
     "text": [
      "new best!\n",
      "11 1.0006727410722605 {'max_depth': 5, 'max_samples_split': 0.8500000000000003, 'min_samples_leaf': 1, 'eps': 0.08}\n"
     ]
    },
    {
     "data": {
      "application/vnd.jupyter.widget-view+json": {
       "model_id": "955ce38b65ee4a80ae452afe12e6d7f2",
       "version_major": 2,
       "version_minor": 0
      },
      "text/plain": [
       "  0%|          | 0/10 [00:00<?, ?it/s]"
      ]
     },
     "metadata": {},
     "output_type": "display_data"
    },
    {
     "name": "stdout",
     "output_type": "stream",
     "text": [
      "new best!\n",
      "12 0.9881537170437238 {'max_depth': 4, 'max_samples_split': 1.0000000000000004, 'min_samples_leaf': 1, 'eps': 0.005}\n"
     ]
    },
    {
     "data": {
      "application/vnd.jupyter.widget-view+json": {
       "model_id": "c1e09821631f49b58e0e069b88895f7f",
       "version_major": 2,
       "version_minor": 0
      },
      "text/plain": [
       "  0%|          | 0/200 [00:00<?, ?it/s]"
      ]
     },
     "metadata": {},
     "output_type": "display_data"
    },
    {
     "name": "stdout",
     "output_type": "stream",
     "text": [
      "new best!\n",
      "13 0.7141425697812096 {'max_depth': 19, 'max_samples_split': 0.55, 'min_samples_leaf': 1, 'eps': 0.035}\n"
     ]
    }
   ],
   "source": [
    "default_params = 0, dict(max_depth=8, min_samples_leaf=1, max_samples_split=0.8, eps=0.1)\n",
    "\n",
    "param_dists = dict(\n",
    "    max_depth=np.arange(4, 20),\n",
    "    max_samples_split=np.arange(0.5, 1.05, 0.05),\n",
    "    min_samples_leaf=[1], #np.arange(1, 20),\n",
    "    eps=np.maximum(0.001, np.arange(0, 0.105, 0.005)),\n",
    ")\n",
    "\n",
    "def random_grid(n, **dists):\n",
    "    grid = []\n",
    "    for i in range(n):\n",
    "        point = dict()\n",
    "        for name, dist in dists.items():\n",
    "            point[name] = random.choice(dist)\n",
    "        grid.append(point)\n",
    "    return grid\n",
    "\n",
    "def find_params(X, y, n_iters, cv=5, seed=2021):\n",
    "    min_loss, best_params = None, None\n",
    "    for params in tqdm(random_grid(n_iters, **param_dists)):\n",
    "        losses = []\n",
    "        for idx_tr, idx_te in KFold(n_splits=cv, random_state=seed, shuffle=True).split(X):\n",
    "            X_tr, X_te, y_tr, y_te = X[idx_tr], X[idx_te], y[idx_tr], y[idx_te]\n",
    "            tree = Node()\n",
    "            tree.fit(X_tr, y_tr, **params)\n",
    "            Y_te = tree.predict(X_te)\n",
    "            losses.append(rmse(Y_te, y_te))\n",
    "        loss = np.mean(losses)\n",
    "        if min_loss is None or loss < min_loss:\n",
    "            min_loss, best_params = loss, params\n",
    "    return min_loss, best_params\n",
    "\n",
    "def find_params_for_id(id, n_iters):\n",
    "    X, y, _, _ = read_dataset(id=id, root='data')\n",
    "    return find_params(X, y, n_iters)\n",
    "            \n",
    "def evaluate():\n",
    "    results = []\n",
    "    for id in tqdm(range(1, 14)):\n",
    "        X, y, _, _ = read_dataset(id=id, root='data')\n",
    "        X_tr, X_te, y_tr, y_te = train_test_split(X, y, test_size=0.2, random_state=2021)\n",
    "        _, params = best_params.get(id, default_params)\n",
    "        tree = Node()\n",
    "        tree.fit(X_tr, y_tr, **params)\n",
    "        Y_te = tree.predict(X_te)\n",
    "        loss = rmse(Y_te, y_te)\n",
    "        result = dict(id=id, loss=loss, depth=tree.depth())\n",
    "        print(result)\n",
    "        results.append(result)\n",
    "    return pd.DataFrame(results)\n",
    "\n",
    "for id in range(1, 14):\n",
    "    if id in [2, 6, 7, 8]: n = 1000\n",
    "    if id in [13]: n = 200\n",
    "    if id in [1, 10]: n = 40\n",
    "    if id in [4, 5]: n = 20\n",
    "    if id in [9, 11]: n = 10\n",
    "    loss, params = find_params_for_id(id, n)\n",
    "    if id not in best_params or loss < best_params[id][0]:\n",
    "        print('new best!')\n",
    "        best_params[id] = loss, params\n",
    "    print(id, loss, params)"
   ]
  },
  {
   "cell_type": "code",
   "execution_count": 5,
   "metadata": {},
   "outputs": [
    {
     "data": {
      "text/plain": [
       "{1: (0.9800689318123466,\n",
       "  {'max_depth': 19,\n",
       "   'max_samples_split': 0.9500000000000004,\n",
       "   'min_samples_leaf': 1,\n",
       "   'eps': 0.03}),\n",
       " 2: (0.27790240210236294,\n",
       "  {'max_depth': 19,\n",
       "   'max_samples_split': 0.9500000000000004,\n",
       "   'min_samples_leaf': 1,\n",
       "   'eps': 0.07}),\n",
       " 3: (0.9906855523585231,\n",
       "  {'max_depth': 16,\n",
       "   'max_samples_split': 0.9500000000000004,\n",
       "   'min_samples_leaf': 1,\n",
       "   'eps': 0.075}),\n",
       " 4: (0.9980364377987232,\n",
       "  {'max_depth': 19,\n",
       "   'max_samples_split': 0.8000000000000003,\n",
       "   'min_samples_leaf': 1,\n",
       "   'eps': 0.005}),\n",
       " 5: (0.4717611555057145,\n",
       "  {'max_depth': 16,\n",
       "   'max_samples_split': 1.0000000000000004,\n",
       "   'min_samples_leaf': 1,\n",
       "   'eps': 0.06}),\n",
       " 6: (0.9979195877723124,\n",
       "  {'max_depth': 17,\n",
       "   'max_samples_split': 0.6000000000000001,\n",
       "   'min_samples_leaf': 1,\n",
       "   'eps': 0.09}),\n",
       " 7: (0.6655638771575338,\n",
       "  {'max_depth': 19,\n",
       "   'max_samples_split': 0.7500000000000002,\n",
       "   'min_samples_leaf': 1,\n",
       "   'eps': 0.001}),\n",
       " 8: (0.7037490192249347,\n",
       "  {'max_depth': 4,\n",
       "   'max_samples_split': 0.6500000000000001,\n",
       "   'min_samples_leaf': 1,\n",
       "   'eps': 0.05}),\n",
       " 9: (0.9901353837622405,\n",
       "  {'max_depth': 18,\n",
       "   'max_samples_split': 0.9500000000000004,\n",
       "   'min_samples_leaf': 1,\n",
       "   'eps': 0.04}),\n",
       " 10: (0.9990725171207057,\n",
       "  {'max_depth': 19,\n",
       "   'max_samples_split': 0.6000000000000001,\n",
       "   'min_samples_leaf': 1,\n",
       "   'eps': 0.025}),\n",
       " 11: (1.0006727410722605,\n",
       "  {'max_depth': 5,\n",
       "   'max_samples_split': 0.8500000000000003,\n",
       "   'min_samples_leaf': 1,\n",
       "   'eps': 0.08}),\n",
       " 12: (0.9881537170437238,\n",
       "  {'max_depth': 4,\n",
       "   'max_samples_split': 1.0000000000000004,\n",
       "   'min_samples_leaf': 1,\n",
       "   'eps': 0.005}),\n",
       " 13: (0.7141425697812096,\n",
       "  {'max_depth': 19,\n",
       "   'max_samples_split': 0.55,\n",
       "   'min_samples_leaf': 1,\n",
       "   'eps': 0.035})}"
      ]
     },
     "execution_count": 5,
     "metadata": {},
     "output_type": "execute_result"
    }
   ],
   "source": [
    "best_params"
   ]
  },
  {
   "cell_type": "code",
   "execution_count": 6,
   "metadata": {},
   "outputs": [
    {
     "data": {
      "application/vnd.jupyter.widget-view+json": {
       "model_id": "d265f8869dd14372907c936cdd382af0",
       "version_major": 2,
       "version_minor": 0
      },
      "text/plain": [
       "  0%|          | 0/13 [00:00<?, ?it/s]"
      ]
     },
     "metadata": {},
     "output_type": "display_data"
    },
    {
     "name": "stdout",
     "output_type": "stream",
     "text": [
      "{'id': 1, 'loss': 0.9867172569979525, 'depth': 19}\n",
      "{'id': 2, 'loss': 0.14487445793779094, 'depth': 19}\n",
      "{'id': 3, 'loss': 0.8467298148201726, 'depth': 16}\n",
      "{'id': 4, 'loss': 1.002690015487241, 'depth': 19}\n",
      "{'id': 5, 'loss': 0.47129349502356627, 'depth': 16}\n",
      "{'id': 6, 'loss': 0.9185717837436407, 'depth': 17}\n",
      "{'id': 7, 'loss': 0.5079590371102758, 'depth': 19}\n",
      "{'id': 8, 'loss': 1.9192735539122836, 'depth': 4}\n",
      "{'id': 9, 'loss': 0.9549503689241841, 'depth': 18}\n",
      "{'id': 10, 'loss': 0.9958662786403208, 'depth': 19}\n",
      "{'id': 11, 'loss': 0.9999778982743274, 'depth': 5}\n",
      "{'id': 12, 'loss': 0.9376731160851814, 'depth': 4}\n",
      "{'id': 13, 'loss': 0.5722220442449105, 'depth': 19}\n",
      "0.8660614708616805\n"
     ]
    },
    {
     "data": {
      "text/html": [
       "<div>\n",
       "<style scoped>\n",
       "    .dataframe tbody tr th:only-of-type {\n",
       "        vertical-align: middle;\n",
       "    }\n",
       "\n",
       "    .dataframe tbody tr th {\n",
       "        vertical-align: top;\n",
       "    }\n",
       "\n",
       "    .dataframe thead th {\n",
       "        text-align: right;\n",
       "    }\n",
       "</style>\n",
       "<table border=\"1\" class=\"dataframe\">\n",
       "  <thead>\n",
       "    <tr style=\"text-align: right;\">\n",
       "      <th></th>\n",
       "      <th>id</th>\n",
       "      <th>loss</th>\n",
       "      <th>depth</th>\n",
       "    </tr>\n",
       "  </thead>\n",
       "  <tbody>\n",
       "    <tr>\n",
       "      <th>0</th>\n",
       "      <td>1</td>\n",
       "      <td>0.986717</td>\n",
       "      <td>19</td>\n",
       "    </tr>\n",
       "    <tr>\n",
       "      <th>1</th>\n",
       "      <td>2</td>\n",
       "      <td>0.144874</td>\n",
       "      <td>19</td>\n",
       "    </tr>\n",
       "    <tr>\n",
       "      <th>2</th>\n",
       "      <td>3</td>\n",
       "      <td>0.846730</td>\n",
       "      <td>16</td>\n",
       "    </tr>\n",
       "    <tr>\n",
       "      <th>3</th>\n",
       "      <td>4</td>\n",
       "      <td>1.002690</td>\n",
       "      <td>19</td>\n",
       "    </tr>\n",
       "    <tr>\n",
       "      <th>4</th>\n",
       "      <td>5</td>\n",
       "      <td>0.471293</td>\n",
       "      <td>16</td>\n",
       "    </tr>\n",
       "    <tr>\n",
       "      <th>5</th>\n",
       "      <td>6</td>\n",
       "      <td>0.918572</td>\n",
       "      <td>17</td>\n",
       "    </tr>\n",
       "    <tr>\n",
       "      <th>6</th>\n",
       "      <td>7</td>\n",
       "      <td>0.507959</td>\n",
       "      <td>19</td>\n",
       "    </tr>\n",
       "    <tr>\n",
       "      <th>7</th>\n",
       "      <td>8</td>\n",
       "      <td>1.919274</td>\n",
       "      <td>4</td>\n",
       "    </tr>\n",
       "    <tr>\n",
       "      <th>8</th>\n",
       "      <td>9</td>\n",
       "      <td>0.954950</td>\n",
       "      <td>18</td>\n",
       "    </tr>\n",
       "    <tr>\n",
       "      <th>9</th>\n",
       "      <td>10</td>\n",
       "      <td>0.995866</td>\n",
       "      <td>19</td>\n",
       "    </tr>\n",
       "    <tr>\n",
       "      <th>10</th>\n",
       "      <td>11</td>\n",
       "      <td>0.999978</td>\n",
       "      <td>5</td>\n",
       "    </tr>\n",
       "    <tr>\n",
       "      <th>11</th>\n",
       "      <td>12</td>\n",
       "      <td>0.937673</td>\n",
       "      <td>4</td>\n",
       "    </tr>\n",
       "    <tr>\n",
       "      <th>12</th>\n",
       "      <td>13</td>\n",
       "      <td>0.572222</td>\n",
       "      <td>19</td>\n",
       "    </tr>\n",
       "  </tbody>\n",
       "</table>\n",
       "</div>"
      ],
      "text/plain": [
       "    id      loss  depth\n",
       "0    1  0.986717     19\n",
       "1    2  0.144874     19\n",
       "2    3  0.846730     16\n",
       "3    4  1.002690     19\n",
       "4    5  0.471293     16\n",
       "5    6  0.918572     17\n",
       "6    7  0.507959     19\n",
       "7    8  1.919274      4\n",
       "8    9  0.954950     18\n",
       "9   10  0.995866     19\n",
       "10  11  0.999978      5\n",
       "11  12  0.937673      4\n",
       "12  13  0.572222     19"
      ]
     },
     "execution_count": 6,
     "metadata": {},
     "output_type": "execute_result"
    }
   ],
   "source": [
    "results = evaluate()\n",
    "print(results.loss.mean())\n",
    "results"
   ]
  },
  {
   "cell_type": "code",
   "execution_count": 7,
   "metadata": {},
   "outputs": [
    {
     "data": {
      "application/vnd.jupyter.widget-view+json": {
       "model_id": "61fc84af3b14476ea414c5de1fdb90bd",
       "version_major": 2,
       "version_minor": 0
      },
      "text/plain": [
       "  0%|          | 0/13 [00:00<?, ?it/s]"
      ]
     },
     "metadata": {},
     "output_type": "display_data"
    },
    {
     "name": "stdout",
     "output_type": "stream",
     "text": [
      "{'id': 1, 'loss': 0.9818837560424054, 'depth': 19}\n",
      "{'id': 2, 'loss': 0.14487445793779094, 'depth': 19}\n",
      "{'id': 3, 'loss': 0.8467298148201726, 'depth': 16}\n",
      "{'id': 4, 'loss': 1.0030790536936445, 'depth': 19}\n",
      "{'id': 5, 'loss': 0.47129349502356627, 'depth': 16}\n",
      "{'id': 6, 'loss': 0.9185717837436407, 'depth': 17}\n",
      "{'id': 7, 'loss': 0.5079590371102758, 'depth': 19}\n",
      "{'id': 8, 'loss': 1.9192735539122836, 'depth': 4}\n",
      "{'id': 9, 'loss': 0.9559495734151032, 'depth': 18}\n",
      "{'id': 10, 'loss': 0.9958662786403208, 'depth': 19}\n",
      "{'id': 11, 'loss': 0.9949499619505505, 'depth': 5}\n",
      "{'id': 12, 'loss': 0.9376731160851814, 'depth': 4}\n",
      "{'id': 13, 'loss': 0.5722220442449105, 'depth': 19}\n",
      "0.8654096866630651\n"
     ]
    },
    {
     "data": {
      "text/html": [
       "<div>\n",
       "<style scoped>\n",
       "    .dataframe tbody tr th:only-of-type {\n",
       "        vertical-align: middle;\n",
       "    }\n",
       "\n",
       "    .dataframe tbody tr th {\n",
       "        vertical-align: top;\n",
       "    }\n",
       "\n",
       "    .dataframe thead th {\n",
       "        text-align: right;\n",
       "    }\n",
       "</style>\n",
       "<table border=\"1\" class=\"dataframe\">\n",
       "  <thead>\n",
       "    <tr style=\"text-align: right;\">\n",
       "      <th></th>\n",
       "      <th>id</th>\n",
       "      <th>loss</th>\n",
       "      <th>depth</th>\n",
       "    </tr>\n",
       "  </thead>\n",
       "  <tbody>\n",
       "    <tr>\n",
       "      <th>0</th>\n",
       "      <td>1</td>\n",
       "      <td>0.981884</td>\n",
       "      <td>19</td>\n",
       "    </tr>\n",
       "    <tr>\n",
       "      <th>1</th>\n",
       "      <td>2</td>\n",
       "      <td>0.144874</td>\n",
       "      <td>19</td>\n",
       "    </tr>\n",
       "    <tr>\n",
       "      <th>2</th>\n",
       "      <td>3</td>\n",
       "      <td>0.846730</td>\n",
       "      <td>16</td>\n",
       "    </tr>\n",
       "    <tr>\n",
       "      <th>3</th>\n",
       "      <td>4</td>\n",
       "      <td>1.003079</td>\n",
       "      <td>19</td>\n",
       "    </tr>\n",
       "    <tr>\n",
       "      <th>4</th>\n",
       "      <td>5</td>\n",
       "      <td>0.471293</td>\n",
       "      <td>16</td>\n",
       "    </tr>\n",
       "    <tr>\n",
       "      <th>5</th>\n",
       "      <td>6</td>\n",
       "      <td>0.918572</td>\n",
       "      <td>17</td>\n",
       "    </tr>\n",
       "    <tr>\n",
       "      <th>6</th>\n",
       "      <td>7</td>\n",
       "      <td>0.507959</td>\n",
       "      <td>19</td>\n",
       "    </tr>\n",
       "    <tr>\n",
       "      <th>7</th>\n",
       "      <td>8</td>\n",
       "      <td>1.919274</td>\n",
       "      <td>4</td>\n",
       "    </tr>\n",
       "    <tr>\n",
       "      <th>8</th>\n",
       "      <td>9</td>\n",
       "      <td>0.955950</td>\n",
       "      <td>18</td>\n",
       "    </tr>\n",
       "    <tr>\n",
       "      <th>9</th>\n",
       "      <td>10</td>\n",
       "      <td>0.995866</td>\n",
       "      <td>19</td>\n",
       "    </tr>\n",
       "    <tr>\n",
       "      <th>10</th>\n",
       "      <td>11</td>\n",
       "      <td>0.994950</td>\n",
       "      <td>5</td>\n",
       "    </tr>\n",
       "    <tr>\n",
       "      <th>11</th>\n",
       "      <td>12</td>\n",
       "      <td>0.937673</td>\n",
       "      <td>4</td>\n",
       "    </tr>\n",
       "    <tr>\n",
       "      <th>12</th>\n",
       "      <td>13</td>\n",
       "      <td>0.572222</td>\n",
       "      <td>19</td>\n",
       "    </tr>\n",
       "  </tbody>\n",
       "</table>\n",
       "</div>"
      ],
      "text/plain": [
       "    id      loss  depth\n",
       "0    1  0.981884     19\n",
       "1    2  0.144874     19\n",
       "2    3  0.846730     16\n",
       "3    4  1.003079     19\n",
       "4    5  0.471293     16\n",
       "5    6  0.918572     17\n",
       "6    7  0.507959     19\n",
       "7    8  1.919274      4\n",
       "8    9  0.955950     18\n",
       "9   10  0.995866     19\n",
       "10  11  0.994950      5\n",
       "11  12  0.937673      4\n",
       "12  13  0.572222     19"
      ]
     },
     "execution_count": 7,
     "metadata": {},
     "output_type": "execute_result"
    }
   ],
   "source": [
    "results = evaluate()\n",
    "print(results.loss.mean())\n",
    "results"
   ]
  },
  {
   "cell_type": "code",
   "execution_count": 8,
   "metadata": {
    "scrolled": true
   },
   "outputs": [
    {
     "data": {
      "application/vnd.jupyter.widget-view+json": {
       "model_id": "fe4d119ef41444479e77b0903d01557c",
       "version_major": 2,
       "version_minor": 0
      },
      "text/plain": [
       "  0%|          | 0/13 [00:00<?, ?it/s]"
      ]
     },
     "metadata": {},
     "output_type": "display_data"
    }
   ],
   "source": [
    "Y_te = []\n",
    "for id in tqdm(range(1, 14)):\n",
    "    X_tr, y_tr, X_te, _ = read_dataset(id=id, root='data')\n",
    "    _, params = best_params[id]\n",
    "    tree = Node()\n",
    "    tree.fit(X_tr, y_tr, **params)\n",
    "    Y_te = tree.predict(X_te)\n",
    "    pd.DataFrame(Y_te, columns=['Y']).to_csv(f'data/{id}.csv', index=None)"
   ]
  },
  {
   "cell_type": "code",
   "execution_count": null,
   "metadata": {},
   "outputs": [],
   "source": []
  },
  {
   "cell_type": "code",
   "execution_count": null,
   "metadata": {},
   "outputs": [],
   "source": []
  },
  {
   "cell_type": "code",
   "execution_count": null,
   "metadata": {},
   "outputs": [],
   "source": []
  }
 ],
 "metadata": {
  "kernelspec": {
   "display_name": "Python [conda env:ml]",
   "language": "python",
   "name": "conda-env-ml-py"
  },
  "language_info": {
   "codemirror_mode": {
    "name": "ipython",
    "version": 3
   },
   "file_extension": ".py",
   "mimetype": "text/x-python",
   "name": "python",
   "nbconvert_exporter": "python",
   "pygments_lexer": "ipython3",
   "version": "3.9.7"
  },
  "varInspector": {
   "cols": {
    "lenName": 16,
    "lenType": 16,
    "lenVar": 40
   },
   "kernels_config": {
    "python": {
     "delete_cmd_postfix": "",
     "delete_cmd_prefix": "del ",
     "library": "var_list.py",
     "varRefreshCmd": "print(var_dic_list())"
    },
    "r": {
     "delete_cmd_postfix": ") ",
     "delete_cmd_prefix": "rm(",
     "library": "var_list.r",
     "varRefreshCmd": "cat(var_dic_list()) "
    }
   },
   "types_to_exclude": [
    "module",
    "function",
    "builtin_function_or_method",
    "instance",
    "_Feature"
   ],
   "window_display": false
  }
 },
 "nbformat": 4,
 "nbformat_minor": 4
}
