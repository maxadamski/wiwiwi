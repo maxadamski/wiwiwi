{
 "cells": [
  {
   "cell_type": "code",
   "execution_count": 49,
   "metadata": {},
   "outputs": [],
   "source": [
    "import matplotlib.pyplot as plt\n",
    "import numpy as np"
   ]
  },
  {
   "cell_type": "code",
   "execution_count": 74,
   "metadata": {},
   "outputs": [
    {
     "name": "stdout",
     "output_type": "stream",
     "text": [
      "ITA, FRA\n",
      "g(a) = 80\n",
      "g(b) = 200\n",
      "veto!\n",
      "C(a, b) = 0.0\n",
      "D(a, b) = 1.0\n",
      "\n",
      "g(a) = 6\n",
      "g(b) = 4\n",
      "C(a, b) = 1.0\n",
      "D(a, b) = 0.0\n",
      "\n",
      "g(a) = 800\n",
      "g(b) = 600\n",
      "C(a, b) = 0.0\n",
      "D(a, b) = 0.0\n",
      "\n"
     ]
    }
   ],
   "source": [
    "def lin(x, x0, x1, y0, y1):\n",
    "    a = (y0 - y1)/(x0 - x1)\n",
    "    b = (x0*y1 - x1*y0)/(x0 - x1)\n",
    "    return a*x + b\n",
    "\n",
    "def elec_coef(typ, g_a, g_b, q_a, p_a, v_a, q_b=None, p_b=None):\n",
    "    if q_b is None: q_b = q_a\n",
    "    if p_b is None: p_b = p_a\n",
    "    assert 0 < q_a < p_a < v_a\n",
    "    C, D = None, None\n",
    "    print('g(a) =', g_a)\n",
    "    print('g(b) =', g_b)\n",
    "    if typ == 'gain':\n",
    "        C = np.clip(lin(g_b, g_a+q_a, g_a+p_a, 1, 0), 0, 1)\n",
    "        D = np.clip(lin(g_b, g_a+p_a, g_a+v_a, 0, 1), 0, 1)\n",
    "        if g_b-g_a >= v_a: print(f'veto!')\n",
    "    if typ == 'loss':\n",
    "        D = np.clip(lin(g_b, g_a-v_a, g_a-p_a, 1, 0), 0, 1)\n",
    "        C = np.clip(lin(g_b, g_a-p_a, g_a-q_a, 0, 1), 0, 1)\n",
    "        if g_a-g_b >= v_a: print(f'veto!')\n",
    "    print('C(a, b) =', C)\n",
    "    print('D(a, b) =', D)\n",
    "    print()\n",
    "        \n",
    "print(\"ITA, FRA\")\n",
    "elec_coef('gain',  80,  200, q_a=8,   p_a=16,  v_a=32)\n",
    "elec_coef('gain',   6,   4, q_a=1,   p_a=2,   v_a=8)\n",
    "elec_coef('loss', 800, 600, q_a=100, p_a=200, v_a=600)"
   ]
  },
  {
   "cell_type": "code",
   "execution_count": 80,
   "metadata": {},
   "outputs": [
    {
     "name": "stdout",
     "output_type": "stream",
     "text": [
      "g(a) = 8\n",
      "g(b) = 2\n",
      "C(a, b) = 0.8\n",
      "D(a, b) = 0.0\n",
      "\n"
     ]
    }
   ],
   "source": [
    "elec_coef('loss',  8, 2, 5, 10, 20)"
   ]
  },
  {
   "cell_type": "code",
   "execution_count": null,
   "metadata": {},
   "outputs": [],
   "source": []
  }
 ],
 "metadata": {
  "kernelspec": {
   "display_name": "Python 3",
   "language": "python",
   "name": "python3"
  },
  "language_info": {
   "codemirror_mode": {
    "name": "ipython",
    "version": 3
   },
   "file_extension": ".py",
   "mimetype": "text/x-python",
   "name": "python",
   "nbconvert_exporter": "python",
   "pygments_lexer": "ipython3",
   "version": "3.8.3"
  }
 },
 "nbformat": 4,
 "nbformat_minor": 4
}
